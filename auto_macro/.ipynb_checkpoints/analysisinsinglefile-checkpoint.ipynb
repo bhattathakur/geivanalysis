{
 "cells": [
  {
   "cell_type": "code",
   "execution_count": 1,
   "id": "b2d0516d-78d9-469e-b571-3d8fb343b9f8",
   "metadata": {},
   "outputs": [],
   "source": [
    "#This notebook is intended for automatic analysis of simulation and fit data from geiv\n"
   ]
  },
  {
   "cell_type": "code",
   "execution_count": 7,
   "id": "ed0fe5c7-710a-4ceb-9502-1cb2f7bbbdea",
   "metadata": {},
   "outputs": [],
   "source": [
    "#important libraries and modules\n",
    "import datetime\n",
    "import math\n",
    "import sys\n",
    "import os\n",
    "\n",
    "from printVal      import printVal\n",
    "from getA          import getA\n",
    "from readGDF       import readGDF\n",
    "from getRatioError import getRatioError\n",
    "from ra226BR       import *"
   ]
  },
  {
   "cell_type": "code",
   "execution_count": 24,
   "id": "1961c5cf-5615-438a-b8e2-ef895dff2bbd",
   "metadata": {},
   "outputs": [],
   "source": [
    "#directory where fitted data and simulated data files, corresponding gdfs are stored\n",
    "\n",
    "root_path=f'/home/thakur/geivanalysis'\n",
    "\n",
    "source_dir=f'geiv_cornercorner1122'\n",
    "\n",
    "\n",
    "dest_dir=f'my_test'\n"
   ]
  },
  {
   "cell_type": "code",
   "execution_count": 25,
   "id": "3690dfa9-af2e-4033-84e7-49d536578806",
   "metadata": {},
   "outputs": [
    {
     "name": "stdout",
     "output_type": "stream",
     "text": [
      "/home/thakur/geivanalysis/geiv_cornercorner1122 .. proceeding ...\n"
     ]
    }
   ],
   "source": [
    "#check if direcotry\n",
    "source_path=os.path.join(root_path,source_dir)\n",
    "\n",
    "\n",
    "if os.path.isdir(source_path):\n",
    "    print(f\"{source_path} .. proceeding ...\")\n",
    "else:\n",
    "    print(f\"{source_path}...doesn't exeed ... !\")"
   ]
  },
  {
   "cell_type": "code",
   "execution_count": 52,
   "id": "f28c1a91-9f25-4581-b06c-ec1f5f3a5fb9",
   "metadata": {},
   "outputs": [
    {
     "name": "stdout",
     "output_type": "stream",
     "text": [
      "-rw-rw-r-- 1 thakur thakur    218 Nov 13 13:23 source_correction_cornercorner1122_25M.dat\n",
      "-rw-rw-r-- 1 thakur thakur   5726 Nov 13 12:58 correction_geiv_cornercorner1122_25M.dat\n",
      "-rw-rw-r-- 1 thakur thakur   7506 Nov 13 12:22 sim_geiv_cornercorner1122_25M.dat\n",
      "-rw-rw-r-- 1 thakur thakur   8825 Nov 13 09:15 data_geiv_cornercorner1122_25M.dat\n",
      "-rw-rw-r-- 1 thakur thakur  11777 Nov 11 23:10 ra226_data_bgrates_cornercorner.dat\n",
      "-rw-rw-r-- 1 thakur thakur  11777 Nov 11 23:09 bgrates.dat\n",
      "-rw-rw-r-- 1 thakur thakur   2003 Nov 11 22:54 pb210_data_bgrates_cornercorner.dat\n",
      "-rw-rw-r-- 1 thakur thakur   2727 Nov 11 22:40 am241_data_bgrates_cornercorner.dat\n",
      "-rw-rw-r-- 1 thakur thakur  11596 Nov 11 22:20 ra226_sim_bgrates_cornercorner_25M.dat\n",
      "-rw-rw-r-- 1 thakur thakur    374 Nov 11 22:14 pb210_sim_bgrates_cornercorner_25M.dat\n",
      "-rw-rw-r-- 1 thakur thakur    555 Nov 11 21:40 am241_sim_bgrates_cornercorner_25M.dat\n",
      "-rw-rw-r-- 1 thakur thakur 119978 Nov 11 21:32 pb210sim.dat\n",
      "-rw-rw-r-- 1 thakur thakur 130358 Nov 11 21:32 ra226sim.dat\n",
      "-rw-rw-r-- 1 thakur thakur 120087 Nov 11 21:32 am241sim.dat\n",
      "-rw-rw-r-- 1 thakur thakur 262589 Nov  8 23:02 ra226.dat\n",
      "-rw-rw-r-- 1 thakur thakur 262589 Nov  8 23:02 pb210.dat\n",
      "-rw-rw-r-- 1 thakur thakur 262589 Nov  8 23:01 am241.dat\n"
     ]
    }
   ],
   "source": [
    "#checking the *.dat, *.gdf inside source path\n",
    "! ls -lt \"{source_path}\" | grep '.dat$'"
   ]
  },
  {
   "cell_type": "code",
   "execution_count": 51,
   "id": "e34d0e19-cbd9-47f7-8469-e781b5dcf0c1",
   "metadata": {},
   "outputs": [
    {
     "name": "stdout",
     "output_type": "stream",
     "text": [
      "-rw-rw-r-- 1 thakur thakur 119978 Nov 11 21:32 pb210sim.dat\n",
      "-rw-rw-r-- 1 thakur thakur 130358 Nov 11 21:32 ra226sim.dat\n",
      "-rw-rw-r-- 1 thakur thakur 120087 Nov 11 21:32 am241sim.dat\n"
     ]
    }
   ],
   "source": [
    "#checking the *.dat, *.gdf inside source path\n",
    "! ls -lt \"{source_path}\" | grep 'sim.dat'"
   ]
  },
  {
   "cell_type": "code",
   "execution_count": 53,
   "id": "732dd564-73b5-4ea4-ab32-be8c2edba0d6",
   "metadata": {},
   "outputs": [
    {
     "name": "stdout",
     "output_type": "stream",
     "text": [
      "-rw-rw-r-- 1 thakur thakur 144312 Nov 11 23:09 ra226.gdf\n",
      "-rw-rw-r-- 1 thakur thakur 144312 Nov 11 22:53 pb210.gdf\n",
      "-rw-rw-r-- 1 thakur thakur 144312 Nov 11 22:39 am241.gdf\n",
      "-rw-rw-r-- 1 thakur thakur 144312 Nov 11 22:18 ra226sim.gdf\n",
      "-rw-rw-r-- 1 thakur thakur 144312 Nov 11 22:13 pb210sim.gdf\n",
      "-rw-rw-r-- 1 thakur thakur 144312 Nov 11 21:36 am241sim.gdf\n",
      "-rw-rw-r-- 1 thakur thakur 144312 Nov  7 18:58 pb2102.gdf\n",
      "-rw-rw-r-- 1 thakur thakur 144312 Nov  7 18:57 am2412.gdf\n",
      "-rw-rw-r-- 1 thakur thakur 144312 Nov  7 18:55 ra2262.gdf\n",
      "-rw-rw-r-- 1 thakur thakur 144312 Oct 24 18:38 naturals.gdf\n",
      "-rw-rw-r-- 1 thakur thakur  56143 Oct 24 18:38 newgeflyash.gdf\n",
      "-rw-rw-r-- 1 thakur thakur  36173 Oct 24 18:38 default.gdf\n"
     ]
    }
   ],
   "source": [
    "#checking the *.dat, *.gdf inside source path\n",
    "! ls -lt \"{source_path}\" | grep '.gdf'"
   ]
  },
  {
   "cell_type": "code",
   "execution_count": 28,
   "id": "63333258-4f3d-44e1-9926-e2a09d355267",
   "metadata": {},
   "outputs": [
    {
     "name": "stdout",
     "output_type": "stream",
     "text": [
      "/home/thakur/geivanalysis/my_test .. proceeding ...\n"
     ]
    }
   ],
   "source": [
    "#checking if the destination dir exists otherwise creating it\n",
    "dest_path=os.path.join(root_path,dest_dir)\n",
    "\n",
    "if os.path.isdir(dest_path):\n",
    "    print(f\"{dest_path} .. proceeding ...\")\n",
    "else:\n",
    "    print(f\"{dest_path}...doesn't exist ... creating it !\")\n",
    "    os.mkdir(f'{dest_path}')"
   ]
  },
  {
   "cell_type": "code",
   "execution_count": null,
   "id": "f557d1ff-d9a0-4eed-9143-e9ddffa6391d",
   "metadata": {},
   "outputs": [],
   "source": [
    "\n",
    "fmt=\"{}\\t\\t{}\"\n",
    "geiv_data_file=\"data.dat\" #final combined data is saved in this file\n",
    "\n",
    "def getRunTimes(datFile):\n",
    "    \"\"\"\n",
    "    reads the 3rd and 4th line of the data file which is obtained from Chn files and returns start and end time\n",
    "    \"\"\"\n",
    "    print(f\"Reading the file: {datFile}\")\n",
    "    file = open(datFile, 'r')\n",
    "    lines = file.readlines()\n",
    "    #readline reads a whole file in a go and store in the form of list of strings.\n",
    "    start =           int(lines[2].split()[-2])\n",
    "    end   = start + float(lines[3].split()[-2])\n",
    "    print(f\"start time: {start}\\n\")\n",
    "    print(f\"end time  : {end}\\n\")\n",
    "    return [start, end]\n",
    "\n",
    "\"\"\"\n",
    "The form of lines which getRunTimes reads:\n",
    "    Run started....................:  Fri Feb 14 10:22:43 2020\n",
    "       in time zone.................:  CST\n",
    "       in time since epoch..........:  1581697363 s\n",
    "     Run  time......................:         251.90 s\n",
    "     Live time......................:         251.52 s\n",
    "     Number of data channels........:       16384\n",
    "\n",
    "\"\"\"\n",
    "#epoch->Jan 01,1970 (also called unix time, posix time)\n",
    "\n",
    "\n",
    "#Example input:\n",
    "#./data.py co60 ~/ge4/ana/2020/effcal/02-14/door/dat/co60.dat co60.gdf ~/ge4/gdf/co60/co60.gdf\n",
    "\n",
    "parent   = sys.argv[1]\n",
    "datFile  = sys.argv[2] #data file obtained for the corresponding Chn file->gives start and end time\n",
    "gdfFile  = sys.argv[3] #gdf file which best fits the data file\n",
    "gdfFile0 = sys.argv[4] #original gdf file \n",
    "\n",
    "[start, end] = getRunTimes(datFile) #start,end time\n",
    "\n",
    "[A, dA, minus, plus] = getA(parent,\n",
    "                              datetime.datetime.fromtimestamp(start, datetime.timezone.utc),\n",
    "                              datetime.datetime.fromtimestamp(end,   datetime.timezone.utc) )\n",
    "\n",
    "#datetime.fromtimestamp(ts) converts \"seconds since the epoch\" to a naive datetime object that represents local time. tzinfo is always None in this case.\n",
    "#getA is getting activities based on the source certificates and start and end time\n",
    "isotopes = [[ parent, 1 ]]\n",
    "if   parent == 'eu152' or parent == 'Eu152' or parent == 'Eu-152':\n",
    "    isotopes = [\n",
    "        ['eu152b', 27.92e-2, 13e-4 ],\n",
    "        ['eu152e', 72.08e-2, 13e-4 ]\n",
    "    ]\n",
    "elif parent == 'ra226' or parent == 'Ra226' or parent == 'Ra-226':\n",
    "    isotopes = [\n",
    "        [ 'ra226', 1 ],\n",
    "        [ 'pb214', pb214br ],\n",
    "        [ 'bi214', bi214br ],\n",
    "        [ 'pb210', pb210br ]\n",
    "    ]\n",
    "\n",
    "# Read all gamma-ray data for this source.\n",
    "[livetime, data]  = readGDF( gdfFile,  isotopes )\n",
    "# Need to get B.R. error from original gdf file. gdfit sets it to sqrt(2).\n",
    "[livetime, data2] = readGDF( gdfFile0, isotopes )\n",
    "for d in data:\n",
    "    for d2 in data2:\n",
    "        if d2[0] == d[0]:\n",
    "            d[2] = d2[2]\n",
    "            break\n",
    "    if d[2] == 0:\n",
    "        print( 'Warning:',d[0],'keV branching ratio has no error.' )\n",
    "\n",
    "print(f\"\\nOpening and reading the file: {geiv_data_file}\\n\")\n",
    "file = open(geiv_data_file,'a')\n",
    "for d in data:\n",
    "    if d[4] > 0: # gamma line was fit\n",
    "        if d[3]/d[4] >= 3: # number of sigma measurement\n",
    "            print( '' )\n",
    "            # Get observed source activity implied by activity of this transition and its B.R.\n",
    "            print( 'Observed activity.....:', d[0], d[3]/d[1], d[4]/d[1], 'Bq' )# fit rate/B.R. of gamma\n",
    "            print( '               or.....:', d[0], printVal(d[3]/d[1], d[4]/d[1]), 'Bq' )\n",
    "\n",
    "            # Divide the observed activity by the source activity to get efficiency.\n",
    "            eff = d[3]/d[1]/A\n",
    "            lo  = d[4]/d[3] * eff\n",
    "            hi  = lo\n",
    "            #[lo, hi] = getRatioError(d[3]/d[1], d[4]/d[1], d[4]/d[1], A, 0, 0)\n",
    "            #lo = eff - lo\n",
    "            #hi = hi - eff\n",
    "            # Print observed efficiency (observed activity/source activity).\n",
    "            print( 'Observed efficiency...:', eff, '+', hi, '/-', lo    )\n",
    "            print( '                 or...:', printVal(eff, (lo+hi)/2 ) )\n",
    "\n",
    "            file.write( '{:6s} {:6s} {:.4f} {:e} {:e} {:e} {:e} {:e} {:e} {:e} {:e} {:e} {:e} {:e}\\n'.format(parent,\n",
    "                                                                                                             d[-1], d[0],\n",
    "                                                                                                             eff, lo, hi,\n",
    "                                                                                                             A, dA, minus, plus,\n",
    "                                                                                                             d[1], d[2], d[3], d[4]) )\n",
    "            #print(\"parent\\t d[-1]d[0]\\teff\\tlo\\thi\\tA\\tdA\\tminus\\tplus\\n\")\n",
    "            print(\"DATA FILE INFORMATION:\\n\")\n",
    "            print( 'parent->{:6s}\\td[-1]-> {:6s}\\td[0]-> {:.4f}\\teff-> {:e}\\tlo-> {:e}\\thi-> {:e}\\tA-> {:e}\\tdA-> {:e}\\tminus-> {:e}\\tplus-> {:e}\\t d[1]->{:e}\\td[2]-> {:e}\\td[3]-> {:e}\\td[4]-> {:e}\\n'.format(parent,\n",
    "                                                                                                             d[-1], d[0],\n",
    "                                                                                                             eff, lo, hi,\n",
    "                                                                                                             A, dA, minus, plus,\n",
    "                                                                                                             d[1], d[2], d[3], d[4]) )\n",
    "\n",
    "\n",
    "file.close()\n"
   ]
  }
 ],
 "metadata": {
  "kernelspec": {
   "display_name": "Python 3 (ipykernel)",
   "language": "python",
   "name": "python3"
  },
  "language_info": {
   "codemirror_mode": {
    "name": "ipython",
    "version": 3
   },
   "file_extension": ".py",
   "mimetype": "text/x-python",
   "name": "python",
   "nbconvert_exporter": "python",
   "pygments_lexer": "ipython3",
   "version": "3.10.12"
  }
 },
 "nbformat": 4,
 "nbformat_minor": 5
}
