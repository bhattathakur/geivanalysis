{
 "cells": [
  {
   "cell_type": "code",
   "execution_count": 26,
   "metadata": {},
   "outputs": [],
   "source": [
    "import numpy as np\n",
    "import pandas as pd\n",
    "import plotly_express as px\n",
    "import plotly.graph_objects as go"
   ]
  },
  {
   "cell_type": "code",
   "execution_count": 27,
   "metadata": {},
   "outputs": [
    {
     "data": {
      "text/html": [
       "<div>\n",
       "<style scoped>\n",
       "    .dataframe tbody tr th:only-of-type {\n",
       "        vertical-align: middle;\n",
       "    }\n",
       "\n",
       "    .dataframe tbody tr th {\n",
       "        vertical-align: top;\n",
       "    }\n",
       "\n",
       "    .dataframe thead th {\n",
       "        text-align: right;\n",
       "    }\n",
       "</style>\n",
       "<table border=\"1\" class=\"dataframe\">\n",
       "  <thead>\n",
       "    <tr style=\"text-align: right;\">\n",
       "      <th></th>\n",
       "      <th>country</th>\n",
       "      <th>continent</th>\n",
       "      <th>year</th>\n",
       "      <th>lifeExp</th>\n",
       "      <th>pop</th>\n",
       "      <th>gdpPercap</th>\n",
       "      <th>iso_alpha</th>\n",
       "      <th>iso_num</th>\n",
       "    </tr>\n",
       "  </thead>\n",
       "  <tbody>\n",
       "    <tr>\n",
       "      <th>0</th>\n",
       "      <td>Afghanistan</td>\n",
       "      <td>Asia</td>\n",
       "      <td>1952</td>\n",
       "      <td>28.801</td>\n",
       "      <td>8425333</td>\n",
       "      <td>779.445314</td>\n",
       "      <td>AFG</td>\n",
       "      <td>4</td>\n",
       "    </tr>\n",
       "    <tr>\n",
       "      <th>1</th>\n",
       "      <td>Afghanistan</td>\n",
       "      <td>Asia</td>\n",
       "      <td>1957</td>\n",
       "      <td>30.332</td>\n",
       "      <td>9240934</td>\n",
       "      <td>820.853030</td>\n",
       "      <td>AFG</td>\n",
       "      <td>4</td>\n",
       "    </tr>\n",
       "    <tr>\n",
       "      <th>2</th>\n",
       "      <td>Afghanistan</td>\n",
       "      <td>Asia</td>\n",
       "      <td>1962</td>\n",
       "      <td>31.997</td>\n",
       "      <td>10267083</td>\n",
       "      <td>853.100710</td>\n",
       "      <td>AFG</td>\n",
       "      <td>4</td>\n",
       "    </tr>\n",
       "    <tr>\n",
       "      <th>3</th>\n",
       "      <td>Afghanistan</td>\n",
       "      <td>Asia</td>\n",
       "      <td>1967</td>\n",
       "      <td>34.020</td>\n",
       "      <td>11537966</td>\n",
       "      <td>836.197138</td>\n",
       "      <td>AFG</td>\n",
       "      <td>4</td>\n",
       "    </tr>\n",
       "    <tr>\n",
       "      <th>4</th>\n",
       "      <td>Afghanistan</td>\n",
       "      <td>Asia</td>\n",
       "      <td>1972</td>\n",
       "      <td>36.088</td>\n",
       "      <td>13079460</td>\n",
       "      <td>739.981106</td>\n",
       "      <td>AFG</td>\n",
       "      <td>4</td>\n",
       "    </tr>\n",
       "    <tr>\n",
       "      <th>...</th>\n",
       "      <td>...</td>\n",
       "      <td>...</td>\n",
       "      <td>...</td>\n",
       "      <td>...</td>\n",
       "      <td>...</td>\n",
       "      <td>...</td>\n",
       "      <td>...</td>\n",
       "      <td>...</td>\n",
       "    </tr>\n",
       "    <tr>\n",
       "      <th>1699</th>\n",
       "      <td>Zimbabwe</td>\n",
       "      <td>Africa</td>\n",
       "      <td>1987</td>\n",
       "      <td>62.351</td>\n",
       "      <td>9216418</td>\n",
       "      <td>706.157306</td>\n",
       "      <td>ZWE</td>\n",
       "      <td>716</td>\n",
       "    </tr>\n",
       "    <tr>\n",
       "      <th>1700</th>\n",
       "      <td>Zimbabwe</td>\n",
       "      <td>Africa</td>\n",
       "      <td>1992</td>\n",
       "      <td>60.377</td>\n",
       "      <td>10704340</td>\n",
       "      <td>693.420786</td>\n",
       "      <td>ZWE</td>\n",
       "      <td>716</td>\n",
       "    </tr>\n",
       "    <tr>\n",
       "      <th>1701</th>\n",
       "      <td>Zimbabwe</td>\n",
       "      <td>Africa</td>\n",
       "      <td>1997</td>\n",
       "      <td>46.809</td>\n",
       "      <td>11404948</td>\n",
       "      <td>792.449960</td>\n",
       "      <td>ZWE</td>\n",
       "      <td>716</td>\n",
       "    </tr>\n",
       "    <tr>\n",
       "      <th>1702</th>\n",
       "      <td>Zimbabwe</td>\n",
       "      <td>Africa</td>\n",
       "      <td>2002</td>\n",
       "      <td>39.989</td>\n",
       "      <td>11926563</td>\n",
       "      <td>672.038623</td>\n",
       "      <td>ZWE</td>\n",
       "      <td>716</td>\n",
       "    </tr>\n",
       "    <tr>\n",
       "      <th>1703</th>\n",
       "      <td>Zimbabwe</td>\n",
       "      <td>Africa</td>\n",
       "      <td>2007</td>\n",
       "      <td>43.487</td>\n",
       "      <td>12311143</td>\n",
       "      <td>469.709298</td>\n",
       "      <td>ZWE</td>\n",
       "      <td>716</td>\n",
       "    </tr>\n",
       "  </tbody>\n",
       "</table>\n",
       "<p>1704 rows × 8 columns</p>\n",
       "</div>"
      ],
      "text/plain": [
       "          country continent  year  lifeExp       pop   gdpPercap iso_alpha  \\\n",
       "0     Afghanistan      Asia  1952   28.801   8425333  779.445314       AFG   \n",
       "1     Afghanistan      Asia  1957   30.332   9240934  820.853030       AFG   \n",
       "2     Afghanistan      Asia  1962   31.997  10267083  853.100710       AFG   \n",
       "3     Afghanistan      Asia  1967   34.020  11537966  836.197138       AFG   \n",
       "4     Afghanistan      Asia  1972   36.088  13079460  739.981106       AFG   \n",
       "...           ...       ...   ...      ...       ...         ...       ...   \n",
       "1699     Zimbabwe    Africa  1987   62.351   9216418  706.157306       ZWE   \n",
       "1700     Zimbabwe    Africa  1992   60.377  10704340  693.420786       ZWE   \n",
       "1701     Zimbabwe    Africa  1997   46.809  11404948  792.449960       ZWE   \n",
       "1702     Zimbabwe    Africa  2002   39.989  11926563  672.038623       ZWE   \n",
       "1703     Zimbabwe    Africa  2007   43.487  12311143  469.709298       ZWE   \n",
       "\n",
       "      iso_num  \n",
       "0           4  \n",
       "1           4  \n",
       "2           4  \n",
       "3           4  \n",
       "4           4  \n",
       "...       ...  \n",
       "1699      716  \n",
       "1700      716  \n",
       "1701      716  \n",
       "1702      716  \n",
       "1703      716  \n",
       "\n",
       "[1704 rows x 8 columns]"
      ]
     },
     "execution_count": 27,
     "metadata": {},
     "output_type": "execute_result"
    }
   ],
   "source": [
    "df_gapminder=px.data.gapminder()\n",
    "df_gapminder"
   ]
  },
  {
   "cell_type": "code",
   "execution_count": 28,
   "metadata": {},
   "outputs": [
    {
     "data": {
      "text/plain": [
       "array(['Afghanistan', 'Bahrain', 'Bangladesh', 'Cambodia', 'China',\n",
       "       'Hong Kong, China', 'India', 'Indonesia', 'Iran', 'Iraq', 'Israel',\n",
       "       'Japan', 'Jordan', 'Korea, Dem. Rep.', 'Korea, Rep.', 'Kuwait',\n",
       "       'Lebanon', 'Malaysia', 'Mongolia', 'Myanmar', 'Nepal', 'Oman',\n",
       "       'Pakistan', 'Philippines', 'Saudi Arabia', 'Singapore',\n",
       "       'Sri Lanka', 'Syria', 'Taiwan', 'Thailand', 'Vietnam',\n",
       "       'West Bank and Gaza', 'Yemen, Rep.'], dtype=object)"
      ]
     },
     "execution_count": 28,
     "metadata": {},
     "output_type": "execute_result"
    }
   ],
   "source": [
    "pd.unique(df_gapminder.query(\"continent=='Asia'\")['country'])"
   ]
  },
  {
   "cell_type": "code",
   "execution_count": 29,
   "metadata": {},
   "outputs": [
    {
     "data": {
      "text/html": [
       "<div>\n",
       "<style scoped>\n",
       "    .dataframe tbody tr th:only-of-type {\n",
       "        vertical-align: middle;\n",
       "    }\n",
       "\n",
       "    .dataframe tbody tr th {\n",
       "        vertical-align: top;\n",
       "    }\n",
       "\n",
       "    .dataframe thead th {\n",
       "        text-align: right;\n",
       "    }\n",
       "</style>\n",
       "<table border=\"1\" class=\"dataframe\">\n",
       "  <thead>\n",
       "    <tr style=\"text-align: right;\">\n",
       "      <th></th>\n",
       "      <th>country</th>\n",
       "      <th>continent</th>\n",
       "      <th>year</th>\n",
       "      <th>lifeExp</th>\n",
       "      <th>pop</th>\n",
       "      <th>gdpPercap</th>\n",
       "      <th>iso_alpha</th>\n",
       "      <th>iso_num</th>\n",
       "    </tr>\n",
       "  </thead>\n",
       "  <tbody>\n",
       "    <tr>\n",
       "      <th>0</th>\n",
       "      <td>Afghanistan</td>\n",
       "      <td>Asia</td>\n",
       "      <td>1952</td>\n",
       "      <td>28.801</td>\n",
       "      <td>8425333</td>\n",
       "      <td>779.445314</td>\n",
       "      <td>AFG</td>\n",
       "      <td>4</td>\n",
       "    </tr>\n",
       "    <tr>\n",
       "      <th>1</th>\n",
       "      <td>Afghanistan</td>\n",
       "      <td>Asia</td>\n",
       "      <td>1957</td>\n",
       "      <td>30.332</td>\n",
       "      <td>9240934</td>\n",
       "      <td>820.853030</td>\n",
       "      <td>AFG</td>\n",
       "      <td>4</td>\n",
       "    </tr>\n",
       "    <tr>\n",
       "      <th>2</th>\n",
       "      <td>Afghanistan</td>\n",
       "      <td>Asia</td>\n",
       "      <td>1962</td>\n",
       "      <td>31.997</td>\n",
       "      <td>10267083</td>\n",
       "      <td>853.100710</td>\n",
       "      <td>AFG</td>\n",
       "      <td>4</td>\n",
       "    </tr>\n",
       "    <tr>\n",
       "      <th>3</th>\n",
       "      <td>Afghanistan</td>\n",
       "      <td>Asia</td>\n",
       "      <td>1967</td>\n",
       "      <td>34.020</td>\n",
       "      <td>11537966</td>\n",
       "      <td>836.197138</td>\n",
       "      <td>AFG</td>\n",
       "      <td>4</td>\n",
       "    </tr>\n",
       "    <tr>\n",
       "      <th>4</th>\n",
       "      <td>Afghanistan</td>\n",
       "      <td>Asia</td>\n",
       "      <td>1972</td>\n",
       "      <td>36.088</td>\n",
       "      <td>13079460</td>\n",
       "      <td>739.981106</td>\n",
       "      <td>AFG</td>\n",
       "      <td>4</td>\n",
       "    </tr>\n",
       "    <tr>\n",
       "      <th>...</th>\n",
       "      <td>...</td>\n",
       "      <td>...</td>\n",
       "      <td>...</td>\n",
       "      <td>...</td>\n",
       "      <td>...</td>\n",
       "      <td>...</td>\n",
       "      <td>...</td>\n",
       "      <td>...</td>\n",
       "    </tr>\n",
       "    <tr>\n",
       "      <th>1435</th>\n",
       "      <td>Sri Lanka</td>\n",
       "      <td>Asia</td>\n",
       "      <td>1987</td>\n",
       "      <td>69.011</td>\n",
       "      <td>16495304</td>\n",
       "      <td>1876.766827</td>\n",
       "      <td>LKA</td>\n",
       "      <td>144</td>\n",
       "    </tr>\n",
       "    <tr>\n",
       "      <th>1436</th>\n",
       "      <td>Sri Lanka</td>\n",
       "      <td>Asia</td>\n",
       "      <td>1992</td>\n",
       "      <td>70.379</td>\n",
       "      <td>17587060</td>\n",
       "      <td>2153.739222</td>\n",
       "      <td>LKA</td>\n",
       "      <td>144</td>\n",
       "    </tr>\n",
       "    <tr>\n",
       "      <th>1437</th>\n",
       "      <td>Sri Lanka</td>\n",
       "      <td>Asia</td>\n",
       "      <td>1997</td>\n",
       "      <td>70.457</td>\n",
       "      <td>18698655</td>\n",
       "      <td>2664.477257</td>\n",
       "      <td>LKA</td>\n",
       "      <td>144</td>\n",
       "    </tr>\n",
       "    <tr>\n",
       "      <th>1438</th>\n",
       "      <td>Sri Lanka</td>\n",
       "      <td>Asia</td>\n",
       "      <td>2002</td>\n",
       "      <td>70.815</td>\n",
       "      <td>19576783</td>\n",
       "      <td>3015.378833</td>\n",
       "      <td>LKA</td>\n",
       "      <td>144</td>\n",
       "    </tr>\n",
       "    <tr>\n",
       "      <th>1439</th>\n",
       "      <td>Sri Lanka</td>\n",
       "      <td>Asia</td>\n",
       "      <td>2007</td>\n",
       "      <td>72.396</td>\n",
       "      <td>20378239</td>\n",
       "      <td>3970.095407</td>\n",
       "      <td>LKA</td>\n",
       "      <td>144</td>\n",
       "    </tr>\n",
       "  </tbody>\n",
       "</table>\n",
       "<p>72 rows × 8 columns</p>\n",
       "</div>"
      ],
      "text/plain": [
       "          country continent  year  lifeExp       pop    gdpPercap iso_alpha  \\\n",
       "0     Afghanistan      Asia  1952   28.801   8425333   779.445314       AFG   \n",
       "1     Afghanistan      Asia  1957   30.332   9240934   820.853030       AFG   \n",
       "2     Afghanistan      Asia  1962   31.997  10267083   853.100710       AFG   \n",
       "3     Afghanistan      Asia  1967   34.020  11537966   836.197138       AFG   \n",
       "4     Afghanistan      Asia  1972   36.088  13079460   739.981106       AFG   \n",
       "...           ...       ...   ...      ...       ...          ...       ...   \n",
       "1435    Sri Lanka      Asia  1987   69.011  16495304  1876.766827       LKA   \n",
       "1436    Sri Lanka      Asia  1992   70.379  17587060  2153.739222       LKA   \n",
       "1437    Sri Lanka      Asia  1997   70.457  18698655  2664.477257       LKA   \n",
       "1438    Sri Lanka      Asia  2002   70.815  19576783  3015.378833       LKA   \n",
       "1439    Sri Lanka      Asia  2007   72.396  20378239  3970.095407       LKA   \n",
       "\n",
       "      iso_num  \n",
       "0           4  \n",
       "1           4  \n",
       "2           4  \n",
       "3           4  \n",
       "4           4  \n",
       "...       ...  \n",
       "1435      144  \n",
       "1436      144  \n",
       "1437      144  \n",
       "1438      144  \n",
       "1439      144  \n",
       "\n",
       "[72 rows x 8 columns]"
      ]
     },
     "execution_count": 29,
     "metadata": {},
     "output_type": "execute_result"
    }
   ],
   "source": [
    "#south asian countries\n",
    "south_asian_countries=['Nepal','India','Bangladesh','Afghanistan','Pakistan','Sri Lanka']\n",
    "\n",
    "df_south_asian=df_gapminder[df_gapminder.country.isin(south_asian_countries)]\n",
    "df_south_asian"
   ]
  },
  {
   "cell_type": "code",
   "execution_count": 30,
   "metadata": {},
   "outputs": [
    {
     "data": {
      "application/vnd.plotly.v1+json": {
       "config": {
        "plotlyServerURL": "https://plot.ly"
       },
       "data": [
        {
         "hovertemplate": "country=Afghanistan<br>year=%{x}<br>lifeExp=%{y}<extra></extra>",
         "legendgroup": "Afghanistan",
         "line": {
          "color": "#636efa",
          "dash": "solid"
         },
         "marker": {
          "symbol": "circle"
         },
         "mode": "lines+markers",
         "name": "Afghanistan",
         "orientation": "v",
         "showlegend": true,
         "type": "scatter",
         "x": [
          1952,
          1957,
          1962,
          1967,
          1972,
          1977,
          1982,
          1987,
          1992,
          1997,
          2002,
          2007
         ],
         "xaxis": "x",
         "y": [
          28.801,
          30.332,
          31.997,
          34.02,
          36.088,
          38.438,
          39.854,
          40.822,
          41.674,
          41.76300000000001,
          42.129,
          43.828
         ],
         "yaxis": "y"
        },
        {
         "hovertemplate": "country=Bangladesh<br>year=%{x}<br>lifeExp=%{y}<extra></extra>",
         "legendgroup": "Bangladesh",
         "line": {
          "color": "#EF553B",
          "dash": "solid"
         },
         "marker": {
          "symbol": "diamond"
         },
         "mode": "lines+markers",
         "name": "Bangladesh",
         "orientation": "v",
         "showlegend": true,
         "type": "scatter",
         "x": [
          1952,
          1957,
          1962,
          1967,
          1972,
          1977,
          1982,
          1987,
          1992,
          1997,
          2002,
          2007
         ],
         "xaxis": "x",
         "y": [
          37.484,
          39.348,
          41.216,
          43.453,
          45.252,
          46.923,
          50.00899999999999,
          52.819,
          56.018,
          59.412,
          62.01300000000001,
          64.062
         ],
         "yaxis": "y"
        },
        {
         "hovertemplate": "country=India<br>year=%{x}<br>lifeExp=%{y}<extra></extra>",
         "legendgroup": "India",
         "line": {
          "color": "#00cc96",
          "dash": "solid"
         },
         "marker": {
          "symbol": "square"
         },
         "mode": "lines+markers",
         "name": "India",
         "orientation": "v",
         "showlegend": true,
         "type": "scatter",
         "x": [
          1952,
          1957,
          1962,
          1967,
          1972,
          1977,
          1982,
          1987,
          1992,
          1997,
          2002,
          2007
         ],
         "xaxis": "x",
         "y": [
          37.37300000000001,
          40.249,
          43.605,
          47.19300000000001,
          50.651,
          54.208,
          56.596,
          58.553,
          60.223,
          61.765,
          62.879,
          64.69800000000001
         ],
         "yaxis": "y"
        },
        {
         "hovertemplate": "country=Nepal<br>year=%{x}<br>lifeExp=%{y}<extra></extra>",
         "legendgroup": "Nepal",
         "line": {
          "color": "#ab63fa",
          "dash": "solid"
         },
         "marker": {
          "symbol": "x"
         },
         "mode": "lines+markers",
         "name": "Nepal",
         "orientation": "v",
         "showlegend": true,
         "type": "scatter",
         "x": [
          1952,
          1957,
          1962,
          1967,
          1972,
          1977,
          1982,
          1987,
          1992,
          1997,
          2002,
          2007
         ],
         "xaxis": "x",
         "y": [
          36.157,
          37.686,
          39.393,
          41.472,
          43.971,
          46.74800000000001,
          49.594,
          52.537,
          55.727,
          59.426,
          61.34,
          63.785
         ],
         "yaxis": "y"
        },
        {
         "hovertemplate": "country=Pakistan<br>year=%{x}<br>lifeExp=%{y}<extra></extra>",
         "legendgroup": "Pakistan",
         "line": {
          "color": "#FFA15A",
          "dash": "solid"
         },
         "marker": {
          "symbol": "cross"
         },
         "mode": "lines+markers",
         "name": "Pakistan",
         "orientation": "v",
         "showlegend": true,
         "type": "scatter",
         "x": [
          1952,
          1957,
          1962,
          1967,
          1972,
          1977,
          1982,
          1987,
          1992,
          1997,
          2002,
          2007
         ],
         "xaxis": "x",
         "y": [
          43.43600000000001,
          45.557,
          47.67,
          49.8,
          51.929,
          54.043,
          56.158,
          58.245,
          60.838,
          61.81800000000001,
          63.61,
          65.483
         ],
         "yaxis": "y"
        },
        {
         "hovertemplate": "country=Sri Lanka<br>year=%{x}<br>lifeExp=%{y}<extra></extra>",
         "legendgroup": "Sri Lanka",
         "line": {
          "color": "#19d3f3",
          "dash": "solid"
         },
         "marker": {
          "symbol": "circle"
         },
         "mode": "lines+markers",
         "name": "Sri Lanka",
         "orientation": "v",
         "showlegend": true,
         "type": "scatter",
         "x": [
          1952,
          1957,
          1962,
          1967,
          1972,
          1977,
          1982,
          1987,
          1992,
          1997,
          2002,
          2007
         ],
         "xaxis": "x",
         "y": [
          57.593,
          61.456,
          62.192,
          64.266,
          65.042,
          65.949,
          68.757,
          69.01100000000001,
          70.37899999999998,
          70.457,
          70.815,
          72.396
         ],
         "yaxis": "y"
        }
       ],
       "layout": {
        "height": 600,
        "legend": {
         "title": {
          "text": "country"
         },
         "tracegroupgap": 0
        },
        "margin": {
         "t": 60
        },
        "template": {
         "data": {
          "bar": [
           {
            "error_x": {
             "color": "#2a3f5f"
            },
            "error_y": {
             "color": "#2a3f5f"
            },
            "marker": {
             "line": {
              "color": "#E5ECF6",
              "width": 0.5
             },
             "pattern": {
              "fillmode": "overlay",
              "size": 10,
              "solidity": 0.2
             }
            },
            "type": "bar"
           }
          ],
          "barpolar": [
           {
            "marker": {
             "line": {
              "color": "#E5ECF6",
              "width": 0.5
             },
             "pattern": {
              "fillmode": "overlay",
              "size": 10,
              "solidity": 0.2
             }
            },
            "type": "barpolar"
           }
          ],
          "carpet": [
           {
            "aaxis": {
             "endlinecolor": "#2a3f5f",
             "gridcolor": "white",
             "linecolor": "white",
             "minorgridcolor": "white",
             "startlinecolor": "#2a3f5f"
            },
            "baxis": {
             "endlinecolor": "#2a3f5f",
             "gridcolor": "white",
             "linecolor": "white",
             "minorgridcolor": "white",
             "startlinecolor": "#2a3f5f"
            },
            "type": "carpet"
           }
          ],
          "choropleth": [
           {
            "colorbar": {
             "outlinewidth": 0,
             "ticks": ""
            },
            "type": "choropleth"
           }
          ],
          "contour": [
           {
            "colorbar": {
             "outlinewidth": 0,
             "ticks": ""
            },
            "colorscale": [
             [
              0,
              "#0d0887"
             ],
             [
              0.1111111111111111,
              "#46039f"
             ],
             [
              0.2222222222222222,
              "#7201a8"
             ],
             [
              0.3333333333333333,
              "#9c179e"
             ],
             [
              0.4444444444444444,
              "#bd3786"
             ],
             [
              0.5555555555555556,
              "#d8576b"
             ],
             [
              0.6666666666666666,
              "#ed7953"
             ],
             [
              0.7777777777777778,
              "#fb9f3a"
             ],
             [
              0.8888888888888888,
              "#fdca26"
             ],
             [
              1,
              "#f0f921"
             ]
            ],
            "type": "contour"
           }
          ],
          "contourcarpet": [
           {
            "colorbar": {
             "outlinewidth": 0,
             "ticks": ""
            },
            "type": "contourcarpet"
           }
          ],
          "heatmap": [
           {
            "colorbar": {
             "outlinewidth": 0,
             "ticks": ""
            },
            "colorscale": [
             [
              0,
              "#0d0887"
             ],
             [
              0.1111111111111111,
              "#46039f"
             ],
             [
              0.2222222222222222,
              "#7201a8"
             ],
             [
              0.3333333333333333,
              "#9c179e"
             ],
             [
              0.4444444444444444,
              "#bd3786"
             ],
             [
              0.5555555555555556,
              "#d8576b"
             ],
             [
              0.6666666666666666,
              "#ed7953"
             ],
             [
              0.7777777777777778,
              "#fb9f3a"
             ],
             [
              0.8888888888888888,
              "#fdca26"
             ],
             [
              1,
              "#f0f921"
             ]
            ],
            "type": "heatmap"
           }
          ],
          "heatmapgl": [
           {
            "colorbar": {
             "outlinewidth": 0,
             "ticks": ""
            },
            "colorscale": [
             [
              0,
              "#0d0887"
             ],
             [
              0.1111111111111111,
              "#46039f"
             ],
             [
              0.2222222222222222,
              "#7201a8"
             ],
             [
              0.3333333333333333,
              "#9c179e"
             ],
             [
              0.4444444444444444,
              "#bd3786"
             ],
             [
              0.5555555555555556,
              "#d8576b"
             ],
             [
              0.6666666666666666,
              "#ed7953"
             ],
             [
              0.7777777777777778,
              "#fb9f3a"
             ],
             [
              0.8888888888888888,
              "#fdca26"
             ],
             [
              1,
              "#f0f921"
             ]
            ],
            "type": "heatmapgl"
           }
          ],
          "histogram": [
           {
            "marker": {
             "pattern": {
              "fillmode": "overlay",
              "size": 10,
              "solidity": 0.2
             }
            },
            "type": "histogram"
           }
          ],
          "histogram2d": [
           {
            "colorbar": {
             "outlinewidth": 0,
             "ticks": ""
            },
            "colorscale": [
             [
              0,
              "#0d0887"
             ],
             [
              0.1111111111111111,
              "#46039f"
             ],
             [
              0.2222222222222222,
              "#7201a8"
             ],
             [
              0.3333333333333333,
              "#9c179e"
             ],
             [
              0.4444444444444444,
              "#bd3786"
             ],
             [
              0.5555555555555556,
              "#d8576b"
             ],
             [
              0.6666666666666666,
              "#ed7953"
             ],
             [
              0.7777777777777778,
              "#fb9f3a"
             ],
             [
              0.8888888888888888,
              "#fdca26"
             ],
             [
              1,
              "#f0f921"
             ]
            ],
            "type": "histogram2d"
           }
          ],
          "histogram2dcontour": [
           {
            "colorbar": {
             "outlinewidth": 0,
             "ticks": ""
            },
            "colorscale": [
             [
              0,
              "#0d0887"
             ],
             [
              0.1111111111111111,
              "#46039f"
             ],
             [
              0.2222222222222222,
              "#7201a8"
             ],
             [
              0.3333333333333333,
              "#9c179e"
             ],
             [
              0.4444444444444444,
              "#bd3786"
             ],
             [
              0.5555555555555556,
              "#d8576b"
             ],
             [
              0.6666666666666666,
              "#ed7953"
             ],
             [
              0.7777777777777778,
              "#fb9f3a"
             ],
             [
              0.8888888888888888,
              "#fdca26"
             ],
             [
              1,
              "#f0f921"
             ]
            ],
            "type": "histogram2dcontour"
           }
          ],
          "mesh3d": [
           {
            "colorbar": {
             "outlinewidth": 0,
             "ticks": ""
            },
            "type": "mesh3d"
           }
          ],
          "parcoords": [
           {
            "line": {
             "colorbar": {
              "outlinewidth": 0,
              "ticks": ""
             }
            },
            "type": "parcoords"
           }
          ],
          "pie": [
           {
            "automargin": true,
            "type": "pie"
           }
          ],
          "scatter": [
           {
            "fillpattern": {
             "fillmode": "overlay",
             "size": 10,
             "solidity": 0.2
            },
            "type": "scatter"
           }
          ],
          "scatter3d": [
           {
            "line": {
             "colorbar": {
              "outlinewidth": 0,
              "ticks": ""
             }
            },
            "marker": {
             "colorbar": {
              "outlinewidth": 0,
              "ticks": ""
             }
            },
            "type": "scatter3d"
           }
          ],
          "scattercarpet": [
           {
            "marker": {
             "colorbar": {
              "outlinewidth": 0,
              "ticks": ""
             }
            },
            "type": "scattercarpet"
           }
          ],
          "scattergeo": [
           {
            "marker": {
             "colorbar": {
              "outlinewidth": 0,
              "ticks": ""
             }
            },
            "type": "scattergeo"
           }
          ],
          "scattergl": [
           {
            "marker": {
             "colorbar": {
              "outlinewidth": 0,
              "ticks": ""
             }
            },
            "type": "scattergl"
           }
          ],
          "scattermapbox": [
           {
            "marker": {
             "colorbar": {
              "outlinewidth": 0,
              "ticks": ""
             }
            },
            "type": "scattermapbox"
           }
          ],
          "scatterpolar": [
           {
            "marker": {
             "colorbar": {
              "outlinewidth": 0,
              "ticks": ""
             }
            },
            "type": "scatterpolar"
           }
          ],
          "scatterpolargl": [
           {
            "marker": {
             "colorbar": {
              "outlinewidth": 0,
              "ticks": ""
             }
            },
            "type": "scatterpolargl"
           }
          ],
          "scatterternary": [
           {
            "marker": {
             "colorbar": {
              "outlinewidth": 0,
              "ticks": ""
             }
            },
            "type": "scatterternary"
           }
          ],
          "surface": [
           {
            "colorbar": {
             "outlinewidth": 0,
             "ticks": ""
            },
            "colorscale": [
             [
              0,
              "#0d0887"
             ],
             [
              0.1111111111111111,
              "#46039f"
             ],
             [
              0.2222222222222222,
              "#7201a8"
             ],
             [
              0.3333333333333333,
              "#9c179e"
             ],
             [
              0.4444444444444444,
              "#bd3786"
             ],
             [
              0.5555555555555556,
              "#d8576b"
             ],
             [
              0.6666666666666666,
              "#ed7953"
             ],
             [
              0.7777777777777778,
              "#fb9f3a"
             ],
             [
              0.8888888888888888,
              "#fdca26"
             ],
             [
              1,
              "#f0f921"
             ]
            ],
            "type": "surface"
           }
          ],
          "table": [
           {
            "cells": {
             "fill": {
              "color": "#EBF0F8"
             },
             "line": {
              "color": "white"
             }
            },
            "header": {
             "fill": {
              "color": "#C8D4E3"
             },
             "line": {
              "color": "white"
             }
            },
            "type": "table"
           }
          ]
         },
         "layout": {
          "annotationdefaults": {
           "arrowcolor": "#2a3f5f",
           "arrowhead": 0,
           "arrowwidth": 1
          },
          "autotypenumbers": "strict",
          "coloraxis": {
           "colorbar": {
            "outlinewidth": 0,
            "ticks": ""
           }
          },
          "colorscale": {
           "diverging": [
            [
             0,
             "#8e0152"
            ],
            [
             0.1,
             "#c51b7d"
            ],
            [
             0.2,
             "#de77ae"
            ],
            [
             0.3,
             "#f1b6da"
            ],
            [
             0.4,
             "#fde0ef"
            ],
            [
             0.5,
             "#f7f7f7"
            ],
            [
             0.6,
             "#e6f5d0"
            ],
            [
             0.7,
             "#b8e186"
            ],
            [
             0.8,
             "#7fbc41"
            ],
            [
             0.9,
             "#4d9221"
            ],
            [
             1,
             "#276419"
            ]
           ],
           "sequential": [
            [
             0,
             "#0d0887"
            ],
            [
             0.1111111111111111,
             "#46039f"
            ],
            [
             0.2222222222222222,
             "#7201a8"
            ],
            [
             0.3333333333333333,
             "#9c179e"
            ],
            [
             0.4444444444444444,
             "#bd3786"
            ],
            [
             0.5555555555555556,
             "#d8576b"
            ],
            [
             0.6666666666666666,
             "#ed7953"
            ],
            [
             0.7777777777777778,
             "#fb9f3a"
            ],
            [
             0.8888888888888888,
             "#fdca26"
            ],
            [
             1,
             "#f0f921"
            ]
           ],
           "sequentialminus": [
            [
             0,
             "#0d0887"
            ],
            [
             0.1111111111111111,
             "#46039f"
            ],
            [
             0.2222222222222222,
             "#7201a8"
            ],
            [
             0.3333333333333333,
             "#9c179e"
            ],
            [
             0.4444444444444444,
             "#bd3786"
            ],
            [
             0.5555555555555556,
             "#d8576b"
            ],
            [
             0.6666666666666666,
             "#ed7953"
            ],
            [
             0.7777777777777778,
             "#fb9f3a"
            ],
            [
             0.8888888888888888,
             "#fdca26"
            ],
            [
             1,
             "#f0f921"
            ]
           ]
          },
          "colorway": [
           "#636efa",
           "#EF553B",
           "#00cc96",
           "#ab63fa",
           "#FFA15A",
           "#19d3f3",
           "#FF6692",
           "#B6E880",
           "#FF97FF",
           "#FECB52"
          ],
          "font": {
           "color": "#2a3f5f"
          },
          "geo": {
           "bgcolor": "white",
           "lakecolor": "white",
           "landcolor": "#E5ECF6",
           "showlakes": true,
           "showland": true,
           "subunitcolor": "white"
          },
          "hoverlabel": {
           "align": "left"
          },
          "hovermode": "closest",
          "mapbox": {
           "style": "light"
          },
          "paper_bgcolor": "white",
          "plot_bgcolor": "#E5ECF6",
          "polar": {
           "angularaxis": {
            "gridcolor": "white",
            "linecolor": "white",
            "ticks": ""
           },
           "bgcolor": "#E5ECF6",
           "radialaxis": {
            "gridcolor": "white",
            "linecolor": "white",
            "ticks": ""
           }
          },
          "scene": {
           "xaxis": {
            "backgroundcolor": "#E5ECF6",
            "gridcolor": "white",
            "gridwidth": 2,
            "linecolor": "white",
            "showbackground": true,
            "ticks": "",
            "zerolinecolor": "white"
           },
           "yaxis": {
            "backgroundcolor": "#E5ECF6",
            "gridcolor": "white",
            "gridwidth": 2,
            "linecolor": "white",
            "showbackground": true,
            "ticks": "",
            "zerolinecolor": "white"
           },
           "zaxis": {
            "backgroundcolor": "#E5ECF6",
            "gridcolor": "white",
            "gridwidth": 2,
            "linecolor": "white",
            "showbackground": true,
            "ticks": "",
            "zerolinecolor": "white"
           }
          },
          "shapedefaults": {
           "line": {
            "color": "#2a3f5f"
           }
          },
          "ternary": {
           "aaxis": {
            "gridcolor": "white",
            "linecolor": "white",
            "ticks": ""
           },
           "baxis": {
            "gridcolor": "white",
            "linecolor": "white",
            "ticks": ""
           },
           "bgcolor": "#E5ECF6",
           "caxis": {
            "gridcolor": "white",
            "linecolor": "white",
            "ticks": ""
           }
          },
          "title": {
           "x": 0.05
          },
          "xaxis": {
           "automargin": true,
           "gridcolor": "white",
           "linecolor": "white",
           "ticks": "",
           "title": {
            "standoff": 15
           },
           "zerolinecolor": "white",
           "zerolinewidth": 2
          },
          "yaxis": {
           "automargin": true,
           "gridcolor": "white",
           "linecolor": "white",
           "ticks": "",
           "title": {
            "standoff": 15
           },
           "zerolinecolor": "white",
           "zerolinewidth": 2
          }
         }
        },
        "width": 1000,
        "xaxis": {
         "anchor": "y",
         "domain": [
          0,
          1
         ],
         "title": {
          "text": "year"
         }
        },
        "yaxis": {
         "anchor": "x",
         "domain": [
          0,
          1
         ],
         "title": {
          "text": "lifeExp"
         }
        }
       }
      }
     },
     "metadata": {},
     "output_type": "display_data"
    }
   ],
   "source": [
    "fig=px.line(df_south_asian,x='year',y='lifeExp',color='country',markers=True,symbol='country')\n",
    "\n",
    "fig.update_layout(\n",
    "    width=1000,\n",
    "    height=600\n",
    ")\n",
    "\n",
    "fig"
   ]
  },
  {
   "cell_type": "code",
   "execution_count": 31,
   "metadata": {},
   "outputs": [
    {
     "name": "stderr",
     "output_type": "stream",
     "text": [
      "/home/thakur/.local/lib/python3.10/site-packages/plotly/express/_core.py:2065: FutureWarning:\n",
      "\n",
      "When grouping with a length-1 list-like, you will need to pass a length-1 tuple to get_group in a future version of pandas. Pass `(name,)` instead of `name` to silence this warning.\n",
      "\n"
     ]
    },
    {
     "data": {
      "application/vnd.plotly.v1+json": {
       "config": {
        "plotlyServerURL": "https://plot.ly"
       },
       "data": [
        {
         "hovertemplate": "country=Afghanistan<br>year=%{x}<br>lifeExp=%{y}<extra></extra>",
         "legendgroup": "Afghanistan",
         "line": {
          "color": "#636efa",
          "dash": "solid"
         },
         "marker": {
          "symbol": "circle"
         },
         "mode": "lines",
         "name": "Afghanistan",
         "orientation": "v",
         "showlegend": true,
         "type": "scatter",
         "x": [
          1952,
          1957,
          1962,
          1967,
          1972,
          1977,
          1982,
          1987,
          1992,
          1997,
          2002,
          2007
         ],
         "xaxis": "x",
         "y": [
          28.801,
          30.332,
          31.997,
          34.02,
          36.088,
          38.438,
          39.854,
          40.822,
          41.674,
          41.76300000000001,
          42.129,
          43.828
         ],
         "yaxis": "y"
        },
        {
         "hovertemplate": "country=Bahrain<br>year=%{x}<br>lifeExp=%{y}<extra></extra>",
         "legendgroup": "Bahrain",
         "line": {
          "color": "#EF553B",
          "dash": "solid"
         },
         "marker": {
          "symbol": "circle"
         },
         "mode": "lines",
         "name": "Bahrain",
         "orientation": "v",
         "showlegend": true,
         "type": "scatter",
         "x": [
          1952,
          1957,
          1962,
          1967,
          1972,
          1977,
          1982,
          1987,
          1992,
          1997,
          2002,
          2007
         ],
         "xaxis": "x",
         "y": [
          50.93899999999999,
          53.832,
          56.923,
          59.923,
          63.3,
          65.593,
          69.05199999999999,
          70.75,
          72.601,
          73.925,
          74.795,
          75.635
         ],
         "yaxis": "y"
        },
        {
         "hovertemplate": "country=Bangladesh<br>year=%{x}<br>lifeExp=%{y}<extra></extra>",
         "legendgroup": "Bangladesh",
         "line": {
          "color": "#00cc96",
          "dash": "solid"
         },
         "marker": {
          "symbol": "circle"
         },
         "mode": "lines",
         "name": "Bangladesh",
         "orientation": "v",
         "showlegend": true,
         "type": "scatter",
         "x": [
          1952,
          1957,
          1962,
          1967,
          1972,
          1977,
          1982,
          1987,
          1992,
          1997,
          2002,
          2007
         ],
         "xaxis": "x",
         "y": [
          37.484,
          39.348,
          41.216,
          43.453,
          45.252,
          46.923,
          50.00899999999999,
          52.819,
          56.018,
          59.412,
          62.01300000000001,
          64.062
         ],
         "yaxis": "y"
        },
        {
         "hovertemplate": "country=Cambodia<br>year=%{x}<br>lifeExp=%{y}<extra></extra>",
         "legendgroup": "Cambodia",
         "line": {
          "color": "#ab63fa",
          "dash": "solid"
         },
         "marker": {
          "symbol": "circle"
         },
         "mode": "lines",
         "name": "Cambodia",
         "orientation": "v",
         "showlegend": true,
         "type": "scatter",
         "x": [
          1952,
          1957,
          1962,
          1967,
          1972,
          1977,
          1982,
          1987,
          1992,
          1997,
          2002,
          2007
         ],
         "xaxis": "x",
         "y": [
          39.417,
          41.36600000000001,
          43.415,
          45.415,
          40.317,
          31.22,
          50.957,
          53.914,
          55.803,
          56.534,
          56.752,
          59.723
         ],
         "yaxis": "y"
        },
        {
         "hovertemplate": "country=China<br>year=%{x}<br>lifeExp=%{y}<extra></extra>",
         "legendgroup": "China",
         "line": {
          "color": "#FFA15A",
          "dash": "solid"
         },
         "marker": {
          "symbol": "circle"
         },
         "mode": "lines",
         "name": "China",
         "orientation": "v",
         "showlegend": true,
         "type": "scatter",
         "x": [
          1952,
          1957,
          1962,
          1967,
          1972,
          1977,
          1982,
          1987,
          1992,
          1997,
          2002,
          2007
         ],
         "xaxis": "x",
         "y": [
          44,
          50.54896,
          44.50136,
          58.38112,
          63.11888,
          63.96736,
          65.525,
          67.274,
          68.69,
          70.426,
          72.028,
          72.961
         ],
         "yaxis": "y"
        },
        {
         "hovertemplate": "country=Hong Kong, China<br>year=%{x}<br>lifeExp=%{y}<extra></extra>",
         "legendgroup": "Hong Kong, China",
         "line": {
          "color": "#19d3f3",
          "dash": "solid"
         },
         "marker": {
          "symbol": "circle"
         },
         "mode": "lines",
         "name": "Hong Kong, China",
         "orientation": "v",
         "showlegend": true,
         "type": "scatter",
         "x": [
          1952,
          1957,
          1962,
          1967,
          1972,
          1977,
          1982,
          1987,
          1992,
          1997,
          2002,
          2007
         ],
         "xaxis": "x",
         "y": [
          60.96,
          64.75,
          67.65,
          70,
          72,
          73.6,
          75.45,
          76.2,
          77.601,
          80,
          81.495,
          82.208
         ],
         "yaxis": "y"
        },
        {
         "hovertemplate": "country=India<br>year=%{x}<br>lifeExp=%{y}<extra></extra>",
         "legendgroup": "India",
         "line": {
          "color": "#FF6692",
          "dash": "solid"
         },
         "marker": {
          "symbol": "circle"
         },
         "mode": "lines",
         "name": "India",
         "orientation": "v",
         "showlegend": true,
         "type": "scatter",
         "x": [
          1952,
          1957,
          1962,
          1967,
          1972,
          1977,
          1982,
          1987,
          1992,
          1997,
          2002,
          2007
         ],
         "xaxis": "x",
         "y": [
          37.37300000000001,
          40.249,
          43.605,
          47.19300000000001,
          50.651,
          54.208,
          56.596,
          58.553,
          60.223,
          61.765,
          62.879,
          64.69800000000001
         ],
         "yaxis": "y"
        },
        {
         "hovertemplate": "country=Indonesia<br>year=%{x}<br>lifeExp=%{y}<extra></extra>",
         "legendgroup": "Indonesia",
         "line": {
          "color": "#B6E880",
          "dash": "solid"
         },
         "marker": {
          "symbol": "circle"
         },
         "mode": "lines",
         "name": "Indonesia",
         "orientation": "v",
         "showlegend": true,
         "type": "scatter",
         "x": [
          1952,
          1957,
          1962,
          1967,
          1972,
          1977,
          1982,
          1987,
          1992,
          1997,
          2002,
          2007
         ],
         "xaxis": "x",
         "y": [
          37.468,
          39.918,
          42.518,
          45.964,
          49.203,
          52.702,
          56.159,
          60.137,
          62.681,
          66.041,
          68.58800000000001,
          70.65
         ],
         "yaxis": "y"
        },
        {
         "hovertemplate": "country=Iran<br>year=%{x}<br>lifeExp=%{y}<extra></extra>",
         "legendgroup": "Iran",
         "line": {
          "color": "#FF97FF",
          "dash": "solid"
         },
         "marker": {
          "symbol": "circle"
         },
         "mode": "lines",
         "name": "Iran",
         "orientation": "v",
         "showlegend": true,
         "type": "scatter",
         "x": [
          1952,
          1957,
          1962,
          1967,
          1972,
          1977,
          1982,
          1987,
          1992,
          1997,
          2002,
          2007
         ],
         "xaxis": "x",
         "y": [
          44.869,
          47.181,
          49.325,
          52.469,
          55.234,
          57.702,
          59.62,
          63.04,
          65.742,
          68.042,
          69.45100000000001,
          70.964
         ],
         "yaxis": "y"
        },
        {
         "hovertemplate": "country=Iraq<br>year=%{x}<br>lifeExp=%{y}<extra></extra>",
         "legendgroup": "Iraq",
         "line": {
          "color": "#FECB52",
          "dash": "solid"
         },
         "marker": {
          "symbol": "circle"
         },
         "mode": "lines",
         "name": "Iraq",
         "orientation": "v",
         "showlegend": true,
         "type": "scatter",
         "x": [
          1952,
          1957,
          1962,
          1967,
          1972,
          1977,
          1982,
          1987,
          1992,
          1997,
          2002,
          2007
         ],
         "xaxis": "x",
         "y": [
          45.32,
          48.437,
          51.457,
          54.459,
          56.95,
          60.413,
          62.038,
          65.044,
          59.46100000000001,
          58.81100000000001,
          57.04600000000001,
          59.545
         ],
         "yaxis": "y"
        },
        {
         "hovertemplate": "country=Israel<br>year=%{x}<br>lifeExp=%{y}<extra></extra>",
         "legendgroup": "Israel",
         "line": {
          "color": "#636efa",
          "dash": "solid"
         },
         "marker": {
          "symbol": "circle"
         },
         "mode": "lines",
         "name": "Israel",
         "orientation": "v",
         "showlegend": true,
         "type": "scatter",
         "x": [
          1952,
          1957,
          1962,
          1967,
          1972,
          1977,
          1982,
          1987,
          1992,
          1997,
          2002,
          2007
         ],
         "xaxis": "x",
         "y": [
          65.39,
          67.84,
          69.39,
          70.75,
          71.63,
          73.06,
          74.45,
          75.6,
          76.93,
          78.26899999999998,
          79.696,
          80.745
         ],
         "yaxis": "y"
        },
        {
         "hovertemplate": "country=Japan<br>year=%{x}<br>lifeExp=%{y}<extra></extra>",
         "legendgroup": "Japan",
         "line": {
          "color": "#EF553B",
          "dash": "solid"
         },
         "marker": {
          "symbol": "circle"
         },
         "mode": "lines",
         "name": "Japan",
         "orientation": "v",
         "showlegend": true,
         "type": "scatter",
         "x": [
          1952,
          1957,
          1962,
          1967,
          1972,
          1977,
          1982,
          1987,
          1992,
          1997,
          2002,
          2007
         ],
         "xaxis": "x",
         "y": [
          63.03,
          65.5,
          68.73,
          71.43,
          73.42,
          75.38,
          77.11,
          78.67,
          79.36,
          80.69,
          82,
          82.603
         ],
         "yaxis": "y"
        },
        {
         "hovertemplate": "country=Jordan<br>year=%{x}<br>lifeExp=%{y}<extra></extra>",
         "legendgroup": "Jordan",
         "line": {
          "color": "#00cc96",
          "dash": "solid"
         },
         "marker": {
          "symbol": "circle"
         },
         "mode": "lines",
         "name": "Jordan",
         "orientation": "v",
         "showlegend": true,
         "type": "scatter",
         "x": [
          1952,
          1957,
          1962,
          1967,
          1972,
          1977,
          1982,
          1987,
          1992,
          1997,
          2002,
          2007
         ],
         "xaxis": "x",
         "y": [
          43.158,
          45.669,
          48.12600000000001,
          51.629,
          56.528,
          61.13399999999999,
          63.739,
          65.869,
          68.015,
          69.77199999999999,
          71.263,
          72.535
         ],
         "yaxis": "y"
        },
        {
         "hovertemplate": "country=Korea, Dem. Rep.<br>year=%{x}<br>lifeExp=%{y}<extra></extra>",
         "legendgroup": "Korea, Dem. Rep.",
         "line": {
          "color": "#ab63fa",
          "dash": "solid"
         },
         "marker": {
          "symbol": "circle"
         },
         "mode": "lines",
         "name": "Korea, Dem. Rep.",
         "orientation": "v",
         "showlegend": true,
         "type": "scatter",
         "x": [
          1952,
          1957,
          1962,
          1967,
          1972,
          1977,
          1982,
          1987,
          1992,
          1997,
          2002,
          2007
         ],
         "xaxis": "x",
         "y": [
          50.056,
          54.081,
          56.65600000000001,
          59.942,
          63.983,
          67.15899999999999,
          69.1,
          70.64699999999998,
          69.97800000000001,
          67.727,
          66.66199999999999,
          67.297
         ],
         "yaxis": "y"
        },
        {
         "hovertemplate": "country=Korea, Rep.<br>year=%{x}<br>lifeExp=%{y}<extra></extra>",
         "legendgroup": "Korea, Rep.",
         "line": {
          "color": "#FFA15A",
          "dash": "solid"
         },
         "marker": {
          "symbol": "circle"
         },
         "mode": "lines",
         "name": "Korea, Rep.",
         "orientation": "v",
         "showlegend": true,
         "type": "scatter",
         "x": [
          1952,
          1957,
          1962,
          1967,
          1972,
          1977,
          1982,
          1987,
          1992,
          1997,
          2002,
          2007
         ],
         "xaxis": "x",
         "y": [
          47.453,
          52.681,
          55.292,
          57.716,
          62.612,
          64.766,
          67.123,
          69.81,
          72.244,
          74.64699999999998,
          77.045,
          78.623
         ],
         "yaxis": "y"
        },
        {
         "hovertemplate": "country=Kuwait<br>year=%{x}<br>lifeExp=%{y}<extra></extra>",
         "legendgroup": "Kuwait",
         "line": {
          "color": "#19d3f3",
          "dash": "solid"
         },
         "marker": {
          "symbol": "circle"
         },
         "mode": "lines",
         "name": "Kuwait",
         "orientation": "v",
         "showlegend": true,
         "type": "scatter",
         "x": [
          1952,
          1957,
          1962,
          1967,
          1972,
          1977,
          1982,
          1987,
          1992,
          1997,
          2002,
          2007
         ],
         "xaxis": "x",
         "y": [
          55.565,
          58.033,
          60.47,
          64.624,
          67.712,
          69.343,
          71.309,
          74.17399999999998,
          75.19,
          76.156,
          76.904,
          77.58800000000002
         ],
         "yaxis": "y"
        },
        {
         "hovertemplate": "country=Lebanon<br>year=%{x}<br>lifeExp=%{y}<extra></extra>",
         "legendgroup": "Lebanon",
         "line": {
          "color": "#FF6692",
          "dash": "solid"
         },
         "marker": {
          "symbol": "circle"
         },
         "mode": "lines",
         "name": "Lebanon",
         "orientation": "v",
         "showlegend": true,
         "type": "scatter",
         "x": [
          1952,
          1957,
          1962,
          1967,
          1972,
          1977,
          1982,
          1987,
          1992,
          1997,
          2002,
          2007
         ],
         "xaxis": "x",
         "y": [
          55.928,
          59.489,
          62.094,
          63.87,
          65.421,
          66.09899999999999,
          66.983,
          67.926,
          69.292,
          70.265,
          71.028,
          71.993
         ],
         "yaxis": "y"
        },
        {
         "hovertemplate": "country=Malaysia<br>year=%{x}<br>lifeExp=%{y}<extra></extra>",
         "legendgroup": "Malaysia",
         "line": {
          "color": "#B6E880",
          "dash": "solid"
         },
         "marker": {
          "symbol": "circle"
         },
         "mode": "lines",
         "name": "Malaysia",
         "orientation": "v",
         "showlegend": true,
         "type": "scatter",
         "x": [
          1952,
          1957,
          1962,
          1967,
          1972,
          1977,
          1982,
          1987,
          1992,
          1997,
          2002,
          2007
         ],
         "xaxis": "x",
         "y": [
          48.463,
          52.102,
          55.737,
          59.371,
          63.01,
          65.256,
          68,
          69.5,
          70.693,
          71.938,
          73.044,
          74.241
         ],
         "yaxis": "y"
        },
        {
         "hovertemplate": "country=Mongolia<br>year=%{x}<br>lifeExp=%{y}<extra></extra>",
         "legendgroup": "Mongolia",
         "line": {
          "color": "#FF97FF",
          "dash": "solid"
         },
         "marker": {
          "symbol": "circle"
         },
         "mode": "lines",
         "name": "Mongolia",
         "orientation": "v",
         "showlegend": true,
         "type": "scatter",
         "x": [
          1952,
          1957,
          1962,
          1967,
          1972,
          1977,
          1982,
          1987,
          1992,
          1997,
          2002,
          2007
         ],
         "xaxis": "x",
         "y": [
          42.244,
          45.24800000000001,
          48.25100000000001,
          51.253,
          53.754,
          55.49100000000001,
          57.489,
          60.222,
          61.271,
          63.625,
          65.033,
          66.803
         ],
         "yaxis": "y"
        },
        {
         "hovertemplate": "country=Myanmar<br>year=%{x}<br>lifeExp=%{y}<extra></extra>",
         "legendgroup": "Myanmar",
         "line": {
          "color": "#FECB52",
          "dash": "solid"
         },
         "marker": {
          "symbol": "circle"
         },
         "mode": "lines",
         "name": "Myanmar",
         "orientation": "v",
         "showlegend": true,
         "type": "scatter",
         "x": [
          1952,
          1957,
          1962,
          1967,
          1972,
          1977,
          1982,
          1987,
          1992,
          1997,
          2002,
          2007
         ],
         "xaxis": "x",
         "y": [
          36.319,
          41.905,
          45.108,
          49.379,
          53.07,
          56.059,
          58.056,
          58.339,
          59.32,
          60.328,
          59.908,
          62.069
         ],
         "yaxis": "y"
        },
        {
         "hovertemplate": "country=Nepal<br>year=%{x}<br>lifeExp=%{y}<extra></extra>",
         "legendgroup": "Nepal",
         "line": {
          "color": "#636efa",
          "dash": "solid"
         },
         "marker": {
          "symbol": "circle"
         },
         "mode": "lines",
         "name": "Nepal",
         "orientation": "v",
         "showlegend": true,
         "type": "scatter",
         "x": [
          1952,
          1957,
          1962,
          1967,
          1972,
          1977,
          1982,
          1987,
          1992,
          1997,
          2002,
          2007
         ],
         "xaxis": "x",
         "y": [
          36.157,
          37.686,
          39.393,
          41.472,
          43.971,
          46.74800000000001,
          49.594,
          52.537,
          55.727,
          59.426,
          61.34,
          63.785
         ],
         "yaxis": "y"
        },
        {
         "hovertemplate": "country=Oman<br>year=%{x}<br>lifeExp=%{y}<extra></extra>",
         "legendgroup": "Oman",
         "line": {
          "color": "#EF553B",
          "dash": "solid"
         },
         "marker": {
          "symbol": "circle"
         },
         "mode": "lines",
         "name": "Oman",
         "orientation": "v",
         "showlegend": true,
         "type": "scatter",
         "x": [
          1952,
          1957,
          1962,
          1967,
          1972,
          1977,
          1982,
          1987,
          1992,
          1997,
          2002,
          2007
         ],
         "xaxis": "x",
         "y": [
          37.578,
          40.08,
          43.165,
          46.988,
          52.143,
          57.367,
          62.728,
          67.734,
          71.197,
          72.499,
          74.193,
          75.64
         ],
         "yaxis": "y"
        },
        {
         "hovertemplate": "country=Pakistan<br>year=%{x}<br>lifeExp=%{y}<extra></extra>",
         "legendgroup": "Pakistan",
         "line": {
          "color": "#00cc96",
          "dash": "solid"
         },
         "marker": {
          "symbol": "circle"
         },
         "mode": "lines",
         "name": "Pakistan",
         "orientation": "v",
         "showlegend": true,
         "type": "scatter",
         "x": [
          1952,
          1957,
          1962,
          1967,
          1972,
          1977,
          1982,
          1987,
          1992,
          1997,
          2002,
          2007
         ],
         "xaxis": "x",
         "y": [
          43.43600000000001,
          45.557,
          47.67,
          49.8,
          51.929,
          54.043,
          56.158,
          58.245,
          60.838,
          61.81800000000001,
          63.61,
          65.483
         ],
         "yaxis": "y"
        },
        {
         "hovertemplate": "country=Philippines<br>year=%{x}<br>lifeExp=%{y}<extra></extra>",
         "legendgroup": "Philippines",
         "line": {
          "color": "#ab63fa",
          "dash": "solid"
         },
         "marker": {
          "symbol": "circle"
         },
         "mode": "lines",
         "name": "Philippines",
         "orientation": "v",
         "showlegend": true,
         "type": "scatter",
         "x": [
          1952,
          1957,
          1962,
          1967,
          1972,
          1977,
          1982,
          1987,
          1992,
          1997,
          2002,
          2007
         ],
         "xaxis": "x",
         "y": [
          47.752,
          51.334,
          54.757,
          56.393,
          58.065,
          60.06,
          62.082,
          64.15100000000001,
          66.458,
          68.564,
          70.303,
          71.688
         ],
         "yaxis": "y"
        },
        {
         "hovertemplate": "country=Saudi Arabia<br>year=%{x}<br>lifeExp=%{y}<extra></extra>",
         "legendgroup": "Saudi Arabia",
         "line": {
          "color": "#FFA15A",
          "dash": "solid"
         },
         "marker": {
          "symbol": "circle"
         },
         "mode": "lines",
         "name": "Saudi Arabia",
         "orientation": "v",
         "showlegend": true,
         "type": "scatter",
         "x": [
          1952,
          1957,
          1962,
          1967,
          1972,
          1977,
          1982,
          1987,
          1992,
          1997,
          2002,
          2007
         ],
         "xaxis": "x",
         "y": [
          39.875,
          42.868,
          45.914,
          49.901,
          53.886,
          58.69,
          63.012,
          66.295,
          68.768,
          70.533,
          71.626,
          72.777
         ],
         "yaxis": "y"
        },
        {
         "hovertemplate": "country=Singapore<br>year=%{x}<br>lifeExp=%{y}<extra></extra>",
         "legendgroup": "Singapore",
         "line": {
          "color": "#19d3f3",
          "dash": "solid"
         },
         "marker": {
          "symbol": "circle"
         },
         "mode": "lines",
         "name": "Singapore",
         "orientation": "v",
         "showlegend": true,
         "type": "scatter",
         "x": [
          1952,
          1957,
          1962,
          1967,
          1972,
          1977,
          1982,
          1987,
          1992,
          1997,
          2002,
          2007
         ],
         "xaxis": "x",
         "y": [
          60.396,
          63.179,
          65.798,
          67.946,
          69.521,
          70.795,
          71.76,
          73.56,
          75.788,
          77.158,
          78.77,
          79.972
         ],
         "yaxis": "y"
        },
        {
         "hovertemplate": "country=Sri Lanka<br>year=%{x}<br>lifeExp=%{y}<extra></extra>",
         "legendgroup": "Sri Lanka",
         "line": {
          "color": "#FF6692",
          "dash": "solid"
         },
         "marker": {
          "symbol": "circle"
         },
         "mode": "lines",
         "name": "Sri Lanka",
         "orientation": "v",
         "showlegend": true,
         "type": "scatter",
         "x": [
          1952,
          1957,
          1962,
          1967,
          1972,
          1977,
          1982,
          1987,
          1992,
          1997,
          2002,
          2007
         ],
         "xaxis": "x",
         "y": [
          57.593,
          61.456,
          62.192,
          64.266,
          65.042,
          65.949,
          68.757,
          69.01100000000001,
          70.37899999999998,
          70.457,
          70.815,
          72.396
         ],
         "yaxis": "y"
        },
        {
         "hovertemplate": "country=Syria<br>year=%{x}<br>lifeExp=%{y}<extra></extra>",
         "legendgroup": "Syria",
         "line": {
          "color": "#B6E880",
          "dash": "solid"
         },
         "marker": {
          "symbol": "circle"
         },
         "mode": "lines",
         "name": "Syria",
         "orientation": "v",
         "showlegend": true,
         "type": "scatter",
         "x": [
          1952,
          1957,
          1962,
          1967,
          1972,
          1977,
          1982,
          1987,
          1992,
          1997,
          2002,
          2007
         ],
         "xaxis": "x",
         "y": [
          45.883,
          48.284,
          50.305,
          53.655,
          57.29600000000001,
          61.195,
          64.59,
          66.97399999999999,
          69.249,
          71.527,
          73.053,
          74.143
         ],
         "yaxis": "y"
        },
        {
         "hovertemplate": "country=Taiwan<br>year=%{x}<br>lifeExp=%{y}<extra></extra>",
         "legendgroup": "Taiwan",
         "line": {
          "color": "#FF97FF",
          "dash": "solid"
         },
         "marker": {
          "symbol": "circle"
         },
         "mode": "lines",
         "name": "Taiwan",
         "orientation": "v",
         "showlegend": true,
         "type": "scatter",
         "x": [
          1952,
          1957,
          1962,
          1967,
          1972,
          1977,
          1982,
          1987,
          1992,
          1997,
          2002,
          2007
         ],
         "xaxis": "x",
         "y": [
          58.5,
          62.4,
          65.2,
          67.5,
          69.39,
          70.59,
          72.16,
          73.4,
          74.26,
          75.25,
          76.99,
          78.4
         ],
         "yaxis": "y"
        },
        {
         "hovertemplate": "country=Thailand<br>year=%{x}<br>lifeExp=%{y}<extra></extra>",
         "legendgroup": "Thailand",
         "line": {
          "color": "#FECB52",
          "dash": "solid"
         },
         "marker": {
          "symbol": "circle"
         },
         "mode": "lines",
         "name": "Thailand",
         "orientation": "v",
         "showlegend": true,
         "type": "scatter",
         "x": [
          1952,
          1957,
          1962,
          1967,
          1972,
          1977,
          1982,
          1987,
          1992,
          1997,
          2002,
          2007
         ],
         "xaxis": "x",
         "y": [
          50.848,
          53.63,
          56.06100000000001,
          58.285,
          60.405,
          62.494,
          64.597,
          66.084,
          67.298,
          67.521,
          68.564,
          70.616
         ],
         "yaxis": "y"
        },
        {
         "hovertemplate": "country=Vietnam<br>year=%{x}<br>lifeExp=%{y}<extra></extra>",
         "legendgroup": "Vietnam",
         "line": {
          "color": "#636efa",
          "dash": "solid"
         },
         "marker": {
          "symbol": "circle"
         },
         "mode": "lines",
         "name": "Vietnam",
         "orientation": "v",
         "showlegend": true,
         "type": "scatter",
         "x": [
          1952,
          1957,
          1962,
          1967,
          1972,
          1977,
          1982,
          1987,
          1992,
          1997,
          2002,
          2007
         ],
         "xaxis": "x",
         "y": [
          40.412,
          42.887,
          45.363,
          47.838,
          50.254,
          55.764,
          58.816,
          62.82,
          67.66199999999999,
          70.672,
          73.017,
          74.249
         ],
         "yaxis": "y"
        },
        {
         "hovertemplate": "country=West Bank and Gaza<br>year=%{x}<br>lifeExp=%{y}<extra></extra>",
         "legendgroup": "West Bank and Gaza",
         "line": {
          "color": "#EF553B",
          "dash": "solid"
         },
         "marker": {
          "symbol": "circle"
         },
         "mode": "lines",
         "name": "West Bank and Gaza",
         "orientation": "v",
         "showlegend": true,
         "type": "scatter",
         "x": [
          1952,
          1957,
          1962,
          1967,
          1972,
          1977,
          1982,
          1987,
          1992,
          1997,
          2002,
          2007
         ],
         "xaxis": "x",
         "y": [
          43.16,
          45.67100000000001,
          48.127,
          51.631,
          56.532,
          60.765,
          64.406,
          67.046,
          69.718,
          71.096,
          72.37,
          73.422
         ],
         "yaxis": "y"
        },
        {
         "hovertemplate": "country=Yemen, Rep.<br>year=%{x}<br>lifeExp=%{y}<extra></extra>",
         "legendgroup": "Yemen, Rep.",
         "line": {
          "color": "#00cc96",
          "dash": "solid"
         },
         "marker": {
          "symbol": "circle"
         },
         "mode": "lines",
         "name": "Yemen, Rep.",
         "orientation": "v",
         "showlegend": true,
         "type": "scatter",
         "x": [
          1952,
          1957,
          1962,
          1967,
          1972,
          1977,
          1982,
          1987,
          1992,
          1997,
          2002,
          2007
         ],
         "xaxis": "x",
         "y": [
          32.548,
          33.97,
          35.18,
          36.984,
          39.848,
          44.175,
          49.113,
          52.922,
          55.599,
          58.02,
          60.308,
          62.698
         ],
         "yaxis": "y"
        }
       ],
       "layout": {
        "legend": {
         "title": {
          "text": "country"
         },
         "tracegroupgap": 0
        },
        "margin": {
         "t": 60
        },
        "template": {
         "data": {
          "bar": [
           {
            "error_x": {
             "color": "#2a3f5f"
            },
            "error_y": {
             "color": "#2a3f5f"
            },
            "marker": {
             "line": {
              "color": "#E5ECF6",
              "width": 0.5
             },
             "pattern": {
              "fillmode": "overlay",
              "size": 10,
              "solidity": 0.2
             }
            },
            "type": "bar"
           }
          ],
          "barpolar": [
           {
            "marker": {
             "line": {
              "color": "#E5ECF6",
              "width": 0.5
             },
             "pattern": {
              "fillmode": "overlay",
              "size": 10,
              "solidity": 0.2
             }
            },
            "type": "barpolar"
           }
          ],
          "carpet": [
           {
            "aaxis": {
             "endlinecolor": "#2a3f5f",
             "gridcolor": "white",
             "linecolor": "white",
             "minorgridcolor": "white",
             "startlinecolor": "#2a3f5f"
            },
            "baxis": {
             "endlinecolor": "#2a3f5f",
             "gridcolor": "white",
             "linecolor": "white",
             "minorgridcolor": "white",
             "startlinecolor": "#2a3f5f"
            },
            "type": "carpet"
           }
          ],
          "choropleth": [
           {
            "colorbar": {
             "outlinewidth": 0,
             "ticks": ""
            },
            "type": "choropleth"
           }
          ],
          "contour": [
           {
            "colorbar": {
             "outlinewidth": 0,
             "ticks": ""
            },
            "colorscale": [
             [
              0,
              "#0d0887"
             ],
             [
              0.1111111111111111,
              "#46039f"
             ],
             [
              0.2222222222222222,
              "#7201a8"
             ],
             [
              0.3333333333333333,
              "#9c179e"
             ],
             [
              0.4444444444444444,
              "#bd3786"
             ],
             [
              0.5555555555555556,
              "#d8576b"
             ],
             [
              0.6666666666666666,
              "#ed7953"
             ],
             [
              0.7777777777777778,
              "#fb9f3a"
             ],
             [
              0.8888888888888888,
              "#fdca26"
             ],
             [
              1,
              "#f0f921"
             ]
            ],
            "type": "contour"
           }
          ],
          "contourcarpet": [
           {
            "colorbar": {
             "outlinewidth": 0,
             "ticks": ""
            },
            "type": "contourcarpet"
           }
          ],
          "heatmap": [
           {
            "colorbar": {
             "outlinewidth": 0,
             "ticks": ""
            },
            "colorscale": [
             [
              0,
              "#0d0887"
             ],
             [
              0.1111111111111111,
              "#46039f"
             ],
             [
              0.2222222222222222,
              "#7201a8"
             ],
             [
              0.3333333333333333,
              "#9c179e"
             ],
             [
              0.4444444444444444,
              "#bd3786"
             ],
             [
              0.5555555555555556,
              "#d8576b"
             ],
             [
              0.6666666666666666,
              "#ed7953"
             ],
             [
              0.7777777777777778,
              "#fb9f3a"
             ],
             [
              0.8888888888888888,
              "#fdca26"
             ],
             [
              1,
              "#f0f921"
             ]
            ],
            "type": "heatmap"
           }
          ],
          "heatmapgl": [
           {
            "colorbar": {
             "outlinewidth": 0,
             "ticks": ""
            },
            "colorscale": [
             [
              0,
              "#0d0887"
             ],
             [
              0.1111111111111111,
              "#46039f"
             ],
             [
              0.2222222222222222,
              "#7201a8"
             ],
             [
              0.3333333333333333,
              "#9c179e"
             ],
             [
              0.4444444444444444,
              "#bd3786"
             ],
             [
              0.5555555555555556,
              "#d8576b"
             ],
             [
              0.6666666666666666,
              "#ed7953"
             ],
             [
              0.7777777777777778,
              "#fb9f3a"
             ],
             [
              0.8888888888888888,
              "#fdca26"
             ],
             [
              1,
              "#f0f921"
             ]
            ],
            "type": "heatmapgl"
           }
          ],
          "histogram": [
           {
            "marker": {
             "pattern": {
              "fillmode": "overlay",
              "size": 10,
              "solidity": 0.2
             }
            },
            "type": "histogram"
           }
          ],
          "histogram2d": [
           {
            "colorbar": {
             "outlinewidth": 0,
             "ticks": ""
            },
            "colorscale": [
             [
              0,
              "#0d0887"
             ],
             [
              0.1111111111111111,
              "#46039f"
             ],
             [
              0.2222222222222222,
              "#7201a8"
             ],
             [
              0.3333333333333333,
              "#9c179e"
             ],
             [
              0.4444444444444444,
              "#bd3786"
             ],
             [
              0.5555555555555556,
              "#d8576b"
             ],
             [
              0.6666666666666666,
              "#ed7953"
             ],
             [
              0.7777777777777778,
              "#fb9f3a"
             ],
             [
              0.8888888888888888,
              "#fdca26"
             ],
             [
              1,
              "#f0f921"
             ]
            ],
            "type": "histogram2d"
           }
          ],
          "histogram2dcontour": [
           {
            "colorbar": {
             "outlinewidth": 0,
             "ticks": ""
            },
            "colorscale": [
             [
              0,
              "#0d0887"
             ],
             [
              0.1111111111111111,
              "#46039f"
             ],
             [
              0.2222222222222222,
              "#7201a8"
             ],
             [
              0.3333333333333333,
              "#9c179e"
             ],
             [
              0.4444444444444444,
              "#bd3786"
             ],
             [
              0.5555555555555556,
              "#d8576b"
             ],
             [
              0.6666666666666666,
              "#ed7953"
             ],
             [
              0.7777777777777778,
              "#fb9f3a"
             ],
             [
              0.8888888888888888,
              "#fdca26"
             ],
             [
              1,
              "#f0f921"
             ]
            ],
            "type": "histogram2dcontour"
           }
          ],
          "mesh3d": [
           {
            "colorbar": {
             "outlinewidth": 0,
             "ticks": ""
            },
            "type": "mesh3d"
           }
          ],
          "parcoords": [
           {
            "line": {
             "colorbar": {
              "outlinewidth": 0,
              "ticks": ""
             }
            },
            "type": "parcoords"
           }
          ],
          "pie": [
           {
            "automargin": true,
            "type": "pie"
           }
          ],
          "scatter": [
           {
            "fillpattern": {
             "fillmode": "overlay",
             "size": 10,
             "solidity": 0.2
            },
            "type": "scatter"
           }
          ],
          "scatter3d": [
           {
            "line": {
             "colorbar": {
              "outlinewidth": 0,
              "ticks": ""
             }
            },
            "marker": {
             "colorbar": {
              "outlinewidth": 0,
              "ticks": ""
             }
            },
            "type": "scatter3d"
           }
          ],
          "scattercarpet": [
           {
            "marker": {
             "colorbar": {
              "outlinewidth": 0,
              "ticks": ""
             }
            },
            "type": "scattercarpet"
           }
          ],
          "scattergeo": [
           {
            "marker": {
             "colorbar": {
              "outlinewidth": 0,
              "ticks": ""
             }
            },
            "type": "scattergeo"
           }
          ],
          "scattergl": [
           {
            "marker": {
             "colorbar": {
              "outlinewidth": 0,
              "ticks": ""
             }
            },
            "type": "scattergl"
           }
          ],
          "scattermapbox": [
           {
            "marker": {
             "colorbar": {
              "outlinewidth": 0,
              "ticks": ""
             }
            },
            "type": "scattermapbox"
           }
          ],
          "scatterpolar": [
           {
            "marker": {
             "colorbar": {
              "outlinewidth": 0,
              "ticks": ""
             }
            },
            "type": "scatterpolar"
           }
          ],
          "scatterpolargl": [
           {
            "marker": {
             "colorbar": {
              "outlinewidth": 0,
              "ticks": ""
             }
            },
            "type": "scatterpolargl"
           }
          ],
          "scatterternary": [
           {
            "marker": {
             "colorbar": {
              "outlinewidth": 0,
              "ticks": ""
             }
            },
            "type": "scatterternary"
           }
          ],
          "surface": [
           {
            "colorbar": {
             "outlinewidth": 0,
             "ticks": ""
            },
            "colorscale": [
             [
              0,
              "#0d0887"
             ],
             [
              0.1111111111111111,
              "#46039f"
             ],
             [
              0.2222222222222222,
              "#7201a8"
             ],
             [
              0.3333333333333333,
              "#9c179e"
             ],
             [
              0.4444444444444444,
              "#bd3786"
             ],
             [
              0.5555555555555556,
              "#d8576b"
             ],
             [
              0.6666666666666666,
              "#ed7953"
             ],
             [
              0.7777777777777778,
              "#fb9f3a"
             ],
             [
              0.8888888888888888,
              "#fdca26"
             ],
             [
              1,
              "#f0f921"
             ]
            ],
            "type": "surface"
           }
          ],
          "table": [
           {
            "cells": {
             "fill": {
              "color": "#EBF0F8"
             },
             "line": {
              "color": "white"
             }
            },
            "header": {
             "fill": {
              "color": "#C8D4E3"
             },
             "line": {
              "color": "white"
             }
            },
            "type": "table"
           }
          ]
         },
         "layout": {
          "annotationdefaults": {
           "arrowcolor": "#2a3f5f",
           "arrowhead": 0,
           "arrowwidth": 1
          },
          "autotypenumbers": "strict",
          "coloraxis": {
           "colorbar": {
            "outlinewidth": 0,
            "ticks": ""
           }
          },
          "colorscale": {
           "diverging": [
            [
             0,
             "#8e0152"
            ],
            [
             0.1,
             "#c51b7d"
            ],
            [
             0.2,
             "#de77ae"
            ],
            [
             0.3,
             "#f1b6da"
            ],
            [
             0.4,
             "#fde0ef"
            ],
            [
             0.5,
             "#f7f7f7"
            ],
            [
             0.6,
             "#e6f5d0"
            ],
            [
             0.7,
             "#b8e186"
            ],
            [
             0.8,
             "#7fbc41"
            ],
            [
             0.9,
             "#4d9221"
            ],
            [
             1,
             "#276419"
            ]
           ],
           "sequential": [
            [
             0,
             "#0d0887"
            ],
            [
             0.1111111111111111,
             "#46039f"
            ],
            [
             0.2222222222222222,
             "#7201a8"
            ],
            [
             0.3333333333333333,
             "#9c179e"
            ],
            [
             0.4444444444444444,
             "#bd3786"
            ],
            [
             0.5555555555555556,
             "#d8576b"
            ],
            [
             0.6666666666666666,
             "#ed7953"
            ],
            [
             0.7777777777777778,
             "#fb9f3a"
            ],
            [
             0.8888888888888888,
             "#fdca26"
            ],
            [
             1,
             "#f0f921"
            ]
           ],
           "sequentialminus": [
            [
             0,
             "#0d0887"
            ],
            [
             0.1111111111111111,
             "#46039f"
            ],
            [
             0.2222222222222222,
             "#7201a8"
            ],
            [
             0.3333333333333333,
             "#9c179e"
            ],
            [
             0.4444444444444444,
             "#bd3786"
            ],
            [
             0.5555555555555556,
             "#d8576b"
            ],
            [
             0.6666666666666666,
             "#ed7953"
            ],
            [
             0.7777777777777778,
             "#fb9f3a"
            ],
            [
             0.8888888888888888,
             "#fdca26"
            ],
            [
             1,
             "#f0f921"
            ]
           ]
          },
          "colorway": [
           "#636efa",
           "#EF553B",
           "#00cc96",
           "#ab63fa",
           "#FFA15A",
           "#19d3f3",
           "#FF6692",
           "#B6E880",
           "#FF97FF",
           "#FECB52"
          ],
          "font": {
           "color": "#2a3f5f"
          },
          "geo": {
           "bgcolor": "white",
           "lakecolor": "white",
           "landcolor": "#E5ECF6",
           "showlakes": true,
           "showland": true,
           "subunitcolor": "white"
          },
          "hoverlabel": {
           "align": "left"
          },
          "hovermode": "closest",
          "mapbox": {
           "style": "light"
          },
          "paper_bgcolor": "white",
          "plot_bgcolor": "#E5ECF6",
          "polar": {
           "angularaxis": {
            "gridcolor": "white",
            "linecolor": "white",
            "ticks": ""
           },
           "bgcolor": "#E5ECF6",
           "radialaxis": {
            "gridcolor": "white",
            "linecolor": "white",
            "ticks": ""
           }
          },
          "scene": {
           "xaxis": {
            "backgroundcolor": "#E5ECF6",
            "gridcolor": "white",
            "gridwidth": 2,
            "linecolor": "white",
            "showbackground": true,
            "ticks": "",
            "zerolinecolor": "white"
           },
           "yaxis": {
            "backgroundcolor": "#E5ECF6",
            "gridcolor": "white",
            "gridwidth": 2,
            "linecolor": "white",
            "showbackground": true,
            "ticks": "",
            "zerolinecolor": "white"
           },
           "zaxis": {
            "backgroundcolor": "#E5ECF6",
            "gridcolor": "white",
            "gridwidth": 2,
            "linecolor": "white",
            "showbackground": true,
            "ticks": "",
            "zerolinecolor": "white"
           }
          },
          "shapedefaults": {
           "line": {
            "color": "#2a3f5f"
           }
          },
          "ternary": {
           "aaxis": {
            "gridcolor": "white",
            "linecolor": "white",
            "ticks": ""
           },
           "baxis": {
            "gridcolor": "white",
            "linecolor": "white",
            "ticks": ""
           },
           "bgcolor": "#E5ECF6",
           "caxis": {
            "gridcolor": "white",
            "linecolor": "white",
            "ticks": ""
           }
          },
          "title": {
           "x": 0.05
          },
          "xaxis": {
           "automargin": true,
           "gridcolor": "white",
           "linecolor": "white",
           "ticks": "",
           "title": {
            "standoff": 15
           },
           "zerolinecolor": "white",
           "zerolinewidth": 2
          },
          "yaxis": {
           "automargin": true,
           "gridcolor": "white",
           "linecolor": "white",
           "ticks": "",
           "title": {
            "standoff": 15
           },
           "zerolinecolor": "white",
           "zerolinewidth": 2
          }
         }
        },
        "xaxis": {
         "anchor": "y",
         "domain": [
          0,
          1
         ],
         "title": {
          "text": "year"
         }
        },
        "yaxis": {
         "anchor": "x",
         "domain": [
          0,
          1
         ],
         "title": {
          "text": "lifeExp"
         }
        }
       }
      }
     },
     "metadata": {},
     "output_type": "display_data"
    }
   ],
   "source": [
    "df_temp=df_gapminder.query(\"continent=='Asia'\").reset_index(drop=True)\n",
    "fig=px.line(df_temp,x='year',y='lifeExp',color='country')\n",
    "fig.show()"
   ]
  },
  {
   "cell_type": "code",
   "execution_count": 32,
   "metadata": {},
   "outputs": [],
   "source": [
    "frames_temp=[go.Frame(data=[go.Scatter(x=[1, 2], y=[1, 2])]),\n",
    "        go.Frame(data=[go.Scatter(x=[1, 4], y=[1, 4])]),\n",
    "        go.Frame(data=[go.Scatter(x=[3, 4], y=[3, 4])],layout=go.Layout(title_text='End Title'))\n",
    "        ]\n",
    "\n"
   ]
  },
  {
   "cell_type": "code",
   "execution_count": 33,
   "metadata": {},
   "outputs": [
    {
     "ename": "NameError",
     "evalue": "name 't' is not defined",
     "output_type": "error",
     "traceback": [
      "\u001b[0;31m---------------------------------------------------------------------------\u001b[0m",
      "\u001b[0;31mNameError\u001b[0m                                 Traceback (most recent call last)",
      "\u001b[0;32m/tmp/ipykernel_29166/3790515489.py\u001b[0m in \u001b[0;36m<module>\u001b[0;34m\u001b[0m\n\u001b[0;32m----> 1\u001b[0;31m \u001b[0mt\u001b[0m\u001b[0;34m\u001b[0m\u001b[0;34m\u001b[0m\u001b[0m\n\u001b[0m",
      "\u001b[0;31mNameError\u001b[0m: name 't' is not defined"
     ]
    }
   ],
   "source": [
    "t"
   ]
  },
  {
   "cell_type": "code",
   "execution_count": 34,
   "metadata": {},
   "outputs": [
    {
     "data": {
      "text/plain": [
       "[Frame({\n",
       "     'data': [{'mode': 'lines', 'type': 'scatter', 'x': [0.0], 'y': [1.0]}]\n",
       " }),\n",
       " Frame({\n",
       "     'data': [{'mode': 'lines', 'type': 'scatter', 'x': [1.0027855153203342], 'y': [0.5379562824522026]}]\n",
       " }),\n",
       " Frame({\n",
       "     'data': [{'mode': 'lines', 'type': 'scatter', 'x': [2.0055710306406684], 'y': [-0.4212060763404119]}]\n",
       " }),\n",
       " Frame({\n",
       "     'data': [{'mode': 'lines', 'type': 'scatter', 'x': [3.0083565459610027], 'y': [-0.991137192400936]}]\n",
       " }),\n",
       " Frame({\n",
       "     'data': [{'mode': 'lines', 'type': 'scatter', 'x': [4.011142061281337], 'y': [-0.6451708825078302]}]\n",
       " }),\n",
       " Frame({\n",
       "     'data': [{'mode': 'lines', 'type': 'scatter', 'x': [5.013927576601671], 'y': [0.2969897334002977]}]\n",
       " }),\n",
       " Frame({\n",
       "     'data': [{'mode': 'lines', 'type': 'scatter', 'x': [6.016713091922005], 'y': [0.9647058683208201]}]\n",
       " }),\n",
       " Frame({\n",
       "     'data': [{'mode': 'lines', 'type': 'scatter', 'x': [7.0194986072423395], 'y': [0.7409494317630873]}]\n",
       " }),\n",
       " Frame({\n",
       "     'data': [{'mode': 'lines', 'type': 'scatter', 'x': [8.022284122562674], 'y': [-0.16750906472813523]}]\n",
       " }),\n",
       " Frame({\n",
       "     'data': [{'mode': 'lines', 'type': 'scatter', 'x': [9.025069637883007], 'y': [-0.9211745392394729]}]\n",
       " }),\n",
       " Frame({\n",
       "     'data': [{'mode': 'lines', 'type': 'scatter', 'x': [10.027855153203342], 'y': [-0.8235941965096402]}]\n",
       " }),\n",
       " Frame({\n",
       "     'data': [{'mode': 'lines', 'type': 'scatter', 'x': [11.030640668523677], 'y': [0.03505919483240437]}]\n",
       " }),\n",
       " Frame({\n",
       "     'data': [{'mode': 'lines', 'type': 'scatter', 'x': [12.03342618384401], 'y': [0.8613148247452547]}]\n",
       " }),\n",
       " Frame({\n",
       "     'data': [{'mode': 'lines', 'type': 'scatter', 'x': [13.036211699164344], 'y': [0.8916402474494523]}]\n",
       " }),\n",
       " Frame({\n",
       "     'data': [{'mode': 'lines', 'type': 'scatter', 'x': [14.038997214484679], 'y': [0.09801212086008365]}]\n",
       " }),\n",
       " Frame({\n",
       "     'data': [{'mode': 'lines', 'type': 'scatter', 'x': [15.041782729805014], 'y': [-0.7861877751031592]}]\n",
       " }),\n",
       " Frame({\n",
       "     'data': [{'mode': 'lines', 'type': 'scatter', 'x': [16.044568245125348], 'y': [-0.9438814264678108]}]\n",
       " }),\n",
       " Frame({\n",
       "     'data': [{'mode': 'lines', 'type': 'scatter', 'x': [17.04735376044568], 'y': [-0.22934611141345337]}]\n",
       " }),\n",
       " Frame({\n",
       "     'data': [{'mode': 'lines', 'type': 'scatter', 'x': [18.050139275766014], 'y': [0.6971250634861104]}]\n",
       " }),\n",
       " Frame({\n",
       "     'data': [{'mode': 'lines', 'type': 'scatter', 'x': [19.05292479108635], 'y': [0.979391726527941]}]\n",
       " }),\n",
       " Frame({\n",
       "     'data': [{'mode': 'lines', 'type': 'scatter', 'x': [20.055710306406684], 'y': [0.35661480104871957]}]\n",
       " }),\n",
       " Frame({\n",
       "     'data': [{'mode': 'lines', 'type': 'scatter', 'x': [21.058495821727018], 'y': [-0.5957053812487385]}]\n",
       " }),\n",
       " Frame({\n",
       "     'data': [{'mode': 'lines', 'type': 'scatter', 'x': [22.061281337047355], 'y': [-0.997541705715407]}]\n",
       " }),\n",
       " Frame({\n",
       "     'data': [{'mode': 'lines', 'type': 'scatter', 'x': [23.064066852367688], 'y': [-0.4775622739466392]}]\n",
       " }),\n",
       " Frame({\n",
       "     'data': [{'mode': 'lines', 'type': 'scatter', 'x': [24.06685236768802], 'y': [0.4837264546518975]}]\n",
       " }),\n",
       " Frame({\n",
       "     'data': [{'mode': 'lines', 'type': 'scatter', 'x': [25.069637883008355], 'y': [0.9980096444832774]}]\n",
       " }),\n",
       " Frame({\n",
       "     'data': [{'mode': 'lines', 'type': 'scatter', 'x': [26.072423398328688], 'y': [0.5900446617434407]}]\n",
       " }),\n",
       " Frame({\n",
       "     'data': [{'mode': 'lines', 'type': 'scatter', 'x': [27.075208913649025], 'y': [-0.36317317905874236]}]\n",
       " }),\n",
       " Frame({\n",
       "     'data': [{'mode': 'lines', 'type': 'scatter', 'x': [28.077994428969358], 'y': [-0.9807872483290168]}]\n",
       " }),\n",
       " Frame({\n",
       "     'data': [{'mode': 'lines', 'type': 'scatter', 'x': [29.08077994428969], 'y': [-0.6920681449164654]}]\n",
       " }),\n",
       " Frame({\n",
       "     'data': [{'mode': 'lines', 'type': 'scatter', 'x': [30.08356545961003], 'y': [0.2361824354433112]}]\n",
       " }),\n",
       " Frame({\n",
       "     'data': [{'mode': 'lines', 'type': 'scatter', 'x': [31.08635097493036], 'y': [0.9461797948196452]}]\n",
       " }),\n",
       " Frame({\n",
       "     'data': [{'mode': 'lines', 'type': 'scatter', 'x': [32.089136490250695], 'y': [0.7818242944618187]}]\n",
       " }),\n",
       " Frame({\n",
       "     'data': [{'mode': 'lines', 'type': 'scatter', 'x': [33.09192200557103], 'y': [-0.1050052128606517]}]\n",
       " }),\n",
       " Frame({\n",
       "     'data': [{'mode': 'lines', 'type': 'scatter', 'x': [34.09470752089136], 'y': [-0.8948007223590556]}]\n",
       " }),\n",
       " Frame({\n",
       "     'data': [{'mode': 'lines', 'type': 'scatter', 'x': [35.097493036211695], 'y': [-0.8577221274109958]}]\n",
       " }),\n",
       " Frame({\n",
       "     'data': [{'mode': 'lines', 'type': 'scatter', 'x': [36.10027855153203], 'y': [-0.028033291718973292]}]\n",
       " }),\n",
       " Frame({\n",
       "     'data': [{'mode': 'lines', 'type': 'scatter', 'x': [37.10306406685237], 'y': [0.8275607566149258]}]\n",
       " }),\n",
       " Frame({\n",
       "     'data': [{'mode': 'lines', 'type': 'scatter', 'x': [38.1058495821727], 'y': [0.9184163079827625]}]\n",
       " }),\n",
       " Frame({\n",
       "     'data': [{'mode': 'lines', 'type': 'scatter', 'x': [39.108635097493035], 'y': [0.16057488895684385]}]\n",
       " }),\n",
       " Frame({\n",
       "     'data': [{'mode': 'lines', 'type': 'scatter', 'x': [40.11142061281337], 'y': [-0.7456517673459644]}]\n",
       " }),\n",
       " Frame({\n",
       "     'data': [{'mode': 'lines', 'type': 'scatter', 'x': [41.1142061281337], 'y': [-0.9628309944875444]}]\n",
       " }),\n",
       " Frame({\n",
       "     'data': [{'mode': 'lines', 'type': 'scatter', 'x': [42.116991643454035], 'y': [-0.29027019750259025]}]\n",
       " }),\n",
       " Frame({\n",
       "     'data': [{'mode': 'lines', 'type': 'scatter', 'x': [43.11977715877437], 'y': [0.6505256417772237]}]\n",
       " }),\n",
       " Frame({\n",
       "     'data': [{'mode': 'lines', 'type': 'scatter', 'x': [44.12256267409471], 'y': [0.9901789092832074]}]\n",
       " }),\n",
       " Frame({\n",
       "     'data': [{'mode': 'lines', 'type': 'scatter', 'x': [45.12534818941504], 'y': [0.4148202882239145]}]\n",
       " }),\n",
       " Frame({\n",
       "     'data': [{'mode': 'lines', 'type': 'scatter', 'x': [46.128133704735376], 'y': [-0.5438685490058303]}]\n",
       " }),\n",
       " Frame({\n",
       "     'data': [{'mode': 'lines', 'type': 'scatter', 'x': [47.13091922005571], 'y': [-0.9999752937556154]}]\n",
       " }),\n",
       " Frame({\n",
       "     'data': [{'mode': 'lines', 'type': 'scatter', 'x': [48.13370473537604], 'y': [-0.5320174341398115]}]\n",
       " }),\n",
       " Frame({\n",
       "     'data': [{'mode': 'lines', 'type': 'scatter', 'x': [49.136490250696376], 'y': [0.4275710516163895]}]\n",
       " }),\n",
       " Frame({\n",
       "     'data': [{'mode': 'lines', 'type': 'scatter', 'x': [50.13927576601671], 'y': [0.9920465009632756]}]\n",
       " }),\n",
       " Frame({\n",
       "     'data': [{'mode': 'lines', 'type': 'scatter', 'x': [51.14206128133704], 'y': [0.6397842437394505]}]\n",
       " }),\n",
       " Frame({\n",
       "     'data': [{'mode': 'lines', 'type': 'scatter', 'x': [52.144846796657376], 'y': [-0.3036945942961373]}]\n",
       " }),\n",
       " Frame({\n",
       "     'data': [{'mode': 'lines', 'type': 'scatter', 'x': [53.147632311977716], 'y': [-0.9665330736362127]}]\n",
       " }),\n",
       " Frame({\n",
       "     'data': [{'mode': 'lines', 'type': 'scatter', 'x': [54.15041782729805], 'y': [-0.7362104840247333]}]\n",
       " }),\n",
       " Frame({\n",
       "     'data': [{'mode': 'lines', 'type': 'scatter', 'x': [55.15320334261838], 'y': [0.17443496345964699]}]\n",
       " }),\n",
       " Frame({\n",
       "     'data': [{'mode': 'lines', 'type': 'scatter', 'x': [56.155988857938716], 'y': [0.9238872529696086]}]\n",
       " }),\n",
       " Frame({\n",
       "     'data': [{'mode': 'lines', 'type': 'scatter', 'x': [57.15877437325905], 'y': [0.8195869405653711]}]\n",
       " }),\n",
       " Frame({\n",
       "     'data': [{'mode': 'lines', 'type': 'scatter', 'x': [58.16155988857938], 'y': [-0.04208336558376453]}]\n",
       " }),\n",
       " Frame({\n",
       "     'data': [{'mode': 'lines', 'type': 'scatter', 'x': [59.164345403899716], 'y': [-0.8648649623704091]}]\n",
       " }),\n",
       " Frame({\n",
       "     'data': [{'mode': 'lines', 'type': 'scatter', 'x': [60.16713091922006], 'y': [-0.8884357143761323]}]\n",
       " }),\n",
       " Frame({\n",
       "     'data': [{'mode': 'lines', 'type': 'scatter', 'x': [61.16991643454039], 'y': [-0.09101418583669083]}]\n",
       " }),\n",
       " Frame({\n",
       "     'data': [{'mode': 'lines', 'type': 'scatter', 'x': [62.17270194986072], 'y': [0.7905124082498919]}]\n",
       " }),\n",
       " Frame({\n",
       "     'data': [{'mode': 'lines', 'type': 'scatter', 'x': [63.17548746518106], 'y': [0.9415364185855916]}]\n",
       " }),\n",
       " Frame({\n",
       "     'data': [{'mode': 'lines', 'type': 'scatter', 'x': [64.17827298050139], 'y': [0.22249845482144112]}]\n",
       " }),\n",
       " Frame({\n",
       "     'data': [{'mode': 'lines', 'type': 'scatter', 'x': [65.18105849582173], 'y': [-0.7021475353713926]}]\n",
       " }),\n",
       " Frame({\n",
       "     'data': [{'mode': 'lines', 'type': 'scatter', 'x': [66.18384401114206], 'y': [-0.9779478105441785]}]\n",
       " }),\n",
       " Frame({\n",
       "     'data': [{'mode': 'lines', 'type': 'scatter', 'x': [67.1866295264624], 'y': [-0.35003880181384167]}]\n",
       " }),\n",
       " Frame({\n",
       "     'data': [{'mode': 'lines', 'type': 'scatter', 'x': [68.18941504178272], 'y': [0.6013366654685756]}]\n",
       " }),\n",
       " Frame({\n",
       "     'data': [{'mode': 'lines', 'type': 'scatter', 'x': [69.19220055710306], 'y': [0.9970244759292062]}]\n",
       " }),\n",
       " Frame({\n",
       "     'data': [{'mode': 'lines', 'type': 'scatter', 'x': [70.19498607242339], 'y': [0.4713744957008892]}]\n",
       " }),\n",
       " Frame({\n",
       "     'data': [{'mode': 'lines', 'type': 'scatter', 'x': [71.19777158774373], 'y': [-0.4898667332291479]}]\n",
       " }),\n",
       " Frame({\n",
       "     'data': [{'mode': 'lines', 'type': 'scatter', 'x': [72.20055710306406], 'y': [-0.9984282691107979]}]\n",
       " }),\n",
       " Frame({\n",
       "     'data': [{'mode': 'lines', 'type': 'scatter', 'x': [73.2033426183844], 'y': [-0.5843547866629184]}]\n",
       " }),\n",
       " Frame({\n",
       "     'data': [{'mode': 'lines', 'type': 'scatter', 'x': [74.20612813370474], 'y': [0.36971361177813694]}]\n",
       " }),\n",
       " Frame({\n",
       "     'data': [{'mode': 'lines', 'type': 'scatter', 'x': [75.20891364902506], 'y': [0.9821343069911986]}]\n",
       " }),\n",
       " Frame({\n",
       "     'data': [{'mode': 'lines', 'type': 'scatter', 'x': [76.2116991643454], 'y': [0.6869770295373772]}]\n",
       " }),\n",
       " Frame({\n",
       "     'data': [{'mode': 'lines', 'type': 'scatter', 'x': [77.21448467966573], 'y': [-0.2430070891112233]}]\n",
       " }),\n",
       " Frame({\n",
       "     'data': [{'mode': 'lines', 'type': 'scatter', 'x': [78.21727019498607], 'y': [-0.9484314100729945]}]\n",
       " }),\n",
       " Frame({\n",
       "     'data': [{'mode': 'lines', 'type': 'scatter', 'x': [79.2200557103064], 'y': [-0.7774221819363131]}]\n",
       " }),\n",
       " Frame({\n",
       "     'data': [{'mode': 'lines', 'type': 'scatter', 'x': [80.22284122562674], 'y': [0.11199311629232034]}]\n",
       " }),\n",
       " Frame({\n",
       "     'data': [{'mode': 'lines', 'type': 'scatter', 'x': [81.22562674094708], 'y': [0.8979169829380196]}]\n",
       " }),\n",
       " Frame({\n",
       "     'data': [{'mode': 'lines', 'type': 'scatter', 'x': [82.2284122562674], 'y': [0.8540870478917475]}]\n",
       " }),\n",
       " Frame({\n",
       "     'data': [{'mode': 'lines', 'type': 'scatter', 'x': [83.23119777158774], 'y': [0.02100600341081934]}]\n",
       " }),\n",
       " Frame({\n",
       "     'data': [{'mode': 'lines', 'type': 'scatter', 'x': [84.23398328690807], 'y': [-0.8314864248836145]}]\n",
       " }),\n",
       " Frame({\n",
       "     'data': [{'mode': 'lines', 'type': 'scatter', 'x': [85.23676880222841], 'y': [-0.9156126954905486]}]\n",
       " }),\n",
       " Frame({\n",
       "     'data': [{'mode': 'lines', 'type': 'scatter', 'x': [86.23955431754874], 'y': [-0.15363277878066234]}]\n",
       " }),\n",
       " Frame({\n",
       "     'data': [{'mode': 'lines', 'type': 'scatter', 'x': [87.24233983286908], 'y': [0.7503172584192624]}]\n",
       " }),\n",
       " Frame({\n",
       "     'data': [{'mode': 'lines', 'type': 'scatter', 'x': [88.24512534818942], 'y': [0.9609085447785646]}]\n",
       " }),\n",
       " Frame({\n",
       "     'data': [{'mode': 'lines', 'type': 'scatter', 'x': [89.24791086350974], 'y': [0.2835363186320062]}]\n",
       " }),\n",
       " Frame({\n",
       "     'data': [{'mode': 'lines', 'type': 'scatter', 'x': [90.25069637883009], 'y': [-0.6558482569556571]}]\n",
       " }),\n",
       " Frame({\n",
       "     'data': [{'mode': 'lines', 'type': 'scatter', 'x': [91.25348189415041], 'y': [-0.9891716989612458]}]\n",
       " }),\n",
       " Frame({\n",
       "     'data': [{'mode': 'lines', 'type': 'scatter', 'x': [92.25626740947075], 'y': [-0.40841400280458556]}]\n",
       " }),\n",
       " Frame({\n",
       "     'data': [{'mode': 'lines', 'type': 'scatter', 'x': [93.25905292479108], 'y': [0.5497539416608815]}]\n",
       " }),\n",
       " Frame({\n",
       "     'data': [{'mode': 'lines', 'type': 'scatter', 'x': [94.26183844011142], 'y': [0.9999011762432587]}]\n",
       " }),\n",
       " Frame({\n",
       "     'data': [{'mode': 'lines', 'type': 'scatter', 'x': [95.26462395543174], 'y': [0.5260522975219363]}]\n",
       " }),\n",
       " Frame({\n",
       "     'data': [{'mode': 'lines', 'type': 'scatter', 'x': [96.26740947075209], 'y': [-0.4339148995425826]}]\n",
       " }),\n",
       " Frame({\n",
       "     'data': [{'mode': 'lines', 'type': 'scatter', 'x': [97.27019498607243], 'y': [-0.9929067900390292]}]\n",
       " }),\n",
       " Frame({\n",
       "     'data': [{'mode': 'lines', 'type': 'scatter', 'x': [98.27298050139275], 'y': [-0.6343659916393096]}]\n",
       " }),\n",
       " Frame({\n",
       "     'data': [{'mode': 'lines', 'type': 'scatter', 'x': [99.27576601671309], 'y': [0.31038444888625794]}]\n",
       " }),\n",
       " Frame({\n",
       "     'data': [{'mode': 'lines', 'type': 'scatter', 'x': [100.27855153203342], 'y': [0.9683125201469569]}]\n",
       " }),\n",
       " Frame({\n",
       "     'data': [{'mode': 'lines', 'type': 'scatter', 'x': [101.28133704735376], 'y': [0.7314351582941064]}]\n",
       " }),\n",
       " Frame({\n",
       "     'data': [{'mode': 'lines', 'type': 'scatter', 'x': [102.28412256267409], 'y': [-0.18135224292547883]}]\n",
       " }),\n",
       " Frame({\n",
       "     'data': [{'mode': 'lines', 'type': 'scatter', 'x': [103.28690807799443], 'y': [-0.926554315131233]}]\n",
       " }),\n",
       " Frame({\n",
       "     'data': [{'mode': 'lines', 'type': 'scatter', 'x': [104.28969359331475], 'y': [-0.8155391867906091]}]\n",
       " }),\n",
       " Frame({\n",
       "     'data': [{'mode': 'lines', 'type': 'scatter', 'x': [105.29247910863509], 'y': [0.049105456891298964]}]\n",
       " }),\n",
       " Frame({\n",
       "     'data': [{'mode': 'lines', 'type': 'scatter', 'x': [106.29526462395543], 'y': [0.8683723648653288]}]\n",
       " }),\n",
       " Frame({\n",
       "     'data': [{'mode': 'lines', 'type': 'scatter', 'x': [107.29805013927576], 'y': [0.8851872814830586]}]\n",
       " }),\n",
       " Frame({\n",
       "     'data': [{'mode': 'lines', 'type': 'scatter', 'x': [108.3008356545961], 'y': [0.08401175357586427]}]\n",
       " }),\n",
       " Frame({\n",
       "     'data': [{'mode': 'lines', 'type': 'scatter', 'x': [109.30362116991643], 'y': [-0.7947979802111258]}]\n",
       " }),\n",
       " Frame({\n",
       "     'data': [{'mode': 'lines', 'type': 'scatter', 'x': [110.30640668523677], 'y': [-0.9391448870456632]}]\n",
       " }),\n",
       " Frame({\n",
       "     'data': [{'mode': 'lines', 'type': 'scatter', 'x': [111.30919220055709], 'y': [-0.21563980402703575]}]\n",
       " }),\n",
       " Frame({\n",
       "     'data': [{'mode': 'lines', 'type': 'scatter', 'x': [112.31197771587743], 'y': [0.707135312399459]}]\n",
       " }),\n",
       " Frame({\n",
       "     'data': [{'mode': 'lines', 'type': 'scatter', 'x': [113.31476323119777], 'y': [0.9764555717252082]}]\n",
       " }),\n",
       " Frame({\n",
       "     'data': [{'mode': 'lines', 'type': 'scatter', 'x': [114.3175487465181], 'y': [0.3434455062906104]}]\n",
       " }),\n",
       " Frame({\n",
       "     'data': [{'mode': 'lines', 'type': 'scatter', 'x': [115.32033426183844], 'y': [-0.6069382361471922]}]\n",
       " }),\n",
       " Frame({\n",
       "     'data': [{'mode': 'lines', 'type': 'scatter', 'x': [116.32311977715877], 'y': [-0.9964579806822864]}]\n",
       " }),\n",
       " Frame({\n",
       "     'data': [{'mode': 'lines', 'type': 'scatter', 'x': [117.3259052924791], 'y': [-0.4651634256681518]}]\n",
       " }),\n",
       " Frame({\n",
       "     'data': [{'mode': 'lines', 'type': 'scatter', 'x': [118.32869080779943], 'y': [0.49598280627193814]}]\n",
       " }),\n",
       " Frame({\n",
       "     'data': [{'mode': 'lines', 'type': 'scatter', 'x': [119.33147632311977], 'y': [0.9987975589126848]}]\n",
       " }),\n",
       " Frame({\n",
       "     'data': [{'mode': 'lines', 'type': 'scatter', 'x': [120.33426183844011], 'y': [0.578636037158057]}]\n",
       " }),\n",
       " Frame({\n",
       "     'data': [{'mode': 'lines', 'type': 'scatter', 'x': [121.33704735376044], 'y': [-0.37623577602783187]}]\n",
       " }),\n",
       " Frame({\n",
       "     'data': [{'mode': 'lines', 'type': 'scatter', 'x': [122.33983286908078], 'y': [-0.9834328359529686]}]\n",
       " }),\n",
       " Frame({\n",
       "     'data': [{'mode': 'lines', 'type': 'scatter', 'x': [123.3426183844011], 'y': [-0.6818519689135399]}]\n",
       " }),\n",
       " Frame({\n",
       "     'data': [{'mode': 'lines', 'type': 'scatter', 'x': [124.34540389972145], 'y': [0.24981973519408762]}]\n",
       " }),\n",
       " Frame({\n",
       "     'data': [{'mode': 'lines', 'type': 'scatter', 'x': [125.34818941504177], 'y': [0.9506361609699431]}]\n",
       " }),\n",
       " Frame({\n",
       "     'data': [{'mode': 'lines', 'type': 'scatter', 'x': [126.35097493036211], 'y': [0.7729816550459647]}]\n",
       " }),\n",
       " Frame({\n",
       "     'data': [{'mode': 'lines', 'type': 'scatter', 'x': [127.35376044568244], 'y': [-0.1189754858653809]}]\n",
       " }),\n",
       " Frame({\n",
       "     'data': [{'mode': 'lines', 'type': 'scatter', 'x': [128.35654596100278], 'y': [-0.9009888752041423]}]\n",
       " }),\n",
       " Frame({\n",
       "     'data': [{'mode': 'lines', 'type': 'scatter', 'x': [129.35933147632312], 'y': [-0.8504097658058335]}]\n",
       " }),\n",
       " Frame({\n",
       "     'data': [{'mode': 'lines', 'type': 'scatter', 'x': [130.36211699164346], 'y': [-0.013977677143757758]}]\n",
       " }),\n",
       " Frame({\n",
       "     'data': [{'mode': 'lines', 'type': 'scatter', 'x': [131.36490250696377], 'y': [0.8353710073386719]}]\n",
       " }),\n",
       " Frame({\n",
       "     'data': [{'mode': 'lines', 'type': 'scatter', 'x': [132.3676880222841], 'y': [0.9127638402963048]}]\n",
       " }),\n",
       " Frame({\n",
       "     'data': [{'mode': 'lines', 'type': 'scatter', 'x': [133.37047353760445], 'y': [0.1466830772265107]}]\n",
       " }),\n",
       " Frame({\n",
       "     'data': [{'mode': 'lines', 'type': 'scatter', 'x': [134.3732590529248], 'y': [-0.7549456744494601]}]\n",
       " }),\n",
       " Frame({\n",
       "     'data': [{'mode': 'lines', 'type': 'scatter', 'x': [135.3760445682451], 'y': [-0.9589386141869157]}]\n",
       " }),\n",
       " Frame({\n",
       "     'data': [{'mode': 'lines', 'type': 'scatter', 'x': [136.37883008356545], 'y': [-0.2767884295262688]}]\n",
       " }),\n",
       " Frame({\n",
       "     'data': [{'mode': 'lines', 'type': 'scatter', 'x': [137.3816155988858], 'y': [0.6611384650394485]}]\n",
       " }),\n",
       " Frame({\n",
       "     'data': [{'mode': 'lines', 'type': 'scatter', 'x': [138.38440111420613], 'y': [0.9881156112038164]}]\n",
       " }),\n",
       " Frame({\n",
       "     'data': [{'mode': 'lines', 'type': 'scatter', 'x': [139.38718662952647], 'y': [0.40198753663292336]}]\n",
       " }),\n",
       " Frame({\n",
       "     'data': [{'mode': 'lines', 'type': 'scatter', 'x': [140.38997214484678], 'y': [-0.5556121696054648]}]\n",
       " }),\n",
       " Frame({\n",
       "     'data': [{'mode': 'lines', 'type': 'scatter', 'x': [141.39275766016712], 'y': [-0.9997776511252606]}]\n",
       " }),\n",
       " Frame({\n",
       "     'data': [{'mode': 'lines', 'type': 'scatter', 'x': [142.39554317548746], 'y': [-0.5200611673508057]}]\n",
       " }),\n",
       " Frame({\n",
       "     'data': [{'mode': 'lines', 'type': 'scatter', 'x': [143.3983286908078], 'y': [0.4402373066536817]}]\n",
       " }),\n",
       " Frame({\n",
       "     'data': [{'mode': 'lines', 'type': 'scatter', 'x': [144.4011142061281], 'y': [0.9937180171191677]}]\n",
       " }),\n",
       " Frame({\n",
       "     'data': [{'mode': 'lines', 'type': 'scatter', 'x': [145.40389972144845], 'y': [0.6289163939367368]}]\n",
       " }),\n",
       " Frame({\n",
       "     'data': [{'mode': 'lines', 'type': 'scatter', 'x': [146.4066852367688], 'y': [-0.3170589666082704]}]\n",
       " }),\n",
       " Frame({\n",
       "     'data': [{'mode': 'lines', 'type': 'scatter', 'x': [147.40947075208913], 'y': [-0.9700441199261779]}]\n",
       " }),\n",
       " Frame({\n",
       "     'data': [{'mode': 'lines', 'type': 'scatter', 'x': [148.41225626740948], 'y': [-0.7266236905319301]}]\n",
       " }),\n",
       " Frame({\n",
       "     'data': [{'mode': 'lines', 'type': 'scatter', 'x': [149.4150417827298], 'y': [0.1882605613256439]}]\n",
       " }),\n",
       " Frame({\n",
       "     'data': [{'mode': 'lines', 'type': 'scatter', 'x': [150.41782729805013], 'y': [0.9291755939381642]}]\n",
       " }),\n",
       " Frame({\n",
       "     'data': [{'mode': 'lines', 'type': 'scatter', 'x': [151.42061281337047], 'y': [0.8114511351949308]}]\n",
       " }),\n",
       " Frame({\n",
       "     'data': [{'mode': 'lines', 'type': 'scatter', 'x': [152.4233983286908], 'y': [-0.05612512177600335]}]\n",
       " }),\n",
       " Frame({\n",
       "     'data': [{'mode': 'lines', 'type': 'scatter', 'x': [153.42618384401115], 'y': [-0.8718368589205221]}]\n",
       " }),\n",
       " Frame({\n",
       "     'data': [{'mode': 'lines', 'type': 'scatter', 'x': [154.42896935933146], 'y': [-0.88189510928338]}]\n",
       " }),\n",
       " Frame({\n",
       "     'data': [{'mode': 'lines', 'type': 'scatter', 'x': [155.4317548746518], 'y': [-0.07700517008521475]}]\n",
       " }),\n",
       " Frame({\n",
       "     'data': [{'mode': 'lines', 'type': 'scatter', 'x': [156.43454038997214], 'y': [0.7990442792260974]}]\n",
       " }),\n",
       " Frame({\n",
       "     'data': [{'mode': 'lines', 'type': 'scatter', 'x': [157.43732590529248], 'y': [0.9367069500195486]}]\n",
       " }),\n",
       " Frame({\n",
       "     'data': [{'mode': 'lines', 'type': 'scatter', 'x': [158.4401114206128], 'y': [0.20877049793323574]}]\n",
       " }),\n",
       " Frame({\n",
       "     'data': [{'mode': 'lines', 'type': 'scatter', 'x': [159.44289693593313], 'y': [-0.7120881481118433]}]\n",
       " }),\n",
       " Frame({\n",
       "     'data': [{'mode': 'lines', 'type': 'scatter', 'x': [160.44568245125348], 'y': [-0.9749150838062697]}]\n",
       " }),\n",
       " Frame({\n",
       "     'data': [{'mode': 'lines', 'type': 'scatter', 'x': [161.44846796657382], 'y': [-0.33683524027014333]}]\n",
       " }),\n",
       " Frame({\n",
       "     'data': [{'mode': 'lines', 'type': 'scatter', 'x': [162.45125348189416], 'y': [0.6125098164970316]}]\n",
       " }),\n",
       " Frame({\n",
       "     'data': [{'mode': 'lines', 'type': 'scatter', 'x': [163.45403899721447], 'y': [0.9958422479665874]}]\n",
       " }),\n",
       " Frame({\n",
       "     'data': [{'mode': 'lines', 'type': 'scatter', 'x': [164.4568245125348], 'y': [0.45892937075288026]}]\n",
       " }),\n",
       " Frame({\n",
       "     'data': [{'mode': 'lines', 'type': 'scatter', 'x': [165.45961002785515], 'y': [-0.5020743715698961]}]\n",
       " }),\n",
       " Frame({\n",
       "     'data': [{'mode': 'lines', 'type': 'scatter', 'x': [166.4623955431755], 'y': [-0.9991174956414093]}]\n",
       " }),\n",
       " Frame({\n",
       "     'data': [{'mode': 'lines', 'type': 'scatter', 'x': [167.4651810584958], 'y': [-0.5728886958065313]}]\n",
       " }),\n",
       " Frame({\n",
       "     'data': [{'mode': 'lines', 'type': 'scatter', 'x': [168.46796657381614], 'y': [0.38273934953146926]}]\n",
       " }),\n",
       " Frame({\n",
       "     'data': [{'mode': 'lines', 'type': 'scatter', 'x': [169.47075208913648], 'y': [0.9846827710507742]}]\n",
       " }),\n",
       " Frame({\n",
       "     'data': [{'mode': 'lines', 'type': 'scatter', 'x': [170.47353760445682], 'y': [0.6766932162869361]}]\n",
       " }),\n",
       " Frame({\n",
       "     'data': [{'mode': 'lines', 'type': 'scatter', 'x': [171.47632311977716], 'y': [-0.2566200370620923]}]\n",
       " }),\n",
       " Frame({\n",
       "     'data': [{'mode': 'lines', 'type': 'scatter', 'x': [172.47910863509748], 'y': [-0.9527939385682641]}]\n",
       " }),\n",
       " Frame({\n",
       "     'data': [{'mode': 'lines', 'type': 'scatter', 'x': [173.48189415041782], 'y': [-0.7685029332082766]}]\n",
       " }),\n",
       " Frame({\n",
       "     'data': [{'mode': 'lines', 'type': 'scatter', 'x': [174.48467966573816], 'y': [0.12595197656359644]}]\n",
       " }),\n",
       " Frame({\n",
       "     'data': [{'mode': 'lines', 'type': 'scatter', 'x': [175.4874651810585], 'y': [0.9040162473675939]}]\n",
       " }),\n",
       " Frame({\n",
       "     'data': [{'mode': 'lines', 'type': 'scatter', 'x': [176.49025069637884], 'y': [0.8466904628569173]}]\n",
       " }),\n",
       " Frame({\n",
       "     'data': [{'mode': 'lines', 'type': 'scatter', 'x': [177.49303621169915], 'y': [0.006948660204909713]}]\n",
       " }),\n",
       " Frame({\n",
       "     'data': [{'mode': 'lines', 'type': 'scatter', 'x': [178.4958217270195], 'y': [-0.839214312033219]}]\n",
       " }),\n",
       " Frame({\n",
       "     'data': [{'mode': 'lines', 'type': 'scatter', 'x': [179.49860724233983], 'y': [-0.9098698831690475]}]\n",
       " }),\n",
       " Frame({\n",
       "     'data': [{'mode': 'lines', 'type': 'scatter', 'x': [180.50139275766017], 'y': [-0.13972612769645293]}]\n",
       " }),\n",
       " Frame({\n",
       "     'data': [{'mode': 'lines', 'type': 'scatter', 'x': [181.50417827298048], 'y': [0.7595367867349793]}]\n",
       " }),\n",
       " Frame({\n",
       "     'data': [{'mode': 'lines', 'type': 'scatter', 'x': [182.50696378830082], 'y': [0.9569213000517549]}]\n",
       " }),\n",
       " Frame({\n",
       "     'data': [{'mode': 'lines', 'type': 'scatter', 'x': [183.50974930362116], 'y': [0.2700268636153524]}]\n",
       " }),\n",
       " Frame({\n",
       "     'data': [{'mode': 'lines', 'type': 'scatter', 'x': [184.5125348189415], 'y': [-0.6663960046262719]}]\n",
       " }),\n",
       " Frame({\n",
       "     'data': [{'mode': 'lines', 'type': 'scatter', 'x': [185.51532033426184], 'y': [-0.9870106981948457]}]\n",
       " }),\n",
       " Frame({\n",
       "     'data': [{'mode': 'lines', 'type': 'scatter', 'x': [186.51810584958216], 'y': [-0.39554120725664804]}]\n",
       " }),\n",
       " Frame({\n",
       "     'data': [{'mode': 'lines', 'type': 'scatter', 'x': [187.5208913649025], 'y': [0.5614429433699691]}]\n",
       " }),\n",
       " Frame({\n",
       "     'data': [{'mode': 'lines', 'type': 'scatter', 'x': [188.52367688022284], 'y': [0.9996047245053045]}]\n",
       " }),\n",
       " Frame({\n",
       "     'data': [{'mode': 'lines', 'type': 'scatter', 'x': [189.52646239554318], 'y': [0.5140443396630839]}]\n",
       " }),\n",
       " Frame({\n",
       "     'data': [{'mode': 'lines', 'type': 'scatter', 'x': [190.5292479108635], 'y': [-0.44653796054378453]}]\n",
       " }),\n",
       " Frame({\n",
       "     'data': [{'mode': 'lines', 'type': 'scatter', 'x': [191.53203342618383], 'y': [-0.9944801421189489]}]\n",
       " }),\n",
       " Frame({\n",
       "     'data': [{'mode': 'lines', 'type': 'scatter', 'x': [192.53481894150417], 'y': [-0.6234357199099009]}]\n",
       " }),\n",
       " Frame({\n",
       "     'data': [{'mode': 'lines', 'type': 'scatter', 'x': [193.5376044568245], 'y': [0.32371781765766955]}]\n",
       " }),\n",
       " Frame({\n",
       "     'data': [{'mode': 'lines', 'type': 'scatter', 'x': [194.54038997214485], 'y': [0.9717277874112173]}]\n",
       " }),\n",
       " Frame({\n",
       "     'data': [{'mode': 'lines', 'type': 'scatter', 'x': [195.54317548746516], 'y': [0.7217763184848255]}]\n",
       " }),\n",
       " Frame({\n",
       "     'data': [{'mode': 'lines', 'type': 'scatter', 'x': [196.5459610027855], 'y': [-0.19515957730295072]}]\n",
       " }),\n",
       " Frame({\n",
       "     'data': [{'mode': 'lines', 'type': 'scatter', 'x': [197.54874651810584], 'y': [-0.9317509598665007]}]\n",
       " }),\n",
       " Frame({\n",
       "     'data': [{'mode': 'lines', 'type': 'scatter', 'x': [198.55153203342618], 'y': [-0.8073229877791479]}]\n",
       " }),\n",
       " Frame({\n",
       "     'data': [{'mode': 'lines', 'type': 'scatter', 'x': [199.5543175487465], 'y': [0.06314201337872993]}]\n",
       " }),\n",
       " Frame({\n",
       "     'data': [{'mode': 'lines', 'type': 'scatter', 'x': [200.55710306406684], 'y': [0.8752582733467016]}]\n",
       " }),\n",
       " Frame({\n",
       "     'data': [{'mode': 'lines', 'type': 'scatter', 'x': [201.55988857938718], 'y': [0.8785593604515116]}]\n",
       " }),\n",
       " Frame({\n",
       "     'data': [{'mode': 'lines', 'type': 'scatter', 'x': [202.56267409470752], 'y': [0.06999478157744907]}]\n",
       " }),\n",
       " Frame({\n",
       "     'data': [{'mode': 'lines', 'type': 'scatter', 'x': [203.56545961002786], 'y': [-0.8032510954745955]}]\n",
       " }),\n",
       " Frame({\n",
       "     'data': [{'mode': 'lines', 'type': 'scatter', 'x': [204.56824512534817], 'y': [-0.9342227279717962]}]\n",
       " }),\n",
       " Frame({\n",
       "     'data': [{'mode': 'lines', 'type': 'scatter', 'x': [205.5710306406685], 'y': [-0.20189087596953736]}]\n",
       " }),\n",
       " Frame({\n",
       "     'data': [{'mode': 'lines', 'type': 'scatter', 'x': [206.57381615598885], 'y': [0.7170057977766162]}]\n",
       " }),\n",
       " Frame({\n",
       "     'data': [{'mode': 'lines', 'type': 'scatter', 'x': [207.5766016713092], 'y': [0.9733264229066984]}]\n",
       " }),\n",
       " Frame({\n",
       "     'data': [{'mode': 'lines', 'type': 'scatter', 'x': [208.5793871866295], 'y': [0.3302083303821761]}]\n",
       " }),\n",
       " Frame({\n",
       "     'data': [{'mode': 'lines', 'type': 'scatter', 'x': [209.58217270194984], 'y': [-0.61805113121242]}]\n",
       " }),\n",
       " Frame({\n",
       "     'data': [{'mode': 'lines', 'type': 'scatter', 'x': [210.58495821727018], 'y': [-0.9951773082069936]}]\n",
       " }),\n",
       " Frame({\n",
       "     'data': [{'mode': 'lines', 'type': 'scatter', 'x': [211.58774373259052], 'y': [-0.4526726389952179]}]\n",
       " }),\n",
       " Frame({\n",
       "     'data': [{'mode': 'lines', 'type': 'scatter', 'x': [212.59052924791087], 'y': [0.5081411281236075]}]\n",
       " }),\n",
       " Frame({\n",
       "     'data': [{'mode': 'lines', 'type': 'scatter', 'x': [213.59331476323118], 'y': [0.9993880634881002]}]\n",
       " }),\n",
       " Frame({\n",
       "     'data': [{'mode': 'lines', 'type': 'scatter', 'x': [214.59610027855152], 'y': [0.5671130465987351]}]\n",
       " }),\n",
       " Frame({\n",
       "     'data': [{'mode': 'lines', 'type': 'scatter', 'x': [215.59888579387186], 'y': [-0.3892240109313096]}]\n",
       " }),\n",
       " Frame({\n",
       "     'data': [{'mode': 'lines', 'type': 'scatter', 'x': [216.6016713091922], 'y': [-0.9858840505222165]}]\n",
       " }),\n",
       " Frame({\n",
       "     'data': [{'mode': 'lines', 'type': 'scatter', 'x': [217.60445682451254], 'y': [-0.6715010265643824]}]\n",
       " }),\n",
       " Frame({\n",
       "     'data': [{'mode': 'lines', 'type': 'scatter', 'x': [218.60724233983285], 'y': [0.2634076586953703]}]\n",
       " }),\n",
       " Frame({\n",
       "     'data': [{'mode': 'lines', 'type': 'scatter', 'x': [219.6100278551532], 'y': [0.9549046362468007]}]\n",
       " }),\n",
       " Frame({\n",
       "     'data': [{'mode': 'lines', 'type': 'scatter', 'x': [220.61281337047353], 'y': [0.7639862377280232]}]\n",
       " }),\n",
       " Frame({\n",
       "     'data': [{'mode': 'lines', 'type': 'scatter', 'x': [221.61559888579387], 'y': [-0.13292224366118457]}]\n",
       " }),\n",
       " Frame({\n",
       "     'data': [{'mode': 'lines', 'type': 'scatter', 'x': [222.61838440111418], 'y': [-0.9069989498383633]}]\n",
       " }),\n",
       " Frame({\n",
       "     'data': [{'mode': 'lines', 'type': 'scatter', 'x': [223.62116991643452], 'y': [-0.8429293228250295]}]\n",
       " }),\n",
       " Frame({\n",
       "     'data': [{'mode': 'lines', 'type': 'scatter', 'x': [224.62395543175487], 'y': [8.070008456108734e-05]}]\n",
       " }),\n",
       " Frame({\n",
       "     'data': [{'mode': 'lines', 'type': 'scatter', 'x': [225.6267409470752], 'y': [0.8430161490599977]}]\n",
       " }),\n",
       " Frame({\n",
       "     'data': [{'mode': 'lines', 'type': 'scatter', 'x': [226.62952646239555], 'y': [0.9069309671064066]}]\n",
       " }),\n",
       " Frame({\n",
       "     'data': [{'mode': 'lines', 'type': 'scatter', 'x': [227.63231197771586], 'y': [0.13276227395070778]}]\n",
       " }),\n",
       " Frame({\n",
       "     'data': [{'mode': 'lines', 'type': 'scatter', 'x': [228.6350974930362], 'y': [-0.7640903684175726]}]\n",
       " }),\n",
       " Frame({\n",
       "     'data': [{'mode': 'lines', 'type': 'scatter', 'x': [229.63788300835654], 'y': [-0.9548567020536024]}]\n",
       " }),\n",
       " Frame({\n",
       "     'data': [{'mode': 'lines', 'type': 'scatter', 'x': [230.64066852367688], 'y': [-0.2632519550050702]}]\n",
       " }),\n",
       " Frame({\n",
       "     'data': [{'mode': 'lines', 'type': 'scatter', 'x': [231.6434540389972], 'y': [0.67162061592798]}]\n",
       " }),\n",
       " Frame({\n",
       "     'data': [{'mode': 'lines', 'type': 'scatter', 'x': [232.64623955431753], 'y': [0.9858570145308398]}]\n",
       " }),\n",
       " Frame({\n",
       "     'data': [{'mode': 'lines', 'type': 'scatter', 'x': [233.64902506963787], 'y': [0.3890753332048853]}]\n",
       " }),\n",
       " Frame({\n",
       "     'data': [{'mode': 'lines', 'type': 'scatter', 'x': [234.6518105849582], 'y': [-0.5672459748413398]}]\n",
       " }),\n",
       " Frame({\n",
       "     'data': [{'mode': 'lines', 'type': 'scatter', 'x': [235.65459610027855], 'y': [-0.9993824049281249]}]\n",
       " }),\n",
       " Frame({\n",
       "     'data': [{'mode': 'lines', 'type': 'scatter', 'x': [236.65738161559887], 'y': [-0.5080021117652261]}]\n",
       " }),\n",
       " Frame({\n",
       "     'data': [{'mode': 'lines', 'type': 'scatter', 'x': [237.6601671309192], 'y': [0.4528165498819524]}]\n",
       " }),\n",
       " Frame({\n",
       "     'data': [{'mode': 'lines', 'type': 'scatter', 'x': [238.66295264623955], 'y': [0.9951931273798764]}]\n",
       " }),\n",
       " Frame({\n",
       "     'data': [{'mode': 'lines', 'type': 'scatter', 'x': [239.6657381615599], 'y': [0.6179242403725566]}]\n",
       " }),\n",
       " Frame({\n",
       "     'data': [{'mode': 'lines', 'type': 'scatter', 'x': [240.66852367688023], 'y': [-0.3303606730040393]}]\n",
       " }),\n",
       " Frame({\n",
       "     'data': [{'mode': 'lines', 'type': 'scatter', 'x': [241.67130919220054], 'y': [-0.973363439407868]}]\n",
       " }),\n",
       " Frame({\n",
       "     'data': [{'mode': 'lines', 'type': 'scatter', 'x': [242.67409470752088], 'y': [-0.7168932816734702]}]\n",
       " }),\n",
       " Frame({\n",
       "     'data': [{'mode': 'lines', 'type': 'scatter', 'x': [243.67688022284122], 'y': [0.20204894995983583]}]\n",
       " }),\n",
       " Frame({\n",
       "     'data': [{'mode': 'lines', 'type': 'scatter', 'x': [244.67966573816156], 'y': [0.934280285660997]}]\n",
       " }),\n",
       " Frame({\n",
       "     'data': [{'mode': 'lines', 'type': 'scatter', 'x': [245.68245125348187], 'y': [0.803154948525315]}]\n",
       " }),\n",
       " Frame({\n",
       "     'data': [{'mode': 'lines', 'type': 'scatter', 'x': [246.6852367688022], 'y': [-0.07015578497745796]}]\n",
       " }),\n",
       " Frame({\n",
       "     'data': [{'mode': 'lines', 'type': 'scatter', 'x': [247.68802228412255], 'y': [-0.878636439083293]}]\n",
       " }),\n",
       " Frame({\n",
       "     'data': [{'mode': 'lines', 'type': 'scatter', 'x': [248.6908077994429], 'y': [-0.8751801998151119]}]\n",
       " }),\n",
       " Frame({\n",
       "     'data': [{'mode': 'lines', 'type': 'scatter', 'x': [249.69359331476323], 'y': [-0.06298093445332477]}]\n",
       " }),\n",
       " Frame({\n",
       "     'data': [{'mode': 'lines', 'type': 'scatter', 'x': [250.69637883008355], 'y': [0.8074182210873428]}]\n",
       " }),\n",
       " Frame({\n",
       "     'data': [{'mode': 'lines', 'type': 'scatter', 'x': [251.6991643454039], 'y': [0.9316923436539799]}]\n",
       " }),\n",
       " Frame({\n",
       "     'data': [{'mode': 'lines', 'type': 'scatter', 'x': [252.70194986072423], 'y': [0.19500127807519754]}]\n",
       " }),\n",
       " Frame({\n",
       "     'data': [{'mode': 'lines', 'type': 'scatter', 'x': [253.70473537604457], 'y': [-0.721888018400459]}]\n",
       " }),\n",
       " Frame({\n",
       "     'data': [{'mode': 'lines', 'type': 'scatter', 'x': [254.70752089136488], 'y': [-0.9716896675261931]}]\n",
       " }),\n",
       " Frame({\n",
       "     'data': [{'mode': 'lines', 'type': 'scatter', 'x': [255.71030640668522], 'y': [-0.32356510407876565]}]\n",
       " }),\n",
       " Frame({\n",
       "     'data': [{'mode': 'lines', 'type': 'scatter', 'x': [256.71309192200556], 'y': [0.6235619064832508]}]\n",
       " }),\n",
       " Frame({\n",
       "     'data': [{'mode': 'lines', 'type': 'scatter', 'x': [257.7158774373259], 'y': [0.9944631942598345]}]\n",
       " }),\n",
       " Frame({\n",
       "     'data': [{'mode': 'lines', 'type': 'scatter', 'x': [258.71866295264624], 'y': [0.4463935395558651]}]\n",
       " }),\n",
       " Frame({\n",
       "     'data': [{'mode': 'lines', 'type': 'scatter', 'x': [259.7214484679666], 'y': [-0.5141827761595322]}]\n",
       " }),\n",
       " Frame({\n",
       "     'data': [{'mode': 'lines', 'type': 'scatter', 'x': [260.7242339832869], 'y': [-0.9996092490833297]}]\n",
       " }),\n",
       " Frame({\n",
       "     'data': [{'mode': 'lines', 'type': 'scatter', 'x': [261.7270194986072], 'y': [-0.5613093749239162]}]\n",
       " }),\n",
       " Frame({\n",
       "     'data': [{'mode': 'lines', 'type': 'scatter', 'x': [262.72980501392755], 'y': [0.3956894398040549]}]\n",
       " }),\n",
       " Frame({\n",
       "     'data': [{'mode': 'lines', 'type': 'scatter', 'x': [263.7325905292479], 'y': [0.98703661500908]}]\n",
       " }),\n",
       " Frame({\n",
       "     'data': [{'mode': 'lines', 'type': 'scatter', 'x': [264.7353760445682], 'y': [0.666275656304916]}]\n",
       " }),\n",
       " Frame({\n",
       "     'data': [{'mode': 'lines', 'type': 'scatter', 'x': [265.73816155988857], 'y': [-0.2701822647006987]}]\n",
       " }),\n",
       " Frame({\n",
       "     'data': [{'mode': 'lines', 'type': 'scatter', 'x': [266.7409470752089], 'y': [-0.956968149710723]}]\n",
       " }),\n",
       " Frame({\n",
       "     'data': [{'mode': 'lines', 'type': 'scatter', 'x': [267.74373259052925], 'y': [-0.7594317917863781]}]\n",
       " }),\n",
       " Frame({\n",
       "     'data': [{'mode': 'lines', 'type': 'scatter', 'x': [268.7465181058496], 'y': [0.1398859427399006]}]\n",
       " }),\n",
       " Frame({\n",
       "     'data': [{'mode': 'lines', 'type': 'scatter', 'x': [269.74930362116993], 'y': [0.9099368352337339]}]\n",
       " }),\n",
       " Frame({\n",
       "     'data': [{'mode': 'lines', 'type': 'scatter', 'x': [270.7520891364902], 'y': [0.8391265315574447]}]\n",
       " }),\n",
       " Frame({\n",
       "     'data': [{'mode': 'lines', 'type': 'scatter', 'x': [271.75487465181055], 'y': [-0.0071100563864114445]}]\n",
       " }),\n",
       " Frame({\n",
       "     'data': [{'mode': 'lines', 'type': 'scatter', 'x': [272.7576601671309], 'y': [-0.8467763305607634]}]\n",
       " }),\n",
       " Frame({\n",
       "     'data': [{'mode': 'lines', 'type': 'scatter', 'x': [273.76044568245123], 'y': [-0.9039472373275512]}]\n",
       " }),\n",
       " Frame({\n",
       "     'data': [{'mode': 'lines', 'type': 'scatter', 'x': [274.7632311977716], 'y': [-0.12579186009056392]}]\n",
       " }),\n",
       " Frame({\n",
       "     'data': [{'mode': 'lines', 'type': 'scatter', 'x': [275.7660167130919], 'y': [0.7686061944934178]}]\n",
       " }),\n",
       " Frame({\n",
       "     'data': [{'mode': 'lines', 'type': 'scatter', 'x': [276.76880222841226], 'y': [0.9527449222093832]}]\n",
       " }),\n",
       " Frame({\n",
       "     'data': [{'mode': 'lines', 'type': 'scatter', 'x': [277.7715877437326], 'y': [0.2564640384605178]}]\n",
       " }),\n",
       " Frame({\n",
       "     'data': [{'mode': 'lines', 'type': 'scatter', 'x': [278.77437325905294], 'y': [-0.6768120407835881]}]\n",
       " }),\n",
       " Frame({\n",
       "     'data': [{'mode': 'lines', 'type': 'scatter', 'x': [279.7771587743732], 'y': [-0.9846546172181759]}]\n",
       " }),\n",
       " Frame({\n",
       "     'data': [{'mode': 'lines', 'type': 'scatter', 'x': [280.77994428969356], 'y': [-0.38259023397261643]}]\n",
       " }),\n",
       " Frame({\n",
       "     'data': [{'mode': 'lines', 'type': 'scatter', 'x': [281.7827298050139], 'y': [0.5730209772773257]}]\n",
       " }),\n",
       " Frame({\n",
       "     'data': [{'mode': 'lines', 'type': 'scatter', 'x': [282.78551532033424], 'y': [0.9991107033790868]}]\n",
       " }),\n",
       " Frame({\n",
       "     'data': [{'mode': 'lines', 'type': 'scatter', 'x': [283.7883008356546], 'y': [0.5019347822187017]}]\n",
       " }),\n",
       " Frame({\n",
       "     'data': [{'mode': 'lines', 'type': 'scatter', 'x': [284.7910863509749], 'y': [-0.4590727644274347]}]\n",
       " }),\n",
       " Frame({\n",
       "     'data': [{'mode': 'lines', 'type': 'scatter', 'x': [285.79387186629526], 'y': [-0.995856937671574]}]\n",
       " }),\n",
       " Frame({\n",
       "     'data': [{'mode': 'lines', 'type': 'scatter', 'x': [286.7966573816156], 'y': [-0.6123822276606244]}]\n",
       " }),\n",
       " Frame({\n",
       "     'data': [{'mode': 'lines', 'type': 'scatter', 'x': [287.79944289693594], 'y': [0.33698720440736446]}]\n",
       " }),\n",
       " Frame({\n",
       "     'data': [{'mode': 'lines', 'type': 'scatter', 'x': [288.8022284122562], 'y': [0.9749509950945009]}]\n",
       " }),\n",
       " Frame({\n",
       "     'data': [{'mode': 'lines', 'type': 'scatter', 'x': [289.80501392757657], 'y': [0.7119748213809056]}]\n",
       " }),\n",
       " Frame({\n",
       "     'data': [{'mode': 'lines', 'type': 'scatter', 'x': [290.8077994428969], 'y': [-0.20892833887522244]}]\n",
       " }),\n",
       " Frame({\n",
       "     'data': [{'mode': 'lines', 'type': 'scatter', 'x': [291.81058495821725], 'y': [-0.9367634463413608]}]\n",
       " }),\n",
       " Frame({\n",
       "     'data': [{'mode': 'lines', 'type': 'scatter', 'x': [292.8133704735376], 'y': [-0.7989472233865914]}]\n",
       " }),\n",
       " Frame({\n",
       "     'data': [{'mode': 'lines', 'type': 'scatter', 'x': [293.81615598885793], 'y': [0.07716609000424868]}]\n",
       " }),\n",
       " Frame({\n",
       "     'data': [{'mode': 'lines', 'type': 'scatter', 'x': [294.81894150417827], 'y': [0.881971189206706]}]\n",
       " }),\n",
       " Frame({\n",
       "     'data': [{'mode': 'lines', 'type': 'scatter', 'x': [295.8217270194986], 'y': [0.8717577943469177]}]\n",
       " }),\n",
       " Frame({\n",
       "     'data': [{'mode': 'lines', 'type': 'scatter', 'x': [296.82451253481895], 'y': [0.05596397528448413]}]\n",
       " }),\n",
       " Frame({\n",
       "     'data': [{'mode': 'lines', 'type': 'scatter', 'x': [297.8272980501393], 'y': [-0.8115454501563422]}]\n",
       " }),\n",
       " Frame({\n",
       "     'data': [{'mode': 'lines', 'type': 'scatter', 'x': [298.8300835654596], 'y': [-0.929115922098707]}]\n",
       " }),\n",
       " Frame({\n",
       "     'data': [{'mode': 'lines', 'type': 'scatter', 'x': [299.8328690807799], 'y': [-0.18810204468242273]}]\n",
       " }),\n",
       " Frame({\n",
       "     'data': [{'mode': 'lines', 'type': 'scatter', 'x': [300.83565459610026], 'y': [0.7267345687406804]}]\n",
       " }),\n",
       " Frame({\n",
       "     'data': [{'mode': 'lines', 'type': 'scatter', 'x': [301.8384401114206], 'y': [0.9700048985408974]}]\n",
       " }),\n",
       " Frame({\n",
       "     'data': [{'mode': 'lines', 'type': 'scatter', 'x': [302.84122562674094], 'y': [0.3169058896182838]}]\n",
       " }),\n",
       " Frame({\n",
       "     'data': [{'mode': 'lines', 'type': 'scatter', 'x': [303.8440111420613], 'y': [-0.6290418700083807]}]\n",
       " }),\n",
       " Frame({\n",
       "     'data': [{'mode': 'lines', 'type': 'scatter', 'x': [304.8467966573816], 'y': [-0.9936999414112576]}]\n",
       " }),\n",
       " Frame({\n",
       "     'data': [{'mode': 'lines', 'type': 'scatter', 'x': [305.84958217270196], 'y': [-0.4400923827007523]}]\n",
       " }),\n",
       " Frame({\n",
       "     'data': [{'mode': 'lines', 'type': 'scatter', 'x': [306.8523676880223], 'y': [0.5201990171448047]}]\n",
       " }),\n",
       " Frame({\n",
       "     'data': [{'mode': 'lines', 'type': 'scatter', 'x': [307.8551532033426], 'y': [0.9997810414977631]}]\n",
       " }),\n",
       " Frame({\n",
       "     'data': [{'mode': 'lines', 'type': 'scatter', 'x': [308.8579387186629], 'y': [0.5554779675558894]}]\n",
       " }),\n",
       " Frame({\n",
       "     'data': [{'mode': 'lines', 'type': 'scatter', 'x': [309.86072423398326], 'y': [-0.40213531667682595]}]\n",
       " }),\n",
       " Frame({\n",
       "     'data': [{'mode': 'lines', 'type': 'scatter', 'x': [310.8635097493036], 'y': [-0.9881404075602943]}]\n",
       " }),\n",
       " Frame({\n",
       "     'data': [{'mode': 'lines', 'type': 'scatter', 'x': [311.86629526462394], 'y': [-0.6610173637070443]}]\n",
       " }),\n",
       " Frame({\n",
       "     'data': [{'mode': 'lines', 'type': 'scatter', 'x': [312.8690807799443], 'y': [0.27694352032790703]}]\n",
       " }),\n",
       " Frame({\n",
       "     'data': [{'mode': 'lines', 'type': 'scatter', 'x': [313.8718662952646], 'y': [0.9589843769966951]}]\n",
       " }),\n",
       " Frame({\n",
       "     'data': [{'mode': 'lines', 'type': 'scatter', 'x': [314.87465181058496], 'y': [0.7548398204298504]}]\n",
       " }),\n",
       " Frame({\n",
       "     'data': [{'mode': 'lines', 'type': 'scatter', 'x': [315.8774373259053], 'y': [-0.146842729706042]}]\n",
       " }),\n",
       " Frame({\n",
       "     'data': [{'mode': 'lines', 'type': 'scatter', 'x': [316.8802228412256], 'y': [-0.9128297583854176]}]\n",
       " }),\n",
       " Frame({\n",
       "     'data': [{'mode': 'lines', 'type': 'scatter', 'x': [317.88300835654593], 'y': [-0.835282276959528]}]\n",
       " }),\n",
       " Frame({\n",
       "     'data': [{'mode': 'lines', 'type': 'scatter', 'x': [318.88579387186627], 'y': [0.014139061362708882]}]\n",
       " }),\n",
       " Frame({\n",
       "     'data': [{'mode': 'lines', 'type': 'scatter', 'x': [319.8885793871866], 'y': [0.8504946707356207]}]\n",
       " }),\n",
       " Frame({\n",
       "     'data': [{'mode': 'lines', 'type': 'scatter', 'x': [320.89136490250695], 'y': [0.9009188412659714]}]\n",
       " }),\n",
       " Frame({\n",
       "     'data': [{'mode': 'lines', 'type': 'scatter', 'x': [321.8941504178273], 'y': [0.11881523054154605]}]\n",
       " }),\n",
       " Frame({\n",
       "     'data': [{'mode': 'lines', 'type': 'scatter', 'x': [322.89693593314763], 'y': [-0.7730840418243097]}]\n",
       " }),\n",
       " Frame({\n",
       "     'data': [{'mode': 'lines', 'type': 'scatter', 'x': [323.899721448468], 'y': [-0.9505860648673955]}]\n",
       " }),\n",
       " Frame({\n",
       "     'data': [{'mode': 'lines', 'type': 'scatter', 'x': [324.9025069637883], 'y': [-0.24966344938954527]}]\n",
       " }),\n",
       " Frame({\n",
       "     'data': [{'mode': 'lines', 'type': 'scatter', 'x': [325.9052924791086], 'y': [0.6819700226717698]}]\n",
       " }),\n",
       " Frame({\n",
       "     'data': [{'mode': 'lines', 'type': 'scatter', 'x': [326.90807799442894], 'y': [0.9834035656702923]}]\n",
       " }),\n",
       " Frame({\n",
       "     'data': [{'mode': 'lines', 'type': 'scatter', 'x': [327.9108635097493], 'y': [0.376086230004682]}]\n",
       " }),\n",
       " Frame({\n",
       "     'data': [{'mode': 'lines', 'type': 'scatter', 'x': [328.9136490250696], 'y': [-0.5787676653207308]}]\n",
       " }),\n",
       " Frame({\n",
       "     'data': [{'mode': 'lines', 'type': 'scatter', 'x': [329.91643454038996], 'y': [-0.9987896332836378]}]\n",
       " }),\n",
       " Frame({\n",
       "     'data': [{'mode': 'lines', 'type': 'scatter', 'x': [330.9192200557103], 'y': [-0.49584265082538787]}]\n",
       " }),\n",
       " Frame({\n",
       "     'data': [{'mode': 'lines', 'type': 'scatter', 'x': [331.92200557103064], 'y': [0.4653062950451005]}]\n",
       " }),\n",
       " Frame({\n",
       "     'data': [{'mode': 'lines', 'type': 'scatter', 'x': [332.924791086351], 'y': [0.996471540193523]}]\n",
       " }),\n",
       " Frame({\n",
       "     'data': [{'mode': 'lines', 'type': 'scatter', 'x': [333.9275766016713], 'y': [0.6068099556187456]}]\n",
       " }),\n",
       " Frame({\n",
       "     'data': [{'mode': 'lines', 'type': 'scatter', 'x': [334.9303621169916], 'y': [-0.3435970844341831]}]\n",
       " }),\n",
       " Frame({\n",
       "     'data': [{'mode': 'lines', 'type': 'scatter', 'x': [335.93314763231194], 'y': [-0.9764903760260446]}]\n",
       " }),\n",
       " Frame({\n",
       "     'data': [{'mode': 'lines', 'type': 'scatter', 'x': [336.9359331476323], 'y': [-0.7070211806404556]}]\n",
       " }),\n",
       " Frame({\n",
       "     'data': [{'mode': 'lines', 'type': 'scatter', 'x': [337.9387186629526], 'y': [0.2157974041214386]}]\n",
       " }),\n",
       " Frame({\n",
       "     'data': [{'mode': 'lines', 'type': 'scatter', 'x': [338.94150417827296], 'y': [0.9392003192084628]}]\n",
       " }),\n",
       " Frame({\n",
       "     'data': [{'mode': 'lines', 'type': 'scatter', 'x': [339.9442896935933], 'y': [0.7947000202771649]}]\n",
       " }),\n",
       " Frame({\n",
       "     'data': [{'mode': 'lines', 'type': 'scatter', 'x': [340.94707520891365], 'y': [-0.0841725820624837]}]\n",
       " }),\n",
       " Frame({\n",
       "     'data': [{'mode': 'lines', 'type': 'scatter', 'x': [341.949860724234], 'y': [-0.8852623589386375]}]\n",
       " }),\n",
       " Frame({\n",
       "     'data': [{'mode': 'lines', 'type': 'scatter', 'x': [342.9526462395543], 'y': [-0.8682923131565007]}]\n",
       " }),\n",
       " Frame({\n",
       "     'data': [{'mode': 'lines', 'type': 'scatter', 'x': [343.9554317548746], 'y': [-0.04894425079640003]}]\n",
       " }),\n",
       " Frame({\n",
       "     'data': [{'mode': 'lines', 'type': 'scatter', 'x': [344.95821727019495], 'y': [0.8156325787448502]}]\n",
       " }),\n",
       " Frame({\n",
       "     'data': [{'mode': 'lines', 'type': 'scatter', 'x': [345.9610027855153], 'y': [0.9264935906133576]}]\n",
       " }),\n",
       " Frame({\n",
       "     'data': [{'mode': 'lines', 'type': 'scatter', 'x': [346.96378830083563], 'y': [0.1811935166994497]}]\n",
       " }),\n",
       " Frame({\n",
       "     'data': [{'mode': 'lines', 'type': 'scatter', 'x': [347.966573816156], 'y': [-0.7315452093172053]}]\n",
       " }),\n",
       " Frame({\n",
       "     'data': [{'mode': 'lines', 'type': 'scatter', 'x': [348.9693593314763], 'y': [-0.9682721991994465]}]\n",
       " }),\n",
       " Frame({\n",
       "     'data': [{'mode': 'lines', 'type': 'scatter', 'x': [349.97214484679665], 'y': [-0.3102310160490902]}]\n",
       " }),\n",
       " Frame({\n",
       "     'data': [{'mode': 'lines', 'type': 'scatter', 'x': [350.974930362117], 'y': [0.6344907510091734]}]\n",
       " }),\n",
       " Frame({\n",
       "     'data': [{'mode': 'lines', 'type': 'scatter', 'x': [351.97771587743733], 'y': [0.9928875873754857]}]\n",
       " }),\n",
       " Frame({\n",
       "     'data': [{'mode': 'lines', 'type': 'scatter', 'x': [352.9805013927577], 'y': [0.43376947978572183]}]\n",
       " }),\n",
       " Frame({\n",
       "     'data': [{'mode': 'lines', 'type': 'scatter', 'x': [353.98328690807796], 'y': [-0.5261895538019363]}]\n",
       " }),\n",
       " Frame({\n",
       "     'data': [{'mode': 'lines', 'type': 'scatter', 'x': [354.9860724233983], 'y': [-0.9999034322427134]}]\n",
       " }),\n",
       " Frame({\n",
       "     'data': [{'mode': 'lines', 'type': 'scatter', 'x': [355.98885793871864], 'y': [-0.5496191126390292]}]\n",
       " }),\n",
       " Frame({\n",
       "     'data': [{'mode': 'lines', 'type': 'scatter', 'x': [356.991643454039], 'y': [0.408561323042778]}]\n",
       " }),\n",
       " Frame({\n",
       "     'data': [{'mode': 'lines', 'type': 'scatter', 'x': [357.9944289693593], 'y': [0.9891953736347175]}]\n",
       " }),\n",
       " Frame({\n",
       "     'data': [{'mode': 'lines', 'type': 'scatter', 'x': [358.99721448467966], 'y': [0.6557264085961121]}]\n",
       " }),\n",
       " Frame({\n",
       "     'data': [{'mode': 'lines', 'type': 'scatter', 'x': [360.0], 'y': [-0.2836910914865273]}]\n",
       " })]"
      ]
     },
     "execution_count": 34,
     "metadata": {},
     "output_type": "execute_result"
    }
   ],
   "source": [
    "line_frames=[go.Frame(data=[go.Scatter(x=[t],y=[np.cos(t)],mode='lines')]) for t in np.linspace(0,360,360)]\n",
    "line_frames"
   ]
  },
  {
   "cell_type": "code",
   "execution_count": 35,
   "metadata": {},
   "outputs": [
    {
     "data": {
      "text/plain": [
       "(Frame({\n",
       "     'data': [{'mode': 'lines', 'type': 'scatter', 'x': [0.0], 'y': [1.0]}]\n",
       " }),\n",
       " Frame({\n",
       "     'data': [{'mode': 'lines', 'type': 'scatter', 'x': [360.0], 'y': [-0.2836910914865273]}]\n",
       " }))"
      ]
     },
     "execution_count": 35,
     "metadata": {},
     "output_type": "execute_result"
    }
   ],
   "source": [
    "line_frames[0],line_frames[-1]"
   ]
  },
  {
   "cell_type": "code",
   "execution_count": 36,
   "metadata": {},
   "outputs": [],
   "source": [
    "data=[go.Scatter(x=[1],y=[3])]\n",
    "\n"
   ]
  },
  {
   "cell_type": "code",
   "execution_count": 37,
   "metadata": {},
   "outputs": [
    {
     "data": {
      "application/vnd.plotly.v1+json": {
       "config": {
        "plotlyServerURL": "https://plot.ly"
       },
       "data": [
        {
         "type": "scatter",
         "x": [
          0
         ],
         "y": [
          0
         ]
        }
       ],
       "frames": [
        {
         "data": [
          {
           "mode": "lines",
           "type": "scatter",
           "x": [
            0
           ],
           "y": [
            1
           ]
          }
         ]
        },
        {
         "data": [
          {
           "mode": "lines",
           "type": "scatter",
           "x": [
            1.0027855153203342
           ],
           "y": [
            0.5379562824522026
           ]
          }
         ]
        },
        {
         "data": [
          {
           "mode": "lines",
           "type": "scatter",
           "x": [
            2.0055710306406684
           ],
           "y": [
            -0.4212060763404119
           ]
          }
         ]
        },
        {
         "data": [
          {
           "mode": "lines",
           "type": "scatter",
           "x": [
            3.0083565459610027
           ],
           "y": [
            -0.991137192400936
           ]
          }
         ]
        },
        {
         "data": [
          {
           "mode": "lines",
           "type": "scatter",
           "x": [
            4.011142061281337
           ],
           "y": [
            -0.6451708825078302
           ]
          }
         ]
        },
        {
         "data": [
          {
           "mode": "lines",
           "type": "scatter",
           "x": [
            5.013927576601671
           ],
           "y": [
            0.2969897334002977
           ]
          }
         ]
        },
        {
         "data": [
          {
           "mode": "lines",
           "type": "scatter",
           "x": [
            6.016713091922005
           ],
           "y": [
            0.9647058683208201
           ]
          }
         ]
        },
        {
         "data": [
          {
           "mode": "lines",
           "type": "scatter",
           "x": [
            7.0194986072423395
           ],
           "y": [
            0.7409494317630873
           ]
          }
         ]
        },
        {
         "data": [
          {
           "mode": "lines",
           "type": "scatter",
           "x": [
            8.022284122562674
           ],
           "y": [
            -0.16750906472813523
           ]
          }
         ]
        },
        {
         "data": [
          {
           "mode": "lines",
           "type": "scatter",
           "x": [
            9.025069637883007
           ],
           "y": [
            -0.9211745392394729
           ]
          }
         ]
        },
        {
         "data": [
          {
           "mode": "lines",
           "type": "scatter",
           "x": [
            10.027855153203342
           ],
           "y": [
            -0.8235941965096402
           ]
          }
         ]
        },
        {
         "data": [
          {
           "mode": "lines",
           "type": "scatter",
           "x": [
            11.030640668523677
           ],
           "y": [
            0.03505919483240437
           ]
          }
         ]
        },
        {
         "data": [
          {
           "mode": "lines",
           "type": "scatter",
           "x": [
            12.03342618384401
           ],
           "y": [
            0.8613148247452547
           ]
          }
         ]
        },
        {
         "data": [
          {
           "mode": "lines",
           "type": "scatter",
           "x": [
            13.036211699164344
           ],
           "y": [
            0.8916402474494523
           ]
          }
         ]
        },
        {
         "data": [
          {
           "mode": "lines",
           "type": "scatter",
           "x": [
            14.038997214484679
           ],
           "y": [
            0.09801212086008365
           ]
          }
         ]
        },
        {
         "data": [
          {
           "mode": "lines",
           "type": "scatter",
           "x": [
            15.041782729805014
           ],
           "y": [
            -0.7861877751031592
           ]
          }
         ]
        },
        {
         "data": [
          {
           "mode": "lines",
           "type": "scatter",
           "x": [
            16.044568245125348
           ],
           "y": [
            -0.9438814264678108
           ]
          }
         ]
        },
        {
         "data": [
          {
           "mode": "lines",
           "type": "scatter",
           "x": [
            17.04735376044568
           ],
           "y": [
            -0.22934611141345337
           ]
          }
         ]
        },
        {
         "data": [
          {
           "mode": "lines",
           "type": "scatter",
           "x": [
            18.050139275766014
           ],
           "y": [
            0.6971250634861104
           ]
          }
         ]
        },
        {
         "data": [
          {
           "mode": "lines",
           "type": "scatter",
           "x": [
            19.05292479108635
           ],
           "y": [
            0.979391726527941
           ]
          }
         ]
        },
        {
         "data": [
          {
           "mode": "lines",
           "type": "scatter",
           "x": [
            20.055710306406684
           ],
           "y": [
            0.35661480104871957
           ]
          }
         ]
        },
        {
         "data": [
          {
           "mode": "lines",
           "type": "scatter",
           "x": [
            21.058495821727018
           ],
           "y": [
            -0.5957053812487385
           ]
          }
         ]
        },
        {
         "data": [
          {
           "mode": "lines",
           "type": "scatter",
           "x": [
            22.061281337047355
           ],
           "y": [
            -0.997541705715407
           ]
          }
         ]
        },
        {
         "data": [
          {
           "mode": "lines",
           "type": "scatter",
           "x": [
            23.064066852367688
           ],
           "y": [
            -0.4775622739466392
           ]
          }
         ]
        },
        {
         "data": [
          {
           "mode": "lines",
           "type": "scatter",
           "x": [
            24.06685236768802
           ],
           "y": [
            0.4837264546518975
           ]
          }
         ]
        },
        {
         "data": [
          {
           "mode": "lines",
           "type": "scatter",
           "x": [
            25.069637883008355
           ],
           "y": [
            0.9980096444832774
           ]
          }
         ]
        },
        {
         "data": [
          {
           "mode": "lines",
           "type": "scatter",
           "x": [
            26.072423398328688
           ],
           "y": [
            0.5900446617434407
           ]
          }
         ]
        },
        {
         "data": [
          {
           "mode": "lines",
           "type": "scatter",
           "x": [
            27.075208913649025
           ],
           "y": [
            -0.36317317905874236
           ]
          }
         ]
        },
        {
         "data": [
          {
           "mode": "lines",
           "type": "scatter",
           "x": [
            28.077994428969358
           ],
           "y": [
            -0.9807872483290168
           ]
          }
         ]
        },
        {
         "data": [
          {
           "mode": "lines",
           "type": "scatter",
           "x": [
            29.08077994428969
           ],
           "y": [
            -0.6920681449164654
           ]
          }
         ]
        },
        {
         "data": [
          {
           "mode": "lines",
           "type": "scatter",
           "x": [
            30.08356545961003
           ],
           "y": [
            0.2361824354433112
           ]
          }
         ]
        },
        {
         "data": [
          {
           "mode": "lines",
           "type": "scatter",
           "x": [
            31.08635097493036
           ],
           "y": [
            0.9461797948196452
           ]
          }
         ]
        },
        {
         "data": [
          {
           "mode": "lines",
           "type": "scatter",
           "x": [
            32.089136490250695
           ],
           "y": [
            0.7818242944618187
           ]
          }
         ]
        },
        {
         "data": [
          {
           "mode": "lines",
           "type": "scatter",
           "x": [
            33.09192200557103
           ],
           "y": [
            -0.1050052128606517
           ]
          }
         ]
        },
        {
         "data": [
          {
           "mode": "lines",
           "type": "scatter",
           "x": [
            34.09470752089136
           ],
           "y": [
            -0.8948007223590556
           ]
          }
         ]
        },
        {
         "data": [
          {
           "mode": "lines",
           "type": "scatter",
           "x": [
            35.097493036211695
           ],
           "y": [
            -0.8577221274109958
           ]
          }
         ]
        },
        {
         "data": [
          {
           "mode": "lines",
           "type": "scatter",
           "x": [
            36.10027855153203
           ],
           "y": [
            -0.028033291718973292
           ]
          }
         ]
        },
        {
         "data": [
          {
           "mode": "lines",
           "type": "scatter",
           "x": [
            37.10306406685237
           ],
           "y": [
            0.8275607566149258
           ]
          }
         ]
        },
        {
         "data": [
          {
           "mode": "lines",
           "type": "scatter",
           "x": [
            38.1058495821727
           ],
           "y": [
            0.9184163079827625
           ]
          }
         ]
        },
        {
         "data": [
          {
           "mode": "lines",
           "type": "scatter",
           "x": [
            39.108635097493035
           ],
           "y": [
            0.16057488895684385
           ]
          }
         ]
        },
        {
         "data": [
          {
           "mode": "lines",
           "type": "scatter",
           "x": [
            40.11142061281337
           ],
           "y": [
            -0.7456517673459644
           ]
          }
         ]
        },
        {
         "data": [
          {
           "mode": "lines",
           "type": "scatter",
           "x": [
            41.1142061281337
           ],
           "y": [
            -0.9628309944875444
           ]
          }
         ]
        },
        {
         "data": [
          {
           "mode": "lines",
           "type": "scatter",
           "x": [
            42.116991643454035
           ],
           "y": [
            -0.29027019750259025
           ]
          }
         ]
        },
        {
         "data": [
          {
           "mode": "lines",
           "type": "scatter",
           "x": [
            43.11977715877437
           ],
           "y": [
            0.6505256417772237
           ]
          }
         ]
        },
        {
         "data": [
          {
           "mode": "lines",
           "type": "scatter",
           "x": [
            44.12256267409471
           ],
           "y": [
            0.9901789092832074
           ]
          }
         ]
        },
        {
         "data": [
          {
           "mode": "lines",
           "type": "scatter",
           "x": [
            45.12534818941504
           ],
           "y": [
            0.4148202882239145
           ]
          }
         ]
        },
        {
         "data": [
          {
           "mode": "lines",
           "type": "scatter",
           "x": [
            46.128133704735376
           ],
           "y": [
            -0.5438685490058303
           ]
          }
         ]
        },
        {
         "data": [
          {
           "mode": "lines",
           "type": "scatter",
           "x": [
            47.13091922005571
           ],
           "y": [
            -0.9999752937556154
           ]
          }
         ]
        },
        {
         "data": [
          {
           "mode": "lines",
           "type": "scatter",
           "x": [
            48.13370473537604
           ],
           "y": [
            -0.5320174341398115
           ]
          }
         ]
        },
        {
         "data": [
          {
           "mode": "lines",
           "type": "scatter",
           "x": [
            49.136490250696376
           ],
           "y": [
            0.4275710516163895
           ]
          }
         ]
        },
        {
         "data": [
          {
           "mode": "lines",
           "type": "scatter",
           "x": [
            50.13927576601671
           ],
           "y": [
            0.9920465009632756
           ]
          }
         ]
        },
        {
         "data": [
          {
           "mode": "lines",
           "type": "scatter",
           "x": [
            51.14206128133704
           ],
           "y": [
            0.6397842437394505
           ]
          }
         ]
        },
        {
         "data": [
          {
           "mode": "lines",
           "type": "scatter",
           "x": [
            52.144846796657376
           ],
           "y": [
            -0.3036945942961373
           ]
          }
         ]
        },
        {
         "data": [
          {
           "mode": "lines",
           "type": "scatter",
           "x": [
            53.147632311977716
           ],
           "y": [
            -0.9665330736362127
           ]
          }
         ]
        },
        {
         "data": [
          {
           "mode": "lines",
           "type": "scatter",
           "x": [
            54.15041782729805
           ],
           "y": [
            -0.7362104840247333
           ]
          }
         ]
        },
        {
         "data": [
          {
           "mode": "lines",
           "type": "scatter",
           "x": [
            55.15320334261838
           ],
           "y": [
            0.17443496345964699
           ]
          }
         ]
        },
        {
         "data": [
          {
           "mode": "lines",
           "type": "scatter",
           "x": [
            56.155988857938716
           ],
           "y": [
            0.9238872529696086
           ]
          }
         ]
        },
        {
         "data": [
          {
           "mode": "lines",
           "type": "scatter",
           "x": [
            57.15877437325905
           ],
           "y": [
            0.8195869405653711
           ]
          }
         ]
        },
        {
         "data": [
          {
           "mode": "lines",
           "type": "scatter",
           "x": [
            58.16155988857938
           ],
           "y": [
            -0.04208336558376453
           ]
          }
         ]
        },
        {
         "data": [
          {
           "mode": "lines",
           "type": "scatter",
           "x": [
            59.164345403899716
           ],
           "y": [
            -0.8648649623704091
           ]
          }
         ]
        },
        {
         "data": [
          {
           "mode": "lines",
           "type": "scatter",
           "x": [
            60.16713091922006
           ],
           "y": [
            -0.8884357143761323
           ]
          }
         ]
        },
        {
         "data": [
          {
           "mode": "lines",
           "type": "scatter",
           "x": [
            61.16991643454039
           ],
           "y": [
            -0.09101418583669083
           ]
          }
         ]
        },
        {
         "data": [
          {
           "mode": "lines",
           "type": "scatter",
           "x": [
            62.17270194986072
           ],
           "y": [
            0.7905124082498919
           ]
          }
         ]
        },
        {
         "data": [
          {
           "mode": "lines",
           "type": "scatter",
           "x": [
            63.17548746518106
           ],
           "y": [
            0.9415364185855916
           ]
          }
         ]
        },
        {
         "data": [
          {
           "mode": "lines",
           "type": "scatter",
           "x": [
            64.17827298050139
           ],
           "y": [
            0.22249845482144112
           ]
          }
         ]
        },
        {
         "data": [
          {
           "mode": "lines",
           "type": "scatter",
           "x": [
            65.18105849582173
           ],
           "y": [
            -0.7021475353713926
           ]
          }
         ]
        },
        {
         "data": [
          {
           "mode": "lines",
           "type": "scatter",
           "x": [
            66.18384401114206
           ],
           "y": [
            -0.9779478105441785
           ]
          }
         ]
        },
        {
         "data": [
          {
           "mode": "lines",
           "type": "scatter",
           "x": [
            67.1866295264624
           ],
           "y": [
            -0.35003880181384167
           ]
          }
         ]
        },
        {
         "data": [
          {
           "mode": "lines",
           "type": "scatter",
           "x": [
            68.18941504178272
           ],
           "y": [
            0.6013366654685756
           ]
          }
         ]
        },
        {
         "data": [
          {
           "mode": "lines",
           "type": "scatter",
           "x": [
            69.19220055710306
           ],
           "y": [
            0.9970244759292062
           ]
          }
         ]
        },
        {
         "data": [
          {
           "mode": "lines",
           "type": "scatter",
           "x": [
            70.19498607242339
           ],
           "y": [
            0.4713744957008892
           ]
          }
         ]
        },
        {
         "data": [
          {
           "mode": "lines",
           "type": "scatter",
           "x": [
            71.19777158774373
           ],
           "y": [
            -0.4898667332291479
           ]
          }
         ]
        },
        {
         "data": [
          {
           "mode": "lines",
           "type": "scatter",
           "x": [
            72.20055710306406
           ],
           "y": [
            -0.9984282691107979
           ]
          }
         ]
        },
        {
         "data": [
          {
           "mode": "lines",
           "type": "scatter",
           "x": [
            73.2033426183844
           ],
           "y": [
            -0.5843547866629184
           ]
          }
         ]
        },
        {
         "data": [
          {
           "mode": "lines",
           "type": "scatter",
           "x": [
            74.20612813370474
           ],
           "y": [
            0.36971361177813694
           ]
          }
         ]
        },
        {
         "data": [
          {
           "mode": "lines",
           "type": "scatter",
           "x": [
            75.20891364902506
           ],
           "y": [
            0.9821343069911986
           ]
          }
         ]
        },
        {
         "data": [
          {
           "mode": "lines",
           "type": "scatter",
           "x": [
            76.2116991643454
           ],
           "y": [
            0.6869770295373772
           ]
          }
         ]
        },
        {
         "data": [
          {
           "mode": "lines",
           "type": "scatter",
           "x": [
            77.21448467966573
           ],
           "y": [
            -0.2430070891112233
           ]
          }
         ]
        },
        {
         "data": [
          {
           "mode": "lines",
           "type": "scatter",
           "x": [
            78.21727019498607
           ],
           "y": [
            -0.9484314100729945
           ]
          }
         ]
        },
        {
         "data": [
          {
           "mode": "lines",
           "type": "scatter",
           "x": [
            79.2200557103064
           ],
           "y": [
            -0.7774221819363131
           ]
          }
         ]
        },
        {
         "data": [
          {
           "mode": "lines",
           "type": "scatter",
           "x": [
            80.22284122562674
           ],
           "y": [
            0.11199311629232034
           ]
          }
         ]
        },
        {
         "data": [
          {
           "mode": "lines",
           "type": "scatter",
           "x": [
            81.22562674094708
           ],
           "y": [
            0.8979169829380196
           ]
          }
         ]
        },
        {
         "data": [
          {
           "mode": "lines",
           "type": "scatter",
           "x": [
            82.2284122562674
           ],
           "y": [
            0.8540870478917475
           ]
          }
         ]
        },
        {
         "data": [
          {
           "mode": "lines",
           "type": "scatter",
           "x": [
            83.23119777158774
           ],
           "y": [
            0.02100600341081934
           ]
          }
         ]
        },
        {
         "data": [
          {
           "mode": "lines",
           "type": "scatter",
           "x": [
            84.23398328690807
           ],
           "y": [
            -0.8314864248836145
           ]
          }
         ]
        },
        {
         "data": [
          {
           "mode": "lines",
           "type": "scatter",
           "x": [
            85.23676880222841
           ],
           "y": [
            -0.9156126954905486
           ]
          }
         ]
        },
        {
         "data": [
          {
           "mode": "lines",
           "type": "scatter",
           "x": [
            86.23955431754874
           ],
           "y": [
            -0.15363277878066234
           ]
          }
         ]
        },
        {
         "data": [
          {
           "mode": "lines",
           "type": "scatter",
           "x": [
            87.24233983286908
           ],
           "y": [
            0.7503172584192624
           ]
          }
         ]
        },
        {
         "data": [
          {
           "mode": "lines",
           "type": "scatter",
           "x": [
            88.24512534818942
           ],
           "y": [
            0.9609085447785646
           ]
          }
         ]
        },
        {
         "data": [
          {
           "mode": "lines",
           "type": "scatter",
           "x": [
            89.24791086350974
           ],
           "y": [
            0.2835363186320062
           ]
          }
         ]
        },
        {
         "data": [
          {
           "mode": "lines",
           "type": "scatter",
           "x": [
            90.25069637883009
           ],
           "y": [
            -0.6558482569556571
           ]
          }
         ]
        },
        {
         "data": [
          {
           "mode": "lines",
           "type": "scatter",
           "x": [
            91.25348189415041
           ],
           "y": [
            -0.9891716989612458
           ]
          }
         ]
        },
        {
         "data": [
          {
           "mode": "lines",
           "type": "scatter",
           "x": [
            92.25626740947075
           ],
           "y": [
            -0.40841400280458556
           ]
          }
         ]
        },
        {
         "data": [
          {
           "mode": "lines",
           "type": "scatter",
           "x": [
            93.25905292479108
           ],
           "y": [
            0.5497539416608815
           ]
          }
         ]
        },
        {
         "data": [
          {
           "mode": "lines",
           "type": "scatter",
           "x": [
            94.26183844011142
           ],
           "y": [
            0.9999011762432587
           ]
          }
         ]
        },
        {
         "data": [
          {
           "mode": "lines",
           "type": "scatter",
           "x": [
            95.26462395543174
           ],
           "y": [
            0.5260522975219363
           ]
          }
         ]
        },
        {
         "data": [
          {
           "mode": "lines",
           "type": "scatter",
           "x": [
            96.26740947075209
           ],
           "y": [
            -0.4339148995425826
           ]
          }
         ]
        },
        {
         "data": [
          {
           "mode": "lines",
           "type": "scatter",
           "x": [
            97.27019498607243
           ],
           "y": [
            -0.9929067900390292
           ]
          }
         ]
        },
        {
         "data": [
          {
           "mode": "lines",
           "type": "scatter",
           "x": [
            98.27298050139275
           ],
           "y": [
            -0.6343659916393096
           ]
          }
         ]
        },
        {
         "data": [
          {
           "mode": "lines",
           "type": "scatter",
           "x": [
            99.27576601671309
           ],
           "y": [
            0.31038444888625794
           ]
          }
         ]
        },
        {
         "data": [
          {
           "mode": "lines",
           "type": "scatter",
           "x": [
            100.27855153203342
           ],
           "y": [
            0.9683125201469569
           ]
          }
         ]
        },
        {
         "data": [
          {
           "mode": "lines",
           "type": "scatter",
           "x": [
            101.28133704735376
           ],
           "y": [
            0.7314351582941064
           ]
          }
         ]
        },
        {
         "data": [
          {
           "mode": "lines",
           "type": "scatter",
           "x": [
            102.28412256267409
           ],
           "y": [
            -0.18135224292547883
           ]
          }
         ]
        },
        {
         "data": [
          {
           "mode": "lines",
           "type": "scatter",
           "x": [
            103.28690807799443
           ],
           "y": [
            -0.926554315131233
           ]
          }
         ]
        },
        {
         "data": [
          {
           "mode": "lines",
           "type": "scatter",
           "x": [
            104.28969359331475
           ],
           "y": [
            -0.8155391867906091
           ]
          }
         ]
        },
        {
         "data": [
          {
           "mode": "lines",
           "type": "scatter",
           "x": [
            105.29247910863509
           ],
           "y": [
            0.049105456891298964
           ]
          }
         ]
        },
        {
         "data": [
          {
           "mode": "lines",
           "type": "scatter",
           "x": [
            106.29526462395543
           ],
           "y": [
            0.8683723648653288
           ]
          }
         ]
        },
        {
         "data": [
          {
           "mode": "lines",
           "type": "scatter",
           "x": [
            107.29805013927576
           ],
           "y": [
            0.8851872814830586
           ]
          }
         ]
        },
        {
         "data": [
          {
           "mode": "lines",
           "type": "scatter",
           "x": [
            108.3008356545961
           ],
           "y": [
            0.08401175357586427
           ]
          }
         ]
        },
        {
         "data": [
          {
           "mode": "lines",
           "type": "scatter",
           "x": [
            109.30362116991643
           ],
           "y": [
            -0.7947979802111258
           ]
          }
         ]
        },
        {
         "data": [
          {
           "mode": "lines",
           "type": "scatter",
           "x": [
            110.30640668523677
           ],
           "y": [
            -0.9391448870456632
           ]
          }
         ]
        },
        {
         "data": [
          {
           "mode": "lines",
           "type": "scatter",
           "x": [
            111.30919220055709
           ],
           "y": [
            -0.21563980402703575
           ]
          }
         ]
        },
        {
         "data": [
          {
           "mode": "lines",
           "type": "scatter",
           "x": [
            112.31197771587743
           ],
           "y": [
            0.707135312399459
           ]
          }
         ]
        },
        {
         "data": [
          {
           "mode": "lines",
           "type": "scatter",
           "x": [
            113.31476323119777
           ],
           "y": [
            0.9764555717252082
           ]
          }
         ]
        },
        {
         "data": [
          {
           "mode": "lines",
           "type": "scatter",
           "x": [
            114.3175487465181
           ],
           "y": [
            0.3434455062906104
           ]
          }
         ]
        },
        {
         "data": [
          {
           "mode": "lines",
           "type": "scatter",
           "x": [
            115.32033426183844
           ],
           "y": [
            -0.6069382361471922
           ]
          }
         ]
        },
        {
         "data": [
          {
           "mode": "lines",
           "type": "scatter",
           "x": [
            116.32311977715877
           ],
           "y": [
            -0.9964579806822864
           ]
          }
         ]
        },
        {
         "data": [
          {
           "mode": "lines",
           "type": "scatter",
           "x": [
            117.3259052924791
           ],
           "y": [
            -0.4651634256681518
           ]
          }
         ]
        },
        {
         "data": [
          {
           "mode": "lines",
           "type": "scatter",
           "x": [
            118.32869080779943
           ],
           "y": [
            0.49598280627193814
           ]
          }
         ]
        },
        {
         "data": [
          {
           "mode": "lines",
           "type": "scatter",
           "x": [
            119.33147632311977
           ],
           "y": [
            0.9987975589126848
           ]
          }
         ]
        },
        {
         "data": [
          {
           "mode": "lines",
           "type": "scatter",
           "x": [
            120.33426183844011
           ],
           "y": [
            0.578636037158057
           ]
          }
         ]
        },
        {
         "data": [
          {
           "mode": "lines",
           "type": "scatter",
           "x": [
            121.33704735376044
           ],
           "y": [
            -0.37623577602783187
           ]
          }
         ]
        },
        {
         "data": [
          {
           "mode": "lines",
           "type": "scatter",
           "x": [
            122.33983286908078
           ],
           "y": [
            -0.9834328359529686
           ]
          }
         ]
        },
        {
         "data": [
          {
           "mode": "lines",
           "type": "scatter",
           "x": [
            123.3426183844011
           ],
           "y": [
            -0.6818519689135399
           ]
          }
         ]
        },
        {
         "data": [
          {
           "mode": "lines",
           "type": "scatter",
           "x": [
            124.34540389972145
           ],
           "y": [
            0.24981973519408762
           ]
          }
         ]
        },
        {
         "data": [
          {
           "mode": "lines",
           "type": "scatter",
           "x": [
            125.34818941504177
           ],
           "y": [
            0.9506361609699431
           ]
          }
         ]
        },
        {
         "data": [
          {
           "mode": "lines",
           "type": "scatter",
           "x": [
            126.35097493036211
           ],
           "y": [
            0.7729816550459647
           ]
          }
         ]
        },
        {
         "data": [
          {
           "mode": "lines",
           "type": "scatter",
           "x": [
            127.35376044568244
           ],
           "y": [
            -0.1189754858653809
           ]
          }
         ]
        },
        {
         "data": [
          {
           "mode": "lines",
           "type": "scatter",
           "x": [
            128.35654596100278
           ],
           "y": [
            -0.9009888752041423
           ]
          }
         ]
        },
        {
         "data": [
          {
           "mode": "lines",
           "type": "scatter",
           "x": [
            129.35933147632312
           ],
           "y": [
            -0.8504097658058335
           ]
          }
         ]
        },
        {
         "data": [
          {
           "mode": "lines",
           "type": "scatter",
           "x": [
            130.36211699164346
           ],
           "y": [
            -0.013977677143757758
           ]
          }
         ]
        },
        {
         "data": [
          {
           "mode": "lines",
           "type": "scatter",
           "x": [
            131.36490250696377
           ],
           "y": [
            0.8353710073386719
           ]
          }
         ]
        },
        {
         "data": [
          {
           "mode": "lines",
           "type": "scatter",
           "x": [
            132.3676880222841
           ],
           "y": [
            0.9127638402963048
           ]
          }
         ]
        },
        {
         "data": [
          {
           "mode": "lines",
           "type": "scatter",
           "x": [
            133.37047353760445
           ],
           "y": [
            0.1466830772265107
           ]
          }
         ]
        },
        {
         "data": [
          {
           "mode": "lines",
           "type": "scatter",
           "x": [
            134.3732590529248
           ],
           "y": [
            -0.7549456744494601
           ]
          }
         ]
        },
        {
         "data": [
          {
           "mode": "lines",
           "type": "scatter",
           "x": [
            135.3760445682451
           ],
           "y": [
            -0.9589386141869157
           ]
          }
         ]
        },
        {
         "data": [
          {
           "mode": "lines",
           "type": "scatter",
           "x": [
            136.37883008356545
           ],
           "y": [
            -0.2767884295262688
           ]
          }
         ]
        },
        {
         "data": [
          {
           "mode": "lines",
           "type": "scatter",
           "x": [
            137.3816155988858
           ],
           "y": [
            0.6611384650394485
           ]
          }
         ]
        },
        {
         "data": [
          {
           "mode": "lines",
           "type": "scatter",
           "x": [
            138.38440111420613
           ],
           "y": [
            0.9881156112038164
           ]
          }
         ]
        },
        {
         "data": [
          {
           "mode": "lines",
           "type": "scatter",
           "x": [
            139.38718662952647
           ],
           "y": [
            0.40198753663292336
           ]
          }
         ]
        },
        {
         "data": [
          {
           "mode": "lines",
           "type": "scatter",
           "x": [
            140.38997214484678
           ],
           "y": [
            -0.5556121696054648
           ]
          }
         ]
        },
        {
         "data": [
          {
           "mode": "lines",
           "type": "scatter",
           "x": [
            141.39275766016712
           ],
           "y": [
            -0.9997776511252606
           ]
          }
         ]
        },
        {
         "data": [
          {
           "mode": "lines",
           "type": "scatter",
           "x": [
            142.39554317548746
           ],
           "y": [
            -0.5200611673508057
           ]
          }
         ]
        },
        {
         "data": [
          {
           "mode": "lines",
           "type": "scatter",
           "x": [
            143.3983286908078
           ],
           "y": [
            0.4402373066536817
           ]
          }
         ]
        },
        {
         "data": [
          {
           "mode": "lines",
           "type": "scatter",
           "x": [
            144.4011142061281
           ],
           "y": [
            0.9937180171191677
           ]
          }
         ]
        },
        {
         "data": [
          {
           "mode": "lines",
           "type": "scatter",
           "x": [
            145.40389972144845
           ],
           "y": [
            0.6289163939367368
           ]
          }
         ]
        },
        {
         "data": [
          {
           "mode": "lines",
           "type": "scatter",
           "x": [
            146.4066852367688
           ],
           "y": [
            -0.3170589666082704
           ]
          }
         ]
        },
        {
         "data": [
          {
           "mode": "lines",
           "type": "scatter",
           "x": [
            147.40947075208913
           ],
           "y": [
            -0.9700441199261779
           ]
          }
         ]
        },
        {
         "data": [
          {
           "mode": "lines",
           "type": "scatter",
           "x": [
            148.41225626740948
           ],
           "y": [
            -0.7266236905319301
           ]
          }
         ]
        },
        {
         "data": [
          {
           "mode": "lines",
           "type": "scatter",
           "x": [
            149.4150417827298
           ],
           "y": [
            0.1882605613256439
           ]
          }
         ]
        },
        {
         "data": [
          {
           "mode": "lines",
           "type": "scatter",
           "x": [
            150.41782729805013
           ],
           "y": [
            0.9291755939381642
           ]
          }
         ]
        },
        {
         "data": [
          {
           "mode": "lines",
           "type": "scatter",
           "x": [
            151.42061281337047
           ],
           "y": [
            0.8114511351949308
           ]
          }
         ]
        },
        {
         "data": [
          {
           "mode": "lines",
           "type": "scatter",
           "x": [
            152.4233983286908
           ],
           "y": [
            -0.05612512177600335
           ]
          }
         ]
        },
        {
         "data": [
          {
           "mode": "lines",
           "type": "scatter",
           "x": [
            153.42618384401115
           ],
           "y": [
            -0.8718368589205221
           ]
          }
         ]
        },
        {
         "data": [
          {
           "mode": "lines",
           "type": "scatter",
           "x": [
            154.42896935933146
           ],
           "y": [
            -0.88189510928338
           ]
          }
         ]
        },
        {
         "data": [
          {
           "mode": "lines",
           "type": "scatter",
           "x": [
            155.4317548746518
           ],
           "y": [
            -0.07700517008521475
           ]
          }
         ]
        },
        {
         "data": [
          {
           "mode": "lines",
           "type": "scatter",
           "x": [
            156.43454038997214
           ],
           "y": [
            0.7990442792260974
           ]
          }
         ]
        },
        {
         "data": [
          {
           "mode": "lines",
           "type": "scatter",
           "x": [
            157.43732590529248
           ],
           "y": [
            0.9367069500195486
           ]
          }
         ]
        },
        {
         "data": [
          {
           "mode": "lines",
           "type": "scatter",
           "x": [
            158.4401114206128
           ],
           "y": [
            0.20877049793323574
           ]
          }
         ]
        },
        {
         "data": [
          {
           "mode": "lines",
           "type": "scatter",
           "x": [
            159.44289693593313
           ],
           "y": [
            -0.7120881481118433
           ]
          }
         ]
        },
        {
         "data": [
          {
           "mode": "lines",
           "type": "scatter",
           "x": [
            160.44568245125348
           ],
           "y": [
            -0.9749150838062697
           ]
          }
         ]
        },
        {
         "data": [
          {
           "mode": "lines",
           "type": "scatter",
           "x": [
            161.44846796657382
           ],
           "y": [
            -0.33683524027014333
           ]
          }
         ]
        },
        {
         "data": [
          {
           "mode": "lines",
           "type": "scatter",
           "x": [
            162.45125348189416
           ],
           "y": [
            0.6125098164970316
           ]
          }
         ]
        },
        {
         "data": [
          {
           "mode": "lines",
           "type": "scatter",
           "x": [
            163.45403899721447
           ],
           "y": [
            0.9958422479665874
           ]
          }
         ]
        },
        {
         "data": [
          {
           "mode": "lines",
           "type": "scatter",
           "x": [
            164.4568245125348
           ],
           "y": [
            0.45892937075288026
           ]
          }
         ]
        },
        {
         "data": [
          {
           "mode": "lines",
           "type": "scatter",
           "x": [
            165.45961002785515
           ],
           "y": [
            -0.5020743715698961
           ]
          }
         ]
        },
        {
         "data": [
          {
           "mode": "lines",
           "type": "scatter",
           "x": [
            166.4623955431755
           ],
           "y": [
            -0.9991174956414093
           ]
          }
         ]
        },
        {
         "data": [
          {
           "mode": "lines",
           "type": "scatter",
           "x": [
            167.4651810584958
           ],
           "y": [
            -0.5728886958065313
           ]
          }
         ]
        },
        {
         "data": [
          {
           "mode": "lines",
           "type": "scatter",
           "x": [
            168.46796657381614
           ],
           "y": [
            0.38273934953146926
           ]
          }
         ]
        },
        {
         "data": [
          {
           "mode": "lines",
           "type": "scatter",
           "x": [
            169.47075208913648
           ],
           "y": [
            0.9846827710507742
           ]
          }
         ]
        },
        {
         "data": [
          {
           "mode": "lines",
           "type": "scatter",
           "x": [
            170.47353760445682
           ],
           "y": [
            0.6766932162869361
           ]
          }
         ]
        },
        {
         "data": [
          {
           "mode": "lines",
           "type": "scatter",
           "x": [
            171.47632311977716
           ],
           "y": [
            -0.2566200370620923
           ]
          }
         ]
        },
        {
         "data": [
          {
           "mode": "lines",
           "type": "scatter",
           "x": [
            172.47910863509748
           ],
           "y": [
            -0.9527939385682641
           ]
          }
         ]
        },
        {
         "data": [
          {
           "mode": "lines",
           "type": "scatter",
           "x": [
            173.48189415041782
           ],
           "y": [
            -0.7685029332082766
           ]
          }
         ]
        },
        {
         "data": [
          {
           "mode": "lines",
           "type": "scatter",
           "x": [
            174.48467966573816
           ],
           "y": [
            0.12595197656359644
           ]
          }
         ]
        },
        {
         "data": [
          {
           "mode": "lines",
           "type": "scatter",
           "x": [
            175.4874651810585
           ],
           "y": [
            0.9040162473675939
           ]
          }
         ]
        },
        {
         "data": [
          {
           "mode": "lines",
           "type": "scatter",
           "x": [
            176.49025069637884
           ],
           "y": [
            0.8466904628569173
           ]
          }
         ]
        },
        {
         "data": [
          {
           "mode": "lines",
           "type": "scatter",
           "x": [
            177.49303621169915
           ],
           "y": [
            0.006948660204909713
           ]
          }
         ]
        },
        {
         "data": [
          {
           "mode": "lines",
           "type": "scatter",
           "x": [
            178.4958217270195
           ],
           "y": [
            -0.839214312033219
           ]
          }
         ]
        },
        {
         "data": [
          {
           "mode": "lines",
           "type": "scatter",
           "x": [
            179.49860724233983
           ],
           "y": [
            -0.9098698831690475
           ]
          }
         ]
        },
        {
         "data": [
          {
           "mode": "lines",
           "type": "scatter",
           "x": [
            180.50139275766017
           ],
           "y": [
            -0.13972612769645293
           ]
          }
         ]
        },
        {
         "data": [
          {
           "mode": "lines",
           "type": "scatter",
           "x": [
            181.50417827298048
           ],
           "y": [
            0.7595367867349793
           ]
          }
         ]
        },
        {
         "data": [
          {
           "mode": "lines",
           "type": "scatter",
           "x": [
            182.50696378830082
           ],
           "y": [
            0.9569213000517549
           ]
          }
         ]
        },
        {
         "data": [
          {
           "mode": "lines",
           "type": "scatter",
           "x": [
            183.50974930362116
           ],
           "y": [
            0.2700268636153524
           ]
          }
         ]
        },
        {
         "data": [
          {
           "mode": "lines",
           "type": "scatter",
           "x": [
            184.5125348189415
           ],
           "y": [
            -0.6663960046262719
           ]
          }
         ]
        },
        {
         "data": [
          {
           "mode": "lines",
           "type": "scatter",
           "x": [
            185.51532033426184
           ],
           "y": [
            -0.9870106981948457
           ]
          }
         ]
        },
        {
         "data": [
          {
           "mode": "lines",
           "type": "scatter",
           "x": [
            186.51810584958216
           ],
           "y": [
            -0.39554120725664804
           ]
          }
         ]
        },
        {
         "data": [
          {
           "mode": "lines",
           "type": "scatter",
           "x": [
            187.5208913649025
           ],
           "y": [
            0.5614429433699691
           ]
          }
         ]
        },
        {
         "data": [
          {
           "mode": "lines",
           "type": "scatter",
           "x": [
            188.52367688022284
           ],
           "y": [
            0.9996047245053045
           ]
          }
         ]
        },
        {
         "data": [
          {
           "mode": "lines",
           "type": "scatter",
           "x": [
            189.52646239554318
           ],
           "y": [
            0.5140443396630839
           ]
          }
         ]
        },
        {
         "data": [
          {
           "mode": "lines",
           "type": "scatter",
           "x": [
            190.5292479108635
           ],
           "y": [
            -0.44653796054378453
           ]
          }
         ]
        },
        {
         "data": [
          {
           "mode": "lines",
           "type": "scatter",
           "x": [
            191.53203342618383
           ],
           "y": [
            -0.9944801421189489
           ]
          }
         ]
        },
        {
         "data": [
          {
           "mode": "lines",
           "type": "scatter",
           "x": [
            192.53481894150417
           ],
           "y": [
            -0.6234357199099009
           ]
          }
         ]
        },
        {
         "data": [
          {
           "mode": "lines",
           "type": "scatter",
           "x": [
            193.5376044568245
           ],
           "y": [
            0.32371781765766955
           ]
          }
         ]
        },
        {
         "data": [
          {
           "mode": "lines",
           "type": "scatter",
           "x": [
            194.54038997214485
           ],
           "y": [
            0.9717277874112173
           ]
          }
         ]
        },
        {
         "data": [
          {
           "mode": "lines",
           "type": "scatter",
           "x": [
            195.54317548746516
           ],
           "y": [
            0.7217763184848255
           ]
          }
         ]
        },
        {
         "data": [
          {
           "mode": "lines",
           "type": "scatter",
           "x": [
            196.5459610027855
           ],
           "y": [
            -0.19515957730295072
           ]
          }
         ]
        },
        {
         "data": [
          {
           "mode": "lines",
           "type": "scatter",
           "x": [
            197.54874651810584
           ],
           "y": [
            -0.9317509598665007
           ]
          }
         ]
        },
        {
         "data": [
          {
           "mode": "lines",
           "type": "scatter",
           "x": [
            198.55153203342618
           ],
           "y": [
            -0.8073229877791479
           ]
          }
         ]
        },
        {
         "data": [
          {
           "mode": "lines",
           "type": "scatter",
           "x": [
            199.5543175487465
           ],
           "y": [
            0.06314201337872993
           ]
          }
         ]
        },
        {
         "data": [
          {
           "mode": "lines",
           "type": "scatter",
           "x": [
            200.55710306406684
           ],
           "y": [
            0.8752582733467016
           ]
          }
         ]
        },
        {
         "data": [
          {
           "mode": "lines",
           "type": "scatter",
           "x": [
            201.55988857938718
           ],
           "y": [
            0.8785593604515116
           ]
          }
         ]
        },
        {
         "data": [
          {
           "mode": "lines",
           "type": "scatter",
           "x": [
            202.56267409470752
           ],
           "y": [
            0.06999478157744907
           ]
          }
         ]
        },
        {
         "data": [
          {
           "mode": "lines",
           "type": "scatter",
           "x": [
            203.56545961002786
           ],
           "y": [
            -0.8032510954745955
           ]
          }
         ]
        },
        {
         "data": [
          {
           "mode": "lines",
           "type": "scatter",
           "x": [
            204.56824512534817
           ],
           "y": [
            -0.9342227279717962
           ]
          }
         ]
        },
        {
         "data": [
          {
           "mode": "lines",
           "type": "scatter",
           "x": [
            205.5710306406685
           ],
           "y": [
            -0.20189087596953736
           ]
          }
         ]
        },
        {
         "data": [
          {
           "mode": "lines",
           "type": "scatter",
           "x": [
            206.57381615598885
           ],
           "y": [
            0.7170057977766162
           ]
          }
         ]
        },
        {
         "data": [
          {
           "mode": "lines",
           "type": "scatter",
           "x": [
            207.5766016713092
           ],
           "y": [
            0.9733264229066984
           ]
          }
         ]
        },
        {
         "data": [
          {
           "mode": "lines",
           "type": "scatter",
           "x": [
            208.5793871866295
           ],
           "y": [
            0.3302083303821761
           ]
          }
         ]
        },
        {
         "data": [
          {
           "mode": "lines",
           "type": "scatter",
           "x": [
            209.58217270194984
           ],
           "y": [
            -0.61805113121242
           ]
          }
         ]
        },
        {
         "data": [
          {
           "mode": "lines",
           "type": "scatter",
           "x": [
            210.58495821727018
           ],
           "y": [
            -0.9951773082069936
           ]
          }
         ]
        },
        {
         "data": [
          {
           "mode": "lines",
           "type": "scatter",
           "x": [
            211.58774373259052
           ],
           "y": [
            -0.4526726389952179
           ]
          }
         ]
        },
        {
         "data": [
          {
           "mode": "lines",
           "type": "scatter",
           "x": [
            212.59052924791087
           ],
           "y": [
            0.5081411281236075
           ]
          }
         ]
        },
        {
         "data": [
          {
           "mode": "lines",
           "type": "scatter",
           "x": [
            213.59331476323118
           ],
           "y": [
            0.9993880634881002
           ]
          }
         ]
        },
        {
         "data": [
          {
           "mode": "lines",
           "type": "scatter",
           "x": [
            214.59610027855152
           ],
           "y": [
            0.5671130465987351
           ]
          }
         ]
        },
        {
         "data": [
          {
           "mode": "lines",
           "type": "scatter",
           "x": [
            215.59888579387186
           ],
           "y": [
            -0.3892240109313096
           ]
          }
         ]
        },
        {
         "data": [
          {
           "mode": "lines",
           "type": "scatter",
           "x": [
            216.6016713091922
           ],
           "y": [
            -0.9858840505222165
           ]
          }
         ]
        },
        {
         "data": [
          {
           "mode": "lines",
           "type": "scatter",
           "x": [
            217.60445682451254
           ],
           "y": [
            -0.6715010265643824
           ]
          }
         ]
        },
        {
         "data": [
          {
           "mode": "lines",
           "type": "scatter",
           "x": [
            218.60724233983285
           ],
           "y": [
            0.2634076586953703
           ]
          }
         ]
        },
        {
         "data": [
          {
           "mode": "lines",
           "type": "scatter",
           "x": [
            219.6100278551532
           ],
           "y": [
            0.9549046362468007
           ]
          }
         ]
        },
        {
         "data": [
          {
           "mode": "lines",
           "type": "scatter",
           "x": [
            220.61281337047353
           ],
           "y": [
            0.7639862377280232
           ]
          }
         ]
        },
        {
         "data": [
          {
           "mode": "lines",
           "type": "scatter",
           "x": [
            221.61559888579387
           ],
           "y": [
            -0.13292224366118457
           ]
          }
         ]
        },
        {
         "data": [
          {
           "mode": "lines",
           "type": "scatter",
           "x": [
            222.61838440111418
           ],
           "y": [
            -0.9069989498383633
           ]
          }
         ]
        },
        {
         "data": [
          {
           "mode": "lines",
           "type": "scatter",
           "x": [
            223.62116991643452
           ],
           "y": [
            -0.8429293228250295
           ]
          }
         ]
        },
        {
         "data": [
          {
           "mode": "lines",
           "type": "scatter",
           "x": [
            224.62395543175487
           ],
           "y": [
            0.00008070008456108734
           ]
          }
         ]
        },
        {
         "data": [
          {
           "mode": "lines",
           "type": "scatter",
           "x": [
            225.6267409470752
           ],
           "y": [
            0.8430161490599977
           ]
          }
         ]
        },
        {
         "data": [
          {
           "mode": "lines",
           "type": "scatter",
           "x": [
            226.62952646239555
           ],
           "y": [
            0.9069309671064066
           ]
          }
         ]
        },
        {
         "data": [
          {
           "mode": "lines",
           "type": "scatter",
           "x": [
            227.63231197771586
           ],
           "y": [
            0.13276227395070778
           ]
          }
         ]
        },
        {
         "data": [
          {
           "mode": "lines",
           "type": "scatter",
           "x": [
            228.6350974930362
           ],
           "y": [
            -0.7640903684175726
           ]
          }
         ]
        },
        {
         "data": [
          {
           "mode": "lines",
           "type": "scatter",
           "x": [
            229.63788300835654
           ],
           "y": [
            -0.9548567020536024
           ]
          }
         ]
        },
        {
         "data": [
          {
           "mode": "lines",
           "type": "scatter",
           "x": [
            230.64066852367688
           ],
           "y": [
            -0.2632519550050702
           ]
          }
         ]
        },
        {
         "data": [
          {
           "mode": "lines",
           "type": "scatter",
           "x": [
            231.6434540389972
           ],
           "y": [
            0.67162061592798
           ]
          }
         ]
        },
        {
         "data": [
          {
           "mode": "lines",
           "type": "scatter",
           "x": [
            232.64623955431753
           ],
           "y": [
            0.9858570145308398
           ]
          }
         ]
        },
        {
         "data": [
          {
           "mode": "lines",
           "type": "scatter",
           "x": [
            233.64902506963787
           ],
           "y": [
            0.3890753332048853
           ]
          }
         ]
        },
        {
         "data": [
          {
           "mode": "lines",
           "type": "scatter",
           "x": [
            234.6518105849582
           ],
           "y": [
            -0.5672459748413398
           ]
          }
         ]
        },
        {
         "data": [
          {
           "mode": "lines",
           "type": "scatter",
           "x": [
            235.65459610027855
           ],
           "y": [
            -0.9993824049281249
           ]
          }
         ]
        },
        {
         "data": [
          {
           "mode": "lines",
           "type": "scatter",
           "x": [
            236.65738161559887
           ],
           "y": [
            -0.5080021117652261
           ]
          }
         ]
        },
        {
         "data": [
          {
           "mode": "lines",
           "type": "scatter",
           "x": [
            237.6601671309192
           ],
           "y": [
            0.4528165498819524
           ]
          }
         ]
        },
        {
         "data": [
          {
           "mode": "lines",
           "type": "scatter",
           "x": [
            238.66295264623955
           ],
           "y": [
            0.9951931273798764
           ]
          }
         ]
        },
        {
         "data": [
          {
           "mode": "lines",
           "type": "scatter",
           "x": [
            239.6657381615599
           ],
           "y": [
            0.6179242403725566
           ]
          }
         ]
        },
        {
         "data": [
          {
           "mode": "lines",
           "type": "scatter",
           "x": [
            240.66852367688023
           ],
           "y": [
            -0.3303606730040393
           ]
          }
         ]
        },
        {
         "data": [
          {
           "mode": "lines",
           "type": "scatter",
           "x": [
            241.67130919220054
           ],
           "y": [
            -0.973363439407868
           ]
          }
         ]
        },
        {
         "data": [
          {
           "mode": "lines",
           "type": "scatter",
           "x": [
            242.67409470752088
           ],
           "y": [
            -0.7168932816734702
           ]
          }
         ]
        },
        {
         "data": [
          {
           "mode": "lines",
           "type": "scatter",
           "x": [
            243.67688022284122
           ],
           "y": [
            0.20204894995983583
           ]
          }
         ]
        },
        {
         "data": [
          {
           "mode": "lines",
           "type": "scatter",
           "x": [
            244.67966573816156
           ],
           "y": [
            0.934280285660997
           ]
          }
         ]
        },
        {
         "data": [
          {
           "mode": "lines",
           "type": "scatter",
           "x": [
            245.68245125348187
           ],
           "y": [
            0.803154948525315
           ]
          }
         ]
        },
        {
         "data": [
          {
           "mode": "lines",
           "type": "scatter",
           "x": [
            246.6852367688022
           ],
           "y": [
            -0.07015578497745796
           ]
          }
         ]
        },
        {
         "data": [
          {
           "mode": "lines",
           "type": "scatter",
           "x": [
            247.68802228412255
           ],
           "y": [
            -0.878636439083293
           ]
          }
         ]
        },
        {
         "data": [
          {
           "mode": "lines",
           "type": "scatter",
           "x": [
            248.6908077994429
           ],
           "y": [
            -0.8751801998151119
           ]
          }
         ]
        },
        {
         "data": [
          {
           "mode": "lines",
           "type": "scatter",
           "x": [
            249.69359331476323
           ],
           "y": [
            -0.06298093445332477
           ]
          }
         ]
        },
        {
         "data": [
          {
           "mode": "lines",
           "type": "scatter",
           "x": [
            250.69637883008355
           ],
           "y": [
            0.8074182210873428
           ]
          }
         ]
        },
        {
         "data": [
          {
           "mode": "lines",
           "type": "scatter",
           "x": [
            251.6991643454039
           ],
           "y": [
            0.9316923436539799
           ]
          }
         ]
        },
        {
         "data": [
          {
           "mode": "lines",
           "type": "scatter",
           "x": [
            252.70194986072423
           ],
           "y": [
            0.19500127807519754
           ]
          }
         ]
        },
        {
         "data": [
          {
           "mode": "lines",
           "type": "scatter",
           "x": [
            253.70473537604457
           ],
           "y": [
            -0.721888018400459
           ]
          }
         ]
        },
        {
         "data": [
          {
           "mode": "lines",
           "type": "scatter",
           "x": [
            254.70752089136488
           ],
           "y": [
            -0.9716896675261931
           ]
          }
         ]
        },
        {
         "data": [
          {
           "mode": "lines",
           "type": "scatter",
           "x": [
            255.71030640668522
           ],
           "y": [
            -0.32356510407876565
           ]
          }
         ]
        },
        {
         "data": [
          {
           "mode": "lines",
           "type": "scatter",
           "x": [
            256.71309192200556
           ],
           "y": [
            0.6235619064832508
           ]
          }
         ]
        },
        {
         "data": [
          {
           "mode": "lines",
           "type": "scatter",
           "x": [
            257.7158774373259
           ],
           "y": [
            0.9944631942598345
           ]
          }
         ]
        },
        {
         "data": [
          {
           "mode": "lines",
           "type": "scatter",
           "x": [
            258.71866295264624
           ],
           "y": [
            0.4463935395558651
           ]
          }
         ]
        },
        {
         "data": [
          {
           "mode": "lines",
           "type": "scatter",
           "x": [
            259.7214484679666
           ],
           "y": [
            -0.5141827761595322
           ]
          }
         ]
        },
        {
         "data": [
          {
           "mode": "lines",
           "type": "scatter",
           "x": [
            260.7242339832869
           ],
           "y": [
            -0.9996092490833297
           ]
          }
         ]
        },
        {
         "data": [
          {
           "mode": "lines",
           "type": "scatter",
           "x": [
            261.7270194986072
           ],
           "y": [
            -0.5613093749239162
           ]
          }
         ]
        },
        {
         "data": [
          {
           "mode": "lines",
           "type": "scatter",
           "x": [
            262.72980501392755
           ],
           "y": [
            0.3956894398040549
           ]
          }
         ]
        },
        {
         "data": [
          {
           "mode": "lines",
           "type": "scatter",
           "x": [
            263.7325905292479
           ],
           "y": [
            0.98703661500908
           ]
          }
         ]
        },
        {
         "data": [
          {
           "mode": "lines",
           "type": "scatter",
           "x": [
            264.7353760445682
           ],
           "y": [
            0.666275656304916
           ]
          }
         ]
        },
        {
         "data": [
          {
           "mode": "lines",
           "type": "scatter",
           "x": [
            265.73816155988857
           ],
           "y": [
            -0.2701822647006987
           ]
          }
         ]
        },
        {
         "data": [
          {
           "mode": "lines",
           "type": "scatter",
           "x": [
            266.7409470752089
           ],
           "y": [
            -0.956968149710723
           ]
          }
         ]
        },
        {
         "data": [
          {
           "mode": "lines",
           "type": "scatter",
           "x": [
            267.74373259052925
           ],
           "y": [
            -0.7594317917863781
           ]
          }
         ]
        },
        {
         "data": [
          {
           "mode": "lines",
           "type": "scatter",
           "x": [
            268.7465181058496
           ],
           "y": [
            0.1398859427399006
           ]
          }
         ]
        },
        {
         "data": [
          {
           "mode": "lines",
           "type": "scatter",
           "x": [
            269.74930362116993
           ],
           "y": [
            0.9099368352337339
           ]
          }
         ]
        },
        {
         "data": [
          {
           "mode": "lines",
           "type": "scatter",
           "x": [
            270.7520891364902
           ],
           "y": [
            0.8391265315574447
           ]
          }
         ]
        },
        {
         "data": [
          {
           "mode": "lines",
           "type": "scatter",
           "x": [
            271.75487465181055
           ],
           "y": [
            -0.0071100563864114445
           ]
          }
         ]
        },
        {
         "data": [
          {
           "mode": "lines",
           "type": "scatter",
           "x": [
            272.7576601671309
           ],
           "y": [
            -0.8467763305607634
           ]
          }
         ]
        },
        {
         "data": [
          {
           "mode": "lines",
           "type": "scatter",
           "x": [
            273.76044568245123
           ],
           "y": [
            -0.9039472373275512
           ]
          }
         ]
        },
        {
         "data": [
          {
           "mode": "lines",
           "type": "scatter",
           "x": [
            274.7632311977716
           ],
           "y": [
            -0.12579186009056392
           ]
          }
         ]
        },
        {
         "data": [
          {
           "mode": "lines",
           "type": "scatter",
           "x": [
            275.7660167130919
           ],
           "y": [
            0.7686061944934178
           ]
          }
         ]
        },
        {
         "data": [
          {
           "mode": "lines",
           "type": "scatter",
           "x": [
            276.76880222841226
           ],
           "y": [
            0.9527449222093832
           ]
          }
         ]
        },
        {
         "data": [
          {
           "mode": "lines",
           "type": "scatter",
           "x": [
            277.7715877437326
           ],
           "y": [
            0.2564640384605178
           ]
          }
         ]
        },
        {
         "data": [
          {
           "mode": "lines",
           "type": "scatter",
           "x": [
            278.77437325905294
           ],
           "y": [
            -0.6768120407835881
           ]
          }
         ]
        },
        {
         "data": [
          {
           "mode": "lines",
           "type": "scatter",
           "x": [
            279.7771587743732
           ],
           "y": [
            -0.9846546172181759
           ]
          }
         ]
        },
        {
         "data": [
          {
           "mode": "lines",
           "type": "scatter",
           "x": [
            280.77994428969356
           ],
           "y": [
            -0.38259023397261643
           ]
          }
         ]
        },
        {
         "data": [
          {
           "mode": "lines",
           "type": "scatter",
           "x": [
            281.7827298050139
           ],
           "y": [
            0.5730209772773257
           ]
          }
         ]
        },
        {
         "data": [
          {
           "mode": "lines",
           "type": "scatter",
           "x": [
            282.78551532033424
           ],
           "y": [
            0.9991107033790868
           ]
          }
         ]
        },
        {
         "data": [
          {
           "mode": "lines",
           "type": "scatter",
           "x": [
            283.7883008356546
           ],
           "y": [
            0.5019347822187017
           ]
          }
         ]
        },
        {
         "data": [
          {
           "mode": "lines",
           "type": "scatter",
           "x": [
            284.7910863509749
           ],
           "y": [
            -0.4590727644274347
           ]
          }
         ]
        },
        {
         "data": [
          {
           "mode": "lines",
           "type": "scatter",
           "x": [
            285.79387186629526
           ],
           "y": [
            -0.995856937671574
           ]
          }
         ]
        },
        {
         "data": [
          {
           "mode": "lines",
           "type": "scatter",
           "x": [
            286.7966573816156
           ],
           "y": [
            -0.6123822276606244
           ]
          }
         ]
        },
        {
         "data": [
          {
           "mode": "lines",
           "type": "scatter",
           "x": [
            287.79944289693594
           ],
           "y": [
            0.33698720440736446
           ]
          }
         ]
        },
        {
         "data": [
          {
           "mode": "lines",
           "type": "scatter",
           "x": [
            288.8022284122562
           ],
           "y": [
            0.9749509950945009
           ]
          }
         ]
        },
        {
         "data": [
          {
           "mode": "lines",
           "type": "scatter",
           "x": [
            289.80501392757657
           ],
           "y": [
            0.7119748213809056
           ]
          }
         ]
        },
        {
         "data": [
          {
           "mode": "lines",
           "type": "scatter",
           "x": [
            290.8077994428969
           ],
           "y": [
            -0.20892833887522244
           ]
          }
         ]
        },
        {
         "data": [
          {
           "mode": "lines",
           "type": "scatter",
           "x": [
            291.81058495821725
           ],
           "y": [
            -0.9367634463413608
           ]
          }
         ]
        },
        {
         "data": [
          {
           "mode": "lines",
           "type": "scatter",
           "x": [
            292.8133704735376
           ],
           "y": [
            -0.7989472233865914
           ]
          }
         ]
        },
        {
         "data": [
          {
           "mode": "lines",
           "type": "scatter",
           "x": [
            293.81615598885793
           ],
           "y": [
            0.07716609000424868
           ]
          }
         ]
        },
        {
         "data": [
          {
           "mode": "lines",
           "type": "scatter",
           "x": [
            294.81894150417827
           ],
           "y": [
            0.881971189206706
           ]
          }
         ]
        },
        {
         "data": [
          {
           "mode": "lines",
           "type": "scatter",
           "x": [
            295.8217270194986
           ],
           "y": [
            0.8717577943469177
           ]
          }
         ]
        },
        {
         "data": [
          {
           "mode": "lines",
           "type": "scatter",
           "x": [
            296.82451253481895
           ],
           "y": [
            0.05596397528448413
           ]
          }
         ]
        },
        {
         "data": [
          {
           "mode": "lines",
           "type": "scatter",
           "x": [
            297.8272980501393
           ],
           "y": [
            -0.8115454501563422
           ]
          }
         ]
        },
        {
         "data": [
          {
           "mode": "lines",
           "type": "scatter",
           "x": [
            298.8300835654596
           ],
           "y": [
            -0.929115922098707
           ]
          }
         ]
        },
        {
         "data": [
          {
           "mode": "lines",
           "type": "scatter",
           "x": [
            299.8328690807799
           ],
           "y": [
            -0.18810204468242273
           ]
          }
         ]
        },
        {
         "data": [
          {
           "mode": "lines",
           "type": "scatter",
           "x": [
            300.83565459610026
           ],
           "y": [
            0.7267345687406804
           ]
          }
         ]
        },
        {
         "data": [
          {
           "mode": "lines",
           "type": "scatter",
           "x": [
            301.8384401114206
           ],
           "y": [
            0.9700048985408974
           ]
          }
         ]
        },
        {
         "data": [
          {
           "mode": "lines",
           "type": "scatter",
           "x": [
            302.84122562674094
           ],
           "y": [
            0.3169058896182838
           ]
          }
         ]
        },
        {
         "data": [
          {
           "mode": "lines",
           "type": "scatter",
           "x": [
            303.8440111420613
           ],
           "y": [
            -0.6290418700083807
           ]
          }
         ]
        },
        {
         "data": [
          {
           "mode": "lines",
           "type": "scatter",
           "x": [
            304.8467966573816
           ],
           "y": [
            -0.9936999414112576
           ]
          }
         ]
        },
        {
         "data": [
          {
           "mode": "lines",
           "type": "scatter",
           "x": [
            305.84958217270196
           ],
           "y": [
            -0.4400923827007523
           ]
          }
         ]
        },
        {
         "data": [
          {
           "mode": "lines",
           "type": "scatter",
           "x": [
            306.8523676880223
           ],
           "y": [
            0.5201990171448047
           ]
          }
         ]
        },
        {
         "data": [
          {
           "mode": "lines",
           "type": "scatter",
           "x": [
            307.8551532033426
           ],
           "y": [
            0.9997810414977631
           ]
          }
         ]
        },
        {
         "data": [
          {
           "mode": "lines",
           "type": "scatter",
           "x": [
            308.8579387186629
           ],
           "y": [
            0.5554779675558894
           ]
          }
         ]
        },
        {
         "data": [
          {
           "mode": "lines",
           "type": "scatter",
           "x": [
            309.86072423398326
           ],
           "y": [
            -0.40213531667682595
           ]
          }
         ]
        },
        {
         "data": [
          {
           "mode": "lines",
           "type": "scatter",
           "x": [
            310.8635097493036
           ],
           "y": [
            -0.9881404075602943
           ]
          }
         ]
        },
        {
         "data": [
          {
           "mode": "lines",
           "type": "scatter",
           "x": [
            311.86629526462394
           ],
           "y": [
            -0.6610173637070443
           ]
          }
         ]
        },
        {
         "data": [
          {
           "mode": "lines",
           "type": "scatter",
           "x": [
            312.8690807799443
           ],
           "y": [
            0.27694352032790703
           ]
          }
         ]
        },
        {
         "data": [
          {
           "mode": "lines",
           "type": "scatter",
           "x": [
            313.8718662952646
           ],
           "y": [
            0.9589843769966951
           ]
          }
         ]
        },
        {
         "data": [
          {
           "mode": "lines",
           "type": "scatter",
           "x": [
            314.87465181058496
           ],
           "y": [
            0.7548398204298504
           ]
          }
         ]
        },
        {
         "data": [
          {
           "mode": "lines",
           "type": "scatter",
           "x": [
            315.8774373259053
           ],
           "y": [
            -0.146842729706042
           ]
          }
         ]
        },
        {
         "data": [
          {
           "mode": "lines",
           "type": "scatter",
           "x": [
            316.8802228412256
           ],
           "y": [
            -0.9128297583854176
           ]
          }
         ]
        },
        {
         "data": [
          {
           "mode": "lines",
           "type": "scatter",
           "x": [
            317.88300835654593
           ],
           "y": [
            -0.835282276959528
           ]
          }
         ]
        },
        {
         "data": [
          {
           "mode": "lines",
           "type": "scatter",
           "x": [
            318.88579387186627
           ],
           "y": [
            0.014139061362708882
           ]
          }
         ]
        },
        {
         "data": [
          {
           "mode": "lines",
           "type": "scatter",
           "x": [
            319.8885793871866
           ],
           "y": [
            0.8504946707356207
           ]
          }
         ]
        },
        {
         "data": [
          {
           "mode": "lines",
           "type": "scatter",
           "x": [
            320.89136490250695
           ],
           "y": [
            0.9009188412659714
           ]
          }
         ]
        },
        {
         "data": [
          {
           "mode": "lines",
           "type": "scatter",
           "x": [
            321.8941504178273
           ],
           "y": [
            0.11881523054154605
           ]
          }
         ]
        },
        {
         "data": [
          {
           "mode": "lines",
           "type": "scatter",
           "x": [
            322.89693593314763
           ],
           "y": [
            -0.7730840418243097
           ]
          }
         ]
        },
        {
         "data": [
          {
           "mode": "lines",
           "type": "scatter",
           "x": [
            323.899721448468
           ],
           "y": [
            -0.9505860648673955
           ]
          }
         ]
        },
        {
         "data": [
          {
           "mode": "lines",
           "type": "scatter",
           "x": [
            324.9025069637883
           ],
           "y": [
            -0.24966344938954527
           ]
          }
         ]
        },
        {
         "data": [
          {
           "mode": "lines",
           "type": "scatter",
           "x": [
            325.9052924791086
           ],
           "y": [
            0.6819700226717698
           ]
          }
         ]
        },
        {
         "data": [
          {
           "mode": "lines",
           "type": "scatter",
           "x": [
            326.90807799442894
           ],
           "y": [
            0.9834035656702923
           ]
          }
         ]
        },
        {
         "data": [
          {
           "mode": "lines",
           "type": "scatter",
           "x": [
            327.9108635097493
           ],
           "y": [
            0.376086230004682
           ]
          }
         ]
        },
        {
         "data": [
          {
           "mode": "lines",
           "type": "scatter",
           "x": [
            328.9136490250696
           ],
           "y": [
            -0.5787676653207308
           ]
          }
         ]
        },
        {
         "data": [
          {
           "mode": "lines",
           "type": "scatter",
           "x": [
            329.91643454038996
           ],
           "y": [
            -0.9987896332836378
           ]
          }
         ]
        },
        {
         "data": [
          {
           "mode": "lines",
           "type": "scatter",
           "x": [
            330.9192200557103
           ],
           "y": [
            -0.49584265082538787
           ]
          }
         ]
        },
        {
         "data": [
          {
           "mode": "lines",
           "type": "scatter",
           "x": [
            331.92200557103064
           ],
           "y": [
            0.4653062950451005
           ]
          }
         ]
        },
        {
         "data": [
          {
           "mode": "lines",
           "type": "scatter",
           "x": [
            332.924791086351
           ],
           "y": [
            0.996471540193523
           ]
          }
         ]
        },
        {
         "data": [
          {
           "mode": "lines",
           "type": "scatter",
           "x": [
            333.9275766016713
           ],
           "y": [
            0.6068099556187456
           ]
          }
         ]
        },
        {
         "data": [
          {
           "mode": "lines",
           "type": "scatter",
           "x": [
            334.9303621169916
           ],
           "y": [
            -0.3435970844341831
           ]
          }
         ]
        },
        {
         "data": [
          {
           "mode": "lines",
           "type": "scatter",
           "x": [
            335.93314763231194
           ],
           "y": [
            -0.9764903760260446
           ]
          }
         ]
        },
        {
         "data": [
          {
           "mode": "lines",
           "type": "scatter",
           "x": [
            336.9359331476323
           ],
           "y": [
            -0.7070211806404556
           ]
          }
         ]
        },
        {
         "data": [
          {
           "mode": "lines",
           "type": "scatter",
           "x": [
            337.9387186629526
           ],
           "y": [
            0.2157974041214386
           ]
          }
         ]
        },
        {
         "data": [
          {
           "mode": "lines",
           "type": "scatter",
           "x": [
            338.94150417827296
           ],
           "y": [
            0.9392003192084628
           ]
          }
         ]
        },
        {
         "data": [
          {
           "mode": "lines",
           "type": "scatter",
           "x": [
            339.9442896935933
           ],
           "y": [
            0.7947000202771649
           ]
          }
         ]
        },
        {
         "data": [
          {
           "mode": "lines",
           "type": "scatter",
           "x": [
            340.94707520891365
           ],
           "y": [
            -0.0841725820624837
           ]
          }
         ]
        },
        {
         "data": [
          {
           "mode": "lines",
           "type": "scatter",
           "x": [
            341.949860724234
           ],
           "y": [
            -0.8852623589386375
           ]
          }
         ]
        },
        {
         "data": [
          {
           "mode": "lines",
           "type": "scatter",
           "x": [
            342.9526462395543
           ],
           "y": [
            -0.8682923131565007
           ]
          }
         ]
        },
        {
         "data": [
          {
           "mode": "lines",
           "type": "scatter",
           "x": [
            343.9554317548746
           ],
           "y": [
            -0.04894425079640003
           ]
          }
         ]
        },
        {
         "data": [
          {
           "mode": "lines",
           "type": "scatter",
           "x": [
            344.95821727019495
           ],
           "y": [
            0.8156325787448502
           ]
          }
         ]
        },
        {
         "data": [
          {
           "mode": "lines",
           "type": "scatter",
           "x": [
            345.9610027855153
           ],
           "y": [
            0.9264935906133576
           ]
          }
         ]
        },
        {
         "data": [
          {
           "mode": "lines",
           "type": "scatter",
           "x": [
            346.96378830083563
           ],
           "y": [
            0.1811935166994497
           ]
          }
         ]
        },
        {
         "data": [
          {
           "mode": "lines",
           "type": "scatter",
           "x": [
            347.966573816156
           ],
           "y": [
            -0.7315452093172053
           ]
          }
         ]
        },
        {
         "data": [
          {
           "mode": "lines",
           "type": "scatter",
           "x": [
            348.9693593314763
           ],
           "y": [
            -0.9682721991994465
           ]
          }
         ]
        },
        {
         "data": [
          {
           "mode": "lines",
           "type": "scatter",
           "x": [
            349.97214484679665
           ],
           "y": [
            -0.3102310160490902
           ]
          }
         ]
        },
        {
         "data": [
          {
           "mode": "lines",
           "type": "scatter",
           "x": [
            350.974930362117
           ],
           "y": [
            0.6344907510091734
           ]
          }
         ]
        },
        {
         "data": [
          {
           "mode": "lines",
           "type": "scatter",
           "x": [
            351.97771587743733
           ],
           "y": [
            0.9928875873754857
           ]
          }
         ]
        },
        {
         "data": [
          {
           "mode": "lines",
           "type": "scatter",
           "x": [
            352.9805013927577
           ],
           "y": [
            0.43376947978572183
           ]
          }
         ]
        },
        {
         "data": [
          {
           "mode": "lines",
           "type": "scatter",
           "x": [
            353.98328690807796
           ],
           "y": [
            -0.5261895538019363
           ]
          }
         ]
        },
        {
         "data": [
          {
           "mode": "lines",
           "type": "scatter",
           "x": [
            354.9860724233983
           ],
           "y": [
            -0.9999034322427134
           ]
          }
         ]
        },
        {
         "data": [
          {
           "mode": "lines",
           "type": "scatter",
           "x": [
            355.98885793871864
           ],
           "y": [
            -0.5496191126390292
           ]
          }
         ]
        },
        {
         "data": [
          {
           "mode": "lines",
           "type": "scatter",
           "x": [
            356.991643454039
           ],
           "y": [
            0.408561323042778
           ]
          }
         ]
        },
        {
         "data": [
          {
           "mode": "lines",
           "type": "scatter",
           "x": [
            357.9944289693593
           ],
           "y": [
            0.9891953736347175
           ]
          }
         ]
        },
        {
         "data": [
          {
           "mode": "lines",
           "type": "scatter",
           "x": [
            358.99721448467966
           ],
           "y": [
            0.6557264085961121
           ]
          }
         ]
        },
        {
         "data": [
          {
           "mode": "lines",
           "type": "scatter",
           "x": [
            360
           ],
           "y": [
            -0.2836910914865273
           ]
          }
         ]
        }
       ],
       "layout": {
        "template": {
         "data": {
          "bar": [
           {
            "error_x": {
             "color": "#2a3f5f"
            },
            "error_y": {
             "color": "#2a3f5f"
            },
            "marker": {
             "line": {
              "color": "#E5ECF6",
              "width": 0.5
             },
             "pattern": {
              "fillmode": "overlay",
              "size": 10,
              "solidity": 0.2
             }
            },
            "type": "bar"
           }
          ],
          "barpolar": [
           {
            "marker": {
             "line": {
              "color": "#E5ECF6",
              "width": 0.5
             },
             "pattern": {
              "fillmode": "overlay",
              "size": 10,
              "solidity": 0.2
             }
            },
            "type": "barpolar"
           }
          ],
          "carpet": [
           {
            "aaxis": {
             "endlinecolor": "#2a3f5f",
             "gridcolor": "white",
             "linecolor": "white",
             "minorgridcolor": "white",
             "startlinecolor": "#2a3f5f"
            },
            "baxis": {
             "endlinecolor": "#2a3f5f",
             "gridcolor": "white",
             "linecolor": "white",
             "minorgridcolor": "white",
             "startlinecolor": "#2a3f5f"
            },
            "type": "carpet"
           }
          ],
          "choropleth": [
           {
            "colorbar": {
             "outlinewidth": 0,
             "ticks": ""
            },
            "type": "choropleth"
           }
          ],
          "contour": [
           {
            "colorbar": {
             "outlinewidth": 0,
             "ticks": ""
            },
            "colorscale": [
             [
              0,
              "#0d0887"
             ],
             [
              0.1111111111111111,
              "#46039f"
             ],
             [
              0.2222222222222222,
              "#7201a8"
             ],
             [
              0.3333333333333333,
              "#9c179e"
             ],
             [
              0.4444444444444444,
              "#bd3786"
             ],
             [
              0.5555555555555556,
              "#d8576b"
             ],
             [
              0.6666666666666666,
              "#ed7953"
             ],
             [
              0.7777777777777778,
              "#fb9f3a"
             ],
             [
              0.8888888888888888,
              "#fdca26"
             ],
             [
              1,
              "#f0f921"
             ]
            ],
            "type": "contour"
           }
          ],
          "contourcarpet": [
           {
            "colorbar": {
             "outlinewidth": 0,
             "ticks": ""
            },
            "type": "contourcarpet"
           }
          ],
          "heatmap": [
           {
            "colorbar": {
             "outlinewidth": 0,
             "ticks": ""
            },
            "colorscale": [
             [
              0,
              "#0d0887"
             ],
             [
              0.1111111111111111,
              "#46039f"
             ],
             [
              0.2222222222222222,
              "#7201a8"
             ],
             [
              0.3333333333333333,
              "#9c179e"
             ],
             [
              0.4444444444444444,
              "#bd3786"
             ],
             [
              0.5555555555555556,
              "#d8576b"
             ],
             [
              0.6666666666666666,
              "#ed7953"
             ],
             [
              0.7777777777777778,
              "#fb9f3a"
             ],
             [
              0.8888888888888888,
              "#fdca26"
             ],
             [
              1,
              "#f0f921"
             ]
            ],
            "type": "heatmap"
           }
          ],
          "heatmapgl": [
           {
            "colorbar": {
             "outlinewidth": 0,
             "ticks": ""
            },
            "colorscale": [
             [
              0,
              "#0d0887"
             ],
             [
              0.1111111111111111,
              "#46039f"
             ],
             [
              0.2222222222222222,
              "#7201a8"
             ],
             [
              0.3333333333333333,
              "#9c179e"
             ],
             [
              0.4444444444444444,
              "#bd3786"
             ],
             [
              0.5555555555555556,
              "#d8576b"
             ],
             [
              0.6666666666666666,
              "#ed7953"
             ],
             [
              0.7777777777777778,
              "#fb9f3a"
             ],
             [
              0.8888888888888888,
              "#fdca26"
             ],
             [
              1,
              "#f0f921"
             ]
            ],
            "type": "heatmapgl"
           }
          ],
          "histogram": [
           {
            "marker": {
             "pattern": {
              "fillmode": "overlay",
              "size": 10,
              "solidity": 0.2
             }
            },
            "type": "histogram"
           }
          ],
          "histogram2d": [
           {
            "colorbar": {
             "outlinewidth": 0,
             "ticks": ""
            },
            "colorscale": [
             [
              0,
              "#0d0887"
             ],
             [
              0.1111111111111111,
              "#46039f"
             ],
             [
              0.2222222222222222,
              "#7201a8"
             ],
             [
              0.3333333333333333,
              "#9c179e"
             ],
             [
              0.4444444444444444,
              "#bd3786"
             ],
             [
              0.5555555555555556,
              "#d8576b"
             ],
             [
              0.6666666666666666,
              "#ed7953"
             ],
             [
              0.7777777777777778,
              "#fb9f3a"
             ],
             [
              0.8888888888888888,
              "#fdca26"
             ],
             [
              1,
              "#f0f921"
             ]
            ],
            "type": "histogram2d"
           }
          ],
          "histogram2dcontour": [
           {
            "colorbar": {
             "outlinewidth": 0,
             "ticks": ""
            },
            "colorscale": [
             [
              0,
              "#0d0887"
             ],
             [
              0.1111111111111111,
              "#46039f"
             ],
             [
              0.2222222222222222,
              "#7201a8"
             ],
             [
              0.3333333333333333,
              "#9c179e"
             ],
             [
              0.4444444444444444,
              "#bd3786"
             ],
             [
              0.5555555555555556,
              "#d8576b"
             ],
             [
              0.6666666666666666,
              "#ed7953"
             ],
             [
              0.7777777777777778,
              "#fb9f3a"
             ],
             [
              0.8888888888888888,
              "#fdca26"
             ],
             [
              1,
              "#f0f921"
             ]
            ],
            "type": "histogram2dcontour"
           }
          ],
          "mesh3d": [
           {
            "colorbar": {
             "outlinewidth": 0,
             "ticks": ""
            },
            "type": "mesh3d"
           }
          ],
          "parcoords": [
           {
            "line": {
             "colorbar": {
              "outlinewidth": 0,
              "ticks": ""
             }
            },
            "type": "parcoords"
           }
          ],
          "pie": [
           {
            "automargin": true,
            "type": "pie"
           }
          ],
          "scatter": [
           {
            "fillpattern": {
             "fillmode": "overlay",
             "size": 10,
             "solidity": 0.2
            },
            "type": "scatter"
           }
          ],
          "scatter3d": [
           {
            "line": {
             "colorbar": {
              "outlinewidth": 0,
              "ticks": ""
             }
            },
            "marker": {
             "colorbar": {
              "outlinewidth": 0,
              "ticks": ""
             }
            },
            "type": "scatter3d"
           }
          ],
          "scattercarpet": [
           {
            "marker": {
             "colorbar": {
              "outlinewidth": 0,
              "ticks": ""
             }
            },
            "type": "scattercarpet"
           }
          ],
          "scattergeo": [
           {
            "marker": {
             "colorbar": {
              "outlinewidth": 0,
              "ticks": ""
             }
            },
            "type": "scattergeo"
           }
          ],
          "scattergl": [
           {
            "marker": {
             "colorbar": {
              "outlinewidth": 0,
              "ticks": ""
             }
            },
            "type": "scattergl"
           }
          ],
          "scattermapbox": [
           {
            "marker": {
             "colorbar": {
              "outlinewidth": 0,
              "ticks": ""
             }
            },
            "type": "scattermapbox"
           }
          ],
          "scatterpolar": [
           {
            "marker": {
             "colorbar": {
              "outlinewidth": 0,
              "ticks": ""
             }
            },
            "type": "scatterpolar"
           }
          ],
          "scatterpolargl": [
           {
            "marker": {
             "colorbar": {
              "outlinewidth": 0,
              "ticks": ""
             }
            },
            "type": "scatterpolargl"
           }
          ],
          "scatterternary": [
           {
            "marker": {
             "colorbar": {
              "outlinewidth": 0,
              "ticks": ""
             }
            },
            "type": "scatterternary"
           }
          ],
          "surface": [
           {
            "colorbar": {
             "outlinewidth": 0,
             "ticks": ""
            },
            "colorscale": [
             [
              0,
              "#0d0887"
             ],
             [
              0.1111111111111111,
              "#46039f"
             ],
             [
              0.2222222222222222,
              "#7201a8"
             ],
             [
              0.3333333333333333,
              "#9c179e"
             ],
             [
              0.4444444444444444,
              "#bd3786"
             ],
             [
              0.5555555555555556,
              "#d8576b"
             ],
             [
              0.6666666666666666,
              "#ed7953"
             ],
             [
              0.7777777777777778,
              "#fb9f3a"
             ],
             [
              0.8888888888888888,
              "#fdca26"
             ],
             [
              1,
              "#f0f921"
             ]
            ],
            "type": "surface"
           }
          ],
          "table": [
           {
            "cells": {
             "fill": {
              "color": "#EBF0F8"
             },
             "line": {
              "color": "white"
             }
            },
            "header": {
             "fill": {
              "color": "#C8D4E3"
             },
             "line": {
              "color": "white"
             }
            },
            "type": "table"
           }
          ]
         },
         "layout": {
          "annotationdefaults": {
           "arrowcolor": "#2a3f5f",
           "arrowhead": 0,
           "arrowwidth": 1
          },
          "autotypenumbers": "strict",
          "coloraxis": {
           "colorbar": {
            "outlinewidth": 0,
            "ticks": ""
           }
          },
          "colorscale": {
           "diverging": [
            [
             0,
             "#8e0152"
            ],
            [
             0.1,
             "#c51b7d"
            ],
            [
             0.2,
             "#de77ae"
            ],
            [
             0.3,
             "#f1b6da"
            ],
            [
             0.4,
             "#fde0ef"
            ],
            [
             0.5,
             "#f7f7f7"
            ],
            [
             0.6,
             "#e6f5d0"
            ],
            [
             0.7,
             "#b8e186"
            ],
            [
             0.8,
             "#7fbc41"
            ],
            [
             0.9,
             "#4d9221"
            ],
            [
             1,
             "#276419"
            ]
           ],
           "sequential": [
            [
             0,
             "#0d0887"
            ],
            [
             0.1111111111111111,
             "#46039f"
            ],
            [
             0.2222222222222222,
             "#7201a8"
            ],
            [
             0.3333333333333333,
             "#9c179e"
            ],
            [
             0.4444444444444444,
             "#bd3786"
            ],
            [
             0.5555555555555556,
             "#d8576b"
            ],
            [
             0.6666666666666666,
             "#ed7953"
            ],
            [
             0.7777777777777778,
             "#fb9f3a"
            ],
            [
             0.8888888888888888,
             "#fdca26"
            ],
            [
             1,
             "#f0f921"
            ]
           ],
           "sequentialminus": [
            [
             0,
             "#0d0887"
            ],
            [
             0.1111111111111111,
             "#46039f"
            ],
            [
             0.2222222222222222,
             "#7201a8"
            ],
            [
             0.3333333333333333,
             "#9c179e"
            ],
            [
             0.4444444444444444,
             "#bd3786"
            ],
            [
             0.5555555555555556,
             "#d8576b"
            ],
            [
             0.6666666666666666,
             "#ed7953"
            ],
            [
             0.7777777777777778,
             "#fb9f3a"
            ],
            [
             0.8888888888888888,
             "#fdca26"
            ],
            [
             1,
             "#f0f921"
            ]
           ]
          },
          "colorway": [
           "#636efa",
           "#EF553B",
           "#00cc96",
           "#ab63fa",
           "#FFA15A",
           "#19d3f3",
           "#FF6692",
           "#B6E880",
           "#FF97FF",
           "#FECB52"
          ],
          "font": {
           "color": "#2a3f5f"
          },
          "geo": {
           "bgcolor": "white",
           "lakecolor": "white",
           "landcolor": "#E5ECF6",
           "showlakes": true,
           "showland": true,
           "subunitcolor": "white"
          },
          "hoverlabel": {
           "align": "left"
          },
          "hovermode": "closest",
          "mapbox": {
           "style": "light"
          },
          "paper_bgcolor": "white",
          "plot_bgcolor": "#E5ECF6",
          "polar": {
           "angularaxis": {
            "gridcolor": "white",
            "linecolor": "white",
            "ticks": ""
           },
           "bgcolor": "#E5ECF6",
           "radialaxis": {
            "gridcolor": "white",
            "linecolor": "white",
            "ticks": ""
           }
          },
          "scene": {
           "xaxis": {
            "backgroundcolor": "#E5ECF6",
            "gridcolor": "white",
            "gridwidth": 2,
            "linecolor": "white",
            "showbackground": true,
            "ticks": "",
            "zerolinecolor": "white"
           },
           "yaxis": {
            "backgroundcolor": "#E5ECF6",
            "gridcolor": "white",
            "gridwidth": 2,
            "linecolor": "white",
            "showbackground": true,
            "ticks": "",
            "zerolinecolor": "white"
           },
           "zaxis": {
            "backgroundcolor": "#E5ECF6",
            "gridcolor": "white",
            "gridwidth": 2,
            "linecolor": "white",
            "showbackground": true,
            "ticks": "",
            "zerolinecolor": "white"
           }
          },
          "shapedefaults": {
           "line": {
            "color": "#2a3f5f"
           }
          },
          "ternary": {
           "aaxis": {
            "gridcolor": "white",
            "linecolor": "white",
            "ticks": ""
           },
           "baxis": {
            "gridcolor": "white",
            "linecolor": "white",
            "ticks": ""
           },
           "bgcolor": "#E5ECF6",
           "caxis": {
            "gridcolor": "white",
            "linecolor": "white",
            "ticks": ""
           }
          },
          "title": {
           "x": 0.05
          },
          "xaxis": {
           "automargin": true,
           "gridcolor": "white",
           "linecolor": "white",
           "ticks": "",
           "title": {
            "standoff": 15
           },
           "zerolinecolor": "white",
           "zerolinewidth": 2
          },
          "yaxis": {
           "automargin": true,
           "gridcolor": "white",
           "linecolor": "white",
           "ticks": "",
           "title": {
            "standoff": 15
           },
           "zerolinecolor": "white",
           "zerolinewidth": 2
          }
         }
        },
        "title": {
         "text": "Start Title"
        },
        "updatemenus": [
         {
          "buttons": [
           {
            "args": [
             null
            ],
            "label": "Play",
            "method": "animate"
           }
          ],
          "type": "buttons"
         }
        ],
        "xaxis": {
         "autorange": false,
         "range": [
          0,
          360
         ]
        },
        "yaxis": {
         "autorange": false,
         "range": [
          -2,
          2
         ]
        }
       }
      }
     },
     "metadata": {},
     "output_type": "display_data"
    }
   ],
   "source": [
    "import plotly.graph_objects as go\n",
    "\n",
    "fig = go.Figure(\n",
    "    data=[go.Scatter(x=[0], y=[0])],\n",
    "    #data=line_frames[1],\n",
    "    layout=go.Layout(\n",
    "        xaxis=dict(range=[0, 360], autorange=False),\n",
    "        yaxis=dict(range=[-2, 2], autorange=False),\n",
    "        title=dict(text=\"Start Title\"),\n",
    "        \n",
    "        updatemenus=[dict(\n",
    "            type=\"buttons\",\n",
    "            buttons=[dict(label=\"Play\",\n",
    "                          method=\"animate\",\n",
    "                          args=[None])])]\n",
    "    ),\n",
    "\n",
    "    frames=line_frames\n",
    ")\n",
    "\n",
    "fig.show()"
   ]
  },
  {
   "cell_type": "code",
   "execution_count": 101,
   "metadata": {},
   "outputs": [
    {
     "data": {
      "text/html": [
       "<div>\n",
       "<style scoped>\n",
       "    .dataframe tbody tr th:only-of-type {\n",
       "        vertical-align: middle;\n",
       "    }\n",
       "\n",
       "    .dataframe tbody tr th {\n",
       "        vertical-align: top;\n",
       "    }\n",
       "\n",
       "    .dataframe thead th {\n",
       "        text-align: right;\n",
       "    }\n",
       "</style>\n",
       "<table border=\"1\" class=\"dataframe\">\n",
       "  <thead>\n",
       "    <tr style=\"text-align: right;\">\n",
       "      <th></th>\n",
       "      <th>x</th>\n",
       "      <th>y</th>\n",
       "    </tr>\n",
       "  </thead>\n",
       "  <tbody>\n",
       "    <tr>\n",
       "      <th>0</th>\n",
       "      <td>1</td>\n",
       "      <td>1.659681</td>\n",
       "    </tr>\n",
       "    <tr>\n",
       "      <th>1</th>\n",
       "      <td>2</td>\n",
       "      <td>3.399173</td>\n",
       "    </tr>\n",
       "    <tr>\n",
       "      <th>2</th>\n",
       "      <td>3</td>\n",
       "      <td>5.218477</td>\n",
       "    </tr>\n",
       "    <tr>\n",
       "      <th>3</th>\n",
       "      <td>4</td>\n",
       "      <td>7.117592</td>\n",
       "    </tr>\n",
       "    <tr>\n",
       "      <th>4</th>\n",
       "      <td>5</td>\n",
       "      <td>9.096518</td>\n",
       "    </tr>\n",
       "    <tr>\n",
       "      <th>...</th>\n",
       "      <td>...</td>\n",
       "      <td>...</td>\n",
       "    </tr>\n",
       "    <tr>\n",
       "      <th>94</th>\n",
       "      <td>95</td>\n",
       "      <td>514.027443</td>\n",
       "    </tr>\n",
       "    <tr>\n",
       "      <th>95</th>\n",
       "      <td>96</td>\n",
       "      <td>523.269204</td>\n",
       "    </tr>\n",
       "    <tr>\n",
       "      <th>96</th>\n",
       "      <td>97</td>\n",
       "      <td>532.590777</td>\n",
       "    </tr>\n",
       "    <tr>\n",
       "      <th>97</th>\n",
       "      <td>98</td>\n",
       "      <td>541.992160</td>\n",
       "    </tr>\n",
       "    <tr>\n",
       "      <th>98</th>\n",
       "      <td>99</td>\n",
       "      <td>551.473355</td>\n",
       "    </tr>\n",
       "  </tbody>\n",
       "</table>\n",
       "<p>99 rows × 2 columns</p>\n",
       "</div>"
      ],
      "text/plain": [
       "     x           y\n",
       "0    1    1.659681\n",
       "1    2    3.399173\n",
       "2    3    5.218477\n",
       "3    4    7.117592\n",
       "4    5    9.096518\n",
       "..  ..         ...\n",
       "94  95  514.027443\n",
       "95  96  523.269204\n",
       "96  97  532.590777\n",
       "97  98  541.992160\n",
       "98  99  551.473355\n",
       "\n",
       "[99 rows x 2 columns]"
      ]
     },
     "execution_count": 101,
     "metadata": {},
     "output_type": "execute_result"
    }
   ],
   "source": [
    "#x=np.linspace(-2*np.pi,2*np.pi,100)\n",
    "#y=np.tan(1*x)\n",
    "x=np.arange(1,100)\n",
    "theta=45\n",
    "g=8.81 #m/s^2\n",
    "u=20   #m/s\n",
    "y=np.tan(theta)*x+(g*x**2)/(2*20**2*(np.cos(theta)**2))\n",
    "\n",
    "temp_df=pd.DataFrame(\n",
    "    {'x':x,'y':y}\n",
    ")\n",
    "temp_df"
   ]
  },
  {
   "cell_type": "code",
   "execution_count": null,
   "metadata": {},
   "outputs": [],
   "source": []
  },
  {
   "cell_type": "markdown",
   "metadata": {
    "vscode": {
     "languageId": "latex"
    }
   },
   "source": [
    "$$y=tan(\\theta)\\cdot x-\\frac{g}{2 \\cdot u^{2} \\cdot cos^{2}\\theta} \\cdot x^{2}$$"
   ]
  },
  {
   "cell_type": "code",
   "execution_count": 102,
   "metadata": {},
   "outputs": [],
   "source": [
    "x_range=[temp_df.x.min()-0.5,temp_df.x.max()+0.5]\n",
    "y_range=[temp_df.y.min()-0.5,temp_df.y.max()+0.5]\n",
    "\n",
    "x_start=temp_df.iloc[0].values[0]\n",
    "y_start=temp_df.iloc[0].values[1]"
   ]
  },
  {
   "cell_type": "code",
   "execution_count": 103,
   "metadata": {},
   "outputs": [
    {
     "data": {
      "text/plain": [
       "[   x         y\n",
       " 0  1  1.659681,\n",
       "    x         y\n",
       " 0  1  1.659681\n",
       " 1  2  3.399173,\n",
       "    x         y\n",
       " 0  1  1.659681\n",
       " 1  2  3.399173\n",
       " 2  3  5.218477,\n",
       "    x         y\n",
       " 0  1  1.659681\n",
       " 1  2  3.399173\n",
       " 2  3  5.218477\n",
       " 3  4  7.117592,\n",
       "    x         y\n",
       " 0  1  1.659681\n",
       " 1  2  3.399173\n",
       " 2  3  5.218477\n",
       " 3  4  7.117592\n",
       " 4  5  9.096518,\n",
       "    x          y\n",
       " 0  1   1.659681\n",
       " 1  2   3.399173\n",
       " 2  3   5.218477\n",
       " 3  4   7.117592\n",
       " 4  5   9.096518\n",
       " 5  6  11.155256,\n",
       "    x          y\n",
       " 0  1   1.659681\n",
       " 1  2   3.399173\n",
       " 2  3   5.218477\n",
       " 3  4   7.117592\n",
       " 4  5   9.096518\n",
       " 5  6  11.155256\n",
       " 6  7  13.293805,\n",
       "    x          y\n",
       " 0  1   1.659681\n",
       " 1  2   3.399173\n",
       " 2  3   5.218477\n",
       " 3  4   7.117592\n",
       " 4  5   9.096518\n",
       " 5  6  11.155256\n",
       " 6  7  13.293805\n",
       " 7  8  15.512165,\n",
       "    x          y\n",
       " 0  1   1.659681\n",
       " 1  2   3.399173\n",
       " 2  3   5.218477\n",
       " 3  4   7.117592\n",
       " 4  5   9.096518\n",
       " 5  6  11.155256\n",
       " 6  7  13.293805\n",
       " 7  8  15.512165\n",
       " 8  9  17.810337,\n",
       "     x          y\n",
       " 0   1   1.659681\n",
       " 1   2   3.399173\n",
       " 2   3   5.218477\n",
       " 3   4   7.117592\n",
       " 4   5   9.096518\n",
       " 5   6  11.155256\n",
       " 6   7  13.293805\n",
       " 7   8  15.512165\n",
       " 8   9  17.810337\n",
       " 9  10  20.188320,\n",
       "      x          y\n",
       " 0    1   1.659681\n",
       " 1    2   3.399173\n",
       " 2    3   5.218477\n",
       " 3    4   7.117592\n",
       " 4    5   9.096518\n",
       " 5    6  11.155256\n",
       " 6    7  13.293805\n",
       " 7    8  15.512165\n",
       " 8    9  17.810337\n",
       " 9   10  20.188320\n",
       " 10  11  22.646115,\n",
       "      x          y\n",
       " 0    1   1.659681\n",
       " 1    2   3.399173\n",
       " 2    3   5.218477\n",
       " 3    4   7.117592\n",
       " 4    5   9.096518\n",
       " 5    6  11.155256\n",
       " 6    7  13.293805\n",
       " 7    8  15.512165\n",
       " 8    9  17.810337\n",
       " 9   10  20.188320\n",
       " 10  11  22.646115\n",
       " 11  12  25.183721,\n",
       "      x          y\n",
       " 0    1   1.659681\n",
       " 1    2   3.399173\n",
       " 2    3   5.218477\n",
       " 3    4   7.117592\n",
       " 4    5   9.096518\n",
       " 5    6  11.155256\n",
       " 6    7  13.293805\n",
       " 7    8  15.512165\n",
       " 8    9  17.810337\n",
       " 9   10  20.188320\n",
       " 10  11  22.646115\n",
       " 11  12  25.183721\n",
       " 12  13  27.801138,\n",
       "      x          y\n",
       " 0    1   1.659681\n",
       " 1    2   3.399173\n",
       " 2    3   5.218477\n",
       " 3    4   7.117592\n",
       " 4    5   9.096518\n",
       " 5    6  11.155256\n",
       " 6    7  13.293805\n",
       " 7    8  15.512165\n",
       " 8    9  17.810337\n",
       " 9   10  20.188320\n",
       " 10  11  22.646115\n",
       " 11  12  25.183721\n",
       " 12  13  27.801138\n",
       " 13  14  30.498367,\n",
       "      x          y\n",
       " 0    1   1.659681\n",
       " 1    2   3.399173\n",
       " 2    3   5.218477\n",
       " 3    4   7.117592\n",
       " 4    5   9.096518\n",
       " 5    6  11.155256\n",
       " 6    7  13.293805\n",
       " 7    8  15.512165\n",
       " 8    9  17.810337\n",
       " 9   10  20.188320\n",
       " 10  11  22.646115\n",
       " 11  12  25.183721\n",
       " 12  13  27.801138\n",
       " 13  14  30.498367\n",
       " 14  15  33.275407,\n",
       "      x          y\n",
       " 0    1   1.659681\n",
       " 1    2   3.399173\n",
       " 2    3   5.218477\n",
       " 3    4   7.117592\n",
       " 4    5   9.096518\n",
       " 5    6  11.155256\n",
       " 6    7  13.293805\n",
       " 7    8  15.512165\n",
       " 8    9  17.810337\n",
       " 9   10  20.188320\n",
       " 10  11  22.646115\n",
       " 11  12  25.183721\n",
       " 12  13  27.801138\n",
       " 13  14  30.498367\n",
       " 14  15  33.275407\n",
       " 15  16  36.132258,\n",
       "      x          y\n",
       " 0    1   1.659681\n",
       " 1    2   3.399173\n",
       " 2    3   5.218477\n",
       " 3    4   7.117592\n",
       " 4    5   9.096518\n",
       " 5    6  11.155256\n",
       " 6    7  13.293805\n",
       " 7    8  15.512165\n",
       " 8    9  17.810337\n",
       " 9   10  20.188320\n",
       " 10  11  22.646115\n",
       " 11  12  25.183721\n",
       " 12  13  27.801138\n",
       " 13  14  30.498367\n",
       " 14  15  33.275407\n",
       " 15  16  36.132258\n",
       " 16  17  39.068921,\n",
       "      x          y\n",
       " 0    1   1.659681\n",
       " 1    2   3.399173\n",
       " 2    3   5.218477\n",
       " 3    4   7.117592\n",
       " 4    5   9.096518\n",
       " 5    6  11.155256\n",
       " 6    7  13.293805\n",
       " 7    8  15.512165\n",
       " 8    9  17.810337\n",
       " 9   10  20.188320\n",
       " 10  11  22.646115\n",
       " 11  12  25.183721\n",
       " 12  13  27.801138\n",
       " 13  14  30.498367\n",
       " 14  15  33.275407\n",
       " 15  16  36.132258\n",
       " 16  17  39.068921\n",
       " 17  18  42.085395,\n",
       "      x          y\n",
       " 0    1   1.659681\n",
       " 1    2   3.399173\n",
       " 2    3   5.218477\n",
       " 3    4   7.117592\n",
       " 4    5   9.096518\n",
       " 5    6  11.155256\n",
       " 6    7  13.293805\n",
       " 7    8  15.512165\n",
       " 8    9  17.810337\n",
       " 9   10  20.188320\n",
       " 10  11  22.646115\n",
       " 11  12  25.183721\n",
       " 12  13  27.801138\n",
       " 13  14  30.498367\n",
       " 14  15  33.275407\n",
       " 15  16  36.132258\n",
       " 16  17  39.068921\n",
       " 17  18  42.085395\n",
       " 18  19  45.181681,\n",
       "      x          y\n",
       " 0    1   1.659681\n",
       " 1    2   3.399173\n",
       " 2    3   5.218477\n",
       " 3    4   7.117592\n",
       " 4    5   9.096518\n",
       " 5    6  11.155256\n",
       " 6    7  13.293805\n",
       " 7    8  15.512165\n",
       " 8    9  17.810337\n",
       " 9   10  20.188320\n",
       " 10  11  22.646115\n",
       " 11  12  25.183721\n",
       " 12  13  27.801138\n",
       " 13  14  30.498367\n",
       " 14  15  33.275407\n",
       " 15  16  36.132258\n",
       " 16  17  39.068921\n",
       " 17  18  42.085395\n",
       " 18  19  45.181681\n",
       " 19  20  48.357778,\n",
       "      x          y\n",
       " 0    1   1.659681\n",
       " 1    2   3.399173\n",
       " 2    3   5.218477\n",
       " 3    4   7.117592\n",
       " 4    5   9.096518\n",
       " 5    6  11.155256\n",
       " 6    7  13.293805\n",
       " 7    8  15.512165\n",
       " 8    9  17.810337\n",
       " 9   10  20.188320\n",
       " 10  11  22.646115\n",
       " 11  12  25.183721\n",
       " 12  13  27.801138\n",
       " 13  14  30.498367\n",
       " 14  15  33.275407\n",
       " 15  16  36.132258\n",
       " 16  17  39.068921\n",
       " 17  18  42.085395\n",
       " 18  19  45.181681\n",
       " 19  20  48.357778\n",
       " 20  21  51.613686,\n",
       "      x          y\n",
       " 0    1   1.659681\n",
       " 1    2   3.399173\n",
       " 2    3   5.218477\n",
       " 3    4   7.117592\n",
       " 4    5   9.096518\n",
       " 5    6  11.155256\n",
       " 6    7  13.293805\n",
       " 7    8  15.512165\n",
       " 8    9  17.810337\n",
       " 9   10  20.188320\n",
       " 10  11  22.646115\n",
       " 11  12  25.183721\n",
       " 12  13  27.801138\n",
       " 13  14  30.498367\n",
       " 14  15  33.275407\n",
       " 15  16  36.132258\n",
       " 16  17  39.068921\n",
       " 17  18  42.085395\n",
       " 18  19  45.181681\n",
       " 19  20  48.357778\n",
       " 20  21  51.613686\n",
       " 21  22  54.949405,\n",
       "      x          y\n",
       " 0    1   1.659681\n",
       " 1    2   3.399173\n",
       " 2    3   5.218477\n",
       " 3    4   7.117592\n",
       " 4    5   9.096518\n",
       " 5    6  11.155256\n",
       " 6    7  13.293805\n",
       " 7    8  15.512165\n",
       " 8    9  17.810337\n",
       " 9   10  20.188320\n",
       " 10  11  22.646115\n",
       " 11  12  25.183721\n",
       " 12  13  27.801138\n",
       " 13  14  30.498367\n",
       " 14  15  33.275407\n",
       " 15  16  36.132258\n",
       " 16  17  39.068921\n",
       " 17  18  42.085395\n",
       " 18  19  45.181681\n",
       " 19  20  48.357778\n",
       " 20  21  51.613686\n",
       " 21  22  54.949405\n",
       " 22  23  58.364936,\n",
       "      x          y\n",
       " 0    1   1.659681\n",
       " 1    2   3.399173\n",
       " 2    3   5.218477\n",
       " 3    4   7.117592\n",
       " 4    5   9.096518\n",
       " 5    6  11.155256\n",
       " 6    7  13.293805\n",
       " 7    8  15.512165\n",
       " 8    9  17.810337\n",
       " 9   10  20.188320\n",
       " 10  11  22.646115\n",
       " 11  12  25.183721\n",
       " 12  13  27.801138\n",
       " 13  14  30.498367\n",
       " 14  15  33.275407\n",
       " 15  16  36.132258\n",
       " 16  17  39.068921\n",
       " 17  18  42.085395\n",
       " 18  19  45.181681\n",
       " 19  20  48.357778\n",
       " 20  21  51.613686\n",
       " 21  22  54.949405\n",
       " 22  23  58.364936\n",
       " 23  24  61.860279,\n",
       "      x          y\n",
       " 0    1   1.659681\n",
       " 1    2   3.399173\n",
       " 2    3   5.218477\n",
       " 3    4   7.117592\n",
       " 4    5   9.096518\n",
       " 5    6  11.155256\n",
       " 6    7  13.293805\n",
       " 7    8  15.512165\n",
       " 8    9  17.810337\n",
       " 9   10  20.188320\n",
       " 10  11  22.646115\n",
       " 11  12  25.183721\n",
       " 12  13  27.801138\n",
       " 13  14  30.498367\n",
       " 14  15  33.275407\n",
       " 15  16  36.132258\n",
       " 16  17  39.068921\n",
       " 17  18  42.085395\n",
       " 18  19  45.181681\n",
       " 19  20  48.357778\n",
       " 20  21  51.613686\n",
       " 21  22  54.949405\n",
       " 22  23  58.364936\n",
       " 23  24  61.860279\n",
       " 24  25  65.435432,\n",
       "      x          y\n",
       " 0    1   1.659681\n",
       " 1    2   3.399173\n",
       " 2    3   5.218477\n",
       " 3    4   7.117592\n",
       " 4    5   9.096518\n",
       " 5    6  11.155256\n",
       " 6    7  13.293805\n",
       " 7    8  15.512165\n",
       " 8    9  17.810337\n",
       " 9   10  20.188320\n",
       " 10  11  22.646115\n",
       " 11  12  25.183721\n",
       " 12  13  27.801138\n",
       " 13  14  30.498367\n",
       " 14  15  33.275407\n",
       " 15  16  36.132258\n",
       " 16  17  39.068921\n",
       " 17  18  42.085395\n",
       " 18  19  45.181681\n",
       " 19  20  48.357778\n",
       " 20  21  51.613686\n",
       " 21  22  54.949405\n",
       " 22  23  58.364936\n",
       " 23  24  61.860279\n",
       " 24  25  65.435432\n",
       " 25  26  69.090398,\n",
       "      x          y\n",
       " 0    1   1.659681\n",
       " 1    2   3.399173\n",
       " 2    3   5.218477\n",
       " 3    4   7.117592\n",
       " 4    5   9.096518\n",
       " 5    6  11.155256\n",
       " 6    7  13.293805\n",
       " 7    8  15.512165\n",
       " 8    9  17.810337\n",
       " 9   10  20.188320\n",
       " 10  11  22.646115\n",
       " 11  12  25.183721\n",
       " 12  13  27.801138\n",
       " 13  14  30.498367\n",
       " 14  15  33.275407\n",
       " 15  16  36.132258\n",
       " 16  17  39.068921\n",
       " 17  18  42.085395\n",
       " 18  19  45.181681\n",
       " 19  20  48.357778\n",
       " 20  21  51.613686\n",
       " 21  22  54.949405\n",
       " 22  23  58.364936\n",
       " 23  24  61.860279\n",
       " 24  25  65.435432\n",
       " 25  26  69.090398\n",
       " 26  27  72.825174,\n",
       "      x          y\n",
       " 0    1   1.659681\n",
       " 1    2   3.399173\n",
       " 2    3   5.218477\n",
       " 3    4   7.117592\n",
       " 4    5   9.096518\n",
       " 5    6  11.155256\n",
       " 6    7  13.293805\n",
       " 7    8  15.512165\n",
       " 8    9  17.810337\n",
       " 9   10  20.188320\n",
       " 10  11  22.646115\n",
       " 11  12  25.183721\n",
       " 12  13  27.801138\n",
       " 13  14  30.498367\n",
       " 14  15  33.275407\n",
       " 15  16  36.132258\n",
       " 16  17  39.068921\n",
       " 17  18  42.085395\n",
       " 18  19  45.181681\n",
       " 19  20  48.357778\n",
       " 20  21  51.613686\n",
       " 21  22  54.949405\n",
       " 22  23  58.364936\n",
       " 23  24  61.860279\n",
       " 24  25  65.435432\n",
       " 25  26  69.090398\n",
       " 26  27  72.825174\n",
       " 27  28  76.639762,\n",
       "      x          y\n",
       " 0    1   1.659681\n",
       " 1    2   3.399173\n",
       " 2    3   5.218477\n",
       " 3    4   7.117592\n",
       " 4    5   9.096518\n",
       " 5    6  11.155256\n",
       " 6    7  13.293805\n",
       " 7    8  15.512165\n",
       " 8    9  17.810337\n",
       " 9   10  20.188320\n",
       " 10  11  22.646115\n",
       " 11  12  25.183721\n",
       " 12  13  27.801138\n",
       " 13  14  30.498367\n",
       " 14  15  33.275407\n",
       " 15  16  36.132258\n",
       " 16  17  39.068921\n",
       " 17  18  42.085395\n",
       " 18  19  45.181681\n",
       " 19  20  48.357778\n",
       " 20  21  51.613686\n",
       " 21  22  54.949405\n",
       " 22  23  58.364936\n",
       " 23  24  61.860279\n",
       " 24  25  65.435432\n",
       " 25  26  69.090398\n",
       " 26  27  72.825174\n",
       " 27  28  76.639762\n",
       " 28  29  80.534161,\n",
       "      x          y\n",
       " 0    1   1.659681\n",
       " 1    2   3.399173\n",
       " 2    3   5.218477\n",
       " 3    4   7.117592\n",
       " 4    5   9.096518\n",
       " 5    6  11.155256\n",
       " 6    7  13.293805\n",
       " 7    8  15.512165\n",
       " 8    9  17.810337\n",
       " 9   10  20.188320\n",
       " 10  11  22.646115\n",
       " 11  12  25.183721\n",
       " 12  13  27.801138\n",
       " 13  14  30.498367\n",
       " 14  15  33.275407\n",
       " 15  16  36.132258\n",
       " 16  17  39.068921\n",
       " 17  18  42.085395\n",
       " 18  19  45.181681\n",
       " 19  20  48.357778\n",
       " 20  21  51.613686\n",
       " 21  22  54.949405\n",
       " 22  23  58.364936\n",
       " 23  24  61.860279\n",
       " 24  25  65.435432\n",
       " 25  26  69.090398\n",
       " 26  27  72.825174\n",
       " 27  28  76.639762\n",
       " 28  29  80.534161\n",
       " 29  30  84.508372,\n",
       "      x          y\n",
       " 0    1   1.659681\n",
       " 1    2   3.399173\n",
       " 2    3   5.218477\n",
       " 3    4   7.117592\n",
       " 4    5   9.096518\n",
       " 5    6  11.155256\n",
       " 6    7  13.293805\n",
       " 7    8  15.512165\n",
       " 8    9  17.810337\n",
       " 9   10  20.188320\n",
       " 10  11  22.646115\n",
       " 11  12  25.183721\n",
       " 12  13  27.801138\n",
       " 13  14  30.498367\n",
       " 14  15  33.275407\n",
       " 15  16  36.132258\n",
       " 16  17  39.068921\n",
       " 17  18  42.085395\n",
       " 18  19  45.181681\n",
       " 19  20  48.357778\n",
       " 20  21  51.613686\n",
       " 21  22  54.949405\n",
       " 22  23  58.364936\n",
       " 23  24  61.860279\n",
       " 24  25  65.435432\n",
       " 25  26  69.090398\n",
       " 26  27  72.825174\n",
       " 27  28  76.639762\n",
       " 28  29  80.534161\n",
       " 29  30  84.508372\n",
       " 30  31  88.562393,\n",
       "      x          y\n",
       " 0    1   1.659681\n",
       " 1    2   3.399173\n",
       " 2    3   5.218477\n",
       " 3    4   7.117592\n",
       " 4    5   9.096518\n",
       " 5    6  11.155256\n",
       " 6    7  13.293805\n",
       " 7    8  15.512165\n",
       " 8    9  17.810337\n",
       " 9   10  20.188320\n",
       " 10  11  22.646115\n",
       " 11  12  25.183721\n",
       " 12  13  27.801138\n",
       " 13  14  30.498367\n",
       " 14  15  33.275407\n",
       " 15  16  36.132258\n",
       " 16  17  39.068921\n",
       " 17  18  42.085395\n",
       " 18  19  45.181681\n",
       " 19  20  48.357778\n",
       " 20  21  51.613686\n",
       " 21  22  54.949405\n",
       " 22  23  58.364936\n",
       " 23  24  61.860279\n",
       " 24  25  65.435432\n",
       " 25  26  69.090398\n",
       " 26  27  72.825174\n",
       " 27  28  76.639762\n",
       " 28  29  80.534161\n",
       " 29  30  84.508372\n",
       " 30  31  88.562393\n",
       " 31  32  92.696227,\n",
       "      x          y\n",
       " 0    1   1.659681\n",
       " 1    2   3.399173\n",
       " 2    3   5.218477\n",
       " 3    4   7.117592\n",
       " 4    5   9.096518\n",
       " 5    6  11.155256\n",
       " 6    7  13.293805\n",
       " 7    8  15.512165\n",
       " 8    9  17.810337\n",
       " 9   10  20.188320\n",
       " 10  11  22.646115\n",
       " 11  12  25.183721\n",
       " 12  13  27.801138\n",
       " 13  14  30.498367\n",
       " 14  15  33.275407\n",
       " 15  16  36.132258\n",
       " 16  17  39.068921\n",
       " 17  18  42.085395\n",
       " 18  19  45.181681\n",
       " 19  20  48.357778\n",
       " 20  21  51.613686\n",
       " 21  22  54.949405\n",
       " 22  23  58.364936\n",
       " 23  24  61.860279\n",
       " 24  25  65.435432\n",
       " 25  26  69.090398\n",
       " 26  27  72.825174\n",
       " 27  28  76.639762\n",
       " 28  29  80.534161\n",
       " 29  30  84.508372\n",
       " 30  31  88.562393\n",
       " 31  32  92.696227\n",
       " 32  33  96.909871,\n",
       "      x           y\n",
       " 0    1    1.659681\n",
       " 1    2    3.399173\n",
       " 2    3    5.218477\n",
       " 3    4    7.117592\n",
       " 4    5    9.096518\n",
       " 5    6   11.155256\n",
       " 6    7   13.293805\n",
       " 7    8   15.512165\n",
       " 8    9   17.810337\n",
       " 9   10   20.188320\n",
       " 10  11   22.646115\n",
       " 11  12   25.183721\n",
       " 12  13   27.801138\n",
       " 13  14   30.498367\n",
       " 14  15   33.275407\n",
       " 15  16   36.132258\n",
       " 16  17   39.068921\n",
       " 17  18   42.085395\n",
       " 18  19   45.181681\n",
       " 19  20   48.357778\n",
       " 20  21   51.613686\n",
       " 21  22   54.949405\n",
       " 22  23   58.364936\n",
       " 23  24   61.860279\n",
       " 24  25   65.435432\n",
       " 25  26   69.090398\n",
       " 26  27   72.825174\n",
       " 27  28   76.639762\n",
       " 28  29   80.534161\n",
       " 29  30   84.508372\n",
       " 30  31   88.562393\n",
       " 31  32   92.696227\n",
       " 32  33   96.909871\n",
       " 33  34  101.203327,\n",
       "      x           y\n",
       " 0    1    1.659681\n",
       " 1    2    3.399173\n",
       " 2    3    5.218477\n",
       " 3    4    7.117592\n",
       " 4    5    9.096518\n",
       " 5    6   11.155256\n",
       " 6    7   13.293805\n",
       " 7    8   15.512165\n",
       " 8    9   17.810337\n",
       " 9   10   20.188320\n",
       " 10  11   22.646115\n",
       " 11  12   25.183721\n",
       " 12  13   27.801138\n",
       " 13  14   30.498367\n",
       " 14  15   33.275407\n",
       " 15  16   36.132258\n",
       " 16  17   39.068921\n",
       " 17  18   42.085395\n",
       " 18  19   45.181681\n",
       " 19  20   48.357778\n",
       " 20  21   51.613686\n",
       " 21  22   54.949405\n",
       " 22  23   58.364936\n",
       " 23  24   61.860279\n",
       " 24  25   65.435432\n",
       " 25  26   69.090398\n",
       " 26  27   72.825174\n",
       " 27  28   76.639762\n",
       " 28  29   80.534161\n",
       " 29  30   84.508372\n",
       " 30  31   88.562393\n",
       " 31  32   92.696227\n",
       " 32  33   96.909871\n",
       " 33  34  101.203327\n",
       " 34  35  105.576595,\n",
       "      x           y\n",
       " 0    1    1.659681\n",
       " 1    2    3.399173\n",
       " 2    3    5.218477\n",
       " 3    4    7.117592\n",
       " 4    5    9.096518\n",
       " 5    6   11.155256\n",
       " 6    7   13.293805\n",
       " 7    8   15.512165\n",
       " 8    9   17.810337\n",
       " 9   10   20.188320\n",
       " 10  11   22.646115\n",
       " 11  12   25.183721\n",
       " 12  13   27.801138\n",
       " 13  14   30.498367\n",
       " 14  15   33.275407\n",
       " 15  16   36.132258\n",
       " 16  17   39.068921\n",
       " 17  18   42.085395\n",
       " 18  19   45.181681\n",
       " 19  20   48.357778\n",
       " 20  21   51.613686\n",
       " 21  22   54.949405\n",
       " 22  23   58.364936\n",
       " 23  24   61.860279\n",
       " 24  25   65.435432\n",
       " 25  26   69.090398\n",
       " 26  27   72.825174\n",
       " 27  28   76.639762\n",
       " 28  29   80.534161\n",
       " 29  30   84.508372\n",
       " 30  31   88.562393\n",
       " 31  32   92.696227\n",
       " 32  33   96.909871\n",
       " 33  34  101.203327\n",
       " 34  35  105.576595\n",
       " 35  36  110.029674,\n",
       "      x           y\n",
       " 0    1    1.659681\n",
       " 1    2    3.399173\n",
       " 2    3    5.218477\n",
       " 3    4    7.117592\n",
       " 4    5    9.096518\n",
       " 5    6   11.155256\n",
       " 6    7   13.293805\n",
       " 7    8   15.512165\n",
       " 8    9   17.810337\n",
       " 9   10   20.188320\n",
       " 10  11   22.646115\n",
       " 11  12   25.183721\n",
       " 12  13   27.801138\n",
       " 13  14   30.498367\n",
       " 14  15   33.275407\n",
       " 15  16   36.132258\n",
       " 16  17   39.068921\n",
       " 17  18   42.085395\n",
       " 18  19   45.181681\n",
       " 19  20   48.357778\n",
       " 20  21   51.613686\n",
       " 21  22   54.949405\n",
       " 22  23   58.364936\n",
       " 23  24   61.860279\n",
       " 24  25   65.435432\n",
       " 25  26   69.090398\n",
       " 26  27   72.825174\n",
       " 27  28   76.639762\n",
       " 28  29   80.534161\n",
       " 29  30   84.508372\n",
       " 30  31   88.562393\n",
       " 31  32   92.696227\n",
       " 32  33   96.909871\n",
       " 33  34  101.203327\n",
       " 34  35  105.576595\n",
       " 35  36  110.029674\n",
       " 36  37  114.562564,\n",
       "      x           y\n",
       " 0    1    1.659681\n",
       " 1    2    3.399173\n",
       " 2    3    5.218477\n",
       " 3    4    7.117592\n",
       " 4    5    9.096518\n",
       " 5    6   11.155256\n",
       " 6    7   13.293805\n",
       " 7    8   15.512165\n",
       " 8    9   17.810337\n",
       " 9   10   20.188320\n",
       " 10  11   22.646115\n",
       " 11  12   25.183721\n",
       " 12  13   27.801138\n",
       " 13  14   30.498367\n",
       " 14  15   33.275407\n",
       " 15  16   36.132258\n",
       " 16  17   39.068921\n",
       " 17  18   42.085395\n",
       " 18  19   45.181681\n",
       " 19  20   48.357778\n",
       " 20  21   51.613686\n",
       " 21  22   54.949405\n",
       " 22  23   58.364936\n",
       " 23  24   61.860279\n",
       " 24  25   65.435432\n",
       " 25  26   69.090398\n",
       " 26  27   72.825174\n",
       " 27  28   76.639762\n",
       " 28  29   80.534161\n",
       " 29  30   84.508372\n",
       " 30  31   88.562393\n",
       " 31  32   92.696227\n",
       " 32  33   96.909871\n",
       " 33  34  101.203327\n",
       " 34  35  105.576595\n",
       " 35  36  110.029674\n",
       " 36  37  114.562564\n",
       " 37  38  119.175265,\n",
       "      x           y\n",
       " 0    1    1.659681\n",
       " 1    2    3.399173\n",
       " 2    3    5.218477\n",
       " 3    4    7.117592\n",
       " 4    5    9.096518\n",
       " 5    6   11.155256\n",
       " 6    7   13.293805\n",
       " 7    8   15.512165\n",
       " 8    9   17.810337\n",
       " 9   10   20.188320\n",
       " 10  11   22.646115\n",
       " 11  12   25.183721\n",
       " 12  13   27.801138\n",
       " 13  14   30.498367\n",
       " 14  15   33.275407\n",
       " 15  16   36.132258\n",
       " 16  17   39.068921\n",
       " 17  18   42.085395\n",
       " 18  19   45.181681\n",
       " 19  20   48.357778\n",
       " 20  21   51.613686\n",
       " 21  22   54.949405\n",
       " 22  23   58.364936\n",
       " 23  24   61.860279\n",
       " 24  25   65.435432\n",
       " 25  26   69.090398\n",
       " 26  27   72.825174\n",
       " 27  28   76.639762\n",
       " 28  29   80.534161\n",
       " 29  30   84.508372\n",
       " 30  31   88.562393\n",
       " 31  32   92.696227\n",
       " 32  33   96.909871\n",
       " 33  34  101.203327\n",
       " 34  35  105.576595\n",
       " 35  36  110.029674\n",
       " 36  37  114.562564\n",
       " 37  38  119.175265\n",
       " 38  39  123.867778,\n",
       "      x           y\n",
       " 0    1    1.659681\n",
       " 1    2    3.399173\n",
       " 2    3    5.218477\n",
       " 3    4    7.117592\n",
       " 4    5    9.096518\n",
       " 5    6   11.155256\n",
       " 6    7   13.293805\n",
       " 7    8   15.512165\n",
       " 8    9   17.810337\n",
       " 9   10   20.188320\n",
       " 10  11   22.646115\n",
       " 11  12   25.183721\n",
       " 12  13   27.801138\n",
       " 13  14   30.498367\n",
       " 14  15   33.275407\n",
       " 15  16   36.132258\n",
       " 16  17   39.068921\n",
       " 17  18   42.085395\n",
       " 18  19   45.181681\n",
       " 19  20   48.357778\n",
       " 20  21   51.613686\n",
       " 21  22   54.949405\n",
       " 22  23   58.364936\n",
       " 23  24   61.860279\n",
       " 24  25   65.435432\n",
       " 25  26   69.090398\n",
       " 26  27   72.825174\n",
       " 27  28   76.639762\n",
       " 28  29   80.534161\n",
       " 29  30   84.508372\n",
       " 30  31   88.562393\n",
       " 31  32   92.696227\n",
       " 32  33   96.909871\n",
       " 33  34  101.203327\n",
       " 34  35  105.576595\n",
       " 35  36  110.029674\n",
       " 36  37  114.562564\n",
       " 37  38  119.175265\n",
       " 38  39  123.867778\n",
       " 39  40  128.640102,\n",
       "      x           y\n",
       " 0    1    1.659681\n",
       " 1    2    3.399173\n",
       " 2    3    5.218477\n",
       " 3    4    7.117592\n",
       " 4    5    9.096518\n",
       " 5    6   11.155256\n",
       " 6    7   13.293805\n",
       " 7    8   15.512165\n",
       " 8    9   17.810337\n",
       " 9   10   20.188320\n",
       " 10  11   22.646115\n",
       " 11  12   25.183721\n",
       " 12  13   27.801138\n",
       " 13  14   30.498367\n",
       " 14  15   33.275407\n",
       " 15  16   36.132258\n",
       " 16  17   39.068921\n",
       " 17  18   42.085395\n",
       " 18  19   45.181681\n",
       " 19  20   48.357778\n",
       " 20  21   51.613686\n",
       " 21  22   54.949405\n",
       " 22  23   58.364936\n",
       " 23  24   61.860279\n",
       " 24  25   65.435432\n",
       " 25  26   69.090398\n",
       " 26  27   72.825174\n",
       " 27  28   76.639762\n",
       " 28  29   80.534161\n",
       " 29  30   84.508372\n",
       " 30  31   88.562393\n",
       " 31  32   92.696227\n",
       " 32  33   96.909871\n",
       " 33  34  101.203327\n",
       " 34  35  105.576595\n",
       " 35  36  110.029674\n",
       " 36  37  114.562564\n",
       " 37  38  119.175265\n",
       " 38  39  123.867778\n",
       " 39  40  128.640102\n",
       " 40  41  133.492238,\n",
       "      x           y\n",
       " 0    1    1.659681\n",
       " 1    2    3.399173\n",
       " 2    3    5.218477\n",
       " 3    4    7.117592\n",
       " 4    5    9.096518\n",
       " 5    6   11.155256\n",
       " 6    7   13.293805\n",
       " 7    8   15.512165\n",
       " 8    9   17.810337\n",
       " 9   10   20.188320\n",
       " 10  11   22.646115\n",
       " 11  12   25.183721\n",
       " 12  13   27.801138\n",
       " 13  14   30.498367\n",
       " 14  15   33.275407\n",
       " 15  16   36.132258\n",
       " 16  17   39.068921\n",
       " 17  18   42.085395\n",
       " 18  19   45.181681\n",
       " 19  20   48.357778\n",
       " 20  21   51.613686\n",
       " 21  22   54.949405\n",
       " 22  23   58.364936\n",
       " 23  24   61.860279\n",
       " 24  25   65.435432\n",
       " 25  26   69.090398\n",
       " 26  27   72.825174\n",
       " 27  28   76.639762\n",
       " 28  29   80.534161\n",
       " 29  30   84.508372\n",
       " 30  31   88.562393\n",
       " 31  32   92.696227\n",
       " 32  33   96.909871\n",
       " 33  34  101.203327\n",
       " 34  35  105.576595\n",
       " 35  36  110.029674\n",
       " 36  37  114.562564\n",
       " 37  38  119.175265\n",
       " 38  39  123.867778\n",
       " 39  40  128.640102\n",
       " 40  41  133.492238\n",
       " 41  42  138.424185,\n",
       "      x           y\n",
       " 0    1    1.659681\n",
       " 1    2    3.399173\n",
       " 2    3    5.218477\n",
       " 3    4    7.117592\n",
       " 4    5    9.096518\n",
       " 5    6   11.155256\n",
       " 6    7   13.293805\n",
       " 7    8   15.512165\n",
       " 8    9   17.810337\n",
       " 9   10   20.188320\n",
       " 10  11   22.646115\n",
       " 11  12   25.183721\n",
       " 12  13   27.801138\n",
       " 13  14   30.498367\n",
       " 14  15   33.275407\n",
       " 15  16   36.132258\n",
       " 16  17   39.068921\n",
       " 17  18   42.085395\n",
       " 18  19   45.181681\n",
       " 19  20   48.357778\n",
       " 20  21   51.613686\n",
       " 21  22   54.949405\n",
       " 22  23   58.364936\n",
       " 23  24   61.860279\n",
       " 24  25   65.435432\n",
       " 25  26   69.090398\n",
       " 26  27   72.825174\n",
       " 27  28   76.639762\n",
       " 28  29   80.534161\n",
       " 29  30   84.508372\n",
       " 30  31   88.562393\n",
       " 31  32   92.696227\n",
       " 32  33   96.909871\n",
       " 33  34  101.203327\n",
       " 34  35  105.576595\n",
       " 35  36  110.029674\n",
       " 36  37  114.562564\n",
       " 37  38  119.175265\n",
       " 38  39  123.867778\n",
       " 39  40  128.640102\n",
       " 40  41  133.492238\n",
       " 41  42  138.424185\n",
       " 42  43  143.435943,\n",
       "      x           y\n",
       " 0    1    1.659681\n",
       " 1    2    3.399173\n",
       " 2    3    5.218477\n",
       " 3    4    7.117592\n",
       " 4    5    9.096518\n",
       " 5    6   11.155256\n",
       " 6    7   13.293805\n",
       " 7    8   15.512165\n",
       " 8    9   17.810337\n",
       " 9   10   20.188320\n",
       " 10  11   22.646115\n",
       " 11  12   25.183721\n",
       " 12  13   27.801138\n",
       " 13  14   30.498367\n",
       " 14  15   33.275407\n",
       " 15  16   36.132258\n",
       " 16  17   39.068921\n",
       " 17  18   42.085395\n",
       " 18  19   45.181681\n",
       " 19  20   48.357778\n",
       " 20  21   51.613686\n",
       " 21  22   54.949405\n",
       " 22  23   58.364936\n",
       " 23  24   61.860279\n",
       " 24  25   65.435432\n",
       " 25  26   69.090398\n",
       " 26  27   72.825174\n",
       " 27  28   76.639762\n",
       " 28  29   80.534161\n",
       " 29  30   84.508372\n",
       " 30  31   88.562393\n",
       " 31  32   92.696227\n",
       " 32  33   96.909871\n",
       " 33  34  101.203327\n",
       " 34  35  105.576595\n",
       " 35  36  110.029674\n",
       " 36  37  114.562564\n",
       " 37  38  119.175265\n",
       " 38  39  123.867778\n",
       " 39  40  128.640102\n",
       " 40  41  133.492238\n",
       " 41  42  138.424185\n",
       " 42  43  143.435943\n",
       " 43  44  148.527513,\n",
       "      x           y\n",
       " 0    1    1.659681\n",
       " 1    2    3.399173\n",
       " 2    3    5.218477\n",
       " 3    4    7.117592\n",
       " 4    5    9.096518\n",
       " 5    6   11.155256\n",
       " 6    7   13.293805\n",
       " 7    8   15.512165\n",
       " 8    9   17.810337\n",
       " 9   10   20.188320\n",
       " 10  11   22.646115\n",
       " 11  12   25.183721\n",
       " 12  13   27.801138\n",
       " 13  14   30.498367\n",
       " 14  15   33.275407\n",
       " 15  16   36.132258\n",
       " 16  17   39.068921\n",
       " 17  18   42.085395\n",
       " 18  19   45.181681\n",
       " 19  20   48.357778\n",
       " 20  21   51.613686\n",
       " 21  22   54.949405\n",
       " 22  23   58.364936\n",
       " 23  24   61.860279\n",
       " 24  25   65.435432\n",
       " 25  26   69.090398\n",
       " 26  27   72.825174\n",
       " 27  28   76.639762\n",
       " 28  29   80.534161\n",
       " 29  30   84.508372\n",
       " 30  31   88.562393\n",
       " 31  32   92.696227\n",
       " 32  33   96.909871\n",
       " 33  34  101.203327\n",
       " 34  35  105.576595\n",
       " 35  36  110.029674\n",
       " 36  37  114.562564\n",
       " 37  38  119.175265\n",
       " 38  39  123.867778\n",
       " 39  40  128.640102\n",
       " 40  41  133.492238\n",
       " 41  42  138.424185\n",
       " 42  43  143.435943\n",
       " 43  44  148.527513\n",
       " 44  45  153.698894,\n",
       "      x           y\n",
       " 0    1    1.659681\n",
       " 1    2    3.399173\n",
       " 2    3    5.218477\n",
       " 3    4    7.117592\n",
       " 4    5    9.096518\n",
       " 5    6   11.155256\n",
       " 6    7   13.293805\n",
       " 7    8   15.512165\n",
       " 8    9   17.810337\n",
       " 9   10   20.188320\n",
       " 10  11   22.646115\n",
       " 11  12   25.183721\n",
       " 12  13   27.801138\n",
       " 13  14   30.498367\n",
       " 14  15   33.275407\n",
       " 15  16   36.132258\n",
       " 16  17   39.068921\n",
       " 17  18   42.085395\n",
       " 18  19   45.181681\n",
       " 19  20   48.357778\n",
       " 20  21   51.613686\n",
       " 21  22   54.949405\n",
       " 22  23   58.364936\n",
       " 23  24   61.860279\n",
       " 24  25   65.435432\n",
       " 25  26   69.090398\n",
       " 26  27   72.825174\n",
       " 27  28   76.639762\n",
       " 28  29   80.534161\n",
       " 29  30   84.508372\n",
       " 30  31   88.562393\n",
       " 31  32   92.696227\n",
       " 32  33   96.909871\n",
       " 33  34  101.203327\n",
       " 34  35  105.576595\n",
       " 35  36  110.029674\n",
       " 36  37  114.562564\n",
       " 37  38  119.175265\n",
       " 38  39  123.867778\n",
       " 39  40  128.640102\n",
       " 40  41  133.492238\n",
       " 41  42  138.424185\n",
       " 42  43  143.435943\n",
       " 43  44  148.527513\n",
       " 44  45  153.698894\n",
       " 45  46  158.950087,\n",
       "      x           y\n",
       " 0    1    1.659681\n",
       " 1    2    3.399173\n",
       " 2    3    5.218477\n",
       " 3    4    7.117592\n",
       " 4    5    9.096518\n",
       " 5    6   11.155256\n",
       " 6    7   13.293805\n",
       " 7    8   15.512165\n",
       " 8    9   17.810337\n",
       " 9   10   20.188320\n",
       " 10  11   22.646115\n",
       " 11  12   25.183721\n",
       " 12  13   27.801138\n",
       " 13  14   30.498367\n",
       " 14  15   33.275407\n",
       " 15  16   36.132258\n",
       " 16  17   39.068921\n",
       " 17  18   42.085395\n",
       " 18  19   45.181681\n",
       " 19  20   48.357778\n",
       " 20  21   51.613686\n",
       " 21  22   54.949405\n",
       " 22  23   58.364936\n",
       " 23  24   61.860279\n",
       " 24  25   65.435432\n",
       " 25  26   69.090398\n",
       " 26  27   72.825174\n",
       " 27  28   76.639762\n",
       " 28  29   80.534161\n",
       " 29  30   84.508372\n",
       " 30  31   88.562393\n",
       " 31  32   92.696227\n",
       " 32  33   96.909871\n",
       " 33  34  101.203327\n",
       " 34  35  105.576595\n",
       " 35  36  110.029674\n",
       " 36  37  114.562564\n",
       " 37  38  119.175265\n",
       " 38  39  123.867778\n",
       " 39  40  128.640102\n",
       " 40  41  133.492238\n",
       " 41  42  138.424185\n",
       " 42  43  143.435943\n",
       " 43  44  148.527513\n",
       " 44  45  153.698894\n",
       " 45  46  158.950087\n",
       " 46  47  164.281090,\n",
       "      x           y\n",
       " 0    1    1.659681\n",
       " 1    2    3.399173\n",
       " 2    3    5.218477\n",
       " 3    4    7.117592\n",
       " 4    5    9.096518\n",
       " 5    6   11.155256\n",
       " 6    7   13.293805\n",
       " 7    8   15.512165\n",
       " 8    9   17.810337\n",
       " 9   10   20.188320\n",
       " 10  11   22.646115\n",
       " 11  12   25.183721\n",
       " 12  13   27.801138\n",
       " 13  14   30.498367\n",
       " 14  15   33.275407\n",
       " 15  16   36.132258\n",
       " 16  17   39.068921\n",
       " 17  18   42.085395\n",
       " 18  19   45.181681\n",
       " 19  20   48.357778\n",
       " 20  21   51.613686\n",
       " 21  22   54.949405\n",
       " 22  23   58.364936\n",
       " 23  24   61.860279\n",
       " 24  25   65.435432\n",
       " 25  26   69.090398\n",
       " 26  27   72.825174\n",
       " 27  28   76.639762\n",
       " 28  29   80.534161\n",
       " 29  30   84.508372\n",
       " 30  31   88.562393\n",
       " 31  32   92.696227\n",
       " 32  33   96.909871\n",
       " 33  34  101.203327\n",
       " 34  35  105.576595\n",
       " 35  36  110.029674\n",
       " 36  37  114.562564\n",
       " 37  38  119.175265\n",
       " 38  39  123.867778\n",
       " 39  40  128.640102\n",
       " 40  41  133.492238\n",
       " 41  42  138.424185\n",
       " 42  43  143.435943\n",
       " 43  44  148.527513\n",
       " 44  45  153.698894\n",
       " 45  46  158.950087\n",
       " 46  47  164.281090\n",
       " 47  48  169.691906,\n",
       "      x           y\n",
       " 0    1    1.659681\n",
       " 1    2    3.399173\n",
       " 2    3    5.218477\n",
       " 3    4    7.117592\n",
       " 4    5    9.096518\n",
       " 5    6   11.155256\n",
       " 6    7   13.293805\n",
       " 7    8   15.512165\n",
       " 8    9   17.810337\n",
       " 9   10   20.188320\n",
       " 10  11   22.646115\n",
       " 11  12   25.183721\n",
       " 12  13   27.801138\n",
       " 13  14   30.498367\n",
       " 14  15   33.275407\n",
       " 15  16   36.132258\n",
       " 16  17   39.068921\n",
       " 17  18   42.085395\n",
       " 18  19   45.181681\n",
       " 19  20   48.357778\n",
       " 20  21   51.613686\n",
       " 21  22   54.949405\n",
       " 22  23   58.364936\n",
       " 23  24   61.860279\n",
       " 24  25   65.435432\n",
       " 25  26   69.090398\n",
       " 26  27   72.825174\n",
       " 27  28   76.639762\n",
       " 28  29   80.534161\n",
       " 29  30   84.508372\n",
       " 30  31   88.562393\n",
       " 31  32   92.696227\n",
       " 32  33   96.909871\n",
       " 33  34  101.203327\n",
       " 34  35  105.576595\n",
       " 35  36  110.029674\n",
       " 36  37  114.562564\n",
       " 37  38  119.175265\n",
       " 38  39  123.867778\n",
       " 39  40  128.640102\n",
       " 40  41  133.492238\n",
       " 41  42  138.424185\n",
       " 42  43  143.435943\n",
       " 43  44  148.527513\n",
       " 44  45  153.698894\n",
       " 45  46  158.950087\n",
       " 46  47  164.281090\n",
       " 47  48  169.691906\n",
       " 48  49  175.182532,\n",
       "      x           y\n",
       " 0    1    1.659681\n",
       " 1    2    3.399173\n",
       " 2    3    5.218477\n",
       " 3    4    7.117592\n",
       " 4    5    9.096518\n",
       " 5    6   11.155256\n",
       " 6    7   13.293805\n",
       " 7    8   15.512165\n",
       " 8    9   17.810337\n",
       " 9   10   20.188320\n",
       " 10  11   22.646115\n",
       " 11  12   25.183721\n",
       " 12  13   27.801138\n",
       " 13  14   30.498367\n",
       " 14  15   33.275407\n",
       " 15  16   36.132258\n",
       " 16  17   39.068921\n",
       " 17  18   42.085395\n",
       " 18  19   45.181681\n",
       " 19  20   48.357778\n",
       " 20  21   51.613686\n",
       " 21  22   54.949405\n",
       " 22  23   58.364936\n",
       " 23  24   61.860279\n",
       " 24  25   65.435432\n",
       " 25  26   69.090398\n",
       " 26  27   72.825174\n",
       " 27  28   76.639762\n",
       " 28  29   80.534161\n",
       " 29  30   84.508372\n",
       " 30  31   88.562393\n",
       " 31  32   92.696227\n",
       " 32  33   96.909871\n",
       " 33  34  101.203327\n",
       " 34  35  105.576595\n",
       " 35  36  110.029674\n",
       " 36  37  114.562564\n",
       " 37  38  119.175265\n",
       " 38  39  123.867778\n",
       " 39  40  128.640102\n",
       " 40  41  133.492238\n",
       " 41  42  138.424185\n",
       " 42  43  143.435943\n",
       " 43  44  148.527513\n",
       " 44  45  153.698894\n",
       " 45  46  158.950087\n",
       " 46  47  164.281090\n",
       " 47  48  169.691906\n",
       " 48  49  175.182532\n",
       " 49  50  180.752970,\n",
       "      x           y\n",
       " 0    1    1.659681\n",
       " 1    2    3.399173\n",
       " 2    3    5.218477\n",
       " 3    4    7.117592\n",
       " 4    5    9.096518\n",
       " 5    6   11.155256\n",
       " 6    7   13.293805\n",
       " 7    8   15.512165\n",
       " 8    9   17.810337\n",
       " 9   10   20.188320\n",
       " 10  11   22.646115\n",
       " 11  12   25.183721\n",
       " 12  13   27.801138\n",
       " 13  14   30.498367\n",
       " 14  15   33.275407\n",
       " 15  16   36.132258\n",
       " 16  17   39.068921\n",
       " 17  18   42.085395\n",
       " 18  19   45.181681\n",
       " 19  20   48.357778\n",
       " 20  21   51.613686\n",
       " 21  22   54.949405\n",
       " 22  23   58.364936\n",
       " 23  24   61.860279\n",
       " 24  25   65.435432\n",
       " 25  26   69.090398\n",
       " 26  27   72.825174\n",
       " 27  28   76.639762\n",
       " 28  29   80.534161\n",
       " 29  30   84.508372\n",
       " 30  31   88.562393\n",
       " 31  32   92.696227\n",
       " 32  33   96.909871\n",
       " 33  34  101.203327\n",
       " 34  35  105.576595\n",
       " 35  36  110.029674\n",
       " 36  37  114.562564\n",
       " 37  38  119.175265\n",
       " 38  39  123.867778\n",
       " 39  40  128.640102\n",
       " 40  41  133.492238\n",
       " 41  42  138.424185\n",
       " 42  43  143.435943\n",
       " 43  44  148.527513\n",
       " 44  45  153.698894\n",
       " 45  46  158.950087\n",
       " 46  47  164.281090\n",
       " 47  48  169.691906\n",
       " 48  49  175.182532\n",
       " 49  50  180.752970\n",
       " 50  51  186.403219,\n",
       "      x           y\n",
       " 0    1    1.659681\n",
       " 1    2    3.399173\n",
       " 2    3    5.218477\n",
       " 3    4    7.117592\n",
       " 4    5    9.096518\n",
       " 5    6   11.155256\n",
       " 6    7   13.293805\n",
       " 7    8   15.512165\n",
       " 8    9   17.810337\n",
       " 9   10   20.188320\n",
       " 10  11   22.646115\n",
       " 11  12   25.183721\n",
       " 12  13   27.801138\n",
       " 13  14   30.498367\n",
       " 14  15   33.275407\n",
       " 15  16   36.132258\n",
       " 16  17   39.068921\n",
       " 17  18   42.085395\n",
       " 18  19   45.181681\n",
       " 19  20   48.357778\n",
       " 20  21   51.613686\n",
       " 21  22   54.949405\n",
       " 22  23   58.364936\n",
       " 23  24   61.860279\n",
       " 24  25   65.435432\n",
       " 25  26   69.090398\n",
       " 26  27   72.825174\n",
       " 27  28   76.639762\n",
       " 28  29   80.534161\n",
       " 29  30   84.508372\n",
       " 30  31   88.562393\n",
       " 31  32   92.696227\n",
       " 32  33   96.909871\n",
       " 33  34  101.203327\n",
       " 34  35  105.576595\n",
       " 35  36  110.029674\n",
       " 36  37  114.562564\n",
       " 37  38  119.175265\n",
       " 38  39  123.867778\n",
       " 39  40  128.640102\n",
       " 40  41  133.492238\n",
       " 41  42  138.424185\n",
       " 42  43  143.435943\n",
       " 43  44  148.527513\n",
       " 44  45  153.698894\n",
       " 45  46  158.950087\n",
       " 46  47  164.281090\n",
       " 47  48  169.691906\n",
       " 48  49  175.182532\n",
       " 49  50  180.752970\n",
       " 50  51  186.403219\n",
       " 51  52  192.133280,\n",
       "      x           y\n",
       " 0    1    1.659681\n",
       " 1    2    3.399173\n",
       " 2    3    5.218477\n",
       " 3    4    7.117592\n",
       " 4    5    9.096518\n",
       " 5    6   11.155256\n",
       " 6    7   13.293805\n",
       " 7    8   15.512165\n",
       " 8    9   17.810337\n",
       " 9   10   20.188320\n",
       " 10  11   22.646115\n",
       " 11  12   25.183721\n",
       " 12  13   27.801138\n",
       " 13  14   30.498367\n",
       " 14  15   33.275407\n",
       " 15  16   36.132258\n",
       " 16  17   39.068921\n",
       " 17  18   42.085395\n",
       " 18  19   45.181681\n",
       " 19  20   48.357778\n",
       " 20  21   51.613686\n",
       " 21  22   54.949405\n",
       " 22  23   58.364936\n",
       " 23  24   61.860279\n",
       " 24  25   65.435432\n",
       " 25  26   69.090398\n",
       " 26  27   72.825174\n",
       " 27  28   76.639762\n",
       " 28  29   80.534161\n",
       " 29  30   84.508372\n",
       " 30  31   88.562393\n",
       " 31  32   92.696227\n",
       " 32  33   96.909871\n",
       " 33  34  101.203327\n",
       " 34  35  105.576595\n",
       " 35  36  110.029674\n",
       " 36  37  114.562564\n",
       " 37  38  119.175265\n",
       " 38  39  123.867778\n",
       " 39  40  128.640102\n",
       " 40  41  133.492238\n",
       " 41  42  138.424185\n",
       " 42  43  143.435943\n",
       " 43  44  148.527513\n",
       " 44  45  153.698894\n",
       " 45  46  158.950087\n",
       " 46  47  164.281090\n",
       " 47  48  169.691906\n",
       " 48  49  175.182532\n",
       " 49  50  180.752970\n",
       " 50  51  186.403219\n",
       " 51  52  192.133280\n",
       " 52  53  197.943152,\n",
       "      x           y\n",
       " 0    1    1.659681\n",
       " 1    2    3.399173\n",
       " 2    3    5.218477\n",
       " 3    4    7.117592\n",
       " 4    5    9.096518\n",
       " 5    6   11.155256\n",
       " 6    7   13.293805\n",
       " 7    8   15.512165\n",
       " 8    9   17.810337\n",
       " 9   10   20.188320\n",
       " 10  11   22.646115\n",
       " 11  12   25.183721\n",
       " 12  13   27.801138\n",
       " 13  14   30.498367\n",
       " 14  15   33.275407\n",
       " 15  16   36.132258\n",
       " 16  17   39.068921\n",
       " 17  18   42.085395\n",
       " 18  19   45.181681\n",
       " 19  20   48.357778\n",
       " 20  21   51.613686\n",
       " 21  22   54.949405\n",
       " 22  23   58.364936\n",
       " 23  24   61.860279\n",
       " 24  25   65.435432\n",
       " 25  26   69.090398\n",
       " 26  27   72.825174\n",
       " 27  28   76.639762\n",
       " 28  29   80.534161\n",
       " 29  30   84.508372\n",
       " 30  31   88.562393\n",
       " 31  32   92.696227\n",
       " 32  33   96.909871\n",
       " 33  34  101.203327\n",
       " 34  35  105.576595\n",
       " 35  36  110.029674\n",
       " 36  37  114.562564\n",
       " 37  38  119.175265\n",
       " 38  39  123.867778\n",
       " 39  40  128.640102\n",
       " 40  41  133.492238\n",
       " 41  42  138.424185\n",
       " 42  43  143.435943\n",
       " 43  44  148.527513\n",
       " 44  45  153.698894\n",
       " 45  46  158.950087\n",
       " 46  47  164.281090\n",
       " 47  48  169.691906\n",
       " 48  49  175.182532\n",
       " 49  50  180.752970\n",
       " 50  51  186.403219\n",
       " 51  52  192.133280\n",
       " 52  53  197.943152\n",
       " 53  54  203.832836,\n",
       "      x           y\n",
       " 0    1    1.659681\n",
       " 1    2    3.399173\n",
       " 2    3    5.218477\n",
       " 3    4    7.117592\n",
       " 4    5    9.096518\n",
       " 5    6   11.155256\n",
       " 6    7   13.293805\n",
       " 7    8   15.512165\n",
       " 8    9   17.810337\n",
       " 9   10   20.188320\n",
       " 10  11   22.646115\n",
       " 11  12   25.183721\n",
       " 12  13   27.801138\n",
       " 13  14   30.498367\n",
       " 14  15   33.275407\n",
       " 15  16   36.132258\n",
       " 16  17   39.068921\n",
       " 17  18   42.085395\n",
       " 18  19   45.181681\n",
       " 19  20   48.357778\n",
       " 20  21   51.613686\n",
       " 21  22   54.949405\n",
       " 22  23   58.364936\n",
       " 23  24   61.860279\n",
       " 24  25   65.435432\n",
       " 25  26   69.090398\n",
       " 26  27   72.825174\n",
       " 27  28   76.639762\n",
       " 28  29   80.534161\n",
       " 29  30   84.508372\n",
       " 30  31   88.562393\n",
       " 31  32   92.696227\n",
       " 32  33   96.909871\n",
       " 33  34  101.203327\n",
       " 34  35  105.576595\n",
       " 35  36  110.029674\n",
       " 36  37  114.562564\n",
       " 37  38  119.175265\n",
       " 38  39  123.867778\n",
       " 39  40  128.640102\n",
       " 40  41  133.492238\n",
       " 41  42  138.424185\n",
       " 42  43  143.435943\n",
       " 43  44  148.527513\n",
       " 44  45  153.698894\n",
       " 45  46  158.950087\n",
       " 46  47  164.281090\n",
       " 47  48  169.691906\n",
       " 48  49  175.182532\n",
       " 49  50  180.752970\n",
       " 50  51  186.403219\n",
       " 51  52  192.133280\n",
       " 52  53  197.943152\n",
       " 53  54  203.832836\n",
       " 54  55  209.802330,\n",
       "      x           y\n",
       " 0    1    1.659681\n",
       " 1    2    3.399173\n",
       " 2    3    5.218477\n",
       " 3    4    7.117592\n",
       " 4    5    9.096518\n",
       " 5    6   11.155256\n",
       " 6    7   13.293805\n",
       " 7    8   15.512165\n",
       " 8    9   17.810337\n",
       " 9   10   20.188320\n",
       " 10  11   22.646115\n",
       " 11  12   25.183721\n",
       " 12  13   27.801138\n",
       " 13  14   30.498367\n",
       " 14  15   33.275407\n",
       " 15  16   36.132258\n",
       " 16  17   39.068921\n",
       " 17  18   42.085395\n",
       " 18  19   45.181681\n",
       " 19  20   48.357778\n",
       " 20  21   51.613686\n",
       " 21  22   54.949405\n",
       " 22  23   58.364936\n",
       " 23  24   61.860279\n",
       " 24  25   65.435432\n",
       " 25  26   69.090398\n",
       " 26  27   72.825174\n",
       " 27  28   76.639762\n",
       " 28  29   80.534161\n",
       " 29  30   84.508372\n",
       " 30  31   88.562393\n",
       " 31  32   92.696227\n",
       " 32  33   96.909871\n",
       " 33  34  101.203327\n",
       " 34  35  105.576595\n",
       " 35  36  110.029674\n",
       " 36  37  114.562564\n",
       " 37  38  119.175265\n",
       " 38  39  123.867778\n",
       " 39  40  128.640102\n",
       " 40  41  133.492238\n",
       " 41  42  138.424185\n",
       " 42  43  143.435943\n",
       " 43  44  148.527513\n",
       " 44  45  153.698894\n",
       " 45  46  158.950087\n",
       " 46  47  164.281090\n",
       " 47  48  169.691906\n",
       " 48  49  175.182532\n",
       " 49  50  180.752970\n",
       " 50  51  186.403219\n",
       " 51  52  192.133280\n",
       " 52  53  197.943152\n",
       " 53  54  203.832836\n",
       " 54  55  209.802330\n",
       " 55  56  215.851636,\n",
       "      x           y\n",
       " 0    1    1.659681\n",
       " 1    2    3.399173\n",
       " 2    3    5.218477\n",
       " 3    4    7.117592\n",
       " 4    5    9.096518\n",
       " 5    6   11.155256\n",
       " 6    7   13.293805\n",
       " 7    8   15.512165\n",
       " 8    9   17.810337\n",
       " 9   10   20.188320\n",
       " 10  11   22.646115\n",
       " 11  12   25.183721\n",
       " 12  13   27.801138\n",
       " 13  14   30.498367\n",
       " 14  15   33.275407\n",
       " 15  16   36.132258\n",
       " 16  17   39.068921\n",
       " 17  18   42.085395\n",
       " 18  19   45.181681\n",
       " 19  20   48.357778\n",
       " 20  21   51.613686\n",
       " 21  22   54.949405\n",
       " 22  23   58.364936\n",
       " 23  24   61.860279\n",
       " 24  25   65.435432\n",
       " 25  26   69.090398\n",
       " 26  27   72.825174\n",
       " 27  28   76.639762\n",
       " 28  29   80.534161\n",
       " 29  30   84.508372\n",
       " 30  31   88.562393\n",
       " 31  32   92.696227\n",
       " 32  33   96.909871\n",
       " 33  34  101.203327\n",
       " 34  35  105.576595\n",
       " 35  36  110.029674\n",
       " 36  37  114.562564\n",
       " 37  38  119.175265\n",
       " 38  39  123.867778\n",
       " 39  40  128.640102\n",
       " 40  41  133.492238\n",
       " 41  42  138.424185\n",
       " 42  43  143.435943\n",
       " 43  44  148.527513\n",
       " 44  45  153.698894\n",
       " 45  46  158.950087\n",
       " 46  47  164.281090\n",
       " 47  48  169.691906\n",
       " 48  49  175.182532\n",
       " 49  50  180.752970\n",
       " 50  51  186.403219\n",
       " 51  52  192.133280\n",
       " 52  53  197.943152\n",
       " 53  54  203.832836\n",
       " 54  55  209.802330\n",
       " 55  56  215.851636\n",
       " 56  57  221.980754,\n",
       "      x           y\n",
       " 0    1    1.659681\n",
       " 1    2    3.399173\n",
       " 2    3    5.218477\n",
       " 3    4    7.117592\n",
       " 4    5    9.096518\n",
       " 5    6   11.155256\n",
       " 6    7   13.293805\n",
       " 7    8   15.512165\n",
       " 8    9   17.810337\n",
       " 9   10   20.188320\n",
       " 10  11   22.646115\n",
       " 11  12   25.183721\n",
       " 12  13   27.801138\n",
       " 13  14   30.498367\n",
       " 14  15   33.275407\n",
       " 15  16   36.132258\n",
       " 16  17   39.068921\n",
       " 17  18   42.085395\n",
       " 18  19   45.181681\n",
       " 19  20   48.357778\n",
       " 20  21   51.613686\n",
       " 21  22   54.949405\n",
       " 22  23   58.364936\n",
       " 23  24   61.860279\n",
       " 24  25   65.435432\n",
       " 25  26   69.090398\n",
       " 26  27   72.825174\n",
       " 27  28   76.639762\n",
       " 28  29   80.534161\n",
       " 29  30   84.508372\n",
       " 30  31   88.562393\n",
       " 31  32   92.696227\n",
       " 32  33   96.909871\n",
       " 33  34  101.203327\n",
       " 34  35  105.576595\n",
       " 35  36  110.029674\n",
       " 36  37  114.562564\n",
       " 37  38  119.175265\n",
       " 38  39  123.867778\n",
       " 39  40  128.640102\n",
       " 40  41  133.492238\n",
       " 41  42  138.424185\n",
       " 42  43  143.435943\n",
       " 43  44  148.527513\n",
       " 44  45  153.698894\n",
       " 45  46  158.950087\n",
       " 46  47  164.281090\n",
       " 47  48  169.691906\n",
       " 48  49  175.182532\n",
       " 49  50  180.752970\n",
       " 50  51  186.403219\n",
       " 51  52  192.133280\n",
       " 52  53  197.943152\n",
       " 53  54  203.832836\n",
       " 54  55  209.802330\n",
       " 55  56  215.851636\n",
       " 56  57  221.980754\n",
       " 57  58  228.189683,\n",
       "      x           y\n",
       " 0    1    1.659681\n",
       " 1    2    3.399173\n",
       " 2    3    5.218477\n",
       " 3    4    7.117592\n",
       " 4    5    9.096518\n",
       " 5    6   11.155256\n",
       " 6    7   13.293805\n",
       " 7    8   15.512165\n",
       " 8    9   17.810337\n",
       " 9   10   20.188320\n",
       " 10  11   22.646115\n",
       " 11  12   25.183721\n",
       " 12  13   27.801138\n",
       " 13  14   30.498367\n",
       " 14  15   33.275407\n",
       " 15  16   36.132258\n",
       " 16  17   39.068921\n",
       " 17  18   42.085395\n",
       " 18  19   45.181681\n",
       " 19  20   48.357778\n",
       " 20  21   51.613686\n",
       " 21  22   54.949405\n",
       " 22  23   58.364936\n",
       " 23  24   61.860279\n",
       " 24  25   65.435432\n",
       " 25  26   69.090398\n",
       " 26  27   72.825174\n",
       " 27  28   76.639762\n",
       " 28  29   80.534161\n",
       " 29  30   84.508372\n",
       " 30  31   88.562393\n",
       " 31  32   92.696227\n",
       " 32  33   96.909871\n",
       " 33  34  101.203327\n",
       " 34  35  105.576595\n",
       " 35  36  110.029674\n",
       " 36  37  114.562564\n",
       " 37  38  119.175265\n",
       " 38  39  123.867778\n",
       " 39  40  128.640102\n",
       " 40  41  133.492238\n",
       " 41  42  138.424185\n",
       " 42  43  143.435943\n",
       " 43  44  148.527513\n",
       " 44  45  153.698894\n",
       " 45  46  158.950087\n",
       " 46  47  164.281090\n",
       " 47  48  169.691906\n",
       " 48  49  175.182532\n",
       " 49  50  180.752970\n",
       " 50  51  186.403219\n",
       " 51  52  192.133280\n",
       " 52  53  197.943152\n",
       " 53  54  203.832836\n",
       " 54  55  209.802330\n",
       " 55  56  215.851636\n",
       " 56  57  221.980754\n",
       " 57  58  228.189683\n",
       " 58  59  234.478423,\n",
       "      x           y\n",
       " 0    1    1.659681\n",
       " 1    2    3.399173\n",
       " 2    3    5.218477\n",
       " 3    4    7.117592\n",
       " 4    5    9.096518\n",
       " 5    6   11.155256\n",
       " 6    7   13.293805\n",
       " 7    8   15.512165\n",
       " 8    9   17.810337\n",
       " 9   10   20.188320\n",
       " 10  11   22.646115\n",
       " 11  12   25.183721\n",
       " 12  13   27.801138\n",
       " 13  14   30.498367\n",
       " 14  15   33.275407\n",
       " 15  16   36.132258\n",
       " 16  17   39.068921\n",
       " 17  18   42.085395\n",
       " 18  19   45.181681\n",
       " 19  20   48.357778\n",
       " 20  21   51.613686\n",
       " 21  22   54.949405\n",
       " 22  23   58.364936\n",
       " 23  24   61.860279\n",
       " 24  25   65.435432\n",
       " 25  26   69.090398\n",
       " 26  27   72.825174\n",
       " 27  28   76.639762\n",
       " 28  29   80.534161\n",
       " 29  30   84.508372\n",
       " 30  31   88.562393\n",
       " 31  32   92.696227\n",
       " 32  33   96.909871\n",
       " 33  34  101.203327\n",
       " 34  35  105.576595\n",
       " 35  36  110.029674\n",
       " 36  37  114.562564\n",
       " 37  38  119.175265\n",
       " 38  39  123.867778\n",
       " 39  40  128.640102\n",
       " 40  41  133.492238\n",
       " 41  42  138.424185\n",
       " 42  43  143.435943\n",
       " 43  44  148.527513\n",
       " 44  45  153.698894\n",
       " 45  46  158.950087\n",
       " 46  47  164.281090\n",
       " 47  48  169.691906\n",
       " 48  49  175.182532\n",
       " 49  50  180.752970\n",
       " 50  51  186.403219\n",
       " 51  52  192.133280\n",
       " 52  53  197.943152\n",
       " 53  54  203.832836\n",
       " 54  55  209.802330\n",
       " 55  56  215.851636\n",
       " 56  57  221.980754\n",
       " 57  58  228.189683\n",
       " 58  59  234.478423\n",
       " 59  60  240.846975,\n",
       "      x           y\n",
       " 0    1    1.659681\n",
       " 1    2    3.399173\n",
       " 2    3    5.218477\n",
       " 3    4    7.117592\n",
       " 4    5    9.096518\n",
       " ..  ..         ...\n",
       " 56  57  221.980754\n",
       " 57  58  228.189683\n",
       " 58  59  234.478423\n",
       " 59  60  240.846975\n",
       " 60  61  247.295338\n",
       " \n",
       " [61 rows x 2 columns],\n",
       "      x           y\n",
       " 0    1    1.659681\n",
       " 1    2    3.399173\n",
       " 2    3    5.218477\n",
       " 3    4    7.117592\n",
       " 4    5    9.096518\n",
       " ..  ..         ...\n",
       " 57  58  228.189683\n",
       " 58  59  234.478423\n",
       " 59  60  240.846975\n",
       " 60  61  247.295338\n",
       " 61  62  253.823512\n",
       " \n",
       " [62 rows x 2 columns],\n",
       "      x           y\n",
       " 0    1    1.659681\n",
       " 1    2    3.399173\n",
       " 2    3    5.218477\n",
       " 3    4    7.117592\n",
       " 4    5    9.096518\n",
       " ..  ..         ...\n",
       " 58  59  234.478423\n",
       " 59  60  240.846975\n",
       " 60  61  247.295338\n",
       " 61  62  253.823512\n",
       " 62  63  260.431498\n",
       " \n",
       " [63 rows x 2 columns],\n",
       "      x           y\n",
       " 0    1    1.659681\n",
       " 1    2    3.399173\n",
       " 2    3    5.218477\n",
       " 3    4    7.117592\n",
       " 4    5    9.096518\n",
       " ..  ..         ...\n",
       " 59  60  240.846975\n",
       " 60  61  247.295338\n",
       " 61  62  253.823512\n",
       " 62  63  260.431498\n",
       " 63  64  267.119295\n",
       " \n",
       " [64 rows x 2 columns],\n",
       "      x           y\n",
       " 0    1    1.659681\n",
       " 1    2    3.399173\n",
       " 2    3    5.218477\n",
       " 3    4    7.117592\n",
       " 4    5    9.096518\n",
       " ..  ..         ...\n",
       " 60  61  247.295338\n",
       " 61  62  253.823512\n",
       " 62  63  260.431498\n",
       " 63  64  267.119295\n",
       " 64  65  273.886903\n",
       " \n",
       " [65 rows x 2 columns],\n",
       "      x           y\n",
       " 0    1    1.659681\n",
       " 1    2    3.399173\n",
       " 2    3    5.218477\n",
       " 3    4    7.117592\n",
       " 4    5    9.096518\n",
       " ..  ..         ...\n",
       " 61  62  253.823512\n",
       " 62  63  260.431498\n",
       " 63  64  267.119295\n",
       " 64  65  273.886903\n",
       " 65  66  280.734323\n",
       " \n",
       " [66 rows x 2 columns],\n",
       "      x           y\n",
       " 0    1    1.659681\n",
       " 1    2    3.399173\n",
       " 2    3    5.218477\n",
       " 3    4    7.117592\n",
       " 4    5    9.096518\n",
       " ..  ..         ...\n",
       " 62  63  260.431498\n",
       " 63  64  267.119295\n",
       " 64  65  273.886903\n",
       " 65  66  280.734323\n",
       " 66  67  287.661554\n",
       " \n",
       " [67 rows x 2 columns],\n",
       "      x           y\n",
       " 0    1    1.659681\n",
       " 1    2    3.399173\n",
       " 2    3    5.218477\n",
       " 3    4    7.117592\n",
       " 4    5    9.096518\n",
       " ..  ..         ...\n",
       " 63  64  267.119295\n",
       " 64  65  273.886903\n",
       " 65  66  280.734323\n",
       " 66  67  287.661554\n",
       " 67  68  294.668597\n",
       " \n",
       " [68 rows x 2 columns],\n",
       "      x           y\n",
       " 0    1    1.659681\n",
       " 1    2    3.399173\n",
       " 2    3    5.218477\n",
       " 3    4    7.117592\n",
       " 4    5    9.096518\n",
       " ..  ..         ...\n",
       " 64  65  273.886903\n",
       " 65  66  280.734323\n",
       " 66  67  287.661554\n",
       " 67  68  294.668597\n",
       " 68  69  301.755451\n",
       " \n",
       " [69 rows x 2 columns],\n",
       "      x           y\n",
       " 0    1    1.659681\n",
       " 1    2    3.399173\n",
       " 2    3    5.218477\n",
       " 3    4    7.117592\n",
       " 4    5    9.096518\n",
       " ..  ..         ...\n",
       " 65  66  280.734323\n",
       " 66  67  287.661554\n",
       " 67  68  294.668597\n",
       " 68  69  301.755451\n",
       " 69  70  308.922116\n",
       " \n",
       " [70 rows x 2 columns],\n",
       "      x           y\n",
       " 0    1    1.659681\n",
       " 1    2    3.399173\n",
       " 2    3    5.218477\n",
       " 3    4    7.117592\n",
       " 4    5    9.096518\n",
       " ..  ..         ...\n",
       " 66  67  287.661554\n",
       " 67  68  294.668597\n",
       " 68  69  301.755451\n",
       " 69  70  308.922116\n",
       " 70  71  316.168593\n",
       " \n",
       " [71 rows x 2 columns],\n",
       "      x           y\n",
       " 0    1    1.659681\n",
       " 1    2    3.399173\n",
       " 2    3    5.218477\n",
       " 3    4    7.117592\n",
       " 4    5    9.096518\n",
       " ..  ..         ...\n",
       " 67  68  294.668597\n",
       " 68  69  301.755451\n",
       " 69  70  308.922116\n",
       " 70  71  316.168593\n",
       " 71  72  323.494881\n",
       " \n",
       " [72 rows x 2 columns],\n",
       "      x           y\n",
       " 0    1    1.659681\n",
       " 1    2    3.399173\n",
       " 2    3    5.218477\n",
       " 3    4    7.117592\n",
       " 4    5    9.096518\n",
       " ..  ..         ...\n",
       " 68  69  301.755451\n",
       " 69  70  308.922116\n",
       " 70  71  316.168593\n",
       " 71  72  323.494881\n",
       " 72  73  330.900980\n",
       " \n",
       " [73 rows x 2 columns],\n",
       "      x           y\n",
       " 0    1    1.659681\n",
       " 1    2    3.399173\n",
       " 2    3    5.218477\n",
       " 3    4    7.117592\n",
       " 4    5    9.096518\n",
       " ..  ..         ...\n",
       " 69  70  308.922116\n",
       " 70  71  316.168593\n",
       " 71  72  323.494881\n",
       " 72  73  330.900980\n",
       " 73  74  338.386891\n",
       " \n",
       " [74 rows x 2 columns],\n",
       "      x           y\n",
       " 0    1    1.659681\n",
       " 1    2    3.399173\n",
       " 2    3    5.218477\n",
       " 3    4    7.117592\n",
       " 4    5    9.096518\n",
       " ..  ..         ...\n",
       " 70  71  316.168593\n",
       " 71  72  323.494881\n",
       " 72  73  330.900980\n",
       " 73  74  338.386891\n",
       " 74  75  345.952613\n",
       " \n",
       " [75 rows x 2 columns],\n",
       "      x           y\n",
       " 0    1    1.659681\n",
       " 1    2    3.399173\n",
       " 2    3    5.218477\n",
       " 3    4    7.117592\n",
       " 4    5    9.096518\n",
       " ..  ..         ...\n",
       " 71  72  323.494881\n",
       " 72  73  330.900980\n",
       " 73  74  338.386891\n",
       " 74  75  345.952613\n",
       " 75  76  353.598147\n",
       " \n",
       " [76 rows x 2 columns],\n",
       "      x           y\n",
       " 0    1    1.659681\n",
       " 1    2    3.399173\n",
       " 2    3    5.218477\n",
       " 3    4    7.117592\n",
       " 4    5    9.096518\n",
       " ..  ..         ...\n",
       " 72  73  330.900980\n",
       " 73  74  338.386891\n",
       " 74  75  345.952613\n",
       " 75  76  353.598147\n",
       " 76  77  361.323492\n",
       " \n",
       " [77 rows x 2 columns],\n",
       "      x           y\n",
       " 0    1    1.659681\n",
       " 1    2    3.399173\n",
       " 2    3    5.218477\n",
       " 3    4    7.117592\n",
       " 4    5    9.096518\n",
       " ..  ..         ...\n",
       " 73  74  338.386891\n",
       " 74  75  345.952613\n",
       " 75  76  353.598147\n",
       " 76  77  361.323492\n",
       " 77  78  369.128648\n",
       " \n",
       " [78 rows x 2 columns],\n",
       "      x           y\n",
       " 0    1    1.659681\n",
       " 1    2    3.399173\n",
       " 2    3    5.218477\n",
       " 3    4    7.117592\n",
       " 4    5    9.096518\n",
       " ..  ..         ...\n",
       " 74  75  345.952613\n",
       " 75  76  353.598147\n",
       " 76  77  361.323492\n",
       " 77  78  369.128648\n",
       " 78  79  377.013615\n",
       " \n",
       " [79 rows x 2 columns],\n",
       "      x           y\n",
       " 0    1    1.659681\n",
       " 1    2    3.399173\n",
       " 2    3    5.218477\n",
       " 3    4    7.117592\n",
       " 4    5    9.096518\n",
       " ..  ..         ...\n",
       " 75  76  353.598147\n",
       " 76  77  361.323492\n",
       " 77  78  369.128648\n",
       " 78  79  377.013615\n",
       " 79  80  384.978394\n",
       " \n",
       " [80 rows x 2 columns],\n",
       "      x           y\n",
       " 0    1    1.659681\n",
       " 1    2    3.399173\n",
       " 2    3    5.218477\n",
       " 3    4    7.117592\n",
       " 4    5    9.096518\n",
       " ..  ..         ...\n",
       " 76  77  361.323492\n",
       " 77  78  369.128648\n",
       " 78  79  377.013615\n",
       " 79  80  384.978394\n",
       " 80  81  393.022985\n",
       " \n",
       " [81 rows x 2 columns],\n",
       "      x           y\n",
       " 0    1    1.659681\n",
       " 1    2    3.399173\n",
       " 2    3    5.218477\n",
       " 3    4    7.117592\n",
       " 4    5    9.096518\n",
       " ..  ..         ...\n",
       " 77  78  369.128648\n",
       " 78  79  377.013615\n",
       " 79  80  384.978394\n",
       " 80  81  393.022985\n",
       " 81  82  401.147386\n",
       " \n",
       " [82 rows x 2 columns],\n",
       "      x           y\n",
       " 0    1    1.659681\n",
       " 1    2    3.399173\n",
       " 2    3    5.218477\n",
       " 3    4    7.117592\n",
       " 4    5    9.096518\n",
       " ..  ..         ...\n",
       " 78  79  377.013615\n",
       " 79  80  384.978394\n",
       " 80  81  393.022985\n",
       " 81  82  401.147386\n",
       " 82  83  409.351600\n",
       " \n",
       " [83 rows x 2 columns],\n",
       "      x           y\n",
       " 0    1    1.659681\n",
       " 1    2    3.399173\n",
       " 2    3    5.218477\n",
       " 3    4    7.117592\n",
       " 4    5    9.096518\n",
       " ..  ..         ...\n",
       " 79  80  384.978394\n",
       " 80  81  393.022985\n",
       " 81  82  401.147386\n",
       " 82  83  409.351600\n",
       " 83  84  417.635624\n",
       " \n",
       " [84 rows x 2 columns],\n",
       "      x           y\n",
       " 0    1    1.659681\n",
       " 1    2    3.399173\n",
       " 2    3    5.218477\n",
       " 3    4    7.117592\n",
       " 4    5    9.096518\n",
       " ..  ..         ...\n",
       " 80  81  393.022985\n",
       " 81  82  401.147386\n",
       " 82  83  409.351600\n",
       " 83  84  417.635624\n",
       " 84  85  425.999460\n",
       " \n",
       " [85 rows x 2 columns],\n",
       "      x           y\n",
       " 0    1    1.659681\n",
       " 1    2    3.399173\n",
       " 2    3    5.218477\n",
       " 3    4    7.117592\n",
       " 4    5    9.096518\n",
       " ..  ..         ...\n",
       " 81  82  401.147386\n",
       " 82  83  409.351600\n",
       " 83  84  417.635624\n",
       " 84  85  425.999460\n",
       " 85  86  434.443107\n",
       " \n",
       " [86 rows x 2 columns],\n",
       "      x           y\n",
       " 0    1    1.659681\n",
       " 1    2    3.399173\n",
       " 2    3    5.218477\n",
       " 3    4    7.117592\n",
       " 4    5    9.096518\n",
       " ..  ..         ...\n",
       " 82  83  409.351600\n",
       " 83  84  417.635624\n",
       " 84  85  425.999460\n",
       " 85  86  434.443107\n",
       " 86  87  442.966566\n",
       " \n",
       " [87 rows x 2 columns],\n",
       "      x           y\n",
       " 0    1    1.659681\n",
       " 1    2    3.399173\n",
       " 2    3    5.218477\n",
       " 3    4    7.117592\n",
       " 4    5    9.096518\n",
       " ..  ..         ...\n",
       " 83  84  417.635624\n",
       " 84  85  425.999460\n",
       " 85  86  434.443107\n",
       " 86  87  442.966566\n",
       " 87  88  451.569836\n",
       " \n",
       " [88 rows x 2 columns],\n",
       "      x           y\n",
       " 0    1    1.659681\n",
       " 1    2    3.399173\n",
       " 2    3    5.218477\n",
       " 3    4    7.117592\n",
       " 4    5    9.096518\n",
       " ..  ..         ...\n",
       " 84  85  425.999460\n",
       " 85  86  434.443107\n",
       " 86  87  442.966566\n",
       " 87  88  451.569836\n",
       " 88  89  460.252917\n",
       " \n",
       " [89 rows x 2 columns],\n",
       "      x           y\n",
       " 0    1    1.659681\n",
       " 1    2    3.399173\n",
       " 2    3    5.218477\n",
       " 3    4    7.117592\n",
       " 4    5    9.096518\n",
       " ..  ..         ...\n",
       " 85  86  434.443107\n",
       " 86  87  442.966566\n",
       " 87  88  451.569836\n",
       " 88  89  460.252917\n",
       " 89  90  469.015810\n",
       " \n",
       " [90 rows x 2 columns],\n",
       "      x           y\n",
       " 0    1    1.659681\n",
       " 1    2    3.399173\n",
       " 2    3    5.218477\n",
       " 3    4    7.117592\n",
       " 4    5    9.096518\n",
       " ..  ..         ...\n",
       " 86  87  442.966566\n",
       " 87  88  451.569836\n",
       " 88  89  460.252917\n",
       " 89  90  469.015810\n",
       " 90  91  477.858514\n",
       " \n",
       " [91 rows x 2 columns],\n",
       "      x           y\n",
       " 0    1    1.659681\n",
       " 1    2    3.399173\n",
       " 2    3    5.218477\n",
       " 3    4    7.117592\n",
       " 4    5    9.096518\n",
       " ..  ..         ...\n",
       " 87  88  451.569836\n",
       " 88  89  460.252917\n",
       " 89  90  469.015810\n",
       " 90  91  477.858514\n",
       " 91  92  486.781029\n",
       " \n",
       " [92 rows x 2 columns],\n",
       "      x           y\n",
       " 0    1    1.659681\n",
       " 1    2    3.399173\n",
       " 2    3    5.218477\n",
       " 3    4    7.117592\n",
       " 4    5    9.096518\n",
       " ..  ..         ...\n",
       " 88  89  460.252917\n",
       " 89  90  469.015810\n",
       " 90  91  477.858514\n",
       " 91  92  486.781029\n",
       " 92  93  495.783356\n",
       " \n",
       " [93 rows x 2 columns],\n",
       "      x           y\n",
       " 0    1    1.659681\n",
       " 1    2    3.399173\n",
       " 2    3    5.218477\n",
       " 3    4    7.117592\n",
       " 4    5    9.096518\n",
       " ..  ..         ...\n",
       " 89  90  469.015810\n",
       " 90  91  477.858514\n",
       " 91  92  486.781029\n",
       " 92  93  495.783356\n",
       " 93  94  504.865494\n",
       " \n",
       " [94 rows x 2 columns],\n",
       "      x           y\n",
       " 0    1    1.659681\n",
       " 1    2    3.399173\n",
       " 2    3    5.218477\n",
       " 3    4    7.117592\n",
       " 4    5    9.096518\n",
       " ..  ..         ...\n",
       " 90  91  477.858514\n",
       " 91  92  486.781029\n",
       " 92  93  495.783356\n",
       " 93  94  504.865494\n",
       " 94  95  514.027443\n",
       " \n",
       " [95 rows x 2 columns],\n",
       "      x           y\n",
       " 0    1    1.659681\n",
       " 1    2    3.399173\n",
       " 2    3    5.218477\n",
       " 3    4    7.117592\n",
       " 4    5    9.096518\n",
       " ..  ..         ...\n",
       " 91  92  486.781029\n",
       " 92  93  495.783356\n",
       " 93  94  504.865494\n",
       " 94  95  514.027443\n",
       " 95  96  523.269204\n",
       " \n",
       " [96 rows x 2 columns],\n",
       "      x           y\n",
       " 0    1    1.659681\n",
       " 1    2    3.399173\n",
       " 2    3    5.218477\n",
       " 3    4    7.117592\n",
       " 4    5    9.096518\n",
       " ..  ..         ...\n",
       " 92  93  495.783356\n",
       " 93  94  504.865494\n",
       " 94  95  514.027443\n",
       " 95  96  523.269204\n",
       " 96  97  532.590777\n",
       " \n",
       " [97 rows x 2 columns],\n",
       "      x           y\n",
       " 0    1    1.659681\n",
       " 1    2    3.399173\n",
       " 2    3    5.218477\n",
       " 3    4    7.117592\n",
       " 4    5    9.096518\n",
       " ..  ..         ...\n",
       " 93  94  504.865494\n",
       " 94  95  514.027443\n",
       " 95  96  523.269204\n",
       " 96  97  532.590777\n",
       " 97  98  541.992160\n",
       " \n",
       " [98 rows x 2 columns],\n",
       "      x           y\n",
       " 0    1    1.659681\n",
       " 1    2    3.399173\n",
       " 2    3    5.218477\n",
       " 3    4    7.117592\n",
       " 4    5    9.096518\n",
       " ..  ..         ...\n",
       " 94  95  514.027443\n",
       " 95  96  523.269204\n",
       " 96  97  532.590777\n",
       " 97  98  541.992160\n",
       " 98  99  551.473355\n",
       " \n",
       " [99 rows x 2 columns]]"
      ]
     },
     "execution_count": 103,
     "metadata": {},
     "output_type": "execute_result"
    }
   ],
   "source": [
    "temp_df_parts=[temp_df.iloc[:i+1,:] for i in range (temp_df.shape[0])]\n",
    "temp_df_parts"
   ]
  },
  {
   "cell_type": "code",
   "execution_count": 104,
   "metadata": {},
   "outputs": [
    {
     "data": {
      "text/plain": [
       "[Frame({\n",
       "     'data': [{'type': 'scatter', 'x': [1], 'y': [1.6596808747866256]}]\n",
       " }),\n",
       " Frame({\n",
       "     'data': [{'type': 'scatter', 'x': [1, 2], 'y': [1.6596808747866256, 3.39917311805878]}]\n",
       " }),\n",
       " Frame({\n",
       "     'data': [{'type': 'scatter', 'x': [1, 2, 3], 'y': [1.6596808747866256, 3.39917311805878, 5.218476729816462]}]\n",
       " }),\n",
       " Frame({\n",
       "     'data': [{'type': 'scatter',\n",
       "               'x': [1, 2, 3, 4],\n",
       "               'y': [1.6596808747866256, 3.39917311805878, 5.218476729816462,\n",
       "                     7.117591710059673]}]\n",
       " }),\n",
       " Frame({\n",
       "     'data': [{'type': 'scatter',\n",
       "               'x': [1, 2, 3, 4, 5],\n",
       "               'y': [1.6596808747866256, 3.39917311805878, 5.218476729816462,\n",
       "                     7.117591710059673, 9.096518058788412]}]\n",
       " }),\n",
       " Frame({\n",
       "     'data': [{'type': 'scatter',\n",
       "               'x': [1, 2, 3, 4, 5, 6],\n",
       "               'y': [1.6596808747866256, 3.39917311805878, 5.218476729816462,\n",
       "                     7.117591710059673, 9.096518058788412, 11.155255776002681]}]\n",
       " }),\n",
       " Frame({\n",
       "     'data': [{'type': 'scatter',\n",
       "               'x': [1, 2, 3, 4, 5, 6, 7],\n",
       "               'y': [1.6596808747866256, 3.39917311805878, 5.218476729816462,\n",
       "                     7.117591710059673, 9.096518058788412, 11.155255776002681,\n",
       "                     13.293804861702476]}]\n",
       " }),\n",
       " Frame({\n",
       "     'data': [{'type': 'scatter',\n",
       "               'x': [1, 2, 3, 4, 5, 6, 7, 8],\n",
       "               'y': [1.6596808747866256, 3.39917311805878, 5.218476729816462,\n",
       "                     7.117591710059673, 9.096518058788412, 11.155255776002681,\n",
       "                     13.293804861702476, 15.5121653158878]}]\n",
       " }),\n",
       " Frame({\n",
       "     'data': [{'type': 'scatter',\n",
       "               'x': [1, 2, 3, 4, 5, 6, 7, 8, 9],\n",
       "               'y': [1.6596808747866256, 3.39917311805878, 5.218476729816462,\n",
       "                     7.117591710059673, 9.096518058788412, 11.155255776002681,\n",
       "                     13.293804861702476, 15.5121653158878, 17.810337138558655]}]\n",
       " }),\n",
       " Frame({\n",
       "     'data': [{'type': 'scatter',\n",
       "               'x': [1, 2, 3, 4, 5, 6, 7, 8, 9, 10],\n",
       "               'y': [1.6596808747866256, 3.39917311805878, 5.218476729816462,\n",
       "                     7.117591710059673, 9.096518058788412, 11.155255776002681,\n",
       "                     13.293804861702476, 15.5121653158878, 17.810337138558655,\n",
       "                     20.188320329715033]}]\n",
       " }),\n",
       " Frame({\n",
       "     'data': [{'type': 'scatter',\n",
       "               'x': [1, 2, 3, 4, 5, 6, 7, 8, 9, 10, 11],\n",
       "               'y': [1.6596808747866256, 3.39917311805878, 5.218476729816462,\n",
       "                     7.117591710059673, 9.096518058788412, 11.155255776002681,\n",
       "                     13.293804861702476, 15.5121653158878, 17.810337138558655,\n",
       "                     20.188320329715033, 22.646114889356944]}]\n",
       " }),\n",
       " Frame({\n",
       "     'data': [{'type': 'scatter',\n",
       "               'x': [1, 2, 3, 4, 5, 6, 7, 8, 9, 10, 11, 12],\n",
       "               'y': [1.6596808747866256, 3.39917311805878, 5.218476729816462,\n",
       "                     7.117591710059673, 9.096518058788412, 11.155255776002681,\n",
       "                     13.293804861702476, 15.5121653158878, 17.810337138558655,\n",
       "                     20.188320329715033, 22.646114889356944, 25.183720817484385]}]\n",
       " }),\n",
       " Frame({\n",
       "     'data': [{'type': 'scatter',\n",
       "               'x': [1, 2, 3, 4, 5, 6, 7, 8, 9, 10, 11, 12, 13],\n",
       "               'y': [1.6596808747866256, 3.39917311805878, 5.218476729816462,\n",
       "                     7.117591710059673, 9.096518058788412, 11.155255776002681,\n",
       "                     13.293804861702476, 15.5121653158878, 17.810337138558655,\n",
       "                     20.188320329715033, 22.646114889356944, 25.183720817484385,\n",
       "                     27.801138114097352]}]\n",
       " }),\n",
       " Frame({\n",
       "     'data': [{'type': 'scatter',\n",
       "               'x': [1, 2, 3, 4, 5, 6, 7, 8, 9, 10, 11, 12, 13, 14],\n",
       "               'y': [1.6596808747866256, 3.39917311805878, 5.218476729816462,\n",
       "                     7.117591710059673, 9.096518058788412, 11.155255776002681,\n",
       "                     13.293804861702476, 15.5121653158878, 17.810337138558655,\n",
       "                     20.188320329715033, 22.646114889356944, 25.183720817484385,\n",
       "                     27.801138114097352, 30.49836677919584]}]\n",
       " }),\n",
       " Frame({\n",
       "     'data': [{'type': 'scatter',\n",
       "               'x': [1, 2, 3, 4, 5, 6, 7, 8, 9, 10, 11, 12, 13, 14, 15],\n",
       "               'y': [1.6596808747866256, 3.39917311805878, 5.218476729816462,\n",
       "                     7.117591710059673, 9.096518058788412, 11.155255776002681,\n",
       "                     13.293804861702476, 15.5121653158878, 17.810337138558655,\n",
       "                     20.188320329715033, 22.646114889356944, 25.183720817484385,\n",
       "                     27.801138114097352, 30.49836677919584, 33.27540681277986]}]\n",
       " }),\n",
       " Frame({\n",
       "     'data': [{'type': 'scatter',\n",
       "               'x': [1, 2, 3, 4, 5, 6, 7, 8, 9, 10, 11, 12, 13, 14, 15, 16],\n",
       "               'y': [1.6596808747866256, 3.39917311805878, 5.218476729816462,\n",
       "                     7.117591710059673, 9.096518058788412, 11.155255776002681,\n",
       "                     13.293804861702476, 15.5121653158878, 17.810337138558655,\n",
       "                     20.188320329715033, 22.646114889356944, 25.183720817484385,\n",
       "                     27.801138114097352, 30.49836677919584, 33.27540681277986,\n",
       "                     36.132258214849415]}]\n",
       " }),\n",
       " Frame({\n",
       "     'data': [{'type': 'scatter',\n",
       "               'x': [1, 2, 3, 4, 5, 6, 7, 8, 9, 10, 11, 12, 13, 14, 15, 16, 17],\n",
       "               'y': [1.6596808747866256, 3.39917311805878, 5.218476729816462,\n",
       "                     7.117591710059673, 9.096518058788412, 11.155255776002681,\n",
       "                     13.293804861702476, 15.5121653158878, 17.810337138558655,\n",
       "                     20.188320329715033, 22.646114889356944, 25.183720817484385,\n",
       "                     27.801138114097352, 30.49836677919584, 33.27540681277986,\n",
       "                     36.132258214849415, 39.0689209854045]}]\n",
       " }),\n",
       " Frame({\n",
       "     'data': [{'type': 'scatter',\n",
       "               'x': [1, 2, 3, 4, 5, 6, 7, 8, 9, 10, 11, 12, 13, 14, 15, 16, 17, 18],\n",
       "               'y': [1.6596808747866256, 3.39917311805878, 5.218476729816462,\n",
       "                     7.117591710059673, 9.096518058788412, 11.155255776002681,\n",
       "                     13.293804861702476, 15.5121653158878, 17.810337138558655,\n",
       "                     20.188320329715033, 22.646114889356944, 25.183720817484385,\n",
       "                     27.801138114097352, 30.49836677919584, 33.27540681277986,\n",
       "                     36.132258214849415, 39.0689209854045, 42.08539512444511]}]\n",
       " }),\n",
       " Frame({\n",
       "     'data': [{'type': 'scatter',\n",
       "               'x': [1, 2, 3, 4, 5, 6, 7, 8, 9, 10, 11, 12, 13, 14, 15, 16, 17, 18,\n",
       "                     19],\n",
       "               'y': [1.6596808747866256, 3.39917311805878, 5.218476729816462,\n",
       "                     7.117591710059673, 9.096518058788412, 11.155255776002681,\n",
       "                     13.293804861702476, 15.5121653158878, 17.810337138558655,\n",
       "                     20.188320329715033, 22.646114889356944, 25.183720817484385,\n",
       "                     27.801138114097352, 30.49836677919584, 33.27540681277986,\n",
       "                     36.132258214849415, 39.0689209854045, 42.08539512444511,\n",
       "                     45.18168063197125]}]\n",
       " }),\n",
       " Frame({\n",
       "     'data': [{'type': 'scatter',\n",
       "               'x': [1, 2, 3, 4, 5, 6, 7, 8, 9, 10, 11, 12, 13, 14, 15, 16, 17, 18,\n",
       "                     19, 20],\n",
       "               'y': [1.6596808747866256, 3.39917311805878, 5.218476729816462,\n",
       "                     7.117591710059673, 9.096518058788412, 11.155255776002681,\n",
       "                     13.293804861702476, 15.5121653158878, 17.810337138558655,\n",
       "                     20.188320329715033, 22.646114889356944, 25.183720817484385,\n",
       "                     27.801138114097352, 30.49836677919584, 33.27540681277986,\n",
       "                     36.132258214849415, 39.0689209854045, 42.08539512444511,\n",
       "                     45.18168063197125, 48.35777750798291]}]\n",
       " }),\n",
       " Frame({\n",
       "     'data': [{'type': 'scatter',\n",
       "               'x': [1, 2, 3, 4, 5, 6, 7, 8, 9, 10, 11, 12, 13, 14, 15, 16, 17, 18,\n",
       "                     19, 20, 21],\n",
       "               'y': [1.6596808747866256, 3.39917311805878, 5.218476729816462,\n",
       "                     7.117591710059673, 9.096518058788412, 11.155255776002681,\n",
       "                     13.293804861702476, 15.5121653158878, 17.810337138558655,\n",
       "                     20.188320329715033, 22.646114889356944, 25.183720817484385,\n",
       "                     27.801138114097352, 30.49836677919584, 33.27540681277986,\n",
       "                     36.132258214849415, 39.0689209854045, 42.08539512444511,\n",
       "                     45.18168063197125, 48.35777750798291, 51.6136857524801]}]\n",
       " }),\n",
       " Frame({\n",
       "     'data': [{'type': 'scatter',\n",
       "               'x': [1, 2, 3, 4, 5, 6, 7, 8, 9, 10, 11, 12, 13, 14, 15, 16, 17, 18,\n",
       "                     19, 20, 21, 22],\n",
       "               'y': [1.6596808747866256, 3.39917311805878, 5.218476729816462,\n",
       "                     7.117591710059673, 9.096518058788412, 11.155255776002681,\n",
       "                     13.293804861702476, 15.5121653158878, 17.810337138558655,\n",
       "                     20.188320329715033, 22.646114889356944, 25.183720817484385,\n",
       "                     27.801138114097352, 30.49836677919584, 33.27540681277986,\n",
       "                     36.132258214849415, 39.0689209854045, 42.08539512444511,\n",
       "                     45.18168063197125, 48.35777750798291, 51.6136857524801,\n",
       "                     54.94940536546282]}]\n",
       " }),\n",
       " Frame({\n",
       "     'data': [{'type': 'scatter',\n",
       "               'x': [1, 2, 3, 4, 5, 6, 7, 8, 9, 10, 11, 12, 13, 14, 15, 16, 17, 18,\n",
       "                     19, 20, 21, 22, 23],\n",
       "               'y': [1.6596808747866256, 3.39917311805878, 5.218476729816462,\n",
       "                     7.117591710059673, 9.096518058788412, 11.155255776002681,\n",
       "                     13.293804861702476, 15.5121653158878, 17.810337138558655,\n",
       "                     20.188320329715033, 22.646114889356944, 25.183720817484385,\n",
       "                     27.801138114097352, 30.49836677919584, 33.27540681277986,\n",
       "                     36.132258214849415, 39.0689209854045, 42.08539512444511,\n",
       "                     45.18168063197125, 48.35777750798291, 51.6136857524801,\n",
       "                     54.94940536546282, 58.364936346931074]}]\n",
       " }),\n",
       " Frame({\n",
       "     'data': [{'type': 'scatter',\n",
       "               'x': [1, 2, 3, 4, 5, 6, 7, 8, 9, 10, 11, 12, 13, 14, 15, 16, 17, 18,\n",
       "                     19, 20, 21, 22, 23, 24],\n",
       "               'y': [1.6596808747866256, 3.39917311805878, 5.218476729816462,\n",
       "                     7.117591710059673, 9.096518058788412, 11.155255776002681,\n",
       "                     13.293804861702476, 15.5121653158878, 17.810337138558655,\n",
       "                     20.188320329715033, 22.646114889356944, 25.183720817484385,\n",
       "                     27.801138114097352, 30.49836677919584, 33.27540681277986,\n",
       "                     36.132258214849415, 39.0689209854045, 42.08539512444511,\n",
       "                     45.18168063197125, 48.35777750798291, 51.6136857524801,\n",
       "                     54.94940536546282, 58.364936346931074, 61.860278696884855]}]\n",
       " }),\n",
       " Frame({\n",
       "     'data': [{'type': 'scatter',\n",
       "               'x': [1, 2, 3, 4, 5, 6, 7, 8, 9, 10, 11, 12, 13, 14, 15, 16, 17, 18,\n",
       "                     19, 20, 21, 22, 23, 24, 25],\n",
       "               'y': [1.6596808747866256, 3.39917311805878, 5.218476729816462,\n",
       "                     7.117591710059673, 9.096518058788412, 11.155255776002681,\n",
       "                     13.293804861702476, 15.5121653158878, 17.810337138558655,\n",
       "                     20.188320329715033, 22.646114889356944, 25.183720817484385,\n",
       "                     27.801138114097352, 30.49836677919584, 33.27540681277986,\n",
       "                     36.132258214849415, 39.0689209854045, 42.08539512444511,\n",
       "                     45.18168063197125, 48.35777750798291, 51.6136857524801,\n",
       "                     54.94940536546282, 58.364936346931074, 61.860278696884855,\n",
       "                     65.43543241532416]}]\n",
       " }),\n",
       " Frame({\n",
       "     'data': [{'type': 'scatter',\n",
       "               'x': [1, 2, 3, 4, 5, 6, 7, 8, 9, 10, 11, 12, 13, 14, 15, 16, 17, 18,\n",
       "                     19, 20, 21, 22, 23, 24, 25, 26],\n",
       "               'y': [1.6596808747866256, 3.39917311805878, 5.218476729816462,\n",
       "                     7.117591710059673, 9.096518058788412, 11.155255776002681,\n",
       "                     13.293804861702476, 15.5121653158878, 17.810337138558655,\n",
       "                     20.188320329715033, 22.646114889356944, 25.183720817484385,\n",
       "                     27.801138114097352, 30.49836677919584, 33.27540681277986,\n",
       "                     36.132258214849415, 39.0689209854045, 42.08539512444511,\n",
       "                     45.18168063197125, 48.35777750798291, 51.6136857524801,\n",
       "                     54.94940536546282, 58.364936346931074, 61.860278696884855,\n",
       "                     65.43543241532416, 69.090397502249]}]\n",
       " }),\n",
       " Frame({\n",
       "     'data': [{'type': 'scatter',\n",
       "               'x': [1, 2, 3, 4, 5, 6, 7, 8, 9, 10, 11, 12, 13, 14, 15, 16, 17, 18,\n",
       "                     19, 20, 21, 22, 23, 24, 25, 26, 27],\n",
       "               'y': [1.6596808747866256, 3.39917311805878, 5.218476729816462,\n",
       "                     7.117591710059673, 9.096518058788412, 11.155255776002681,\n",
       "                     13.293804861702476, 15.5121653158878, 17.810337138558655,\n",
       "                     20.188320329715033, 22.646114889356944, 25.183720817484385,\n",
       "                     27.801138114097352, 30.49836677919584, 33.27540681277986,\n",
       "                     36.132258214849415, 39.0689209854045, 42.08539512444511,\n",
       "                     45.18168063197125, 48.35777750798291, 51.6136857524801,\n",
       "                     54.94940536546282, 58.364936346931074, 61.860278696884855,\n",
       "                     65.43543241532416, 69.090397502249, 72.82517395765936]}]\n",
       " }),\n",
       " Frame({\n",
       "     'data': [{'type': 'scatter',\n",
       "               'x': [1, 2, 3, 4, 5, 6, 7, 8, 9, 10, 11, 12, 13, 14, 15, 16, 17, 18,\n",
       "                     19, 20, 21, 22, 23, 24, 25, 26, 27, 28],\n",
       "               'y': [1.6596808747866256, 3.39917311805878, 5.218476729816462,\n",
       "                     7.117591710059673, 9.096518058788412, 11.155255776002681,\n",
       "                     13.293804861702476, 15.5121653158878, 17.810337138558655,\n",
       "                     20.188320329715033, 22.646114889356944, 25.183720817484385,\n",
       "                     27.801138114097352, 30.49836677919584, 33.27540681277986,\n",
       "                     36.132258214849415, 39.0689209854045, 42.08539512444511,\n",
       "                     45.18168063197125, 48.35777750798291, 51.6136857524801,\n",
       "                     54.94940536546282, 58.364936346931074, 61.860278696884855,\n",
       "                     65.43543241532416, 69.090397502249, 72.82517395765936,\n",
       "                     76.63976178155525]}]\n",
       " }),\n",
       " Frame({\n",
       "     'data': [{'type': 'scatter',\n",
       "               'x': [1, 2, 3, 4, 5, 6, 7, 8, 9, 10, 11, 12, 13, 14, 15, 16, 17, 18,\n",
       "                     19, 20, 21, 22, 23, 24, 25, 26, 27, 28, 29],\n",
       "               'y': [1.6596808747866256, 3.39917311805878, 5.218476729816462,\n",
       "                     7.117591710059673, 9.096518058788412, 11.155255776002681,\n",
       "                     13.293804861702476, 15.5121653158878, 17.810337138558655,\n",
       "                     20.188320329715033, 22.646114889356944, 25.183720817484385,\n",
       "                     27.801138114097352, 30.49836677919584, 33.27540681277986,\n",
       "                     36.132258214849415, 39.0689209854045, 42.08539512444511,\n",
       "                     45.18168063197125, 48.35777750798291, 51.6136857524801,\n",
       "                     54.94940536546282, 58.364936346931074, 61.860278696884855,\n",
       "                     65.43543241532416, 69.090397502249, 72.82517395765936,\n",
       "                     76.63976178155525, 80.53416097393668]}]\n",
       " }),\n",
       " Frame({\n",
       "     'data': [{'type': 'scatter',\n",
       "               'x': [1, 2, 3, 4, 5, 6, 7, 8, 9, 10, 11, 12, 13, 14, 15, 16, 17, 18,\n",
       "                     19, 20, 21, 22, 23, 24, 25, 26, 27, 28, 29, 30],\n",
       "               'y': [1.6596808747866256, 3.39917311805878, 5.218476729816462,\n",
       "                     7.117591710059673, 9.096518058788412, 11.155255776002681,\n",
       "                     13.293804861702476, 15.5121653158878, 17.810337138558655,\n",
       "                     20.188320329715033, 22.646114889356944, 25.183720817484385,\n",
       "                     27.801138114097352, 30.49836677919584, 33.27540681277986,\n",
       "                     36.132258214849415, 39.0689209854045, 42.08539512444511,\n",
       "                     45.18168063197125, 48.35777750798291, 51.6136857524801,\n",
       "                     54.94940536546282, 58.364936346931074, 61.860278696884855,\n",
       "                     65.43543241532416, 69.090397502249, 72.82517395765936,\n",
       "                     76.63976178155525, 80.53416097393668, 84.50837153480362]}]\n",
       " }),\n",
       " Frame({\n",
       "     'data': [{'type': 'scatter',\n",
       "               'x': [1, 2, 3, 4, 5, 6, 7, 8, 9, 10, 11, 12, 13, 14, 15, 16, 17, 18,\n",
       "                     19, 20, 21, 22, 23, 24, 25, 26, 27, 28, 29, 30, 31],\n",
       "               'y': [1.6596808747866256, 3.39917311805878, 5.218476729816462,\n",
       "                     7.117591710059673, 9.096518058788412, 11.155255776002681,\n",
       "                     13.293804861702476, 15.5121653158878, 17.810337138558655,\n",
       "                     20.188320329715033, 22.646114889356944, 25.183720817484385,\n",
       "                     27.801138114097352, 30.49836677919584, 33.27540681277986,\n",
       "                     36.132258214849415, 39.0689209854045, 42.08539512444511,\n",
       "                     45.18168063197125, 48.35777750798291, 51.6136857524801,\n",
       "                     54.94940536546282, 58.364936346931074, 61.860278696884855,\n",
       "                     65.43543241532416, 69.090397502249, 72.82517395765936,\n",
       "                     76.63976178155525, 80.53416097393668, 84.50837153480362,\n",
       "                     88.56239346415609]}]\n",
       " }),\n",
       " Frame({\n",
       "     'data': [{'type': 'scatter',\n",
       "               'x': [1, 2, 3, 4, 5, 6, 7, 8, 9, 10, 11, 12, 13, 14, 15, 16, 17, 18,\n",
       "                     19, 20, 21, 22, 23, 24, 25, 26, 27, 28, 29, 30, 31, 32],\n",
       "               'y': [1.6596808747866256, 3.39917311805878, 5.218476729816462,\n",
       "                     7.117591710059673, 9.096518058788412, 11.155255776002681,\n",
       "                     13.293804861702476, 15.5121653158878, 17.810337138558655,\n",
       "                     20.188320329715033, 22.646114889356944, 25.183720817484385,\n",
       "                     27.801138114097352, 30.49836677919584, 33.27540681277986,\n",
       "                     36.132258214849415, 39.0689209854045, 42.08539512444511,\n",
       "                     45.18168063197125, 48.35777750798291, 51.6136857524801,\n",
       "                     54.94940536546282, 58.364936346931074, 61.860278696884855,\n",
       "                     65.43543241532416, 69.090397502249, 72.82517395765936,\n",
       "                     76.63976178155525, 80.53416097393668, 84.50837153480362,\n",
       "                     88.56239346415609, 92.6962267619941]}]\n",
       " }),\n",
       " Frame({\n",
       "     'data': [{'type': 'scatter',\n",
       "               'x': [1, 2, 3, 4, 5, 6, 7, 8, 9, 10, 11, 12, 13, 14, 15, 16, 17, 18,\n",
       "                     19, 20, 21, 22, 23, 24, 25, 26, 27, 28, 29, 30, 31, 32, 33],\n",
       "               'y': [1.6596808747866256, 3.39917311805878, 5.218476729816462,\n",
       "                     7.117591710059673, 9.096518058788412, 11.155255776002681,\n",
       "                     13.293804861702476, 15.5121653158878, 17.810337138558655,\n",
       "                     20.188320329715033, 22.646114889356944, 25.183720817484385,\n",
       "                     27.801138114097352, 30.49836677919584, 33.27540681277986,\n",
       "                     36.132258214849415, 39.0689209854045, 42.08539512444511,\n",
       "                     45.18168063197125, 48.35777750798291, 51.6136857524801,\n",
       "                     54.94940536546282, 58.364936346931074, 61.860278696884855,\n",
       "                     65.43543241532416, 69.090397502249, 72.82517395765936,\n",
       "                     76.63976178155525, 80.53416097393668, 84.50837153480362,\n",
       "                     88.56239346415609, 92.6962267619941, 96.90987142831764]}]\n",
       " }),\n",
       " Frame({\n",
       "     'data': [{'type': 'scatter',\n",
       "               'x': [1, 2, 3, 4, 5, 6, 7, 8, 9, 10, 11, 12, 13, 14, 15, 16, 17, 18,\n",
       "                     19, 20, 21, 22, 23, 24, 25, 26, 27, 28, 29, 30, 31, 32, 33, 34],\n",
       "               'y': [1.6596808747866256, 3.39917311805878, 5.218476729816462,\n",
       "                     7.117591710059673, 9.096518058788412, 11.155255776002681,\n",
       "                     13.293804861702476, 15.5121653158878, 17.810337138558655,\n",
       "                     20.188320329715033, 22.646114889356944, 25.183720817484385,\n",
       "                     27.801138114097352, 30.49836677919584, 33.27540681277986,\n",
       "                     36.132258214849415, 39.0689209854045, 42.08539512444511,\n",
       "                     45.18168063197125, 48.35777750798291, 51.6136857524801,\n",
       "                     54.94940536546282, 58.364936346931074, 61.860278696884855,\n",
       "                     65.43543241532416, 69.090397502249, 72.82517395765936,\n",
       "                     76.63976178155525, 80.53416097393668, 84.50837153480362,\n",
       "                     88.56239346415609, 92.6962267619941, 96.90987142831764,\n",
       "                     101.2033274631267]}]\n",
       " }),\n",
       " Frame({\n",
       "     'data': [{'type': 'scatter',\n",
       "               'x': [1, 2, 3, 4, 5, 6, 7, 8, 9, 10, 11, 12, 13, 14, 15, 16, 17, 18,\n",
       "                     19, 20, 21, 22, 23, 24, 25, 26, 27, 28, 29, 30, 31, 32, 33, 34,\n",
       "                     35],\n",
       "               'y': [1.6596808747866256, 3.39917311805878, 5.218476729816462,\n",
       "                     7.117591710059673, 9.096518058788412, 11.155255776002681,\n",
       "                     13.293804861702476, 15.5121653158878, 17.810337138558655,\n",
       "                     20.188320329715033, 22.646114889356944, 25.183720817484385,\n",
       "                     27.801138114097352, 30.49836677919584, 33.27540681277986,\n",
       "                     36.132258214849415, 39.0689209854045, 42.08539512444511,\n",
       "                     45.18168063197125, 48.35777750798291, 51.6136857524801,\n",
       "                     54.94940536546282, 58.364936346931074, 61.860278696884855,\n",
       "                     65.43543241532416, 69.090397502249, 72.82517395765936,\n",
       "                     76.63976178155525, 80.53416097393668, 84.50837153480362,\n",
       "                     88.56239346415609, 92.6962267619941, 96.90987142831764,\n",
       "                     101.2033274631267, 105.57659486642129]}]\n",
       " }),\n",
       " Frame({\n",
       "     'data': [{'type': 'scatter',\n",
       "               'x': [1, 2, 3, 4, 5, 6, 7, 8, 9, 10, 11, 12, 13, 14, 15, 16, 17, 18,\n",
       "                     19, 20, 21, 22, 23, 24, 25, 26, 27, 28, 29, 30, 31, 32, 33, 34,\n",
       "                     35, 36],\n",
       "               'y': [1.6596808747866256, 3.39917311805878, 5.218476729816462,\n",
       "                     7.117591710059673, 9.096518058788412, 11.155255776002681,\n",
       "                     13.293804861702476, 15.5121653158878, 17.810337138558655,\n",
       "                     20.188320329715033, 22.646114889356944, 25.183720817484385,\n",
       "                     27.801138114097352, 30.49836677919584, 33.27540681277986,\n",
       "                     36.132258214849415, 39.0689209854045, 42.08539512444511,\n",
       "                     45.18168063197125, 48.35777750798291, 51.6136857524801,\n",
       "                     54.94940536546282, 58.364936346931074, 61.860278696884855,\n",
       "                     65.43543241532416, 69.090397502249, 72.82517395765936,\n",
       "                     76.63976178155525, 80.53416097393668, 84.50837153480362,\n",
       "                     88.56239346415609, 92.6962267619941, 96.90987142831764,\n",
       "                     101.2033274631267, 105.57659486642129, 110.02967363820142]}]\n",
       " }),\n",
       " Frame({\n",
       "     'data': [{'type': 'scatter',\n",
       "               'x': [1, 2, 3, 4, 5, 6, 7, 8, 9, 10, 11, 12, 13, 14, 15, 16, 17, 18,\n",
       "                     19, 20, 21, 22, 23, 24, 25, 26, 27, 28, 29, 30, 31, 32, 33, 34,\n",
       "                     35, 36, 37],\n",
       "               'y': [1.6596808747866256, 3.39917311805878, 5.218476729816462,\n",
       "                     7.117591710059673, 9.096518058788412, 11.155255776002681,\n",
       "                     13.293804861702476, 15.5121653158878, 17.810337138558655,\n",
       "                     20.188320329715033, 22.646114889356944, 25.183720817484385,\n",
       "                     27.801138114097352, 30.49836677919584, 33.27540681277986,\n",
       "                     36.132258214849415, 39.0689209854045, 42.08539512444511,\n",
       "                     45.18168063197125, 48.35777750798291, 51.6136857524801,\n",
       "                     54.94940536546282, 58.364936346931074, 61.860278696884855,\n",
       "                     65.43543241532416, 69.090397502249, 72.82517395765936,\n",
       "                     76.63976178155525, 80.53416097393668, 84.50837153480362,\n",
       "                     88.56239346415609, 92.6962267619941, 96.90987142831764,\n",
       "                     101.2033274631267, 105.57659486642129, 110.02967363820142,\n",
       "                     114.56256377846707]}]\n",
       " }),\n",
       " Frame({\n",
       "     'data': [{'type': 'scatter',\n",
       "               'x': [1, 2, 3, 4, 5, 6, 7, 8, 9, 10, 11, 12, 13, 14, 15, 16, 17, 18,\n",
       "                     19, 20, 21, 22, 23, 24, 25, 26, 27, 28, 29, 30, 31, 32, 33, 34,\n",
       "                     35, 36, 37, 38],\n",
       "               'y': [1.6596808747866256, 3.39917311805878, 5.218476729816462,\n",
       "                     7.117591710059673, 9.096518058788412, 11.155255776002681,\n",
       "                     13.293804861702476, 15.5121653158878, 17.810337138558655,\n",
       "                     20.188320329715033, 22.646114889356944, 25.183720817484385,\n",
       "                     27.801138114097352, 30.49836677919584, 33.27540681277986,\n",
       "                     36.132258214849415, 39.0689209854045, 42.08539512444511,\n",
       "                     45.18168063197125, 48.35777750798291, 51.6136857524801,\n",
       "                     54.94940536546282, 58.364936346931074, 61.860278696884855,\n",
       "                     65.43543241532416, 69.090397502249, 72.82517395765936,\n",
       "                     76.63976178155525, 80.53416097393668, 84.50837153480362,\n",
       "                     88.56239346415609, 92.6962267619941, 96.90987142831764,\n",
       "                     101.2033274631267, 105.57659486642129, 110.02967363820142,\n",
       "                     114.56256377846707, 119.17526528721824]}]\n",
       " }),\n",
       " Frame({\n",
       "     'data': [{'type': 'scatter',\n",
       "               'x': [1, 2, 3, 4, 5, 6, 7, 8, 9, 10, 11, 12, 13, 14, 15, 16, 17, 18,\n",
       "                     19, 20, 21, 22, 23, 24, 25, 26, 27, 28, 29, 30, 31, 32, 33, 34,\n",
       "                     35, 36, 37, 38, 39],\n",
       "               'y': [1.6596808747866256, 3.39917311805878, 5.218476729816462,\n",
       "                     7.117591710059673, 9.096518058788412, 11.155255776002681,\n",
       "                     13.293804861702476, 15.5121653158878, 17.810337138558655,\n",
       "                     20.188320329715033, 22.646114889356944, 25.183720817484385,\n",
       "                     27.801138114097352, 30.49836677919584, 33.27540681277986,\n",
       "                     36.132258214849415, 39.0689209854045, 42.08539512444511,\n",
       "                     45.18168063197125, 48.35777750798291, 51.6136857524801,\n",
       "                     54.94940536546282, 58.364936346931074, 61.860278696884855,\n",
       "                     65.43543241532416, 69.090397502249, 72.82517395765936,\n",
       "                     76.63976178155525, 80.53416097393668, 84.50837153480362,\n",
       "                     88.56239346415609, 92.6962267619941, 96.90987142831764,\n",
       "                     101.2033274631267, 105.57659486642129, 110.02967363820142,\n",
       "                     114.56256377846707, 119.17526528721824, 123.86777816445493]}]\n",
       " }),\n",
       " Frame({\n",
       "     'data': [{'type': 'scatter',\n",
       "               'x': [1, 2, 3, 4, 5, 6, 7, 8, 9, 10, 11, 12, 13, 14, 15, 16, 17, 18,\n",
       "                     19, 20, 21, 22, 23, 24, 25, 26, 27, 28, 29, 30, 31, 32, 33, 34,\n",
       "                     35, 36, 37, 38, 39, 40],\n",
       "               'y': [1.6596808747866256, 3.39917311805878, 5.218476729816462,\n",
       "                     7.117591710059673, 9.096518058788412, 11.155255776002681,\n",
       "                     13.293804861702476, 15.5121653158878, 17.810337138558655,\n",
       "                     20.188320329715033, 22.646114889356944, 25.183720817484385,\n",
       "                     27.801138114097352, 30.49836677919584, 33.27540681277986,\n",
       "                     36.132258214849415, 39.0689209854045, 42.08539512444511,\n",
       "                     45.18168063197125, 48.35777750798291, 51.6136857524801,\n",
       "                     54.94940536546282, 58.364936346931074, 61.860278696884855,\n",
       "                     65.43543241532416, 69.090397502249, 72.82517395765936,\n",
       "                     76.63976178155525, 80.53416097393668, 84.50837153480362,\n",
       "                     88.56239346415609, 92.6962267619941, 96.90987142831764,\n",
       "                     101.2033274631267, 105.57659486642129, 110.02967363820142,\n",
       "                     114.56256377846707, 119.17526528721824, 123.86777816445493,\n",
       "                     128.64010241017718]}]\n",
       " }),\n",
       " Frame({\n",
       "     'data': [{'type': 'scatter',\n",
       "               'x': [1, 2, 3, 4, 5, 6, 7, 8, 9, 10, 11, 12, 13, 14, 15, 16, 17, 18,\n",
       "                     19, 20, 21, 22, 23, 24, 25, 26, 27, 28, 29, 30, 31, 32, 33, 34,\n",
       "                     35, 36, 37, 38, 39, 40, 41],\n",
       "               'y': [1.6596808747866256, 3.39917311805878, 5.218476729816462,\n",
       "                     7.117591710059673, 9.096518058788412, 11.155255776002681,\n",
       "                     13.293804861702476, 15.5121653158878, 17.810337138558655,\n",
       "                     20.188320329715033, 22.646114889356944, 25.183720817484385,\n",
       "                     27.801138114097352, 30.49836677919584, 33.27540681277986,\n",
       "                     36.132258214849415, 39.0689209854045, 42.08539512444511,\n",
       "                     45.18168063197125, 48.35777750798291, 51.6136857524801,\n",
       "                     54.94940536546282, 58.364936346931074, 61.860278696884855,\n",
       "                     65.43543241532416, 69.090397502249, 72.82517395765936,\n",
       "                     76.63976178155525, 80.53416097393668, 84.50837153480362,\n",
       "                     88.56239346415609, 92.6962267619941, 96.90987142831764,\n",
       "                     101.2033274631267, 105.57659486642129, 110.02967363820142,\n",
       "                     114.56256377846707, 119.17526528721824, 123.86777816445493,\n",
       "                     128.64010241017718, 133.49223802438493]}]\n",
       " }),\n",
       " Frame({\n",
       "     'data': [{'type': 'scatter',\n",
       "               'x': [1, 2, 3, 4, 5, 6, 7, 8, 9, 10, 11, 12, 13, 14, 15, 16, 17, 18,\n",
       "                     19, 20, 21, 22, 23, 24, 25, 26, 27, 28, 29, 30, 31, 32, 33, 34,\n",
       "                     35, 36, 37, 38, 39, 40, 41, 42],\n",
       "               'y': [1.6596808747866256, 3.39917311805878, 5.218476729816462,\n",
       "                     7.117591710059673, 9.096518058788412, 11.155255776002681,\n",
       "                     13.293804861702476, 15.5121653158878, 17.810337138558655,\n",
       "                     20.188320329715033, 22.646114889356944, 25.183720817484385,\n",
       "                     27.801138114097352, 30.49836677919584, 33.27540681277986,\n",
       "                     36.132258214849415, 39.0689209854045, 42.08539512444511,\n",
       "                     45.18168063197125, 48.35777750798291, 51.6136857524801,\n",
       "                     54.94940536546282, 58.364936346931074, 61.860278696884855,\n",
       "                     65.43543241532416, 69.090397502249, 72.82517395765936,\n",
       "                     76.63976178155525, 80.53416097393668, 84.50837153480362,\n",
       "                     88.56239346415609, 92.6962267619941, 96.90987142831764,\n",
       "                     101.2033274631267, 105.57659486642129, 110.02967363820142,\n",
       "                     114.56256377846707, 119.17526528721824, 123.86777816445493,\n",
       "                     128.64010241017718, 133.49223802438493, 138.42418500707822]}]\n",
       " }),\n",
       " Frame({\n",
       "     'data': [{'type': 'scatter',\n",
       "               'x': [1, 2, 3, 4, 5, 6, 7, 8, 9, 10, 11, 12, 13, 14, 15, 16, 17, 18,\n",
       "                     19, 20, 21, 22, 23, 24, 25, 26, 27, 28, 29, 30, 31, 32, 33, 34,\n",
       "                     35, 36, 37, 38, 39, 40, 41, 42, 43],\n",
       "               'y': [1.6596808747866256, 3.39917311805878, 5.218476729816462,\n",
       "                     7.117591710059673, 9.096518058788412, 11.155255776002681,\n",
       "                     13.293804861702476, 15.5121653158878, 17.810337138558655,\n",
       "                     20.188320329715033, 22.646114889356944, 25.183720817484385,\n",
       "                     27.801138114097352, 30.49836677919584, 33.27540681277986,\n",
       "                     36.132258214849415, 39.0689209854045, 42.08539512444511,\n",
       "                     45.18168063197125, 48.35777750798291, 51.6136857524801,\n",
       "                     54.94940536546282, 58.364936346931074, 61.860278696884855,\n",
       "                     65.43543241532416, 69.090397502249, 72.82517395765936,\n",
       "                     76.63976178155525, 80.53416097393668, 84.50837153480362,\n",
       "                     88.56239346415609, 92.6962267619941, 96.90987142831764,\n",
       "                     101.2033274631267, 105.57659486642129, 110.02967363820142,\n",
       "                     114.56256377846707, 119.17526528721824, 123.86777816445493,\n",
       "                     128.64010241017718, 133.49223802438493, 138.42418500707822,\n",
       "                     143.43594335825705]}]\n",
       " }),\n",
       " Frame({\n",
       "     'data': [{'type': 'scatter',\n",
       "               'x': [1, 2, 3, 4, 5, 6, 7, 8, 9, 10, 11, 12, 13, 14, 15, 16, 17, 18,\n",
       "                     19, 20, 21, 22, 23, 24, 25, 26, 27, 28, 29, 30, 31, 32, 33, 34,\n",
       "                     35, 36, 37, 38, 39, 40, 41, 42, 43, 44],\n",
       "               'y': [1.6596808747866256, 3.39917311805878, 5.218476729816462,\n",
       "                     7.117591710059673, 9.096518058788412, 11.155255776002681,\n",
       "                     13.293804861702476, 15.5121653158878, 17.810337138558655,\n",
       "                     20.188320329715033, 22.646114889356944, 25.183720817484385,\n",
       "                     27.801138114097352, 30.49836677919584, 33.27540681277986,\n",
       "                     36.132258214849415, 39.0689209854045, 42.08539512444511,\n",
       "                     45.18168063197125, 48.35777750798291, 51.6136857524801,\n",
       "                     54.94940536546282, 58.364936346931074, 61.860278696884855,\n",
       "                     65.43543241532416, 69.090397502249, 72.82517395765936,\n",
       "                     76.63976178155525, 80.53416097393668, 84.50837153480362,\n",
       "                     88.56239346415609, 92.6962267619941, 96.90987142831764,\n",
       "                     101.2033274631267, 105.57659486642129, 110.02967363820142,\n",
       "                     114.56256377846707, 119.17526528721824, 123.86777816445493,\n",
       "                     128.64010241017718, 133.49223802438493, 138.42418500707822,\n",
       "                     143.43594335825705, 148.52751307792138]}]\n",
       " }),\n",
       " Frame({\n",
       "     'data': [{'type': 'scatter',\n",
       "               'x': [1, 2, 3, 4, 5, 6, 7, 8, 9, 10, 11, 12, 13, 14, 15, 16, 17, 18,\n",
       "                     19, 20, 21, 22, 23, 24, 25, 26, 27, 28, 29, 30, 31, 32, 33, 34,\n",
       "                     35, 36, 37, 38, 39, 40, 41, 42, 43, 44, 45],\n",
       "               'y': [1.6596808747866256, 3.39917311805878, 5.218476729816462,\n",
       "                     7.117591710059673, 9.096518058788412, 11.155255776002681,\n",
       "                     13.293804861702476, 15.5121653158878, 17.810337138558655,\n",
       "                     20.188320329715033, 22.646114889356944, 25.183720817484385,\n",
       "                     27.801138114097352, 30.49836677919584, 33.27540681277986,\n",
       "                     36.132258214849415, 39.0689209854045, 42.08539512444511,\n",
       "                     45.18168063197125, 48.35777750798291, 51.6136857524801,\n",
       "                     54.94940536546282, 58.364936346931074, 61.860278696884855,\n",
       "                     65.43543241532416, 69.090397502249, 72.82517395765936,\n",
       "                     76.63976178155525, 80.53416097393668, 84.50837153480362,\n",
       "                     88.56239346415609, 92.6962267619941, 96.90987142831764,\n",
       "                     101.2033274631267, 105.57659486642129, 110.02967363820142,\n",
       "                     114.56256377846707, 119.17526528721824, 123.86777816445493,\n",
       "                     128.64010241017718, 133.49223802438493, 138.42418500707822,\n",
       "                     143.43594335825705, 148.52751307792138, 153.69889416607128]}]\n",
       " }),\n",
       " Frame({\n",
       "     'data': [{'type': 'scatter',\n",
       "               'x': [1, 2, 3, 4, 5, 6, 7, 8, 9, 10, 11, 12, 13, 14, 15, 16, 17, 18,\n",
       "                     19, 20, 21, 22, 23, 24, 25, 26, 27, 28, 29, 30, 31, 32, 33, 34,\n",
       "                     35, 36, 37, 38, 39, 40, 41, 42, 43, 44, 45, 46],\n",
       "               'y': [1.6596808747866256, 3.39917311805878, 5.218476729816462,\n",
       "                     7.117591710059673, 9.096518058788412, 11.155255776002681,\n",
       "                     13.293804861702476, 15.5121653158878, 17.810337138558655,\n",
       "                     20.188320329715033, 22.646114889356944, 25.183720817484385,\n",
       "                     27.801138114097352, 30.49836677919584, 33.27540681277986,\n",
       "                     36.132258214849415, 39.0689209854045, 42.08539512444511,\n",
       "                     45.18168063197125, 48.35777750798291, 51.6136857524801,\n",
       "                     54.94940536546282, 58.364936346931074, 61.860278696884855,\n",
       "                     65.43543241532416, 69.090397502249, 72.82517395765936,\n",
       "                     76.63976178155525, 80.53416097393668, 84.50837153480362,\n",
       "                     88.56239346415609, 92.6962267619941, 96.90987142831764,\n",
       "                     101.2033274631267, 105.57659486642129, 110.02967363820142,\n",
       "                     114.56256377846707, 119.17526528721824, 123.86777816445493,\n",
       "                     128.64010241017718, 133.49223802438493, 138.42418500707822,\n",
       "                     143.43594335825705, 148.52751307792138, 153.69889416607128,\n",
       "                     158.9500866227067]}]\n",
       " }),\n",
       " Frame({\n",
       "     'data': [{'type': 'scatter',\n",
       "               'x': [1, 2, 3, 4, 5, 6, 7, 8, 9, 10, 11, 12, 13, 14, 15, 16, 17, 18,\n",
       "                     19, 20, 21, 22, 23, 24, 25, 26, 27, 28, 29, 30, 31, 32, 33, 34,\n",
       "                     35, 36, 37, 38, 39, 40, 41, 42, 43, 44, 45, 46, 47],\n",
       "               'y': [1.6596808747866256, 3.39917311805878, 5.218476729816462,\n",
       "                     7.117591710059673, 9.096518058788412, 11.155255776002681,\n",
       "                     13.293804861702476, 15.5121653158878, 17.810337138558655,\n",
       "                     20.188320329715033, 22.646114889356944, 25.183720817484385,\n",
       "                     27.801138114097352, 30.49836677919584, 33.27540681277986,\n",
       "                     36.132258214849415, 39.0689209854045, 42.08539512444511,\n",
       "                     45.18168063197125, 48.35777750798291, 51.6136857524801,\n",
       "                     54.94940536546282, 58.364936346931074, 61.860278696884855,\n",
       "                     65.43543241532416, 69.090397502249, 72.82517395765936,\n",
       "                     76.63976178155525, 80.53416097393668, 84.50837153480362,\n",
       "                     88.56239346415609, 92.6962267619941, 96.90987142831764,\n",
       "                     101.2033274631267, 105.57659486642129, 110.02967363820142,\n",
       "                     114.56256377846707, 119.17526528721824, 123.86777816445493,\n",
       "                     128.64010241017718, 133.49223802438493, 138.42418500707822,\n",
       "                     143.43594335825705, 148.52751307792138, 153.69889416607128,\n",
       "                     158.9500866227067, 164.2810904478276]}]\n",
       " }),\n",
       " Frame({\n",
       "     'data': [{'type': 'scatter',\n",
       "               'x': [1, 2, 3, 4, 5, 6, 7, 8, 9, 10, 11, 12, 13, 14, 15, 16, 17, 18,\n",
       "                     19, 20, 21, 22, 23, 24, 25, 26, 27, 28, 29, 30, 31, 32, 33, 34,\n",
       "                     35, 36, 37, 38, 39, 40, 41, 42, 43, 44, 45, 46, 47, 48],\n",
       "               'y': [1.6596808747866256, 3.39917311805878, 5.218476729816462,\n",
       "                     7.117591710059673, 9.096518058788412, 11.155255776002681,\n",
       "                     13.293804861702476, 15.5121653158878, 17.810337138558655,\n",
       "                     20.188320329715033, 22.646114889356944, 25.183720817484385,\n",
       "                     27.801138114097352, 30.49836677919584, 33.27540681277986,\n",
       "                     36.132258214849415, 39.0689209854045, 42.08539512444511,\n",
       "                     45.18168063197125, 48.35777750798291, 51.6136857524801,\n",
       "                     54.94940536546282, 58.364936346931074, 61.860278696884855,\n",
       "                     65.43543241532416, 69.090397502249, 72.82517395765936,\n",
       "                     76.63976178155525, 80.53416097393668, 84.50837153480362,\n",
       "                     88.56239346415609, 92.6962267619941, 96.90987142831764,\n",
       "                     101.2033274631267, 105.57659486642129, 110.02967363820142,\n",
       "                     114.56256377846707, 119.17526528721824, 123.86777816445493,\n",
       "                     128.64010241017718, 133.49223802438493, 138.42418500707822,\n",
       "                     143.43594335825705, 148.52751307792138, 153.69889416607128,\n",
       "                     158.9500866227067, 164.2810904478276, 169.69190564143406]}]\n",
       " }),\n",
       " Frame({\n",
       "     'data': [{'type': 'scatter',\n",
       "               'x': [1, 2, 3, 4, 5, 6, 7, 8, 9, 10, 11, 12, 13, 14, 15, 16, 17, 18,\n",
       "                     19, 20, 21, 22, 23, 24, 25, 26, 27, 28, 29, 30, 31, 32, 33, 34,\n",
       "                     35, 36, 37, 38, 39, 40, 41, 42, 43, 44, 45, 46, 47, 48, 49],\n",
       "               'y': [1.6596808747866256, 3.39917311805878, 5.218476729816462,\n",
       "                     7.117591710059673, 9.096518058788412, 11.155255776002681,\n",
       "                     13.293804861702476, 15.5121653158878, 17.810337138558655,\n",
       "                     20.188320329715033, 22.646114889356944, 25.183720817484385,\n",
       "                     27.801138114097352, 30.49836677919584, 33.27540681277986,\n",
       "                     36.132258214849415, 39.0689209854045, 42.08539512444511,\n",
       "                     45.18168063197125, 48.35777750798291, 51.6136857524801,\n",
       "                     54.94940536546282, 58.364936346931074, 61.860278696884855,\n",
       "                     65.43543241532416, 69.090397502249, 72.82517395765936,\n",
       "                     76.63976178155525, 80.53416097393668, 84.50837153480362,\n",
       "                     88.56239346415609, 92.6962267619941, 96.90987142831764,\n",
       "                     101.2033274631267, 105.57659486642129, 110.02967363820142,\n",
       "                     114.56256377846707, 119.17526528721824, 123.86777816445493,\n",
       "                     128.64010241017718, 133.49223802438493, 138.42418500707822,\n",
       "                     143.43594335825705, 148.52751307792138, 153.69889416607128,\n",
       "                     158.9500866227067, 164.2810904478276, 169.69190564143406,\n",
       "                     175.18253220352605]}]\n",
       " }),\n",
       " Frame({\n",
       "     'data': [{'type': 'scatter',\n",
       "               'x': [1, 2, 3, 4, 5, 6, 7, 8, 9, 10, 11, 12, 13, 14, 15, 16, 17, 18,\n",
       "                     19, 20, 21, 22, 23, 24, 25, 26, 27, 28, 29, 30, 31, 32, 33, 34,\n",
       "                     35, 36, 37, 38, 39, 40, 41, 42, 43, 44, 45, 46, 47, 48, 49, 50],\n",
       "               'y': [1.6596808747866256, 3.39917311805878, 5.218476729816462,\n",
       "                     7.117591710059673, 9.096518058788412, 11.155255776002681,\n",
       "                     13.293804861702476, 15.5121653158878, 17.810337138558655,\n",
       "                     20.188320329715033, 22.646114889356944, 25.183720817484385,\n",
       "                     27.801138114097352, 30.49836677919584, 33.27540681277986,\n",
       "                     36.132258214849415, 39.0689209854045, 42.08539512444511,\n",
       "                     45.18168063197125, 48.35777750798291, 51.6136857524801,\n",
       "                     54.94940536546282, 58.364936346931074, 61.860278696884855,\n",
       "                     65.43543241532416, 69.090397502249, 72.82517395765936,\n",
       "                     76.63976178155525, 80.53416097393668, 84.50837153480362,\n",
       "                     88.56239346415609, 92.6962267619941, 96.90987142831764,\n",
       "                     101.2033274631267, 105.57659486642129, 110.02967363820142,\n",
       "                     114.56256377846707, 119.17526528721824, 123.86777816445493,\n",
       "                     128.64010241017718, 133.49223802438493, 138.42418500707822,\n",
       "                     143.43594335825705, 148.52751307792138, 153.69889416607128,\n",
       "                     158.9500866227067, 164.2810904478276, 169.69190564143406,\n",
       "                     175.18253220352605, 180.75297013410358]}]\n",
       " }),\n",
       " Frame({\n",
       "     'data': [{'type': 'scatter',\n",
       "               'x': [1, 2, 3, 4, 5, 6, 7, 8, 9, 10, 11, 12, 13, 14, 15, 16, 17, 18,\n",
       "                     19, 20, 21, 22, 23, 24, 25, 26, 27, 28, 29, 30, 31, 32, 33, 34,\n",
       "                     35, 36, 37, 38, 39, 40, 41, 42, 43, 44, 45, 46, 47, 48, 49, 50,\n",
       "                     51],\n",
       "               'y': [1.6596808747866256, 3.39917311805878, 5.218476729816462,\n",
       "                     7.117591710059673, 9.096518058788412, 11.155255776002681,\n",
       "                     13.293804861702476, 15.5121653158878, 17.810337138558655,\n",
       "                     20.188320329715033, 22.646114889356944, 25.183720817484385,\n",
       "                     27.801138114097352, 30.49836677919584, 33.27540681277986,\n",
       "                     36.132258214849415, 39.0689209854045, 42.08539512444511,\n",
       "                     45.18168063197125, 48.35777750798291, 51.6136857524801,\n",
       "                     54.94940536546282, 58.364936346931074, 61.860278696884855,\n",
       "                     65.43543241532416, 69.090397502249, 72.82517395765936,\n",
       "                     76.63976178155525, 80.53416097393668, 84.50837153480362,\n",
       "                     88.56239346415609, 92.6962267619941, 96.90987142831764,\n",
       "                     101.2033274631267, 105.57659486642129, 110.02967363820142,\n",
       "                     114.56256377846707, 119.17526528721824, 123.86777816445493,\n",
       "                     128.64010241017718, 133.49223802438493, 138.42418500707822,\n",
       "                     143.43594335825705, 148.52751307792138, 153.69889416607128,\n",
       "                     158.9500866227067, 164.2810904478276, 169.69190564143406,\n",
       "                     175.18253220352605, 180.75297013410358, 186.4032194331666]}]\n",
       " }),\n",
       " Frame({\n",
       "     'data': [{'type': 'scatter',\n",
       "               'x': [1, 2, 3, 4, 5, 6, 7, 8, 9, 10, 11, 12, 13, 14, 15, 16, 17, 18,\n",
       "                     19, 20, 21, 22, 23, 24, 25, 26, 27, 28, 29, 30, 31, 32, 33, 34,\n",
       "                     35, 36, 37, 38, 39, 40, 41, 42, 43, 44, 45, 46, 47, 48, 49, 50,\n",
       "                     51, 52],\n",
       "               'y': [1.6596808747866256, 3.39917311805878, 5.218476729816462,\n",
       "                     7.117591710059673, 9.096518058788412, 11.155255776002681,\n",
       "                     13.293804861702476, 15.5121653158878, 17.810337138558655,\n",
       "                     20.188320329715033, 22.646114889356944, 25.183720817484385,\n",
       "                     27.801138114097352, 30.49836677919584, 33.27540681277986,\n",
       "                     36.132258214849415, 39.0689209854045, 42.08539512444511,\n",
       "                     45.18168063197125, 48.35777750798291, 51.6136857524801,\n",
       "                     54.94940536546282, 58.364936346931074, 61.860278696884855,\n",
       "                     65.43543241532416, 69.090397502249, 72.82517395765936,\n",
       "                     76.63976178155525, 80.53416097393668, 84.50837153480362,\n",
       "                     88.56239346415609, 92.6962267619941, 96.90987142831764,\n",
       "                     101.2033274631267, 105.57659486642129, 110.02967363820142,\n",
       "                     114.56256377846707, 119.17526528721824, 123.86777816445493,\n",
       "                     128.64010241017718, 133.49223802438493, 138.42418500707822,\n",
       "                     143.43594335825705, 148.52751307792138, 153.69889416607128,\n",
       "                     158.9500866227067, 164.2810904478276, 169.69190564143406,\n",
       "                     175.18253220352605, 180.75297013410358, 186.4032194331666,\n",
       "                     192.13328010071518]}]\n",
       " }),\n",
       " Frame({\n",
       "     'data': [{'type': 'scatter',\n",
       "               'x': [1, 2, 3, 4, 5, 6, 7, 8, 9, 10, 11, 12, 13, 14, 15, 16, 17, 18,\n",
       "                     19, 20, 21, 22, 23, 24, 25, 26, 27, 28, 29, 30, 31, 32, 33, 34,\n",
       "                     35, 36, 37, 38, 39, 40, 41, 42, 43, 44, 45, 46, 47, 48, 49, 50,\n",
       "                     51, 52, 53],\n",
       "               'y': [1.6596808747866256, 3.39917311805878, 5.218476729816462,\n",
       "                     7.117591710059673, 9.096518058788412, 11.155255776002681,\n",
       "                     13.293804861702476, 15.5121653158878, 17.810337138558655,\n",
       "                     20.188320329715033, 22.646114889356944, 25.183720817484385,\n",
       "                     27.801138114097352, 30.49836677919584, 33.27540681277986,\n",
       "                     36.132258214849415, 39.0689209854045, 42.08539512444511,\n",
       "                     45.18168063197125, 48.35777750798291, 51.6136857524801,\n",
       "                     54.94940536546282, 58.364936346931074, 61.860278696884855,\n",
       "                     65.43543241532416, 69.090397502249, 72.82517395765936,\n",
       "                     76.63976178155525, 80.53416097393668, 84.50837153480362,\n",
       "                     88.56239346415609, 92.6962267619941, 96.90987142831764,\n",
       "                     101.2033274631267, 105.57659486642129, 110.02967363820142,\n",
       "                     114.56256377846707, 119.17526528721824, 123.86777816445493,\n",
       "                     128.64010241017718, 133.49223802438493, 138.42418500707822,\n",
       "                     143.43594335825705, 148.52751307792138, 153.69889416607128,\n",
       "                     158.9500866227067, 164.2810904478276, 169.69190564143406,\n",
       "                     175.18253220352605, 180.75297013410358, 186.4032194331666,\n",
       "                     192.13328010071518, 197.9431521367493]}]\n",
       " }),\n",
       " Frame({\n",
       "     'data': [{'type': 'scatter',\n",
       "               'x': [1, 2, 3, 4, 5, 6, 7, 8, 9, 10, 11, 12, 13, 14, 15, 16, 17, 18,\n",
       "                     19, 20, 21, 22, 23, 24, 25, 26, 27, 28, 29, 30, 31, 32, 33, 34,\n",
       "                     35, 36, 37, 38, 39, 40, 41, 42, 43, 44, 45, 46, 47, 48, 49, 50,\n",
       "                     51, 52, 53, 54],\n",
       "               'y': [1.6596808747866256, 3.39917311805878, 5.218476729816462,\n",
       "                     7.117591710059673, 9.096518058788412, 11.155255776002681,\n",
       "                     13.293804861702476, 15.5121653158878, 17.810337138558655,\n",
       "                     20.188320329715033, 22.646114889356944, 25.183720817484385,\n",
       "                     27.801138114097352, 30.49836677919584, 33.27540681277986,\n",
       "                     36.132258214849415, 39.0689209854045, 42.08539512444511,\n",
       "                     45.18168063197125, 48.35777750798291, 51.6136857524801,\n",
       "                     54.94940536546282, 58.364936346931074, 61.860278696884855,\n",
       "                     65.43543241532416, 69.090397502249, 72.82517395765936,\n",
       "                     76.63976178155525, 80.53416097393668, 84.50837153480362,\n",
       "                     88.56239346415609, 92.6962267619941, 96.90987142831764,\n",
       "                     101.2033274631267, 105.57659486642129, 110.02967363820142,\n",
       "                     114.56256377846707, 119.17526528721824, 123.86777816445493,\n",
       "                     128.64010241017718, 133.49223802438493, 138.42418500707822,\n",
       "                     143.43594335825705, 148.52751307792138, 153.69889416607128,\n",
       "                     158.9500866227067, 164.2810904478276, 169.69190564143406,\n",
       "                     175.18253220352605, 180.75297013410358, 186.4032194331666,\n",
       "                     192.13328010071518, 197.9431521367493, 203.83283554126893]}]\n",
       " }),\n",
       " Frame({\n",
       "     'data': [{'type': 'scatter',\n",
       "               'x': [1, 2, 3, 4, 5, 6, 7, 8, 9, 10, 11, 12, 13, 14, 15, 16, 17, 18,\n",
       "                     19, 20, 21, 22, 23, 24, 25, 26, 27, 28, 29, 30, 31, 32, 33, 34,\n",
       "                     35, 36, 37, 38, 39, 40, 41, 42, 43, 44, 45, 46, 47, 48, 49, 50,\n",
       "                     51, 52, 53, 54, 55],\n",
       "               'y': [1.6596808747866256, 3.39917311805878, 5.218476729816462,\n",
       "                     7.117591710059673, 9.096518058788412, 11.155255776002681,\n",
       "                     13.293804861702476, 15.5121653158878, 17.810337138558655,\n",
       "                     20.188320329715033, 22.646114889356944, 25.183720817484385,\n",
       "                     27.801138114097352, 30.49836677919584, 33.27540681277986,\n",
       "                     36.132258214849415, 39.0689209854045, 42.08539512444511,\n",
       "                     45.18168063197125, 48.35777750798291, 51.6136857524801,\n",
       "                     54.94940536546282, 58.364936346931074, 61.860278696884855,\n",
       "                     65.43543241532416, 69.090397502249, 72.82517395765936,\n",
       "                     76.63976178155525, 80.53416097393668, 84.50837153480362,\n",
       "                     88.56239346415609, 92.6962267619941, 96.90987142831764,\n",
       "                     101.2033274631267, 105.57659486642129, 110.02967363820142,\n",
       "                     114.56256377846707, 119.17526528721824, 123.86777816445493,\n",
       "                     128.64010241017718, 133.49223802438493, 138.42418500707822,\n",
       "                     143.43594335825705, 148.52751307792138, 153.69889416607128,\n",
       "                     158.9500866227067, 164.2810904478276, 169.69190564143406,\n",
       "                     175.18253220352605, 180.75297013410358, 186.4032194331666,\n",
       "                     192.13328010071518, 197.9431521367493, 203.83283554126893,\n",
       "                     209.80233031427406]}]\n",
       " }),\n",
       " Frame({\n",
       "     'data': [{'type': 'scatter',\n",
       "               'x': [1, 2, 3, 4, 5, 6, 7, 8, 9, 10, 11, 12, 13, 14, 15, 16, 17, 18,\n",
       "                     19, 20, 21, 22, 23, 24, 25, 26, 27, 28, 29, 30, 31, 32, 33, 34,\n",
       "                     35, 36, 37, 38, 39, 40, 41, 42, 43, 44, 45, 46, 47, 48, 49, 50,\n",
       "                     51, 52, 53, 54, 55, 56],\n",
       "               'y': [1.6596808747866256, 3.39917311805878, 5.218476729816462,\n",
       "                     7.117591710059673, 9.096518058788412, 11.155255776002681,\n",
       "                     13.293804861702476, 15.5121653158878, 17.810337138558655,\n",
       "                     20.188320329715033, 22.646114889356944, 25.183720817484385,\n",
       "                     27.801138114097352, 30.49836677919584, 33.27540681277986,\n",
       "                     36.132258214849415, 39.0689209854045, 42.08539512444511,\n",
       "                     45.18168063197125, 48.35777750798291, 51.6136857524801,\n",
       "                     54.94940536546282, 58.364936346931074, 61.860278696884855,\n",
       "                     65.43543241532416, 69.090397502249, 72.82517395765936,\n",
       "                     76.63976178155525, 80.53416097393668, 84.50837153480362,\n",
       "                     88.56239346415609, 92.6962267619941, 96.90987142831764,\n",
       "                     101.2033274631267, 105.57659486642129, 110.02967363820142,\n",
       "                     114.56256377846707, 119.17526528721824, 123.86777816445493,\n",
       "                     128.64010241017718, 133.49223802438493, 138.42418500707822,\n",
       "                     143.43594335825705, 148.52751307792138, 153.69889416607128,\n",
       "                     158.9500866227067, 164.2810904478276, 169.69190564143406,\n",
       "                     175.18253220352605, 180.75297013410358, 186.4032194331666,\n",
       "                     192.13328010071518, 197.9431521367493, 203.83283554126893,\n",
       "                     209.80233031427406, 215.85163645576475]}]\n",
       " }),\n",
       " Frame({\n",
       "     'data': [{'type': 'scatter',\n",
       "               'x': [1, 2, 3, 4, 5, 6, 7, 8, 9, 10, 11, 12, 13, 14, 15, 16, 17, 18,\n",
       "                     19, 20, 21, 22, 23, 24, 25, 26, 27, 28, 29, 30, 31, 32, 33, 34,\n",
       "                     35, 36, 37, 38, 39, 40, 41, 42, 43, 44, 45, 46, 47, 48, 49, 50,\n",
       "                     51, 52, 53, 54, 55, 56, 57],\n",
       "               'y': [1.6596808747866256, 3.39917311805878, 5.218476729816462,\n",
       "                     7.117591710059673, 9.096518058788412, 11.155255776002681,\n",
       "                     13.293804861702476, 15.5121653158878, 17.810337138558655,\n",
       "                     20.188320329715033, 22.646114889356944, 25.183720817484385,\n",
       "                     27.801138114097352, 30.49836677919584, 33.27540681277986,\n",
       "                     36.132258214849415, 39.0689209854045, 42.08539512444511,\n",
       "                     45.18168063197125, 48.35777750798291, 51.6136857524801,\n",
       "                     54.94940536546282, 58.364936346931074, 61.860278696884855,\n",
       "                     65.43543241532416, 69.090397502249, 72.82517395765936,\n",
       "                     76.63976178155525, 80.53416097393668, 84.50837153480362,\n",
       "                     88.56239346415609, 92.6962267619941, 96.90987142831764,\n",
       "                     101.2033274631267, 105.57659486642129, 110.02967363820142,\n",
       "                     114.56256377846707, 119.17526528721824, 123.86777816445493,\n",
       "                     128.64010241017718, 133.49223802438493, 138.42418500707822,\n",
       "                     143.43594335825705, 148.52751307792138, 153.69889416607128,\n",
       "                     158.9500866227067, 164.2810904478276, 169.69190564143406,\n",
       "                     175.18253220352605, 180.75297013410358, 186.4032194331666,\n",
       "                     192.13328010071518, 197.9431521367493, 203.83283554126893,\n",
       "                     209.80233031427406, 215.85163645576475, 221.98075396574097]}]\n",
       " }),\n",
       " Frame({\n",
       "     'data': [{'type': 'scatter',\n",
       "               'x': [1, 2, 3, 4, 5, 6, 7, 8, 9, 10, 11, 12, 13, 14, 15, 16, 17, 18,\n",
       "                     19, 20, 21, 22, 23, 24, 25, 26, 27, 28, 29, 30, 31, 32, 33, 34,\n",
       "                     35, 36, 37, 38, 39, 40, 41, 42, 43, 44, 45, 46, 47, 48, 49, 50,\n",
       "                     51, 52, 53, 54, 55, 56, 57, 58],\n",
       "               'y': [1.6596808747866256, 3.39917311805878, 5.218476729816462,\n",
       "                     7.117591710059673, 9.096518058788412, 11.155255776002681,\n",
       "                     13.293804861702476, 15.5121653158878, 17.810337138558655,\n",
       "                     20.188320329715033, 22.646114889356944, 25.183720817484385,\n",
       "                     27.801138114097352, 30.49836677919584, 33.27540681277986,\n",
       "                     36.132258214849415, 39.0689209854045, 42.08539512444511,\n",
       "                     45.18168063197125, 48.35777750798291, 51.6136857524801,\n",
       "                     54.94940536546282, 58.364936346931074, 61.860278696884855,\n",
       "                     65.43543241532416, 69.090397502249, 72.82517395765936,\n",
       "                     76.63976178155525, 80.53416097393668, 84.50837153480362,\n",
       "                     88.56239346415609, 92.6962267619941, 96.90987142831764,\n",
       "                     101.2033274631267, 105.57659486642129, 110.02967363820142,\n",
       "                     114.56256377846707, 119.17526528721824, 123.86777816445493,\n",
       "                     128.64010241017718, 133.49223802438493, 138.42418500707822,\n",
       "                     143.43594335825705, 148.52751307792138, 153.69889416607128,\n",
       "                     158.9500866227067, 164.2810904478276, 169.69190564143406,\n",
       "                     175.18253220352605, 180.75297013410358, 186.4032194331666,\n",
       "                     192.13328010071518, 197.9431521367493, 203.83283554126893,\n",
       "                     209.80233031427406, 215.85163645576475, 221.98075396574097,\n",
       "                     228.1896828442027]}]\n",
       " }),\n",
       " Frame({\n",
       "     'data': [{'type': 'scatter',\n",
       "               'x': [1, 2, 3, 4, 5, 6, 7, 8, 9, 10, 11, 12, 13, 14, 15, 16, 17, 18,\n",
       "                     19, 20, 21, 22, 23, 24, 25, 26, 27, 28, 29, 30, 31, 32, 33, 34,\n",
       "                     35, 36, 37, 38, 39, 40, 41, 42, 43, 44, 45, 46, 47, 48, 49, 50,\n",
       "                     51, 52, 53, 54, 55, 56, 57, 58, 59],\n",
       "               'y': [1.6596808747866256, 3.39917311805878, 5.218476729816462,\n",
       "                     7.117591710059673, 9.096518058788412, 11.155255776002681,\n",
       "                     13.293804861702476, 15.5121653158878, 17.810337138558655,\n",
       "                     20.188320329715033, 22.646114889356944, 25.183720817484385,\n",
       "                     27.801138114097352, 30.49836677919584, 33.27540681277986,\n",
       "                     36.132258214849415, 39.0689209854045, 42.08539512444511,\n",
       "                     45.18168063197125, 48.35777750798291, 51.6136857524801,\n",
       "                     54.94940536546282, 58.364936346931074, 61.860278696884855,\n",
       "                     65.43543241532416, 69.090397502249, 72.82517395765936,\n",
       "                     76.63976178155525, 80.53416097393668, 84.50837153480362,\n",
       "                     88.56239346415609, 92.6962267619941, 96.90987142831764,\n",
       "                     101.2033274631267, 105.57659486642129, 110.02967363820142,\n",
       "                     114.56256377846707, 119.17526528721824, 123.86777816445493,\n",
       "                     128.64010241017718, 133.49223802438493, 138.42418500707822,\n",
       "                     143.43594335825705, 148.52751307792138, 153.69889416607128,\n",
       "                     158.9500866227067, 164.2810904478276, 169.69190564143406,\n",
       "                     175.18253220352605, 180.75297013410358, 186.4032194331666,\n",
       "                     192.13328010071518, 197.9431521367493, 203.83283554126893,\n",
       "                     209.80233031427406, 215.85163645576475, 221.98075396574097,\n",
       "                     228.1896828442027, 234.47842309114998]}]\n",
       " }),\n",
       " Frame({\n",
       "     'data': [{'type': 'scatter',\n",
       "               'x': [1, 2, 3, 4, 5, 6, 7, 8, 9, 10, 11, 12, 13, 14, 15, 16, 17, 18,\n",
       "                     19, 20, 21, 22, 23, 24, 25, 26, 27, 28, 29, 30, 31, 32, 33, 34,\n",
       "                     35, 36, 37, 38, 39, 40, 41, 42, 43, 44, 45, 46, 47, 48, 49, 50,\n",
       "                     51, 52, 53, 54, 55, 56, 57, 58, 59, 60],\n",
       "               'y': [1.6596808747866256, 3.39917311805878, 5.218476729816462,\n",
       "                     7.117591710059673, 9.096518058788412, 11.155255776002681,\n",
       "                     13.293804861702476, 15.5121653158878, 17.810337138558655,\n",
       "                     20.188320329715033, 22.646114889356944, 25.183720817484385,\n",
       "                     27.801138114097352, 30.49836677919584, 33.27540681277986,\n",
       "                     36.132258214849415, 39.0689209854045, 42.08539512444511,\n",
       "                     45.18168063197125, 48.35777750798291, 51.6136857524801,\n",
       "                     54.94940536546282, 58.364936346931074, 61.860278696884855,\n",
       "                     65.43543241532416, 69.090397502249, 72.82517395765936,\n",
       "                     76.63976178155525, 80.53416097393668, 84.50837153480362,\n",
       "                     88.56239346415609, 92.6962267619941, 96.90987142831764,\n",
       "                     101.2033274631267, 105.57659486642129, 110.02967363820142,\n",
       "                     114.56256377846707, 119.17526528721824, 123.86777816445493,\n",
       "                     128.64010241017718, 133.49223802438493, 138.42418500707822,\n",
       "                     143.43594335825705, 148.52751307792138, 153.69889416607128,\n",
       "                     158.9500866227067, 164.2810904478276, 169.69190564143406,\n",
       "                     175.18253220352605, 180.75297013410358, 186.4032194331666,\n",
       "                     192.13328010071518, 197.9431521367493, 203.83283554126893,\n",
       "                     209.80233031427406, 215.85163645576475, 221.98075396574097,\n",
       "                     228.1896828442027, 234.47842309114998, 240.84697470658278]}]\n",
       " }),\n",
       " Frame({\n",
       "     'data': [{'type': 'scatter',\n",
       "               'x': [1, 2, 3, 4, 5, 6, 7, 8, 9, 10, 11, 12, 13, 14, 15, 16, 17, 18,\n",
       "                     19, 20, 21, 22, 23, 24, 25, 26, 27, 28, 29, 30, 31, 32, 33, 34,\n",
       "                     35, 36, 37, 38, 39, 40, 41, 42, 43, 44, 45, 46, 47, 48, 49, 50,\n",
       "                     51, 52, 53, 54, 55, 56, 57, 58, 59, 60, 61],\n",
       "               'y': [1.6596808747866256, 3.39917311805878, 5.218476729816462,\n",
       "                     7.117591710059673, 9.096518058788412, 11.155255776002681,\n",
       "                     13.293804861702476, 15.5121653158878, 17.810337138558655,\n",
       "                     20.188320329715033, 22.646114889356944, 25.183720817484385,\n",
       "                     27.801138114097352, 30.49836677919584, 33.27540681277986,\n",
       "                     36.132258214849415, 39.0689209854045, 42.08539512444511,\n",
       "                     45.18168063197125, 48.35777750798291, 51.6136857524801,\n",
       "                     54.94940536546282, 58.364936346931074, 61.860278696884855,\n",
       "                     65.43543241532416, 69.090397502249, 72.82517395765936,\n",
       "                     76.63976178155525, 80.53416097393668, 84.50837153480362,\n",
       "                     88.56239346415609, 92.6962267619941, 96.90987142831764,\n",
       "                     101.2033274631267, 105.57659486642129, 110.02967363820142,\n",
       "                     114.56256377846707, 119.17526528721824, 123.86777816445493,\n",
       "                     128.64010241017718, 133.49223802438493, 138.42418500707822,\n",
       "                     143.43594335825705, 148.52751307792138, 153.69889416607128,\n",
       "                     158.9500866227067, 164.2810904478276, 169.69190564143406,\n",
       "                     175.18253220352605, 180.75297013410358, 186.4032194331666,\n",
       "                     192.13328010071518, 197.9431521367493, 203.83283554126893,\n",
       "                     209.80233031427406, 215.85163645576475, 221.98075396574097,\n",
       "                     228.1896828442027, 234.47842309114998, 240.84697470658278,\n",
       "                     247.29533769050113]}]\n",
       " }),\n",
       " Frame({\n",
       "     'data': [{'type': 'scatter',\n",
       "               'x': [1, 2, 3, 4, 5, 6, 7, 8, 9, 10, 11, 12, 13, 14, 15, 16, 17, 18,\n",
       "                     19, 20, 21, 22, 23, 24, 25, 26, 27, 28, 29, 30, 31, 32, 33, 34,\n",
       "                     35, 36, 37, 38, 39, 40, 41, 42, 43, 44, 45, 46, 47, 48, 49, 50,\n",
       "                     51, 52, 53, 54, 55, 56, 57, 58, 59, 60, 61, 62],\n",
       "               'y': [1.6596808747866256, 3.39917311805878, 5.218476729816462,\n",
       "                     7.117591710059673, 9.096518058788412, 11.155255776002681,\n",
       "                     13.293804861702476, 15.5121653158878, 17.810337138558655,\n",
       "                     20.188320329715033, 22.646114889356944, 25.183720817484385,\n",
       "                     27.801138114097352, 30.49836677919584, 33.27540681277986,\n",
       "                     36.132258214849415, 39.0689209854045, 42.08539512444511,\n",
       "                     45.18168063197125, 48.35777750798291, 51.6136857524801,\n",
       "                     54.94940536546282, 58.364936346931074, 61.860278696884855,\n",
       "                     65.43543241532416, 69.090397502249, 72.82517395765936,\n",
       "                     76.63976178155525, 80.53416097393668, 84.50837153480362,\n",
       "                     88.56239346415609, 92.6962267619941, 96.90987142831764,\n",
       "                     101.2033274631267, 105.57659486642129, 110.02967363820142,\n",
       "                     114.56256377846707, 119.17526528721824, 123.86777816445493,\n",
       "                     128.64010241017718, 133.49223802438493, 138.42418500707822,\n",
       "                     143.43594335825705, 148.52751307792138, 153.69889416607128,\n",
       "                     158.9500866227067, 164.2810904478276, 169.69190564143406,\n",
       "                     175.18253220352605, 180.75297013410358, 186.4032194331666,\n",
       "                     192.13328010071518, 197.9431521367493, 203.83283554126893,\n",
       "                     209.80233031427406, 215.85163645576475, 221.98075396574097,\n",
       "                     228.1896828442027, 234.47842309114998, 240.84697470658278,\n",
       "                     247.29533769050113, 253.82351204290495]}]\n",
       " }),\n",
       " Frame({\n",
       "     'data': [{'type': 'scatter',\n",
       "               'x': [1, 2, 3, 4, 5, 6, 7, 8, 9, 10, 11, 12, 13, 14, 15, 16, 17, 18,\n",
       "                     19, 20, 21, 22, 23, 24, 25, 26, 27, 28, 29, 30, 31, 32, 33, 34,\n",
       "                     35, 36, 37, 38, 39, 40, 41, 42, 43, 44, 45, 46, 47, 48, 49, 50,\n",
       "                     51, 52, 53, 54, 55, 56, 57, 58, 59, 60, 61, 62, 63],\n",
       "               'y': [1.6596808747866256, 3.39917311805878, 5.218476729816462,\n",
       "                     7.117591710059673, 9.096518058788412, 11.155255776002681,\n",
       "                     13.293804861702476, 15.5121653158878, 17.810337138558655,\n",
       "                     20.188320329715033, 22.646114889356944, 25.183720817484385,\n",
       "                     27.801138114097352, 30.49836677919584, 33.27540681277986,\n",
       "                     36.132258214849415, 39.0689209854045, 42.08539512444511,\n",
       "                     45.18168063197125, 48.35777750798291, 51.6136857524801,\n",
       "                     54.94940536546282, 58.364936346931074, 61.860278696884855,\n",
       "                     65.43543241532416, 69.090397502249, 72.82517395765936,\n",
       "                     76.63976178155525, 80.53416097393668, 84.50837153480362,\n",
       "                     88.56239346415609, 92.6962267619941, 96.90987142831764,\n",
       "                     101.2033274631267, 105.57659486642129, 110.02967363820142,\n",
       "                     114.56256377846707, 119.17526528721824, 123.86777816445493,\n",
       "                     128.64010241017718, 133.49223802438493, 138.42418500707822,\n",
       "                     143.43594335825705, 148.52751307792138, 153.69889416607128,\n",
       "                     158.9500866227067, 164.2810904478276, 169.69190564143406,\n",
       "                     175.18253220352605, 180.75297013410358, 186.4032194331666,\n",
       "                     192.13328010071518, 197.9431521367493, 203.83283554126893,\n",
       "                     209.80233031427406, 215.85163645576475, 221.98075396574097,\n",
       "                     228.1896828442027, 234.47842309114998, 240.84697470658278,\n",
       "                     247.29533769050113, 253.82351204290495, 260.43149776379437]}]\n",
       " }),\n",
       " Frame({\n",
       "     'data': [{'type': 'scatter',\n",
       "               'x': [1, 2, 3, 4, 5, 6, 7, 8, 9, 10, 11, 12, 13, 14, 15, 16, 17, 18,\n",
       "                     19, 20, 21, 22, 23, 24, 25, 26, 27, 28, 29, 30, 31, 32, 33, 34,\n",
       "                     35, 36, 37, 38, 39, 40, 41, 42, 43, 44, 45, 46, 47, 48, 49, 50,\n",
       "                     51, 52, 53, 54, 55, 56, 57, 58, 59, 60, 61, 62, 63, 64],\n",
       "               'y': [1.6596808747866256, 3.39917311805878, 5.218476729816462,\n",
       "                     7.117591710059673, 9.096518058788412, 11.155255776002681,\n",
       "                     13.293804861702476, 15.5121653158878, 17.810337138558655,\n",
       "                     20.188320329715033, 22.646114889356944, 25.183720817484385,\n",
       "                     27.801138114097352, 30.49836677919584, 33.27540681277986,\n",
       "                     36.132258214849415, 39.0689209854045, 42.08539512444511,\n",
       "                     45.18168063197125, 48.35777750798291, 51.6136857524801,\n",
       "                     54.94940536546282, 58.364936346931074, 61.860278696884855,\n",
       "                     65.43543241532416, 69.090397502249, 72.82517395765936,\n",
       "                     76.63976178155525, 80.53416097393668, 84.50837153480362,\n",
       "                     88.56239346415609, 92.6962267619941, 96.90987142831764,\n",
       "                     101.2033274631267, 105.57659486642129, 110.02967363820142,\n",
       "                     114.56256377846707, 119.17526528721824, 123.86777816445493,\n",
       "                     128.64010241017718, 133.49223802438493, 138.42418500707822,\n",
       "                     143.43594335825705, 148.52751307792138, 153.69889416607128,\n",
       "                     158.9500866227067, 164.2810904478276, 169.69190564143406,\n",
       "                     175.18253220352605, 180.75297013410358, 186.4032194331666,\n",
       "                     192.13328010071518, 197.9431521367493, 203.83283554126893,\n",
       "                     209.80233031427406, 215.85163645576475, 221.98075396574097,\n",
       "                     228.1896828442027, 234.47842309114998, 240.84697470658278,\n",
       "                     247.29533769050113, 253.82351204290495, 260.43149776379437,\n",
       "                     267.11929485316927]}]\n",
       " }),\n",
       " Frame({\n",
       "     'data': [{'type': 'scatter',\n",
       "               'x': [1, 2, 3, 4, 5, 6, 7, 8, 9, 10, 11, 12, 13, 14, 15, 16, 17, 18,\n",
       "                     19, 20, 21, 22, 23, 24, 25, 26, 27, 28, 29, 30, 31, 32, 33, 34,\n",
       "                     35, 36, 37, 38, 39, 40, 41, 42, 43, 44, 45, 46, 47, 48, 49, 50,\n",
       "                     51, 52, 53, 54, 55, 56, 57, 58, 59, 60, 61, 62, 63, 64, 65],\n",
       "               'y': [1.6596808747866256, 3.39917311805878, 5.218476729816462,\n",
       "                     7.117591710059673, 9.096518058788412, 11.155255776002681,\n",
       "                     13.293804861702476, 15.5121653158878, 17.810337138558655,\n",
       "                     20.188320329715033, 22.646114889356944, 25.183720817484385,\n",
       "                     27.801138114097352, 30.49836677919584, 33.27540681277986,\n",
       "                     36.132258214849415, 39.0689209854045, 42.08539512444511,\n",
       "                     45.18168063197125, 48.35777750798291, 51.6136857524801,\n",
       "                     54.94940536546282, 58.364936346931074, 61.860278696884855,\n",
       "                     65.43543241532416, 69.090397502249, 72.82517395765936,\n",
       "                     76.63976178155525, 80.53416097393668, 84.50837153480362,\n",
       "                     88.56239346415609, 92.6962267619941, 96.90987142831764,\n",
       "                     101.2033274631267, 105.57659486642129, 110.02967363820142,\n",
       "                     114.56256377846707, 119.17526528721824, 123.86777816445493,\n",
       "                     128.64010241017718, 133.49223802438493, 138.42418500707822,\n",
       "                     143.43594335825705, 148.52751307792138, 153.69889416607128,\n",
       "                     158.9500866227067, 164.2810904478276, 169.69190564143406,\n",
       "                     175.18253220352605, 180.75297013410358, 186.4032194331666,\n",
       "                     192.13328010071518, 197.9431521367493, 203.83283554126893,\n",
       "                     209.80233031427406, 215.85163645576475, 221.98075396574097,\n",
       "                     228.1896828442027, 234.47842309114998, 240.84697470658278,\n",
       "                     247.29533769050113, 253.82351204290495, 260.43149776379437,\n",
       "                     267.11929485316927, 273.8869033110297]}]\n",
       " }),\n",
       " Frame({\n",
       "     'data': [{'type': 'scatter',\n",
       "               'x': [1, 2, 3, 4, 5, 6, 7, 8, 9, 10, 11, 12, 13, 14, 15, 16, 17, 18,\n",
       "                     19, 20, 21, 22, 23, 24, 25, 26, 27, 28, 29, 30, 31, 32, 33, 34,\n",
       "                     35, 36, 37, 38, 39, 40, 41, 42, 43, 44, 45, 46, 47, 48, 49, 50,\n",
       "                     51, 52, 53, 54, 55, 56, 57, 58, 59, 60, 61, 62, 63, 64, 65, 66],\n",
       "               'y': [1.6596808747866256, 3.39917311805878, 5.218476729816462,\n",
       "                     7.117591710059673, 9.096518058788412, 11.155255776002681,\n",
       "                     13.293804861702476, 15.5121653158878, 17.810337138558655,\n",
       "                     20.188320329715033, 22.646114889356944, 25.183720817484385,\n",
       "                     27.801138114097352, 30.49836677919584, 33.27540681277986,\n",
       "                     36.132258214849415, 39.0689209854045, 42.08539512444511,\n",
       "                     45.18168063197125, 48.35777750798291, 51.6136857524801,\n",
       "                     54.94940536546282, 58.364936346931074, 61.860278696884855,\n",
       "                     65.43543241532416, 69.090397502249, 72.82517395765936,\n",
       "                     76.63976178155525, 80.53416097393668, 84.50837153480362,\n",
       "                     88.56239346415609, 92.6962267619941, 96.90987142831764,\n",
       "                     101.2033274631267, 105.57659486642129, 110.02967363820142,\n",
       "                     114.56256377846707, 119.17526528721824, 123.86777816445493,\n",
       "                     128.64010241017718, 133.49223802438493, 138.42418500707822,\n",
       "                     143.43594335825705, 148.52751307792138, 153.69889416607128,\n",
       "                     158.9500866227067, 164.2810904478276, 169.69190564143406,\n",
       "                     175.18253220352605, 180.75297013410358, 186.4032194331666,\n",
       "                     192.13328010071518, 197.9431521367493, 203.83283554126893,\n",
       "                     209.80233031427406, 215.85163645576475, 221.98075396574097,\n",
       "                     228.1896828442027, 234.47842309114998, 240.84697470658278,\n",
       "                     247.29533769050113, 253.82351204290495, 260.43149776379437,\n",
       "                     267.11929485316927, 273.8869033110297, 280.73432313737567]}]\n",
       " }),\n",
       " Frame({\n",
       "     'data': [{'type': 'scatter',\n",
       "               'x': [1, 2, 3, 4, 5, 6, 7, 8, 9, 10, 11, 12, 13, 14, 15, 16, 17, 18,\n",
       "                     19, 20, 21, 22, 23, 24, 25, 26, 27, 28, 29, 30, 31, 32, 33, 34,\n",
       "                     35, 36, 37, 38, 39, 40, 41, 42, 43, 44, 45, 46, 47, 48, 49, 50,\n",
       "                     51, 52, 53, 54, 55, 56, 57, 58, 59, 60, 61, 62, 63, 64, 65, 66,\n",
       "                     67],\n",
       "               'y': [1.6596808747866256, 3.39917311805878, 5.218476729816462,\n",
       "                     7.117591710059673, 9.096518058788412, 11.155255776002681,\n",
       "                     13.293804861702476, 15.5121653158878, 17.810337138558655,\n",
       "                     20.188320329715033, 22.646114889356944, 25.183720817484385,\n",
       "                     27.801138114097352, 30.49836677919584, 33.27540681277986,\n",
       "                     36.132258214849415, 39.0689209854045, 42.08539512444511,\n",
       "                     45.18168063197125, 48.35777750798291, 51.6136857524801,\n",
       "                     54.94940536546282, 58.364936346931074, 61.860278696884855,\n",
       "                     65.43543241532416, 69.090397502249, 72.82517395765936,\n",
       "                     76.63976178155525, 80.53416097393668, 84.50837153480362,\n",
       "                     88.56239346415609, 92.6962267619941, 96.90987142831764,\n",
       "                     101.2033274631267, 105.57659486642129, 110.02967363820142,\n",
       "                     114.56256377846707, 119.17526528721824, 123.86777816445493,\n",
       "                     128.64010241017718, 133.49223802438493, 138.42418500707822,\n",
       "                     143.43594335825705, 148.52751307792138, 153.69889416607128,\n",
       "                     158.9500866227067, 164.2810904478276, 169.69190564143406,\n",
       "                     175.18253220352605, 180.75297013410358, 186.4032194331666,\n",
       "                     192.13328010071518, 197.9431521367493, 203.83283554126893,\n",
       "                     209.80233031427406, 215.85163645576475, 221.98075396574097,\n",
       "                     228.1896828442027, 234.47842309114998, 240.84697470658278,\n",
       "                     247.29533769050113, 253.82351204290495, 260.43149776379437,\n",
       "                     267.11929485316927, 273.8869033110297, 280.73432313737567,\n",
       "                     287.66155433220723]}]\n",
       " }),\n",
       " Frame({\n",
       "     'data': [{'type': 'scatter',\n",
       "               'x': [1, 2, 3, 4, 5, 6, 7, 8, 9, 10, 11, 12, 13, 14, 15, 16, 17, 18,\n",
       "                     19, 20, 21, 22, 23, 24, 25, 26, 27, 28, 29, 30, 31, 32, 33, 34,\n",
       "                     35, 36, 37, 38, 39, 40, 41, 42, 43, 44, 45, 46, 47, 48, 49, 50,\n",
       "                     51, 52, 53, 54, 55, 56, 57, 58, 59, 60, 61, 62, 63, 64, 65, 66,\n",
       "                     67, 68],\n",
       "               'y': [1.6596808747866256, 3.39917311805878, 5.218476729816462,\n",
       "                     7.117591710059673, 9.096518058788412, 11.155255776002681,\n",
       "                     13.293804861702476, 15.5121653158878, 17.810337138558655,\n",
       "                     20.188320329715033, 22.646114889356944, 25.183720817484385,\n",
       "                     27.801138114097352, 30.49836677919584, 33.27540681277986,\n",
       "                     36.132258214849415, 39.0689209854045, 42.08539512444511,\n",
       "                     45.18168063197125, 48.35777750798291, 51.6136857524801,\n",
       "                     54.94940536546282, 58.364936346931074, 61.860278696884855,\n",
       "                     65.43543241532416, 69.090397502249, 72.82517395765936,\n",
       "                     76.63976178155525, 80.53416097393668, 84.50837153480362,\n",
       "                     88.56239346415609, 92.6962267619941, 96.90987142831764,\n",
       "                     101.2033274631267, 105.57659486642129, 110.02967363820142,\n",
       "                     114.56256377846707, 119.17526528721824, 123.86777816445493,\n",
       "                     128.64010241017718, 133.49223802438493, 138.42418500707822,\n",
       "                     143.43594335825705, 148.52751307792138, 153.69889416607128,\n",
       "                     158.9500866227067, 164.2810904478276, 169.69190564143406,\n",
       "                     175.18253220352605, 180.75297013410358, 186.4032194331666,\n",
       "                     192.13328010071518, 197.9431521367493, 203.83283554126893,\n",
       "                     209.80233031427406, 215.85163645576475, 221.98075396574097,\n",
       "                     228.1896828442027, 234.47842309114998, 240.84697470658278,\n",
       "                     247.29533769050113, 253.82351204290495, 260.43149776379437,\n",
       "                     267.11929485316927, 273.8869033110297, 280.73432313737567,\n",
       "                     287.66155433220723, 294.6685968955242]}]\n",
       " }),\n",
       " Frame({\n",
       "     'data': [{'type': 'scatter',\n",
       "               'x': [1, 2, 3, 4, 5, 6, 7, 8, 9, 10, 11, 12, 13, 14, 15, 16, 17, 18,\n",
       "                     19, 20, 21, 22, 23, 24, 25, 26, 27, 28, 29, 30, 31, 32, 33, 34,\n",
       "                     35, 36, 37, 38, 39, 40, 41, 42, 43, 44, 45, 46, 47, 48, 49, 50,\n",
       "                     51, 52, 53, 54, 55, 56, 57, 58, 59, 60, 61, 62, 63, 64, 65, 66,\n",
       "                     67, 68, 69],\n",
       "               'y': [1.6596808747866256, 3.39917311805878, 5.218476729816462,\n",
       "                     7.117591710059673, 9.096518058788412, 11.155255776002681,\n",
       "                     13.293804861702476, 15.5121653158878, 17.810337138558655,\n",
       "                     20.188320329715033, 22.646114889356944, 25.183720817484385,\n",
       "                     27.801138114097352, 30.49836677919584, 33.27540681277986,\n",
       "                     36.132258214849415, 39.0689209854045, 42.08539512444511,\n",
       "                     45.18168063197125, 48.35777750798291, 51.6136857524801,\n",
       "                     54.94940536546282, 58.364936346931074, 61.860278696884855,\n",
       "                     65.43543241532416, 69.090397502249, 72.82517395765936,\n",
       "                     76.63976178155525, 80.53416097393668, 84.50837153480362,\n",
       "                     88.56239346415609, 92.6962267619941, 96.90987142831764,\n",
       "                     101.2033274631267, 105.57659486642129, 110.02967363820142,\n",
       "                     114.56256377846707, 119.17526528721824, 123.86777816445493,\n",
       "                     128.64010241017718, 133.49223802438493, 138.42418500707822,\n",
       "                     143.43594335825705, 148.52751307792138, 153.69889416607128,\n",
       "                     158.9500866227067, 164.2810904478276, 169.69190564143406,\n",
       "                     175.18253220352605, 180.75297013410358, 186.4032194331666,\n",
       "                     192.13328010071518, 197.9431521367493, 203.83283554126893,\n",
       "                     209.80233031427406, 215.85163645576475, 221.98075396574097,\n",
       "                     228.1896828442027, 234.47842309114998, 240.84697470658278,\n",
       "                     247.29533769050113, 253.82351204290495, 260.43149776379437,\n",
       "                     267.11929485316927, 273.8869033110297, 280.73432313737567,\n",
       "                     287.66155433220723, 294.6685968955242, 301.7554508273268]}]\n",
       " }),\n",
       " Frame({\n",
       "     'data': [{'type': 'scatter',\n",
       "               'x': [1, 2, 3, 4, 5, 6, 7, 8, 9, 10, 11, 12, 13, 14, 15, 16, 17, 18,\n",
       "                     19, 20, 21, 22, 23, 24, 25, 26, 27, 28, 29, 30, 31, 32, 33, 34,\n",
       "                     35, 36, 37, 38, 39, 40, 41, 42, 43, 44, 45, 46, 47, 48, 49, 50,\n",
       "                     51, 52, 53, 54, 55, 56, 57, 58, 59, 60, 61, 62, 63, 64, 65, 66,\n",
       "                     67, 68, 69, 70],\n",
       "               'y': [1.6596808747866256, 3.39917311805878, 5.218476729816462,\n",
       "                     7.117591710059673, 9.096518058788412, 11.155255776002681,\n",
       "                     13.293804861702476, 15.5121653158878, 17.810337138558655,\n",
       "                     20.188320329715033, 22.646114889356944, 25.183720817484385,\n",
       "                     27.801138114097352, 30.49836677919584, 33.27540681277986,\n",
       "                     36.132258214849415, 39.0689209854045, 42.08539512444511,\n",
       "                     45.18168063197125, 48.35777750798291, 51.6136857524801,\n",
       "                     54.94940536546282, 58.364936346931074, 61.860278696884855,\n",
       "                     65.43543241532416, 69.090397502249, 72.82517395765936,\n",
       "                     76.63976178155525, 80.53416097393668, 84.50837153480362,\n",
       "                     88.56239346415609, 92.6962267619941, 96.90987142831764,\n",
       "                     101.2033274631267, 105.57659486642129, 110.02967363820142,\n",
       "                     114.56256377846707, 119.17526528721824, 123.86777816445493,\n",
       "                     128.64010241017718, 133.49223802438493, 138.42418500707822,\n",
       "                     143.43594335825705, 148.52751307792138, 153.69889416607128,\n",
       "                     158.9500866227067, 164.2810904478276, 169.69190564143406,\n",
       "                     175.18253220352605, 180.75297013410358, 186.4032194331666,\n",
       "                     192.13328010071518, 197.9431521367493, 203.83283554126893,\n",
       "                     209.80233031427406, 215.85163645576475, 221.98075396574097,\n",
       "                     228.1896828442027, 234.47842309114998, 240.84697470658278,\n",
       "                     247.29533769050113, 253.82351204290495, 260.43149776379437,\n",
       "                     267.11929485316927, 273.8869033110297, 280.73432313737567,\n",
       "                     287.66155433220723, 294.6685968955242, 301.7554508273268,\n",
       "                     308.92211612761486]}]\n",
       " }),\n",
       " Frame({\n",
       "     'data': [{'type': 'scatter',\n",
       "               'x': [1, 2, 3, 4, 5, 6, 7, 8, 9, 10, 11, 12, 13, 14, 15, 16, 17, 18,\n",
       "                     19, 20, 21, 22, 23, 24, 25, 26, 27, 28, 29, 30, 31, 32, 33, 34,\n",
       "                     35, 36, 37, 38, 39, 40, 41, 42, 43, 44, 45, 46, 47, 48, 49, 50,\n",
       "                     51, 52, 53, 54, 55, 56, 57, 58, 59, 60, 61, 62, 63, 64, 65, 66,\n",
       "                     67, 68, 69, 70, 71],\n",
       "               'y': [1.6596808747866256, 3.39917311805878, 5.218476729816462,\n",
       "                     7.117591710059673, 9.096518058788412, 11.155255776002681,\n",
       "                     13.293804861702476, 15.5121653158878, 17.810337138558655,\n",
       "                     20.188320329715033, 22.646114889356944, 25.183720817484385,\n",
       "                     27.801138114097352, 30.49836677919584, 33.27540681277986,\n",
       "                     36.132258214849415, 39.0689209854045, 42.08539512444511,\n",
       "                     45.18168063197125, 48.35777750798291, 51.6136857524801,\n",
       "                     54.94940536546282, 58.364936346931074, 61.860278696884855,\n",
       "                     65.43543241532416, 69.090397502249, 72.82517395765936,\n",
       "                     76.63976178155525, 80.53416097393668, 84.50837153480362,\n",
       "                     88.56239346415609, 92.6962267619941, 96.90987142831764,\n",
       "                     101.2033274631267, 105.57659486642129, 110.02967363820142,\n",
       "                     114.56256377846707, 119.17526528721824, 123.86777816445493,\n",
       "                     128.64010241017718, 133.49223802438493, 138.42418500707822,\n",
       "                     143.43594335825705, 148.52751307792138, 153.69889416607128,\n",
       "                     158.9500866227067, 164.2810904478276, 169.69190564143406,\n",
       "                     175.18253220352605, 180.75297013410358, 186.4032194331666,\n",
       "                     192.13328010071518, 197.9431521367493, 203.83283554126893,\n",
       "                     209.80233031427406, 215.85163645576475, 221.98075396574097,\n",
       "                     228.1896828442027, 234.47842309114998, 240.84697470658278,\n",
       "                     247.29533769050113, 253.82351204290495, 260.43149776379437,\n",
       "                     267.11929485316927, 273.8869033110297, 280.73432313737567,\n",
       "                     287.66155433220723, 294.6685968955242, 301.7554508273268,\n",
       "                     308.92211612761486, 316.16859279638845]}]\n",
       " }),\n",
       " Frame({\n",
       "     'data': [{'type': 'scatter',\n",
       "               'x': [1, 2, 3, 4, 5, 6, 7, 8, 9, 10, 11, 12, 13, 14, 15, 16, 17, 18,\n",
       "                     19, 20, 21, 22, 23, 24, 25, 26, 27, 28, 29, 30, 31, 32, 33, 34,\n",
       "                     35, 36, 37, 38, 39, 40, 41, 42, 43, 44, 45, 46, 47, 48, 49, 50,\n",
       "                     51, 52, 53, 54, 55, 56, 57, 58, 59, 60, 61, 62, 63, 64, 65, 66,\n",
       "                     67, 68, 69, 70, 71, 72],\n",
       "               'y': [1.6596808747866256, 3.39917311805878, 5.218476729816462,\n",
       "                     7.117591710059673, 9.096518058788412, 11.155255776002681,\n",
       "                     13.293804861702476, 15.5121653158878, 17.810337138558655,\n",
       "                     20.188320329715033, 22.646114889356944, 25.183720817484385,\n",
       "                     27.801138114097352, 30.49836677919584, 33.27540681277986,\n",
       "                     36.132258214849415, 39.0689209854045, 42.08539512444511,\n",
       "                     45.18168063197125, 48.35777750798291, 51.6136857524801,\n",
       "                     54.94940536546282, 58.364936346931074, 61.860278696884855,\n",
       "                     65.43543241532416, 69.090397502249, 72.82517395765936,\n",
       "                     76.63976178155525, 80.53416097393668, 84.50837153480362,\n",
       "                     88.56239346415609, 92.6962267619941, 96.90987142831764,\n",
       "                     101.2033274631267, 105.57659486642129, 110.02967363820142,\n",
       "                     114.56256377846707, 119.17526528721824, 123.86777816445493,\n",
       "                     128.64010241017718, 133.49223802438493, 138.42418500707822,\n",
       "                     143.43594335825705, 148.52751307792138, 153.69889416607128,\n",
       "                     158.9500866227067, 164.2810904478276, 169.69190564143406,\n",
       "                     175.18253220352605, 180.75297013410358, 186.4032194331666,\n",
       "                     192.13328010071518, 197.9431521367493, 203.83283554126893,\n",
       "                     209.80233031427406, 215.85163645576475, 221.98075396574097,\n",
       "                     228.1896828442027, 234.47842309114998, 240.84697470658278,\n",
       "                     247.29533769050113, 253.82351204290495, 260.43149776379437,\n",
       "                     267.11929485316927, 273.8869033110297, 280.73432313737567,\n",
       "                     287.66155433220723, 294.6685968955242, 301.7554508273268,\n",
       "                     308.92211612761486, 316.16859279638845, 323.49488083364764]}]\n",
       " }),\n",
       " Frame({\n",
       "     'data': [{'type': 'scatter',\n",
       "               'x': [1, 2, 3, 4, 5, 6, 7, 8, 9, 10, 11, 12, 13, 14, 15, 16, 17, 18,\n",
       "                     19, 20, 21, 22, 23, 24, 25, 26, 27, 28, 29, 30, 31, 32, 33, 34,\n",
       "                     35, 36, 37, 38, 39, 40, 41, 42, 43, 44, 45, 46, 47, 48, 49, 50,\n",
       "                     51, 52, 53, 54, 55, 56, 57, 58, 59, 60, 61, 62, 63, 64, 65, 66,\n",
       "                     67, 68, 69, 70, 71, 72, 73],\n",
       "               'y': [1.6596808747866256, 3.39917311805878, 5.218476729816462,\n",
       "                     7.117591710059673, 9.096518058788412, 11.155255776002681,\n",
       "                     13.293804861702476, 15.5121653158878, 17.810337138558655,\n",
       "                     20.188320329715033, 22.646114889356944, 25.183720817484385,\n",
       "                     27.801138114097352, 30.49836677919584, 33.27540681277986,\n",
       "                     36.132258214849415, 39.0689209854045, 42.08539512444511,\n",
       "                     45.18168063197125, 48.35777750798291, 51.6136857524801,\n",
       "                     54.94940536546282, 58.364936346931074, 61.860278696884855,\n",
       "                     65.43543241532416, 69.090397502249, 72.82517395765936,\n",
       "                     76.63976178155525, 80.53416097393668, 84.50837153480362,\n",
       "                     88.56239346415609, 92.6962267619941, 96.90987142831764,\n",
       "                     101.2033274631267, 105.57659486642129, 110.02967363820142,\n",
       "                     114.56256377846707, 119.17526528721824, 123.86777816445493,\n",
       "                     128.64010241017718, 133.49223802438493, 138.42418500707822,\n",
       "                     143.43594335825705, 148.52751307792138, 153.69889416607128,\n",
       "                     158.9500866227067, 164.2810904478276, 169.69190564143406,\n",
       "                     175.18253220352605, 180.75297013410358, 186.4032194331666,\n",
       "                     192.13328010071518, 197.9431521367493, 203.83283554126893,\n",
       "                     209.80233031427406, 215.85163645576475, 221.98075396574097,\n",
       "                     228.1896828442027, 234.47842309114998, 240.84697470658278,\n",
       "                     247.29533769050113, 253.82351204290495, 260.43149776379437,\n",
       "                     267.11929485316927, 273.8869033110297, 280.73432313737567,\n",
       "                     287.66155433220723, 294.6685968955242, 301.7554508273268,\n",
       "                     308.92211612761486, 316.16859279638845, 323.49488083364764,\n",
       "                     330.9009802393923]}]\n",
       " }),\n",
       " Frame({\n",
       "     'data': [{'type': 'scatter',\n",
       "               'x': [1, 2, 3, 4, 5, 6, 7, 8, 9, 10, 11, 12, 13, 14, 15, 16, 17, 18,\n",
       "                     19, 20, 21, 22, 23, 24, 25, 26, 27, 28, 29, 30, 31, 32, 33, 34,\n",
       "                     35, 36, 37, 38, 39, 40, 41, 42, 43, 44, 45, 46, 47, 48, 49, 50,\n",
       "                     51, 52, 53, 54, 55, 56, 57, 58, 59, 60, 61, 62, 63, 64, 65, 66,\n",
       "                     67, 68, 69, 70, 71, 72, 73, 74],\n",
       "               'y': [1.6596808747866256, 3.39917311805878, 5.218476729816462,\n",
       "                     7.117591710059673, 9.096518058788412, 11.155255776002681,\n",
       "                     13.293804861702476, 15.5121653158878, 17.810337138558655,\n",
       "                     20.188320329715033, 22.646114889356944, 25.183720817484385,\n",
       "                     27.801138114097352, 30.49836677919584, 33.27540681277986,\n",
       "                     36.132258214849415, 39.0689209854045, 42.08539512444511,\n",
       "                     45.18168063197125, 48.35777750798291, 51.6136857524801,\n",
       "                     54.94940536546282, 58.364936346931074, 61.860278696884855,\n",
       "                     65.43543241532416, 69.090397502249, 72.82517395765936,\n",
       "                     76.63976178155525, 80.53416097393668, 84.50837153480362,\n",
       "                     88.56239346415609, 92.6962267619941, 96.90987142831764,\n",
       "                     101.2033274631267, 105.57659486642129, 110.02967363820142,\n",
       "                     114.56256377846707, 119.17526528721824, 123.86777816445493,\n",
       "                     128.64010241017718, 133.49223802438493, 138.42418500707822,\n",
       "                     143.43594335825705, 148.52751307792138, 153.69889416607128,\n",
       "                     158.9500866227067, 164.2810904478276, 169.69190564143406,\n",
       "                     175.18253220352605, 180.75297013410358, 186.4032194331666,\n",
       "                     192.13328010071518, 197.9431521367493, 203.83283554126893,\n",
       "                     209.80233031427406, 215.85163645576475, 221.98075396574097,\n",
       "                     228.1896828442027, 234.47842309114998, 240.84697470658278,\n",
       "                     247.29533769050113, 253.82351204290495, 260.43149776379437,\n",
       "                     267.11929485316927, 273.8869033110297, 280.73432313737567,\n",
       "                     287.66155433220723, 294.6685968955242, 301.7554508273268,\n",
       "                     308.92211612761486, 316.16859279638845, 323.49488083364764,\n",
       "                     330.9009802393923, 338.3868910136225]}]\n",
       " }),\n",
       " Frame({\n",
       "     'data': [{'type': 'scatter',\n",
       "               'x': [1, 2, 3, 4, 5, 6, 7, 8, 9, 10, 11, 12, 13, 14, 15, 16, 17, 18,\n",
       "                     19, 20, 21, 22, 23, 24, 25, 26, 27, 28, 29, 30, 31, 32, 33, 34,\n",
       "                     35, 36, 37, 38, 39, 40, 41, 42, 43, 44, 45, 46, 47, 48, 49, 50,\n",
       "                     51, 52, 53, 54, 55, 56, 57, 58, 59, 60, 61, 62, 63, 64, 65, 66,\n",
       "                     67, 68, 69, 70, 71, 72, 73, 74, 75],\n",
       "               'y': [1.6596808747866256, 3.39917311805878, 5.218476729816462,\n",
       "                     7.117591710059673, 9.096518058788412, 11.155255776002681,\n",
       "                     13.293804861702476, 15.5121653158878, 17.810337138558655,\n",
       "                     20.188320329715033, 22.646114889356944, 25.183720817484385,\n",
       "                     27.801138114097352, 30.49836677919584, 33.27540681277986,\n",
       "                     36.132258214849415, 39.0689209854045, 42.08539512444511,\n",
       "                     45.18168063197125, 48.35777750798291, 51.6136857524801,\n",
       "                     54.94940536546282, 58.364936346931074, 61.860278696884855,\n",
       "                     65.43543241532416, 69.090397502249, 72.82517395765936,\n",
       "                     76.63976178155525, 80.53416097393668, 84.50837153480362,\n",
       "                     88.56239346415609, 92.6962267619941, 96.90987142831764,\n",
       "                     101.2033274631267, 105.57659486642129, 110.02967363820142,\n",
       "                     114.56256377846707, 119.17526528721824, 123.86777816445493,\n",
       "                     128.64010241017718, 133.49223802438493, 138.42418500707822,\n",
       "                     143.43594335825705, 148.52751307792138, 153.69889416607128,\n",
       "                     158.9500866227067, 164.2810904478276, 169.69190564143406,\n",
       "                     175.18253220352605, 180.75297013410358, 186.4032194331666,\n",
       "                     192.13328010071518, 197.9431521367493, 203.83283554126893,\n",
       "                     209.80233031427406, 215.85163645576475, 221.98075396574097,\n",
       "                     228.1896828442027, 234.47842309114998, 240.84697470658278,\n",
       "                     247.29533769050113, 253.82351204290495, 260.43149776379437,\n",
       "                     267.11929485316927, 273.8869033110297, 280.73432313737567,\n",
       "                     287.66155433220723, 294.6685968955242, 301.7554508273268,\n",
       "                     308.92211612761486, 316.16859279638845, 323.49488083364764,\n",
       "                     330.9009802393923, 338.3868910136225, 345.9526131563382]}]\n",
       " }),\n",
       " Frame({\n",
       "     'data': [{'type': 'scatter',\n",
       "               'x': [1, 2, 3, 4, 5, 6, 7, 8, 9, 10, 11, 12, 13, 14, 15, 16, 17, 18,\n",
       "                     19, 20, 21, 22, 23, 24, 25, 26, 27, 28, 29, 30, 31, 32, 33, 34,\n",
       "                     35, 36, 37, 38, 39, 40, 41, 42, 43, 44, 45, 46, 47, 48, 49, 50,\n",
       "                     51, 52, 53, 54, 55, 56, 57, 58, 59, 60, 61, 62, 63, 64, 65, 66,\n",
       "                     67, 68, 69, 70, 71, 72, 73, 74, 75, 76],\n",
       "               'y': [1.6596808747866256, 3.39917311805878, 5.218476729816462,\n",
       "                     7.117591710059673, 9.096518058788412, 11.155255776002681,\n",
       "                     13.293804861702476, 15.5121653158878, 17.810337138558655,\n",
       "                     20.188320329715033, 22.646114889356944, 25.183720817484385,\n",
       "                     27.801138114097352, 30.49836677919584, 33.27540681277986,\n",
       "                     36.132258214849415, 39.0689209854045, 42.08539512444511,\n",
       "                     45.18168063197125, 48.35777750798291, 51.6136857524801,\n",
       "                     54.94940536546282, 58.364936346931074, 61.860278696884855,\n",
       "                     65.43543241532416, 69.090397502249, 72.82517395765936,\n",
       "                     76.63976178155525, 80.53416097393668, 84.50837153480362,\n",
       "                     88.56239346415609, 92.6962267619941, 96.90987142831764,\n",
       "                     101.2033274631267, 105.57659486642129, 110.02967363820142,\n",
       "                     114.56256377846707, 119.17526528721824, 123.86777816445493,\n",
       "                     128.64010241017718, 133.49223802438493, 138.42418500707822,\n",
       "                     143.43594335825705, 148.52751307792138, 153.69889416607128,\n",
       "                     158.9500866227067, 164.2810904478276, 169.69190564143406,\n",
       "                     175.18253220352605, 180.75297013410358, 186.4032194331666,\n",
       "                     192.13328010071518, 197.9431521367493, 203.83283554126893,\n",
       "                     209.80233031427406, 215.85163645576475, 221.98075396574097,\n",
       "                     228.1896828442027, 234.47842309114998, 240.84697470658278,\n",
       "                     247.29533769050113, 253.82351204290495, 260.43149776379437,\n",
       "                     267.11929485316927, 273.8869033110297, 280.73432313737567,\n",
       "                     287.66155433220723, 294.6685968955242, 301.7554508273268,\n",
       "                     308.92211612761486, 316.16859279638845, 323.49488083364764,\n",
       "                     330.9009802393923, 338.3868910136225, 345.9526131563382,\n",
       "                     353.5981466675395]}]\n",
       " }),\n",
       " Frame({\n",
       "     'data': [{'type': 'scatter',\n",
       "               'x': [1, 2, 3, 4, 5, 6, 7, 8, 9, 10, 11, 12, 13, 14, 15, 16, 17, 18,\n",
       "                     19, 20, 21, 22, 23, 24, 25, 26, 27, 28, 29, 30, 31, 32, 33, 34,\n",
       "                     35, 36, 37, 38, 39, 40, 41, 42, 43, 44, 45, 46, 47, 48, 49, 50,\n",
       "                     51, 52, 53, 54, 55, 56, 57, 58, 59, 60, 61, 62, 63, 64, 65, 66,\n",
       "                     67, 68, 69, 70, 71, 72, 73, 74, 75, 76, 77],\n",
       "               'y': [1.6596808747866256, 3.39917311805878, 5.218476729816462,\n",
       "                     7.117591710059673, 9.096518058788412, 11.155255776002681,\n",
       "                     13.293804861702476, 15.5121653158878, 17.810337138558655,\n",
       "                     20.188320329715033, 22.646114889356944, 25.183720817484385,\n",
       "                     27.801138114097352, 30.49836677919584, 33.27540681277986,\n",
       "                     36.132258214849415, 39.0689209854045, 42.08539512444511,\n",
       "                     45.18168063197125, 48.35777750798291, 51.6136857524801,\n",
       "                     54.94940536546282, 58.364936346931074, 61.860278696884855,\n",
       "                     65.43543241532416, 69.090397502249, 72.82517395765936,\n",
       "                     76.63976178155525, 80.53416097393668, 84.50837153480362,\n",
       "                     88.56239346415609, 92.6962267619941, 96.90987142831764,\n",
       "                     101.2033274631267, 105.57659486642129, 110.02967363820142,\n",
       "                     114.56256377846707, 119.17526528721824, 123.86777816445493,\n",
       "                     128.64010241017718, 133.49223802438493, 138.42418500707822,\n",
       "                     143.43594335825705, 148.52751307792138, 153.69889416607128,\n",
       "                     158.9500866227067, 164.2810904478276, 169.69190564143406,\n",
       "                     175.18253220352605, 180.75297013410358, 186.4032194331666,\n",
       "                     192.13328010071518, 197.9431521367493, 203.83283554126893,\n",
       "                     209.80233031427406, 215.85163645576475, 221.98075396574097,\n",
       "                     228.1896828442027, 234.47842309114998, 240.84697470658278,\n",
       "                     247.29533769050113, 253.82351204290495, 260.43149776379437,\n",
       "                     267.11929485316927, 273.8869033110297, 280.73432313737567,\n",
       "                     287.66155433220723, 294.6685968955242, 301.7554508273268,\n",
       "                     308.92211612761486, 316.16859279638845, 323.49488083364764,\n",
       "                     330.9009802393923, 338.3868910136225, 345.9526131563382,\n",
       "                     353.5981466675395, 361.32349154722624]}]\n",
       " }),\n",
       " Frame({\n",
       "     'data': [{'type': 'scatter',\n",
       "               'x': [1, 2, 3, 4, 5, 6, 7, 8, 9, 10, 11, 12, 13, 14, 15, 16, 17, 18,\n",
       "                     19, 20, 21, 22, 23, 24, 25, 26, 27, 28, 29, 30, 31, 32, 33, 34,\n",
       "                     35, 36, 37, 38, 39, 40, 41, 42, 43, 44, 45, 46, 47, 48, 49, 50,\n",
       "                     51, 52, 53, 54, 55, 56, 57, 58, 59, 60, 61, 62, 63, 64, 65, 66,\n",
       "                     67, 68, 69, 70, 71, 72, 73, 74, 75, 76, 77, 78],\n",
       "               'y': [1.6596808747866256, 3.39917311805878, 5.218476729816462,\n",
       "                     7.117591710059673, 9.096518058788412, 11.155255776002681,\n",
       "                     13.293804861702476, 15.5121653158878, 17.810337138558655,\n",
       "                     20.188320329715033, 22.646114889356944, 25.183720817484385,\n",
       "                     27.801138114097352, 30.49836677919584, 33.27540681277986,\n",
       "                     36.132258214849415, 39.0689209854045, 42.08539512444511,\n",
       "                     45.18168063197125, 48.35777750798291, 51.6136857524801,\n",
       "                     54.94940536546282, 58.364936346931074, 61.860278696884855,\n",
       "                     65.43543241532416, 69.090397502249, 72.82517395765936,\n",
       "                     76.63976178155525, 80.53416097393668, 84.50837153480362,\n",
       "                     88.56239346415609, 92.6962267619941, 96.90987142831764,\n",
       "                     101.2033274631267, 105.57659486642129, 110.02967363820142,\n",
       "                     114.56256377846707, 119.17526528721824, 123.86777816445493,\n",
       "                     128.64010241017718, 133.49223802438493, 138.42418500707822,\n",
       "                     143.43594335825705, 148.52751307792138, 153.69889416607128,\n",
       "                     158.9500866227067, 164.2810904478276, 169.69190564143406,\n",
       "                     175.18253220352605, 180.75297013410358, 186.4032194331666,\n",
       "                     192.13328010071518, 197.9431521367493, 203.83283554126893,\n",
       "                     209.80233031427406, 215.85163645576475, 221.98075396574097,\n",
       "                     228.1896828442027, 234.47842309114998, 240.84697470658278,\n",
       "                     247.29533769050113, 253.82351204290495, 260.43149776379437,\n",
       "                     267.11929485316927, 273.8869033110297, 280.73432313737567,\n",
       "                     287.66155433220723, 294.6685968955242, 301.7554508273268,\n",
       "                     308.92211612761486, 316.16859279638845, 323.49488083364764,\n",
       "                     330.9009802393923, 338.3868910136225, 345.9526131563382,\n",
       "                     353.5981466675395, 361.32349154722624, 369.1286477953986]}]\n",
       " }),\n",
       " Frame({\n",
       "     'data': [{'type': 'scatter',\n",
       "               'x': [1, 2, 3, 4, 5, 6, 7, 8, 9, 10, 11, 12, 13, 14, 15, 16, 17, 18,\n",
       "                     19, 20, 21, 22, 23, 24, 25, 26, 27, 28, 29, 30, 31, 32, 33, 34,\n",
       "                     35, 36, 37, 38, 39, 40, 41, 42, 43, 44, 45, 46, 47, 48, 49, 50,\n",
       "                     51, 52, 53, 54, 55, 56, 57, 58, 59, 60, 61, 62, 63, 64, 65, 66,\n",
       "                     67, 68, 69, 70, 71, 72, 73, 74, 75, 76, 77, 78, 79],\n",
       "               'y': [1.6596808747866256, 3.39917311805878, 5.218476729816462,\n",
       "                     7.117591710059673, 9.096518058788412, 11.155255776002681,\n",
       "                     13.293804861702476, 15.5121653158878, 17.810337138558655,\n",
       "                     20.188320329715033, 22.646114889356944, 25.183720817484385,\n",
       "                     27.801138114097352, 30.49836677919584, 33.27540681277986,\n",
       "                     36.132258214849415, 39.0689209854045, 42.08539512444511,\n",
       "                     45.18168063197125, 48.35777750798291, 51.6136857524801,\n",
       "                     54.94940536546282, 58.364936346931074, 61.860278696884855,\n",
       "                     65.43543241532416, 69.090397502249, 72.82517395765936,\n",
       "                     76.63976178155525, 80.53416097393668, 84.50837153480362,\n",
       "                     88.56239346415609, 92.6962267619941, 96.90987142831764,\n",
       "                     101.2033274631267, 105.57659486642129, 110.02967363820142,\n",
       "                     114.56256377846707, 119.17526528721824, 123.86777816445493,\n",
       "                     128.64010241017718, 133.49223802438493, 138.42418500707822,\n",
       "                     143.43594335825705, 148.52751307792138, 153.69889416607128,\n",
       "                     158.9500866227067, 164.2810904478276, 169.69190564143406,\n",
       "                     175.18253220352605, 180.75297013410358, 186.4032194331666,\n",
       "                     192.13328010071518, 197.9431521367493, 203.83283554126893,\n",
       "                     209.80233031427406, 215.85163645576475, 221.98075396574097,\n",
       "                     228.1896828442027, 234.47842309114998, 240.84697470658278,\n",
       "                     247.29533769050113, 253.82351204290495, 260.43149776379437,\n",
       "                     267.11929485316927, 273.8869033110297, 280.73432313737567,\n",
       "                     287.66155433220723, 294.6685968955242, 301.7554508273268,\n",
       "                     308.92211612761486, 316.16859279638845, 323.49488083364764,\n",
       "                     330.9009802393923, 338.3868910136225, 345.9526131563382,\n",
       "                     353.5981466675395, 361.32349154722624, 369.1286477953986,\n",
       "                     377.0136154120564]}]\n",
       " }),\n",
       " Frame({\n",
       "     'data': [{'type': 'scatter',\n",
       "               'x': [1, 2, 3, 4, 5, 6, 7, 8, 9, 10, 11, 12, 13, 14, 15, 16, 17, 18,\n",
       "                     19, 20, 21, 22, 23, 24, 25, 26, 27, 28, 29, 30, 31, 32, 33, 34,\n",
       "                     35, 36, 37, 38, 39, 40, 41, 42, 43, 44, 45, 46, 47, 48, 49, 50,\n",
       "                     51, 52, 53, 54, 55, 56, 57, 58, 59, 60, 61, 62, 63, 64, 65, 66,\n",
       "                     67, 68, 69, 70, 71, 72, 73, 74, 75, 76, 77, 78, 79, 80],\n",
       "               'y': [1.6596808747866256, 3.39917311805878, 5.218476729816462,\n",
       "                     7.117591710059673, 9.096518058788412, 11.155255776002681,\n",
       "                     13.293804861702476, 15.5121653158878, 17.810337138558655,\n",
       "                     20.188320329715033, 22.646114889356944, 25.183720817484385,\n",
       "                     27.801138114097352, 30.49836677919584, 33.27540681277986,\n",
       "                     36.132258214849415, 39.0689209854045, 42.08539512444511,\n",
       "                     45.18168063197125, 48.35777750798291, 51.6136857524801,\n",
       "                     54.94940536546282, 58.364936346931074, 61.860278696884855,\n",
       "                     65.43543241532416, 69.090397502249, 72.82517395765936,\n",
       "                     76.63976178155525, 80.53416097393668, 84.50837153480362,\n",
       "                     88.56239346415609, 92.6962267619941, 96.90987142831764,\n",
       "                     101.2033274631267, 105.57659486642129, 110.02967363820142,\n",
       "                     114.56256377846707, 119.17526528721824, 123.86777816445493,\n",
       "                     128.64010241017718, 133.49223802438493, 138.42418500707822,\n",
       "                     143.43594335825705, 148.52751307792138, 153.69889416607128,\n",
       "                     158.9500866227067, 164.2810904478276, 169.69190564143406,\n",
       "                     175.18253220352605, 180.75297013410358, 186.4032194331666,\n",
       "                     192.13328010071518, 197.9431521367493, 203.83283554126893,\n",
       "                     209.80233031427406, 215.85163645576475, 221.98075396574097,\n",
       "                     228.1896828442027, 234.47842309114998, 240.84697470658278,\n",
       "                     247.29533769050113, 253.82351204290495, 260.43149776379437,\n",
       "                     267.11929485316927, 273.8869033110297, 280.73432313737567,\n",
       "                     287.66155433220723, 294.6685968955242, 301.7554508273268,\n",
       "                     308.92211612761486, 316.16859279638845, 323.49488083364764,\n",
       "                     330.9009802393923, 338.3868910136225, 345.9526131563382,\n",
       "                     353.5981466675395, 361.32349154722624, 369.1286477953986,\n",
       "                     377.0136154120564, 384.97839439719974]}]\n",
       " }),\n",
       " Frame({\n",
       "     'data': [{'type': 'scatter',\n",
       "               'x': [1, 2, 3, 4, 5, 6, 7, 8, 9, 10, 11, 12, 13, 14, 15, 16, 17, 18,\n",
       "                     19, 20, 21, 22, 23, 24, 25, 26, 27, 28, 29, 30, 31, 32, 33, 34,\n",
       "                     35, 36, 37, 38, 39, 40, 41, 42, 43, 44, 45, 46, 47, 48, 49, 50,\n",
       "                     51, 52, 53, 54, 55, 56, 57, 58, 59, 60, 61, 62, 63, 64, 65, 66,\n",
       "                     67, 68, 69, 70, 71, 72, 73, 74, 75, 76, 77, 78, 79, 80, 81],\n",
       "               'y': [1.6596808747866256, 3.39917311805878, 5.218476729816462,\n",
       "                     7.117591710059673, 9.096518058788412, 11.155255776002681,\n",
       "                     13.293804861702476, 15.5121653158878, 17.810337138558655,\n",
       "                     20.188320329715033, 22.646114889356944, 25.183720817484385,\n",
       "                     27.801138114097352, 30.49836677919584, 33.27540681277986,\n",
       "                     36.132258214849415, 39.0689209854045, 42.08539512444511,\n",
       "                     45.18168063197125, 48.35777750798291, 51.6136857524801,\n",
       "                     54.94940536546282, 58.364936346931074, 61.860278696884855,\n",
       "                     65.43543241532416, 69.090397502249, 72.82517395765936,\n",
       "                     76.63976178155525, 80.53416097393668, 84.50837153480362,\n",
       "                     88.56239346415609, 92.6962267619941, 96.90987142831764,\n",
       "                     101.2033274631267, 105.57659486642129, 110.02967363820142,\n",
       "                     114.56256377846707, 119.17526528721824, 123.86777816445493,\n",
       "                     128.64010241017718, 133.49223802438493, 138.42418500707822,\n",
       "                     143.43594335825705, 148.52751307792138, 153.69889416607128,\n",
       "                     158.9500866227067, 164.2810904478276, 169.69190564143406,\n",
       "                     175.18253220352605, 180.75297013410358, 186.4032194331666,\n",
       "                     192.13328010071518, 197.9431521367493, 203.83283554126893,\n",
       "                     209.80233031427406, 215.85163645576475, 221.98075396574097,\n",
       "                     228.1896828442027, 234.47842309114998, 240.84697470658278,\n",
       "                     247.29533769050113, 253.82351204290495, 260.43149776379437,\n",
       "                     267.11929485316927, 273.8869033110297, 280.73432313737567,\n",
       "                     287.66155433220723, 294.6685968955242, 301.7554508273268,\n",
       "                     308.92211612761486, 316.16859279638845, 323.49488083364764,\n",
       "                     330.9009802393923, 338.3868910136225, 345.9526131563382,\n",
       "                     353.5981466675395, 361.32349154722624, 369.1286477953986,\n",
       "                     377.0136154120564, 384.97839439719974, 393.0229847508287]}]\n",
       " }),\n",
       " Frame({\n",
       "     'data': [{'type': 'scatter',\n",
       "               'x': [1, 2, 3, 4, 5, 6, 7, 8, 9, 10, 11, 12, 13, 14, 15, 16, 17, 18,\n",
       "                     19, 20, 21, 22, 23, 24, 25, 26, 27, 28, 29, 30, 31, 32, 33, 34,\n",
       "                     35, 36, 37, 38, 39, 40, 41, 42, 43, 44, 45, 46, 47, 48, 49, 50,\n",
       "                     51, 52, 53, 54, 55, 56, 57, 58, 59, 60, 61, 62, 63, 64, 65, 66,\n",
       "                     67, 68, 69, 70, 71, 72, 73, 74, 75, 76, 77, 78, 79, 80, 81, 82],\n",
       "               'y': [1.6596808747866256, 3.39917311805878, 5.218476729816462,\n",
       "                     7.117591710059673, 9.096518058788412, 11.155255776002681,\n",
       "                     13.293804861702476, 15.5121653158878, 17.810337138558655,\n",
       "                     20.188320329715033, 22.646114889356944, 25.183720817484385,\n",
       "                     27.801138114097352, 30.49836677919584, 33.27540681277986,\n",
       "                     36.132258214849415, 39.0689209854045, 42.08539512444511,\n",
       "                     45.18168063197125, 48.35777750798291, 51.6136857524801,\n",
       "                     54.94940536546282, 58.364936346931074, 61.860278696884855,\n",
       "                     65.43543241532416, 69.090397502249, 72.82517395765936,\n",
       "                     76.63976178155525, 80.53416097393668, 84.50837153480362,\n",
       "                     88.56239346415609, 92.6962267619941, 96.90987142831764,\n",
       "                     101.2033274631267, 105.57659486642129, 110.02967363820142,\n",
       "                     114.56256377846707, 119.17526528721824, 123.86777816445493,\n",
       "                     128.64010241017718, 133.49223802438493, 138.42418500707822,\n",
       "                     143.43594335825705, 148.52751307792138, 153.69889416607128,\n",
       "                     158.9500866227067, 164.2810904478276, 169.69190564143406,\n",
       "                     175.18253220352605, 180.75297013410358, 186.4032194331666,\n",
       "                     192.13328010071518, 197.9431521367493, 203.83283554126893,\n",
       "                     209.80233031427406, 215.85163645576475, 221.98075396574097,\n",
       "                     228.1896828442027, 234.47842309114998, 240.84697470658278,\n",
       "                     247.29533769050113, 253.82351204290495, 260.43149776379437,\n",
       "                     267.11929485316927, 273.8869033110297, 280.73432313737567,\n",
       "                     287.66155433220723, 294.6685968955242, 301.7554508273268,\n",
       "                     308.92211612761486, 316.16859279638845, 323.49488083364764,\n",
       "                     330.9009802393923, 338.3868910136225, 345.9526131563382,\n",
       "                     353.5981466675395, 361.32349154722624, 369.1286477953986,\n",
       "                     377.0136154120564, 384.97839439719974, 393.0229847508287,\n",
       "                     401.1473864729431]}]\n",
       " }),\n",
       " Frame({\n",
       "     'data': [{'type': 'scatter',\n",
       "               'x': [1, 2, 3, 4, 5, 6, 7, 8, 9, 10, 11, 12, 13, 14, 15, 16, 17, 18,\n",
       "                     19, 20, 21, 22, 23, 24, 25, 26, 27, 28, 29, 30, 31, 32, 33, 34,\n",
       "                     35, 36, 37, 38, 39, 40, 41, 42, 43, 44, 45, 46, 47, 48, 49, 50,\n",
       "                     51, 52, 53, 54, 55, 56, 57, 58, 59, 60, 61, 62, 63, 64, 65, 66,\n",
       "                     67, 68, 69, 70, 71, 72, 73, 74, 75, 76, 77, 78, 79, 80, 81, 82,\n",
       "                     83],\n",
       "               'y': [1.6596808747866256, 3.39917311805878, 5.218476729816462,\n",
       "                     7.117591710059673, 9.096518058788412, 11.155255776002681,\n",
       "                     13.293804861702476, 15.5121653158878, 17.810337138558655,\n",
       "                     20.188320329715033, 22.646114889356944, 25.183720817484385,\n",
       "                     27.801138114097352, 30.49836677919584, 33.27540681277986,\n",
       "                     36.132258214849415, 39.0689209854045, 42.08539512444511,\n",
       "                     45.18168063197125, 48.35777750798291, 51.6136857524801,\n",
       "                     54.94940536546282, 58.364936346931074, 61.860278696884855,\n",
       "                     65.43543241532416, 69.090397502249, 72.82517395765936,\n",
       "                     76.63976178155525, 80.53416097393668, 84.50837153480362,\n",
       "                     88.56239346415609, 92.6962267619941, 96.90987142831764,\n",
       "                     101.2033274631267, 105.57659486642129, 110.02967363820142,\n",
       "                     114.56256377846707, 119.17526528721824, 123.86777816445493,\n",
       "                     128.64010241017718, 133.49223802438493, 138.42418500707822,\n",
       "                     143.43594335825705, 148.52751307792138, 153.69889416607128,\n",
       "                     158.9500866227067, 164.2810904478276, 169.69190564143406,\n",
       "                     175.18253220352605, 180.75297013410358, 186.4032194331666,\n",
       "                     192.13328010071518, 197.9431521367493, 203.83283554126893,\n",
       "                     209.80233031427406, 215.85163645576475, 221.98075396574097,\n",
       "                     228.1896828442027, 234.47842309114998, 240.84697470658278,\n",
       "                     247.29533769050113, 253.82351204290495, 260.43149776379437,\n",
       "                     267.11929485316927, 273.8869033110297, 280.73432313737567,\n",
       "                     287.66155433220723, 294.6685968955242, 301.7554508273268,\n",
       "                     308.92211612761486, 316.16859279638845, 323.49488083364764,\n",
       "                     330.9009802393923, 338.3868910136225, 345.9526131563382,\n",
       "                     353.5981466675395, 361.32349154722624, 369.1286477953986,\n",
       "                     377.0136154120564, 384.97839439719974, 393.0229847508287,\n",
       "                     401.1473864729431, 409.35159956354306]}]\n",
       " }),\n",
       " Frame({\n",
       "     'data': [{'type': 'scatter',\n",
       "               'x': [1, 2, 3, 4, 5, 6, 7, 8, 9, 10, 11, 12, 13, 14, 15, 16, 17, 18,\n",
       "                     19, 20, 21, 22, 23, 24, 25, 26, 27, 28, 29, 30, 31, 32, 33, 34,\n",
       "                     35, 36, 37, 38, 39, 40, 41, 42, 43, 44, 45, 46, 47, 48, 49, 50,\n",
       "                     51, 52, 53, 54, 55, 56, 57, 58, 59, 60, 61, 62, 63, 64, 65, 66,\n",
       "                     67, 68, 69, 70, 71, 72, 73, 74, 75, 76, 77, 78, 79, 80, 81, 82,\n",
       "                     83, 84],\n",
       "               'y': [1.6596808747866256, 3.39917311805878, 5.218476729816462,\n",
       "                     7.117591710059673, 9.096518058788412, 11.155255776002681,\n",
       "                     13.293804861702476, 15.5121653158878, 17.810337138558655,\n",
       "                     20.188320329715033, 22.646114889356944, 25.183720817484385,\n",
       "                     27.801138114097352, 30.49836677919584, 33.27540681277986,\n",
       "                     36.132258214849415, 39.0689209854045, 42.08539512444511,\n",
       "                     45.18168063197125, 48.35777750798291, 51.6136857524801,\n",
       "                     54.94940536546282, 58.364936346931074, 61.860278696884855,\n",
       "                     65.43543241532416, 69.090397502249, 72.82517395765936,\n",
       "                     76.63976178155525, 80.53416097393668, 84.50837153480362,\n",
       "                     88.56239346415609, 92.6962267619941, 96.90987142831764,\n",
       "                     101.2033274631267, 105.57659486642129, 110.02967363820142,\n",
       "                     114.56256377846707, 119.17526528721824, 123.86777816445493,\n",
       "                     128.64010241017718, 133.49223802438493, 138.42418500707822,\n",
       "                     143.43594335825705, 148.52751307792138, 153.69889416607128,\n",
       "                     158.9500866227067, 164.2810904478276, 169.69190564143406,\n",
       "                     175.18253220352605, 180.75297013410358, 186.4032194331666,\n",
       "                     192.13328010071518, 197.9431521367493, 203.83283554126893,\n",
       "                     209.80233031427406, 215.85163645576475, 221.98075396574097,\n",
       "                     228.1896828442027, 234.47842309114998, 240.84697470658278,\n",
       "                     247.29533769050113, 253.82351204290495, 260.43149776379437,\n",
       "                     267.11929485316927, 273.8869033110297, 280.73432313737567,\n",
       "                     287.66155433220723, 294.6685968955242, 301.7554508273268,\n",
       "                     308.92211612761486, 316.16859279638845, 323.49488083364764,\n",
       "                     330.9009802393923, 338.3868910136225, 345.9526131563382,\n",
       "                     353.5981466675395, 361.32349154722624, 369.1286477953986,\n",
       "                     377.0136154120564, 384.97839439719974, 393.0229847508287,\n",
       "                     401.1473864729431, 409.35159956354306, 417.6356240226285]}]\n",
       " }),\n",
       " Frame({\n",
       "     'data': [{'type': 'scatter',\n",
       "               'x': [1, 2, 3, 4, 5, 6, 7, 8, 9, 10, 11, 12, 13, 14, 15, 16, 17, 18,\n",
       "                     19, 20, 21, 22, 23, 24, 25, 26, 27, 28, 29, 30, 31, 32, 33, 34,\n",
       "                     35, 36, 37, 38, 39, 40, 41, 42, 43, 44, 45, 46, 47, 48, 49, 50,\n",
       "                     51, 52, 53, 54, 55, 56, 57, 58, 59, 60, 61, 62, 63, 64, 65, 66,\n",
       "                     67, 68, 69, 70, 71, 72, 73, 74, 75, 76, 77, 78, 79, 80, 81, 82,\n",
       "                     83, 84, 85],\n",
       "               'y': [1.6596808747866256, 3.39917311805878, 5.218476729816462,\n",
       "                     7.117591710059673, 9.096518058788412, 11.155255776002681,\n",
       "                     13.293804861702476, 15.5121653158878, 17.810337138558655,\n",
       "                     20.188320329715033, 22.646114889356944, 25.183720817484385,\n",
       "                     27.801138114097352, 30.49836677919584, 33.27540681277986,\n",
       "                     36.132258214849415, 39.0689209854045, 42.08539512444511,\n",
       "                     45.18168063197125, 48.35777750798291, 51.6136857524801,\n",
       "                     54.94940536546282, 58.364936346931074, 61.860278696884855,\n",
       "                     65.43543241532416, 69.090397502249, 72.82517395765936,\n",
       "                     76.63976178155525, 80.53416097393668, 84.50837153480362,\n",
       "                     88.56239346415609, 92.6962267619941, 96.90987142831764,\n",
       "                     101.2033274631267, 105.57659486642129, 110.02967363820142,\n",
       "                     114.56256377846707, 119.17526528721824, 123.86777816445493,\n",
       "                     128.64010241017718, 133.49223802438493, 138.42418500707822,\n",
       "                     143.43594335825705, 148.52751307792138, 153.69889416607128,\n",
       "                     158.9500866227067, 164.2810904478276, 169.69190564143406,\n",
       "                     175.18253220352605, 180.75297013410358, 186.4032194331666,\n",
       "                     192.13328010071518, 197.9431521367493, 203.83283554126893,\n",
       "                     209.80233031427406, 215.85163645576475, 221.98075396574097,\n",
       "                     228.1896828442027, 234.47842309114998, 240.84697470658278,\n",
       "                     247.29533769050113, 253.82351204290495, 260.43149776379437,\n",
       "                     267.11929485316927, 273.8869033110297, 280.73432313737567,\n",
       "                     287.66155433220723, 294.6685968955242, 301.7554508273268,\n",
       "                     308.92211612761486, 316.16859279638845, 323.49488083364764,\n",
       "                     330.9009802393923, 338.3868910136225, 345.9526131563382,\n",
       "                     353.5981466675395, 361.32349154722624, 369.1286477953986,\n",
       "                     377.0136154120564, 384.97839439719974, 393.0229847508287,\n",
       "                     401.1473864729431, 409.35159956354306, 417.6356240226285,\n",
       "                     425.9994598501995]}]\n",
       " }),\n",
       " Frame({\n",
       "     'data': [{'type': 'scatter',\n",
       "               'x': [1, 2, 3, 4, 5, 6, 7, 8, 9, 10, 11, 12, 13, 14, 15, 16, 17, 18,\n",
       "                     19, 20, 21, 22, 23, 24, 25, 26, 27, 28, 29, 30, 31, 32, 33, 34,\n",
       "                     35, 36, 37, 38, 39, 40, 41, 42, 43, 44, 45, 46, 47, 48, 49, 50,\n",
       "                     51, 52, 53, 54, 55, 56, 57, 58, 59, 60, 61, 62, 63, 64, 65, 66,\n",
       "                     67, 68, 69, 70, 71, 72, 73, 74, 75, 76, 77, 78, 79, 80, 81, 82,\n",
       "                     83, 84, 85, 86],\n",
       "               'y': [1.6596808747866256, 3.39917311805878, 5.218476729816462,\n",
       "                     7.117591710059673, 9.096518058788412, 11.155255776002681,\n",
       "                     13.293804861702476, 15.5121653158878, 17.810337138558655,\n",
       "                     20.188320329715033, 22.646114889356944, 25.183720817484385,\n",
       "                     27.801138114097352, 30.49836677919584, 33.27540681277986,\n",
       "                     36.132258214849415, 39.0689209854045, 42.08539512444511,\n",
       "                     45.18168063197125, 48.35777750798291, 51.6136857524801,\n",
       "                     54.94940536546282, 58.364936346931074, 61.860278696884855,\n",
       "                     65.43543241532416, 69.090397502249, 72.82517395765936,\n",
       "                     76.63976178155525, 80.53416097393668, 84.50837153480362,\n",
       "                     88.56239346415609, 92.6962267619941, 96.90987142831764,\n",
       "                     101.2033274631267, 105.57659486642129, 110.02967363820142,\n",
       "                     114.56256377846707, 119.17526528721824, 123.86777816445493,\n",
       "                     128.64010241017718, 133.49223802438493, 138.42418500707822,\n",
       "                     143.43594335825705, 148.52751307792138, 153.69889416607128,\n",
       "                     158.9500866227067, 164.2810904478276, 169.69190564143406,\n",
       "                     175.18253220352605, 180.75297013410358, 186.4032194331666,\n",
       "                     192.13328010071518, 197.9431521367493, 203.83283554126893,\n",
       "                     209.80233031427406, 215.85163645576475, 221.98075396574097,\n",
       "                     228.1896828442027, 234.47842309114998, 240.84697470658278,\n",
       "                     247.29533769050113, 253.82351204290495, 260.43149776379437,\n",
       "                     267.11929485316927, 273.8869033110297, 280.73432313737567,\n",
       "                     287.66155433220723, 294.6685968955242, 301.7554508273268,\n",
       "                     308.92211612761486, 316.16859279638845, 323.49488083364764,\n",
       "                     330.9009802393923, 338.3868910136225, 345.9526131563382,\n",
       "                     353.5981466675395, 361.32349154722624, 369.1286477953986,\n",
       "                     377.0136154120564, 384.97839439719974, 393.0229847508287,\n",
       "                     401.1473864729431, 409.35159956354306, 417.6356240226285,\n",
       "                     425.9994598501995, 434.4431070462561]}]\n",
       " }),\n",
       " Frame({\n",
       "     'data': [{'type': 'scatter',\n",
       "               'x': [1, 2, 3, 4, 5, 6, 7, 8, 9, 10, 11, 12, 13, 14, 15, 16, 17, 18,\n",
       "                     19, 20, 21, 22, 23, 24, 25, 26, 27, 28, 29, 30, 31, 32, 33, 34,\n",
       "                     35, 36, 37, 38, 39, 40, 41, 42, 43, 44, 45, 46, 47, 48, 49, 50,\n",
       "                     51, 52, 53, 54, 55, 56, 57, 58, 59, 60, 61, 62, 63, 64, 65, 66,\n",
       "                     67, 68, 69, 70, 71, 72, 73, 74, 75, 76, 77, 78, 79, 80, 81, 82,\n",
       "                     83, 84, 85, 86, 87],\n",
       "               'y': [1.6596808747866256, 3.39917311805878, 5.218476729816462,\n",
       "                     7.117591710059673, 9.096518058788412, 11.155255776002681,\n",
       "                     13.293804861702476, 15.5121653158878, 17.810337138558655,\n",
       "                     20.188320329715033, 22.646114889356944, 25.183720817484385,\n",
       "                     27.801138114097352, 30.49836677919584, 33.27540681277986,\n",
       "                     36.132258214849415, 39.0689209854045, 42.08539512444511,\n",
       "                     45.18168063197125, 48.35777750798291, 51.6136857524801,\n",
       "                     54.94940536546282, 58.364936346931074, 61.860278696884855,\n",
       "                     65.43543241532416, 69.090397502249, 72.82517395765936,\n",
       "                     76.63976178155525, 80.53416097393668, 84.50837153480362,\n",
       "                     88.56239346415609, 92.6962267619941, 96.90987142831764,\n",
       "                     101.2033274631267, 105.57659486642129, 110.02967363820142,\n",
       "                     114.56256377846707, 119.17526528721824, 123.86777816445493,\n",
       "                     128.64010241017718, 133.49223802438493, 138.42418500707822,\n",
       "                     143.43594335825705, 148.52751307792138, 153.69889416607128,\n",
       "                     158.9500866227067, 164.2810904478276, 169.69190564143406,\n",
       "                     175.18253220352605, 180.75297013410358, 186.4032194331666,\n",
       "                     192.13328010071518, 197.9431521367493, 203.83283554126893,\n",
       "                     209.80233031427406, 215.85163645576475, 221.98075396574097,\n",
       "                     228.1896828442027, 234.47842309114998, 240.84697470658278,\n",
       "                     247.29533769050113, 253.82351204290495, 260.43149776379437,\n",
       "                     267.11929485316927, 273.8869033110297, 280.73432313737567,\n",
       "                     287.66155433220723, 294.6685968955242, 301.7554508273268,\n",
       "                     308.92211612761486, 316.16859279638845, 323.49488083364764,\n",
       "                     330.9009802393923, 338.3868910136225, 345.9526131563382,\n",
       "                     353.5981466675395, 361.32349154722624, 369.1286477953986,\n",
       "                     377.0136154120564, 384.97839439719974, 393.0229847508287,\n",
       "                     401.1473864729431, 409.35159956354306, 417.6356240226285,\n",
       "                     425.9994598501995, 434.4431070462561, 442.9665656107981]}]\n",
       " }),\n",
       " Frame({\n",
       "     'data': [{'type': 'scatter',\n",
       "               'x': [1, 2, 3, 4, 5, 6, 7, 8, 9, 10, 11, 12, 13, 14, 15, 16, 17, 18,\n",
       "                     19, 20, 21, 22, 23, 24, 25, 26, 27, 28, 29, 30, 31, 32, 33, 34,\n",
       "                     35, 36, 37, 38, 39, 40, 41, 42, 43, 44, 45, 46, 47, 48, 49, 50,\n",
       "                     51, 52, 53, 54, 55, 56, 57, 58, 59, 60, 61, 62, 63, 64, 65, 66,\n",
       "                     67, 68, 69, 70, 71, 72, 73, 74, 75, 76, 77, 78, 79, 80, 81, 82,\n",
       "                     83, 84, 85, 86, 87, 88],\n",
       "               'y': [1.6596808747866256, 3.39917311805878, 5.218476729816462,\n",
       "                     7.117591710059673, 9.096518058788412, 11.155255776002681,\n",
       "                     13.293804861702476, 15.5121653158878, 17.810337138558655,\n",
       "                     20.188320329715033, 22.646114889356944, 25.183720817484385,\n",
       "                     27.801138114097352, 30.49836677919584, 33.27540681277986,\n",
       "                     36.132258214849415, 39.0689209854045, 42.08539512444511,\n",
       "                     45.18168063197125, 48.35777750798291, 51.6136857524801,\n",
       "                     54.94940536546282, 58.364936346931074, 61.860278696884855,\n",
       "                     65.43543241532416, 69.090397502249, 72.82517395765936,\n",
       "                     76.63976178155525, 80.53416097393668, 84.50837153480362,\n",
       "                     88.56239346415609, 92.6962267619941, 96.90987142831764,\n",
       "                     101.2033274631267, 105.57659486642129, 110.02967363820142,\n",
       "                     114.56256377846707, 119.17526528721824, 123.86777816445493,\n",
       "                     128.64010241017718, 133.49223802438493, 138.42418500707822,\n",
       "                     143.43594335825705, 148.52751307792138, 153.69889416607128,\n",
       "                     158.9500866227067, 164.2810904478276, 169.69190564143406,\n",
       "                     175.18253220352605, 180.75297013410358, 186.4032194331666,\n",
       "                     192.13328010071518, 197.9431521367493, 203.83283554126893,\n",
       "                     209.80233031427406, 215.85163645576475, 221.98075396574097,\n",
       "                     228.1896828442027, 234.47842309114998, 240.84697470658278,\n",
       "                     247.29533769050113, 253.82351204290495, 260.43149776379437,\n",
       "                     267.11929485316927, 273.8869033110297, 280.73432313737567,\n",
       "                     287.66155433220723, 294.6685968955242, 301.7554508273268,\n",
       "                     308.92211612761486, 316.16859279638845, 323.49488083364764,\n",
       "                     330.9009802393923, 338.3868910136225, 345.9526131563382,\n",
       "                     353.5981466675395, 361.32349154722624, 369.1286477953986,\n",
       "                     377.0136154120564, 384.97839439719974, 393.0229847508287,\n",
       "                     401.1473864729431, 409.35159956354306, 417.6356240226285,\n",
       "                     425.9994598501995, 434.4431070462561, 442.9665656107981,\n",
       "                     451.5698355438257]}]\n",
       " }),\n",
       " Frame({\n",
       "     'data': [{'type': 'scatter',\n",
       "               'x': [1, 2, 3, 4, 5, 6, 7, 8, 9, 10, 11, 12, 13, 14, 15, 16, 17, 18,\n",
       "                     19, 20, 21, 22, 23, 24, 25, 26, 27, 28, 29, 30, 31, 32, 33, 34,\n",
       "                     35, 36, 37, 38, 39, 40, 41, 42, 43, 44, 45, 46, 47, 48, 49, 50,\n",
       "                     51, 52, 53, 54, 55, 56, 57, 58, 59, 60, 61, 62, 63, 64, 65, 66,\n",
       "                     67, 68, 69, 70, 71, 72, 73, 74, 75, 76, 77, 78, 79, 80, 81, 82,\n",
       "                     83, 84, 85, 86, 87, 88, 89],\n",
       "               'y': [1.6596808747866256, 3.39917311805878, 5.218476729816462,\n",
       "                     7.117591710059673, 9.096518058788412, 11.155255776002681,\n",
       "                     13.293804861702476, 15.5121653158878, 17.810337138558655,\n",
       "                     20.188320329715033, 22.646114889356944, 25.183720817484385,\n",
       "                     27.801138114097352, 30.49836677919584, 33.27540681277986,\n",
       "                     36.132258214849415, 39.0689209854045, 42.08539512444511,\n",
       "                     45.18168063197125, 48.35777750798291, 51.6136857524801,\n",
       "                     54.94940536546282, 58.364936346931074, 61.860278696884855,\n",
       "                     65.43543241532416, 69.090397502249, 72.82517395765936,\n",
       "                     76.63976178155525, 80.53416097393668, 84.50837153480362,\n",
       "                     88.56239346415609, 92.6962267619941, 96.90987142831764,\n",
       "                     101.2033274631267, 105.57659486642129, 110.02967363820142,\n",
       "                     114.56256377846707, 119.17526528721824, 123.86777816445493,\n",
       "                     128.64010241017718, 133.49223802438493, 138.42418500707822,\n",
       "                     143.43594335825705, 148.52751307792138, 153.69889416607128,\n",
       "                     158.9500866227067, 164.2810904478276, 169.69190564143406,\n",
       "                     175.18253220352605, 180.75297013410358, 186.4032194331666,\n",
       "                     192.13328010071518, 197.9431521367493, 203.83283554126893,\n",
       "                     209.80233031427406, 215.85163645576475, 221.98075396574097,\n",
       "                     228.1896828442027, 234.47842309114998, 240.84697470658278,\n",
       "                     247.29533769050113, 253.82351204290495, 260.43149776379437,\n",
       "                     267.11929485316927, 273.8869033110297, 280.73432313737567,\n",
       "                     287.66155433220723, 294.6685968955242, 301.7554508273268,\n",
       "                     308.92211612761486, 316.16859279638845, 323.49488083364764,\n",
       "                     330.9009802393923, 338.3868910136225, 345.9526131563382,\n",
       "                     353.5981466675395, 361.32349154722624, 369.1286477953986,\n",
       "                     377.0136154120564, 384.97839439719974, 393.0229847508287,\n",
       "                     401.1473864729431, 409.35159956354306, 417.6356240226285,\n",
       "                     425.9994598501995, 434.4431070462561, 442.9665656107981,\n",
       "                     451.5698355438257, 460.2529168453389]}]\n",
       " }),\n",
       " Frame({\n",
       "     'data': [{'type': 'scatter',\n",
       "               'x': [1, 2, 3, 4, 5, 6, 7, 8, 9, 10, 11, 12, 13, 14, 15, 16, 17, 18,\n",
       "                     19, 20, 21, 22, 23, 24, 25, 26, 27, 28, 29, 30, 31, 32, 33, 34,\n",
       "                     35, 36, 37, 38, 39, 40, 41, 42, 43, 44, 45, 46, 47, 48, 49, 50,\n",
       "                     51, 52, 53, 54, 55, 56, 57, 58, 59, 60, 61, 62, 63, 64, 65, 66,\n",
       "                     67, 68, 69, 70, 71, 72, 73, 74, 75, 76, 77, 78, 79, 80, 81, 82,\n",
       "                     83, 84, 85, 86, 87, 88, 89, 90],\n",
       "               'y': [1.6596808747866256, 3.39917311805878, 5.218476729816462,\n",
       "                     7.117591710059673, 9.096518058788412, 11.155255776002681,\n",
       "                     13.293804861702476, 15.5121653158878, 17.810337138558655,\n",
       "                     20.188320329715033, 22.646114889356944, 25.183720817484385,\n",
       "                     27.801138114097352, 30.49836677919584, 33.27540681277986,\n",
       "                     36.132258214849415, 39.0689209854045, 42.08539512444511,\n",
       "                     45.18168063197125, 48.35777750798291, 51.6136857524801,\n",
       "                     54.94940536546282, 58.364936346931074, 61.860278696884855,\n",
       "                     65.43543241532416, 69.090397502249, 72.82517395765936,\n",
       "                     76.63976178155525, 80.53416097393668, 84.50837153480362,\n",
       "                     88.56239346415609, 92.6962267619941, 96.90987142831764,\n",
       "                     101.2033274631267, 105.57659486642129, 110.02967363820142,\n",
       "                     114.56256377846707, 119.17526528721824, 123.86777816445493,\n",
       "                     128.64010241017718, 133.49223802438493, 138.42418500707822,\n",
       "                     143.43594335825705, 148.52751307792138, 153.69889416607128,\n",
       "                     158.9500866227067, 164.2810904478276, 169.69190564143406,\n",
       "                     175.18253220352605, 180.75297013410358, 186.4032194331666,\n",
       "                     192.13328010071518, 197.9431521367493, 203.83283554126893,\n",
       "                     209.80233031427406, 215.85163645576475, 221.98075396574097,\n",
       "                     228.1896828442027, 234.47842309114998, 240.84697470658278,\n",
       "                     247.29533769050113, 253.82351204290495, 260.43149776379437,\n",
       "                     267.11929485316927, 273.8869033110297, 280.73432313737567,\n",
       "                     287.66155433220723, 294.6685968955242, 301.7554508273268,\n",
       "                     308.92211612761486, 316.16859279638845, 323.49488083364764,\n",
       "                     330.9009802393923, 338.3868910136225, 345.9526131563382,\n",
       "                     353.5981466675395, 361.32349154722624, 369.1286477953986,\n",
       "                     377.0136154120564, 384.97839439719974, 393.0229847508287,\n",
       "                     401.1473864729431, 409.35159956354306, 417.6356240226285,\n",
       "                     425.9994598501995, 434.4431070462561, 442.9665656107981,\n",
       "                     451.5698355438257, 460.2529168453389, 469.01580951533754]}]\n",
       " }),\n",
       " Frame({\n",
       "     'data': [{'type': 'scatter',\n",
       "               'x': [1, 2, 3, 4, 5, 6, 7, 8, 9, 10, 11, 12, 13, 14, 15, 16, 17, 18,\n",
       "                     19, 20, 21, 22, 23, 24, 25, 26, 27, 28, 29, 30, 31, 32, 33, 34,\n",
       "                     35, 36, 37, 38, 39, 40, 41, 42, 43, 44, 45, 46, 47, 48, 49, 50,\n",
       "                     51, 52, 53, 54, 55, 56, 57, 58, 59, 60, 61, 62, 63, 64, 65, 66,\n",
       "                     67, 68, 69, 70, 71, 72, 73, 74, 75, 76, 77, 78, 79, 80, 81, 82,\n",
       "                     83, 84, 85, 86, 87, 88, 89, 90, 91],\n",
       "               'y': [1.6596808747866256, 3.39917311805878, 5.218476729816462,\n",
       "                     7.117591710059673, 9.096518058788412, 11.155255776002681,\n",
       "                     13.293804861702476, 15.5121653158878, 17.810337138558655,\n",
       "                     20.188320329715033, 22.646114889356944, 25.183720817484385,\n",
       "                     27.801138114097352, 30.49836677919584, 33.27540681277986,\n",
       "                     36.132258214849415, 39.0689209854045, 42.08539512444511,\n",
       "                     45.18168063197125, 48.35777750798291, 51.6136857524801,\n",
       "                     54.94940536546282, 58.364936346931074, 61.860278696884855,\n",
       "                     65.43543241532416, 69.090397502249, 72.82517395765936,\n",
       "                     76.63976178155525, 80.53416097393668, 84.50837153480362,\n",
       "                     88.56239346415609, 92.6962267619941, 96.90987142831764,\n",
       "                     101.2033274631267, 105.57659486642129, 110.02967363820142,\n",
       "                     114.56256377846707, 119.17526528721824, 123.86777816445493,\n",
       "                     128.64010241017718, 133.49223802438493, 138.42418500707822,\n",
       "                     143.43594335825705, 148.52751307792138, 153.69889416607128,\n",
       "                     158.9500866227067, 164.2810904478276, 169.69190564143406,\n",
       "                     175.18253220352605, 180.75297013410358, 186.4032194331666,\n",
       "                     192.13328010071518, 197.9431521367493, 203.83283554126893,\n",
       "                     209.80233031427406, 215.85163645576475, 221.98075396574097,\n",
       "                     228.1896828442027, 234.47842309114998, 240.84697470658278,\n",
       "                     247.29533769050113, 253.82351204290495, 260.43149776379437,\n",
       "                     267.11929485316927, 273.8869033110297, 280.73432313737567,\n",
       "                     287.66155433220723, 294.6685968955242, 301.7554508273268,\n",
       "                     308.92211612761486, 316.16859279638845, 323.49488083364764,\n",
       "                     330.9009802393923, 338.3868910136225, 345.9526131563382,\n",
       "                     353.5981466675395, 361.32349154722624, 369.1286477953986,\n",
       "                     377.0136154120564, 384.97839439719974, 393.0229847508287,\n",
       "                     401.1473864729431, 409.35159956354306, 417.6356240226285,\n",
       "                     425.9994598501995, 434.4431070462561, 442.9665656107981,\n",
       "                     451.5698355438257, 460.2529168453389, 469.01580951533754,\n",
       "                     477.8585135538217]}]\n",
       " }),\n",
       " Frame({\n",
       "     'data': [{'type': 'scatter',\n",
       "               'x': [1, 2, 3, 4, 5, 6, 7, 8, 9, 10, 11, 12, 13, 14, 15, 16, 17, 18,\n",
       "                     19, 20, 21, 22, 23, 24, 25, 26, 27, 28, 29, 30, 31, 32, 33, 34,\n",
       "                     35, 36, 37, 38, 39, 40, 41, 42, 43, 44, 45, 46, 47, 48, 49, 50,\n",
       "                     51, 52, 53, 54, 55, 56, 57, 58, 59, 60, 61, 62, 63, 64, 65, 66,\n",
       "                     67, 68, 69, 70, 71, 72, 73, 74, 75, 76, 77, 78, 79, 80, 81, 82,\n",
       "                     83, 84, 85, 86, 87, 88, 89, 90, 91, 92],\n",
       "               'y': [1.6596808747866256, 3.39917311805878, 5.218476729816462,\n",
       "                     7.117591710059673, 9.096518058788412, 11.155255776002681,\n",
       "                     13.293804861702476, 15.5121653158878, 17.810337138558655,\n",
       "                     20.188320329715033, 22.646114889356944, 25.183720817484385,\n",
       "                     27.801138114097352, 30.49836677919584, 33.27540681277986,\n",
       "                     36.132258214849415, 39.0689209854045, 42.08539512444511,\n",
       "                     45.18168063197125, 48.35777750798291, 51.6136857524801,\n",
       "                     54.94940536546282, 58.364936346931074, 61.860278696884855,\n",
       "                     65.43543241532416, 69.090397502249, 72.82517395765936,\n",
       "                     76.63976178155525, 80.53416097393668, 84.50837153480362,\n",
       "                     88.56239346415609, 92.6962267619941, 96.90987142831764,\n",
       "                     101.2033274631267, 105.57659486642129, 110.02967363820142,\n",
       "                     114.56256377846707, 119.17526528721824, 123.86777816445493,\n",
       "                     128.64010241017718, 133.49223802438493, 138.42418500707822,\n",
       "                     143.43594335825705, 148.52751307792138, 153.69889416607128,\n",
       "                     158.9500866227067, 164.2810904478276, 169.69190564143406,\n",
       "                     175.18253220352605, 180.75297013410358, 186.4032194331666,\n",
       "                     192.13328010071518, 197.9431521367493, 203.83283554126893,\n",
       "                     209.80233031427406, 215.85163645576475, 221.98075396574097,\n",
       "                     228.1896828442027, 234.47842309114998, 240.84697470658278,\n",
       "                     247.29533769050113, 253.82351204290495, 260.43149776379437,\n",
       "                     267.11929485316927, 273.8869033110297, 280.73432313737567,\n",
       "                     287.66155433220723, 294.6685968955242, 301.7554508273268,\n",
       "                     308.92211612761486, 316.16859279638845, 323.49488083364764,\n",
       "                     330.9009802393923, 338.3868910136225, 345.9526131563382,\n",
       "                     353.5981466675395, 361.32349154722624, 369.1286477953986,\n",
       "                     377.0136154120564, 384.97839439719974, 393.0229847508287,\n",
       "                     401.1473864729431, 409.35159956354306, 417.6356240226285,\n",
       "                     425.9994598501995, 434.4431070462561, 442.9665656107981,\n",
       "                     451.5698355438257, 460.2529168453389, 469.01580951533754,\n",
       "                     477.8585135538217, 486.78102896079145]}]\n",
       " }),\n",
       " Frame({\n",
       "     'data': [{'type': 'scatter',\n",
       "               'x': [1, 2, 3, 4, 5, 6, 7, 8, 9, 10, 11, 12, 13, 14, 15, 16, 17, 18,\n",
       "                     19, 20, 21, 22, 23, 24, 25, 26, 27, 28, 29, 30, 31, 32, 33, 34,\n",
       "                     35, 36, 37, 38, 39, 40, 41, 42, 43, 44, 45, 46, 47, 48, 49, 50,\n",
       "                     51, 52, 53, 54, 55, 56, 57, 58, 59, 60, 61, 62, 63, 64, 65, 66,\n",
       "                     67, 68, 69, 70, 71, 72, 73, 74, 75, 76, 77, 78, 79, 80, 81, 82,\n",
       "                     83, 84, 85, 86, 87, 88, 89, 90, 91, 92, 93],\n",
       "               'y': [1.6596808747866256, 3.39917311805878, 5.218476729816462,\n",
       "                     7.117591710059673, 9.096518058788412, 11.155255776002681,\n",
       "                     13.293804861702476, 15.5121653158878, 17.810337138558655,\n",
       "                     20.188320329715033, 22.646114889356944, 25.183720817484385,\n",
       "                     27.801138114097352, 30.49836677919584, 33.27540681277986,\n",
       "                     36.132258214849415, 39.0689209854045, 42.08539512444511,\n",
       "                     45.18168063197125, 48.35777750798291, 51.6136857524801,\n",
       "                     54.94940536546282, 58.364936346931074, 61.860278696884855,\n",
       "                     65.43543241532416, 69.090397502249, 72.82517395765936,\n",
       "                     76.63976178155525, 80.53416097393668, 84.50837153480362,\n",
       "                     88.56239346415609, 92.6962267619941, 96.90987142831764,\n",
       "                     101.2033274631267, 105.57659486642129, 110.02967363820142,\n",
       "                     114.56256377846707, 119.17526528721824, 123.86777816445493,\n",
       "                     128.64010241017718, 133.49223802438493, 138.42418500707822,\n",
       "                     143.43594335825705, 148.52751307792138, 153.69889416607128,\n",
       "                     158.9500866227067, 164.2810904478276, 169.69190564143406,\n",
       "                     175.18253220352605, 180.75297013410358, 186.4032194331666,\n",
       "                     192.13328010071518, 197.9431521367493, 203.83283554126893,\n",
       "                     209.80233031427406, 215.85163645576475, 221.98075396574097,\n",
       "                     228.1896828442027, 234.47842309114998, 240.84697470658278,\n",
       "                     247.29533769050113, 253.82351204290495, 260.43149776379437,\n",
       "                     267.11929485316927, 273.8869033110297, 280.73432313737567,\n",
       "                     287.66155433220723, 294.6685968955242, 301.7554508273268,\n",
       "                     308.92211612761486, 316.16859279638845, 323.49488083364764,\n",
       "                     330.9009802393923, 338.3868910136225, 345.9526131563382,\n",
       "                     353.5981466675395, 361.32349154722624, 369.1286477953986,\n",
       "                     377.0136154120564, 384.97839439719974, 393.0229847508287,\n",
       "                     401.1473864729431, 409.35159956354306, 417.6356240226285,\n",
       "                     425.9994598501995, 434.4431070462561, 442.9665656107981,\n",
       "                     451.5698355438257, 460.2529168453389, 469.01580951533754,\n",
       "                     477.8585135538217, 486.78102896079145, 495.7833557362467]}]\n",
       " }),\n",
       " Frame({\n",
       "     'data': [{'type': 'scatter',\n",
       "               'x': [1, 2, 3, 4, 5, 6, 7, 8, 9, 10, 11, 12, 13, 14, 15, 16, 17, 18,\n",
       "                     19, 20, 21, 22, 23, 24, 25, 26, 27, 28, 29, 30, 31, 32, 33, 34,\n",
       "                     35, 36, 37, 38, 39, 40, 41, 42, 43, 44, 45, 46, 47, 48, 49, 50,\n",
       "                     51, 52, 53, 54, 55, 56, 57, 58, 59, 60, 61, 62, 63, 64, 65, 66,\n",
       "                     67, 68, 69, 70, 71, 72, 73, 74, 75, 76, 77, 78, 79, 80, 81, 82,\n",
       "                     83, 84, 85, 86, 87, 88, 89, 90, 91, 92, 93, 94],\n",
       "               'y': [1.6596808747866256, 3.39917311805878, 5.218476729816462,\n",
       "                     7.117591710059673, 9.096518058788412, 11.155255776002681,\n",
       "                     13.293804861702476, 15.5121653158878, 17.810337138558655,\n",
       "                     20.188320329715033, 22.646114889356944, 25.183720817484385,\n",
       "                     27.801138114097352, 30.49836677919584, 33.27540681277986,\n",
       "                     36.132258214849415, 39.0689209854045, 42.08539512444511,\n",
       "                     45.18168063197125, 48.35777750798291, 51.6136857524801,\n",
       "                     54.94940536546282, 58.364936346931074, 61.860278696884855,\n",
       "                     65.43543241532416, 69.090397502249, 72.82517395765936,\n",
       "                     76.63976178155525, 80.53416097393668, 84.50837153480362,\n",
       "                     88.56239346415609, 92.6962267619941, 96.90987142831764,\n",
       "                     101.2033274631267, 105.57659486642129, 110.02967363820142,\n",
       "                     114.56256377846707, 119.17526528721824, 123.86777816445493,\n",
       "                     128.64010241017718, 133.49223802438493, 138.42418500707822,\n",
       "                     143.43594335825705, 148.52751307792138, 153.69889416607128,\n",
       "                     158.9500866227067, 164.2810904478276, 169.69190564143406,\n",
       "                     175.18253220352605, 180.75297013410358, 186.4032194331666,\n",
       "                     192.13328010071518, 197.9431521367493, 203.83283554126893,\n",
       "                     209.80233031427406, 215.85163645576475, 221.98075396574097,\n",
       "                     228.1896828442027, 234.47842309114998, 240.84697470658278,\n",
       "                     247.29533769050113, 253.82351204290495, 260.43149776379437,\n",
       "                     267.11929485316927, 273.8869033110297, 280.73432313737567,\n",
       "                     287.66155433220723, 294.6685968955242, 301.7554508273268,\n",
       "                     308.92211612761486, 316.16859279638845, 323.49488083364764,\n",
       "                     330.9009802393923, 338.3868910136225, 345.9526131563382,\n",
       "                     353.5981466675395, 361.32349154722624, 369.1286477953986,\n",
       "                     377.0136154120564, 384.97839439719974, 393.0229847508287,\n",
       "                     401.1473864729431, 409.35159956354306, 417.6356240226285,\n",
       "                     425.9994598501995, 434.4431070462561, 442.9665656107981,\n",
       "                     451.5698355438257, 460.2529168453389, 469.01580951533754,\n",
       "                     477.8585135538217, 486.78102896079145, 495.7833557362467,\n",
       "                     504.86549388018744]}]\n",
       " }),\n",
       " Frame({\n",
       "     'data': [{'type': 'scatter',\n",
       "               'x': [1, 2, 3, 4, 5, 6, 7, 8, 9, 10, 11, 12, 13, 14, 15, 16, 17, 18,\n",
       "                     19, 20, 21, 22, 23, 24, 25, 26, 27, 28, 29, 30, 31, 32, 33, 34,\n",
       "                     35, 36, 37, 38, 39, 40, 41, 42, 43, 44, 45, 46, 47, 48, 49, 50,\n",
       "                     51, 52, 53, 54, 55, 56, 57, 58, 59, 60, 61, 62, 63, 64, 65, 66,\n",
       "                     67, 68, 69, 70, 71, 72, 73, 74, 75, 76, 77, 78, 79, 80, 81, 82,\n",
       "                     83, 84, 85, 86, 87, 88, 89, 90, 91, 92, 93, 94, 95],\n",
       "               'y': [1.6596808747866256, 3.39917311805878, 5.218476729816462,\n",
       "                     7.117591710059673, 9.096518058788412, 11.155255776002681,\n",
       "                     13.293804861702476, 15.5121653158878, 17.810337138558655,\n",
       "                     20.188320329715033, 22.646114889356944, 25.183720817484385,\n",
       "                     27.801138114097352, 30.49836677919584, 33.27540681277986,\n",
       "                     36.132258214849415, 39.0689209854045, 42.08539512444511,\n",
       "                     45.18168063197125, 48.35777750798291, 51.6136857524801,\n",
       "                     54.94940536546282, 58.364936346931074, 61.860278696884855,\n",
       "                     65.43543241532416, 69.090397502249, 72.82517395765936,\n",
       "                     76.63976178155525, 80.53416097393668, 84.50837153480362,\n",
       "                     88.56239346415609, 92.6962267619941, 96.90987142831764,\n",
       "                     101.2033274631267, 105.57659486642129, 110.02967363820142,\n",
       "                     114.56256377846707, 119.17526528721824, 123.86777816445493,\n",
       "                     128.64010241017718, 133.49223802438493, 138.42418500707822,\n",
       "                     143.43594335825705, 148.52751307792138, 153.69889416607128,\n",
       "                     158.9500866227067, 164.2810904478276, 169.69190564143406,\n",
       "                     175.18253220352605, 180.75297013410358, 186.4032194331666,\n",
       "                     192.13328010071518, 197.9431521367493, 203.83283554126893,\n",
       "                     209.80233031427406, 215.85163645576475, 221.98075396574097,\n",
       "                     228.1896828442027, 234.47842309114998, 240.84697470658278,\n",
       "                     247.29533769050113, 253.82351204290495, 260.43149776379437,\n",
       "                     267.11929485316927, 273.8869033110297, 280.73432313737567,\n",
       "                     287.66155433220723, 294.6685968955242, 301.7554508273268,\n",
       "                     308.92211612761486, 316.16859279638845, 323.49488083364764,\n",
       "                     330.9009802393923, 338.3868910136225, 345.9526131563382,\n",
       "                     353.5981466675395, 361.32349154722624, 369.1286477953986,\n",
       "                     377.0136154120564, 384.97839439719974, 393.0229847508287,\n",
       "                     401.1473864729431, 409.35159956354306, 417.6356240226285,\n",
       "                     425.9994598501995, 434.4431070462561, 442.9665656107981,\n",
       "                     451.5698355438257, 460.2529168453389, 469.01580951533754,\n",
       "                     477.8585135538217, 486.78102896079145, 495.7833557362467,\n",
       "                     504.86549388018744, 514.0274433926137]}]\n",
       " }),\n",
       " Frame({\n",
       "     'data': [{'type': 'scatter',\n",
       "               'x': [1, 2, 3, 4, 5, 6, 7, 8, 9, 10, 11, 12, 13, 14, 15, 16, 17, 18,\n",
       "                     19, 20, 21, 22, 23, 24, 25, 26, 27, 28, 29, 30, 31, 32, 33, 34,\n",
       "                     35, 36, 37, 38, 39, 40, 41, 42, 43, 44, 45, 46, 47, 48, 49, 50,\n",
       "                     51, 52, 53, 54, 55, 56, 57, 58, 59, 60, 61, 62, 63, 64, 65, 66,\n",
       "                     67, 68, 69, 70, 71, 72, 73, 74, 75, 76, 77, 78, 79, 80, 81, 82,\n",
       "                     83, 84, 85, 86, 87, 88, 89, 90, 91, 92, 93, 94, 95, 96],\n",
       "               'y': [1.6596808747866256, 3.39917311805878, 5.218476729816462,\n",
       "                     7.117591710059673, 9.096518058788412, 11.155255776002681,\n",
       "                     13.293804861702476, 15.5121653158878, 17.810337138558655,\n",
       "                     20.188320329715033, 22.646114889356944, 25.183720817484385,\n",
       "                     27.801138114097352, 30.49836677919584, 33.27540681277986,\n",
       "                     36.132258214849415, 39.0689209854045, 42.08539512444511,\n",
       "                     45.18168063197125, 48.35777750798291, 51.6136857524801,\n",
       "                     54.94940536546282, 58.364936346931074, 61.860278696884855,\n",
       "                     65.43543241532416, 69.090397502249, 72.82517395765936,\n",
       "                     76.63976178155525, 80.53416097393668, 84.50837153480362,\n",
       "                     88.56239346415609, 92.6962267619941, 96.90987142831764,\n",
       "                     101.2033274631267, 105.57659486642129, 110.02967363820142,\n",
       "                     114.56256377846707, 119.17526528721824, 123.86777816445493,\n",
       "                     128.64010241017718, 133.49223802438493, 138.42418500707822,\n",
       "                     143.43594335825705, 148.52751307792138, 153.69889416607128,\n",
       "                     158.9500866227067, 164.2810904478276, 169.69190564143406,\n",
       "                     175.18253220352605, 180.75297013410358, 186.4032194331666,\n",
       "                     192.13328010071518, 197.9431521367493, 203.83283554126893,\n",
       "                     209.80233031427406, 215.85163645576475, 221.98075396574097,\n",
       "                     228.1896828442027, 234.47842309114998, 240.84697470658278,\n",
       "                     247.29533769050113, 253.82351204290495, 260.43149776379437,\n",
       "                     267.11929485316927, 273.8869033110297, 280.73432313737567,\n",
       "                     287.66155433220723, 294.6685968955242, 301.7554508273268,\n",
       "                     308.92211612761486, 316.16859279638845, 323.49488083364764,\n",
       "                     330.9009802393923, 338.3868910136225, 345.9526131563382,\n",
       "                     353.5981466675395, 361.32349154722624, 369.1286477953986,\n",
       "                     377.0136154120564, 384.97839439719974, 393.0229847508287,\n",
       "                     401.1473864729431, 409.35159956354306, 417.6356240226285,\n",
       "                     425.9994598501995, 434.4431070462561, 442.9665656107981,\n",
       "                     451.5698355438257, 460.2529168453389, 469.01580951533754,\n",
       "                     477.8585135538217, 486.78102896079145, 495.7833557362467,\n",
       "                     504.86549388018744, 514.0274433926137, 523.2692042735255]}]\n",
       " }),\n",
       " Frame({\n",
       "     'data': [{'type': 'scatter',\n",
       "               'x': [1, 2, 3, 4, 5, 6, 7, 8, 9, 10, 11, 12, 13, 14, 15, 16, 17, 18,\n",
       "                     19, 20, 21, 22, 23, 24, 25, 26, 27, 28, 29, 30, 31, 32, 33, 34,\n",
       "                     35, 36, 37, 38, 39, 40, 41, 42, 43, 44, 45, 46, 47, 48, 49, 50,\n",
       "                     51, 52, 53, 54, 55, 56, 57, 58, 59, 60, 61, 62, 63, 64, 65, 66,\n",
       "                     67, 68, 69, 70, 71, 72, 73, 74, 75, 76, 77, 78, 79, 80, 81, 82,\n",
       "                     83, 84, 85, 86, 87, 88, 89, 90, 91, 92, 93, 94, 95, 96, 97],\n",
       "               'y': [1.6596808747866256, 3.39917311805878, 5.218476729816462,\n",
       "                     7.117591710059673, 9.096518058788412, 11.155255776002681,\n",
       "                     13.293804861702476, 15.5121653158878, 17.810337138558655,\n",
       "                     20.188320329715033, 22.646114889356944, 25.183720817484385,\n",
       "                     27.801138114097352, 30.49836677919584, 33.27540681277986,\n",
       "                     36.132258214849415, 39.0689209854045, 42.08539512444511,\n",
       "                     45.18168063197125, 48.35777750798291, 51.6136857524801,\n",
       "                     54.94940536546282, 58.364936346931074, 61.860278696884855,\n",
       "                     65.43543241532416, 69.090397502249, 72.82517395765936,\n",
       "                     76.63976178155525, 80.53416097393668, 84.50837153480362,\n",
       "                     88.56239346415609, 92.6962267619941, 96.90987142831764,\n",
       "                     101.2033274631267, 105.57659486642129, 110.02967363820142,\n",
       "                     114.56256377846707, 119.17526528721824, 123.86777816445493,\n",
       "                     128.64010241017718, 133.49223802438493, 138.42418500707822,\n",
       "                     143.43594335825705, 148.52751307792138, 153.69889416607128,\n",
       "                     158.9500866227067, 164.2810904478276, 169.69190564143406,\n",
       "                     175.18253220352605, 180.75297013410358, 186.4032194331666,\n",
       "                     192.13328010071518, 197.9431521367493, 203.83283554126893,\n",
       "                     209.80233031427406, 215.85163645576475, 221.98075396574097,\n",
       "                     228.1896828442027, 234.47842309114998, 240.84697470658278,\n",
       "                     247.29533769050113, 253.82351204290495, 260.43149776379437,\n",
       "                     267.11929485316927, 273.8869033110297, 280.73432313737567,\n",
       "                     287.66155433220723, 294.6685968955242, 301.7554508273268,\n",
       "                     308.92211612761486, 316.16859279638845, 323.49488083364764,\n",
       "                     330.9009802393923, 338.3868910136225, 345.9526131563382,\n",
       "                     353.5981466675395, 361.32349154722624, 369.1286477953986,\n",
       "                     377.0136154120564, 384.97839439719974, 393.0229847508287,\n",
       "                     401.1473864729431, 409.35159956354306, 417.6356240226285,\n",
       "                     425.9994598501995, 434.4431070462561, 442.9665656107981,\n",
       "                     451.5698355438257, 460.2529168453389, 469.01580951533754,\n",
       "                     477.8585135538217, 486.78102896079145, 495.7833557362467,\n",
       "                     504.86549388018744, 514.0274433926137, 523.2692042735255,\n",
       "                     532.5907765229229]}]\n",
       " }),\n",
       " Frame({\n",
       "     'data': [{'type': 'scatter',\n",
       "               'x': [1, 2, 3, 4, 5, 6, 7, 8, 9, 10, 11, 12, 13, 14, 15, 16, 17, 18,\n",
       "                     19, 20, 21, 22, 23, 24, 25, 26, 27, 28, 29, 30, 31, 32, 33, 34,\n",
       "                     35, 36, 37, 38, 39, 40, 41, 42, 43, 44, 45, 46, 47, 48, 49, 50,\n",
       "                     51, 52, 53, 54, 55, 56, 57, 58, 59, 60, 61, 62, 63, 64, 65, 66,\n",
       "                     67, 68, 69, 70, 71, 72, 73, 74, 75, 76, 77, 78, 79, 80, 81, 82,\n",
       "                     83, 84, 85, 86, 87, 88, 89, 90, 91, 92, 93, 94, 95, 96, 97, 98],\n",
       "               'y': [1.6596808747866256, 3.39917311805878, 5.218476729816462,\n",
       "                     7.117591710059673, 9.096518058788412, 11.155255776002681,\n",
       "                     13.293804861702476, 15.5121653158878, 17.810337138558655,\n",
       "                     20.188320329715033, 22.646114889356944, 25.183720817484385,\n",
       "                     27.801138114097352, 30.49836677919584, 33.27540681277986,\n",
       "                     36.132258214849415, 39.0689209854045, 42.08539512444511,\n",
       "                     45.18168063197125, 48.35777750798291, 51.6136857524801,\n",
       "                     54.94940536546282, 58.364936346931074, 61.860278696884855,\n",
       "                     65.43543241532416, 69.090397502249, 72.82517395765936,\n",
       "                     76.63976178155525, 80.53416097393668, 84.50837153480362,\n",
       "                     88.56239346415609, 92.6962267619941, 96.90987142831764,\n",
       "                     101.2033274631267, 105.57659486642129, 110.02967363820142,\n",
       "                     114.56256377846707, 119.17526528721824, 123.86777816445493,\n",
       "                     128.64010241017718, 133.49223802438493, 138.42418500707822,\n",
       "                     143.43594335825705, 148.52751307792138, 153.69889416607128,\n",
       "                     158.9500866227067, 164.2810904478276, 169.69190564143406,\n",
       "                     175.18253220352605, 180.75297013410358, 186.4032194331666,\n",
       "                     192.13328010071518, 197.9431521367493, 203.83283554126893,\n",
       "                     209.80233031427406, 215.85163645576475, 221.98075396574097,\n",
       "                     228.1896828442027, 234.47842309114998, 240.84697470658278,\n",
       "                     247.29533769050113, 253.82351204290495, 260.43149776379437,\n",
       "                     267.11929485316927, 273.8869033110297, 280.73432313737567,\n",
       "                     287.66155433220723, 294.6685968955242, 301.7554508273268,\n",
       "                     308.92211612761486, 316.16859279638845, 323.49488083364764,\n",
       "                     330.9009802393923, 338.3868910136225, 345.9526131563382,\n",
       "                     353.5981466675395, 361.32349154722624, 369.1286477953986,\n",
       "                     377.0136154120564, 384.97839439719974, 393.0229847508287,\n",
       "                     401.1473864729431, 409.35159956354306, 417.6356240226285,\n",
       "                     425.9994598501995, 434.4431070462561, 442.9665656107981,\n",
       "                     451.5698355438257, 460.2529168453389, 469.01580951533754,\n",
       "                     477.8585135538217, 486.78102896079145, 495.7833557362467,\n",
       "                     504.86549388018744, 514.0274433926137, 523.2692042735255,\n",
       "                     532.5907765229229, 541.9921601408057]}]\n",
       " }),\n",
       " Frame({\n",
       "     'data': [{'type': 'scatter',\n",
       "               'x': [1, 2, 3, 4, 5, 6, 7, 8, 9, 10, 11, 12, 13, 14, 15, 16, 17, 18,\n",
       "                     19, 20, 21, 22, 23, 24, 25, 26, 27, 28, 29, 30, 31, 32, 33, 34,\n",
       "                     35, 36, 37, 38, 39, 40, 41, 42, 43, 44, 45, 46, 47, 48, 49, 50,\n",
       "                     51, 52, 53, 54, 55, 56, 57, 58, 59, 60, 61, 62, 63, 64, 65, 66,\n",
       "                     67, 68, 69, 70, 71, 72, 73, 74, 75, 76, 77, 78, 79, 80, 81, 82,\n",
       "                     83, 84, 85, 86, 87, 88, 89, 90, 91, 92, 93, 94, 95, 96, 97, 98,\n",
       "                     99],\n",
       "               'y': [1.6596808747866256, 3.39917311805878, 5.218476729816462,\n",
       "                     7.117591710059673, 9.096518058788412, 11.155255776002681,\n",
       "                     13.293804861702476, 15.5121653158878, 17.810337138558655,\n",
       "                     20.188320329715033, 22.646114889356944, 25.183720817484385,\n",
       "                     27.801138114097352, 30.49836677919584, 33.27540681277986,\n",
       "                     36.132258214849415, 39.0689209854045, 42.08539512444511,\n",
       "                     45.18168063197125, 48.35777750798291, 51.6136857524801,\n",
       "                     54.94940536546282, 58.364936346931074, 61.860278696884855,\n",
       "                     65.43543241532416, 69.090397502249, 72.82517395765936,\n",
       "                     76.63976178155525, 80.53416097393668, 84.50837153480362,\n",
       "                     88.56239346415609, 92.6962267619941, 96.90987142831764,\n",
       "                     101.2033274631267, 105.57659486642129, 110.02967363820142,\n",
       "                     114.56256377846707, 119.17526528721824, 123.86777816445493,\n",
       "                     128.64010241017718, 133.49223802438493, 138.42418500707822,\n",
       "                     143.43594335825705, 148.52751307792138, 153.69889416607128,\n",
       "                     158.9500866227067, 164.2810904478276, 169.69190564143406,\n",
       "                     175.18253220352605, 180.75297013410358, 186.4032194331666,\n",
       "                     192.13328010071518, 197.9431521367493, 203.83283554126893,\n",
       "                     209.80233031427406, 215.85163645576475, 221.98075396574097,\n",
       "                     228.1896828442027, 234.47842309114998, 240.84697470658278,\n",
       "                     247.29533769050113, 253.82351204290495, 260.43149776379437,\n",
       "                     267.11929485316927, 273.8869033110297, 280.73432313737567,\n",
       "                     287.66155433220723, 294.6685968955242, 301.7554508273268,\n",
       "                     308.92211612761486, 316.16859279638845, 323.49488083364764,\n",
       "                     330.9009802393923, 338.3868910136225, 345.9526131563382,\n",
       "                     353.5981466675395, 361.32349154722624, 369.1286477953986,\n",
       "                     377.0136154120564, 384.97839439719974, 393.0229847508287,\n",
       "                     401.1473864729431, 409.35159956354306, 417.6356240226285,\n",
       "                     425.9994598501995, 434.4431070462561, 442.9665656107981,\n",
       "                     451.5698355438257, 460.2529168453389, 469.01580951533754,\n",
       "                     477.8585135538217, 486.78102896079145, 495.7833557362467,\n",
       "                     504.86549388018744, 514.0274433926137, 523.2692042735255,\n",
       "                     532.5907765229229, 541.9921601408057, 551.4733551271742]}]\n",
       " })]"
      ]
     },
     "execution_count": 104,
     "metadata": {},
     "output_type": "execute_result"
    }
   ],
   "source": [
    "temp_frames=[go.Frame(data=[go.Scatter(x=t['x'].to_list(),y=t['y'].to_list())]) for t in temp_df_parts]\n",
    "temp_frames"
   ]
  },
  {
   "cell_type": "code",
   "execution_count": 105,
   "metadata": {},
   "outputs": [
    {
     "data": {
      "application/vnd.plotly.v1+json": {
       "config": {
        "plotlyServerURL": "https://plot.ly"
       },
       "data": [
        {
         "type": "scatter",
         "x": [
          1
         ],
         "y": [
          1.6596808747866256
         ]
        }
       ],
       "frames": [
        {
         "data": [
          {
           "type": "scatter",
           "x": [
            1
           ],
           "y": [
            1.6596808747866256
           ]
          }
         ]
        },
        {
         "data": [
          {
           "type": "scatter",
           "x": [
            1,
            2
           ],
           "y": [
            1.6596808747866256,
            3.39917311805878
           ]
          }
         ]
        },
        {
         "data": [
          {
           "type": "scatter",
           "x": [
            1,
            2,
            3
           ],
           "y": [
            1.6596808747866256,
            3.39917311805878,
            5.218476729816462
           ]
          }
         ]
        },
        {
         "data": [
          {
           "type": "scatter",
           "x": [
            1,
            2,
            3,
            4
           ],
           "y": [
            1.6596808747866256,
            3.39917311805878,
            5.218476729816462,
            7.117591710059673
           ]
          }
         ]
        },
        {
         "data": [
          {
           "type": "scatter",
           "x": [
            1,
            2,
            3,
            4,
            5
           ],
           "y": [
            1.6596808747866256,
            3.39917311805878,
            5.218476729816462,
            7.117591710059673,
            9.096518058788412
           ]
          }
         ]
        },
        {
         "data": [
          {
           "type": "scatter",
           "x": [
            1,
            2,
            3,
            4,
            5,
            6
           ],
           "y": [
            1.6596808747866256,
            3.39917311805878,
            5.218476729816462,
            7.117591710059673,
            9.096518058788412,
            11.155255776002681
           ]
          }
         ]
        },
        {
         "data": [
          {
           "type": "scatter",
           "x": [
            1,
            2,
            3,
            4,
            5,
            6,
            7
           ],
           "y": [
            1.6596808747866256,
            3.39917311805878,
            5.218476729816462,
            7.117591710059673,
            9.096518058788412,
            11.155255776002681,
            13.293804861702476
           ]
          }
         ]
        },
        {
         "data": [
          {
           "type": "scatter",
           "x": [
            1,
            2,
            3,
            4,
            5,
            6,
            7,
            8
           ],
           "y": [
            1.6596808747866256,
            3.39917311805878,
            5.218476729816462,
            7.117591710059673,
            9.096518058788412,
            11.155255776002681,
            13.293804861702476,
            15.5121653158878
           ]
          }
         ]
        },
        {
         "data": [
          {
           "type": "scatter",
           "x": [
            1,
            2,
            3,
            4,
            5,
            6,
            7,
            8,
            9
           ],
           "y": [
            1.6596808747866256,
            3.39917311805878,
            5.218476729816462,
            7.117591710059673,
            9.096518058788412,
            11.155255776002681,
            13.293804861702476,
            15.5121653158878,
            17.810337138558655
           ]
          }
         ]
        },
        {
         "data": [
          {
           "type": "scatter",
           "x": [
            1,
            2,
            3,
            4,
            5,
            6,
            7,
            8,
            9,
            10
           ],
           "y": [
            1.6596808747866256,
            3.39917311805878,
            5.218476729816462,
            7.117591710059673,
            9.096518058788412,
            11.155255776002681,
            13.293804861702476,
            15.5121653158878,
            17.810337138558655,
            20.188320329715033
           ]
          }
         ]
        },
        {
         "data": [
          {
           "type": "scatter",
           "x": [
            1,
            2,
            3,
            4,
            5,
            6,
            7,
            8,
            9,
            10,
            11
           ],
           "y": [
            1.6596808747866256,
            3.39917311805878,
            5.218476729816462,
            7.117591710059673,
            9.096518058788412,
            11.155255776002681,
            13.293804861702476,
            15.5121653158878,
            17.810337138558655,
            20.188320329715033,
            22.646114889356944
           ]
          }
         ]
        },
        {
         "data": [
          {
           "type": "scatter",
           "x": [
            1,
            2,
            3,
            4,
            5,
            6,
            7,
            8,
            9,
            10,
            11,
            12
           ],
           "y": [
            1.6596808747866256,
            3.39917311805878,
            5.218476729816462,
            7.117591710059673,
            9.096518058788412,
            11.155255776002681,
            13.293804861702476,
            15.5121653158878,
            17.810337138558655,
            20.188320329715033,
            22.646114889356944,
            25.183720817484385
           ]
          }
         ]
        },
        {
         "data": [
          {
           "type": "scatter",
           "x": [
            1,
            2,
            3,
            4,
            5,
            6,
            7,
            8,
            9,
            10,
            11,
            12,
            13
           ],
           "y": [
            1.6596808747866256,
            3.39917311805878,
            5.218476729816462,
            7.117591710059673,
            9.096518058788412,
            11.155255776002681,
            13.293804861702476,
            15.5121653158878,
            17.810337138558655,
            20.188320329715033,
            22.646114889356944,
            25.183720817484385,
            27.801138114097352
           ]
          }
         ]
        },
        {
         "data": [
          {
           "type": "scatter",
           "x": [
            1,
            2,
            3,
            4,
            5,
            6,
            7,
            8,
            9,
            10,
            11,
            12,
            13,
            14
           ],
           "y": [
            1.6596808747866256,
            3.39917311805878,
            5.218476729816462,
            7.117591710059673,
            9.096518058788412,
            11.155255776002681,
            13.293804861702476,
            15.5121653158878,
            17.810337138558655,
            20.188320329715033,
            22.646114889356944,
            25.183720817484385,
            27.801138114097352,
            30.49836677919584
           ]
          }
         ]
        },
        {
         "data": [
          {
           "type": "scatter",
           "x": [
            1,
            2,
            3,
            4,
            5,
            6,
            7,
            8,
            9,
            10,
            11,
            12,
            13,
            14,
            15
           ],
           "y": [
            1.6596808747866256,
            3.39917311805878,
            5.218476729816462,
            7.117591710059673,
            9.096518058788412,
            11.155255776002681,
            13.293804861702476,
            15.5121653158878,
            17.810337138558655,
            20.188320329715033,
            22.646114889356944,
            25.183720817484385,
            27.801138114097352,
            30.49836677919584,
            33.27540681277986
           ]
          }
         ]
        },
        {
         "data": [
          {
           "type": "scatter",
           "x": [
            1,
            2,
            3,
            4,
            5,
            6,
            7,
            8,
            9,
            10,
            11,
            12,
            13,
            14,
            15,
            16
           ],
           "y": [
            1.6596808747866256,
            3.39917311805878,
            5.218476729816462,
            7.117591710059673,
            9.096518058788412,
            11.155255776002681,
            13.293804861702476,
            15.5121653158878,
            17.810337138558655,
            20.188320329715033,
            22.646114889356944,
            25.183720817484385,
            27.801138114097352,
            30.49836677919584,
            33.27540681277986,
            36.132258214849415
           ]
          }
         ]
        },
        {
         "data": [
          {
           "type": "scatter",
           "x": [
            1,
            2,
            3,
            4,
            5,
            6,
            7,
            8,
            9,
            10,
            11,
            12,
            13,
            14,
            15,
            16,
            17
           ],
           "y": [
            1.6596808747866256,
            3.39917311805878,
            5.218476729816462,
            7.117591710059673,
            9.096518058788412,
            11.155255776002681,
            13.293804861702476,
            15.5121653158878,
            17.810337138558655,
            20.188320329715033,
            22.646114889356944,
            25.183720817484385,
            27.801138114097352,
            30.49836677919584,
            33.27540681277986,
            36.132258214849415,
            39.0689209854045
           ]
          }
         ]
        },
        {
         "data": [
          {
           "type": "scatter",
           "x": [
            1,
            2,
            3,
            4,
            5,
            6,
            7,
            8,
            9,
            10,
            11,
            12,
            13,
            14,
            15,
            16,
            17,
            18
           ],
           "y": [
            1.6596808747866256,
            3.39917311805878,
            5.218476729816462,
            7.117591710059673,
            9.096518058788412,
            11.155255776002681,
            13.293804861702476,
            15.5121653158878,
            17.810337138558655,
            20.188320329715033,
            22.646114889356944,
            25.183720817484385,
            27.801138114097352,
            30.49836677919584,
            33.27540681277986,
            36.132258214849415,
            39.0689209854045,
            42.08539512444511
           ]
          }
         ]
        },
        {
         "data": [
          {
           "type": "scatter",
           "x": [
            1,
            2,
            3,
            4,
            5,
            6,
            7,
            8,
            9,
            10,
            11,
            12,
            13,
            14,
            15,
            16,
            17,
            18,
            19
           ],
           "y": [
            1.6596808747866256,
            3.39917311805878,
            5.218476729816462,
            7.117591710059673,
            9.096518058788412,
            11.155255776002681,
            13.293804861702476,
            15.5121653158878,
            17.810337138558655,
            20.188320329715033,
            22.646114889356944,
            25.183720817484385,
            27.801138114097352,
            30.49836677919584,
            33.27540681277986,
            36.132258214849415,
            39.0689209854045,
            42.08539512444511,
            45.18168063197125
           ]
          }
         ]
        },
        {
         "data": [
          {
           "type": "scatter",
           "x": [
            1,
            2,
            3,
            4,
            5,
            6,
            7,
            8,
            9,
            10,
            11,
            12,
            13,
            14,
            15,
            16,
            17,
            18,
            19,
            20
           ],
           "y": [
            1.6596808747866256,
            3.39917311805878,
            5.218476729816462,
            7.117591710059673,
            9.096518058788412,
            11.155255776002681,
            13.293804861702476,
            15.5121653158878,
            17.810337138558655,
            20.188320329715033,
            22.646114889356944,
            25.183720817484385,
            27.801138114097352,
            30.49836677919584,
            33.27540681277986,
            36.132258214849415,
            39.0689209854045,
            42.08539512444511,
            45.18168063197125,
            48.35777750798291
           ]
          }
         ]
        },
        {
         "data": [
          {
           "type": "scatter",
           "x": [
            1,
            2,
            3,
            4,
            5,
            6,
            7,
            8,
            9,
            10,
            11,
            12,
            13,
            14,
            15,
            16,
            17,
            18,
            19,
            20,
            21
           ],
           "y": [
            1.6596808747866256,
            3.39917311805878,
            5.218476729816462,
            7.117591710059673,
            9.096518058788412,
            11.155255776002681,
            13.293804861702476,
            15.5121653158878,
            17.810337138558655,
            20.188320329715033,
            22.646114889356944,
            25.183720817484385,
            27.801138114097352,
            30.49836677919584,
            33.27540681277986,
            36.132258214849415,
            39.0689209854045,
            42.08539512444511,
            45.18168063197125,
            48.35777750798291,
            51.6136857524801
           ]
          }
         ]
        },
        {
         "data": [
          {
           "type": "scatter",
           "x": [
            1,
            2,
            3,
            4,
            5,
            6,
            7,
            8,
            9,
            10,
            11,
            12,
            13,
            14,
            15,
            16,
            17,
            18,
            19,
            20,
            21,
            22
           ],
           "y": [
            1.6596808747866256,
            3.39917311805878,
            5.218476729816462,
            7.117591710059673,
            9.096518058788412,
            11.155255776002681,
            13.293804861702476,
            15.5121653158878,
            17.810337138558655,
            20.188320329715033,
            22.646114889356944,
            25.183720817484385,
            27.801138114097352,
            30.49836677919584,
            33.27540681277986,
            36.132258214849415,
            39.0689209854045,
            42.08539512444511,
            45.18168063197125,
            48.35777750798291,
            51.6136857524801,
            54.94940536546282
           ]
          }
         ]
        },
        {
         "data": [
          {
           "type": "scatter",
           "x": [
            1,
            2,
            3,
            4,
            5,
            6,
            7,
            8,
            9,
            10,
            11,
            12,
            13,
            14,
            15,
            16,
            17,
            18,
            19,
            20,
            21,
            22,
            23
           ],
           "y": [
            1.6596808747866256,
            3.39917311805878,
            5.218476729816462,
            7.117591710059673,
            9.096518058788412,
            11.155255776002681,
            13.293804861702476,
            15.5121653158878,
            17.810337138558655,
            20.188320329715033,
            22.646114889356944,
            25.183720817484385,
            27.801138114097352,
            30.49836677919584,
            33.27540681277986,
            36.132258214849415,
            39.0689209854045,
            42.08539512444511,
            45.18168063197125,
            48.35777750798291,
            51.6136857524801,
            54.94940536546282,
            58.364936346931074
           ]
          }
         ]
        },
        {
         "data": [
          {
           "type": "scatter",
           "x": [
            1,
            2,
            3,
            4,
            5,
            6,
            7,
            8,
            9,
            10,
            11,
            12,
            13,
            14,
            15,
            16,
            17,
            18,
            19,
            20,
            21,
            22,
            23,
            24
           ],
           "y": [
            1.6596808747866256,
            3.39917311805878,
            5.218476729816462,
            7.117591710059673,
            9.096518058788412,
            11.155255776002681,
            13.293804861702476,
            15.5121653158878,
            17.810337138558655,
            20.188320329715033,
            22.646114889356944,
            25.183720817484385,
            27.801138114097352,
            30.49836677919584,
            33.27540681277986,
            36.132258214849415,
            39.0689209854045,
            42.08539512444511,
            45.18168063197125,
            48.35777750798291,
            51.6136857524801,
            54.94940536546282,
            58.364936346931074,
            61.860278696884855
           ]
          }
         ]
        },
        {
         "data": [
          {
           "type": "scatter",
           "x": [
            1,
            2,
            3,
            4,
            5,
            6,
            7,
            8,
            9,
            10,
            11,
            12,
            13,
            14,
            15,
            16,
            17,
            18,
            19,
            20,
            21,
            22,
            23,
            24,
            25
           ],
           "y": [
            1.6596808747866256,
            3.39917311805878,
            5.218476729816462,
            7.117591710059673,
            9.096518058788412,
            11.155255776002681,
            13.293804861702476,
            15.5121653158878,
            17.810337138558655,
            20.188320329715033,
            22.646114889356944,
            25.183720817484385,
            27.801138114097352,
            30.49836677919584,
            33.27540681277986,
            36.132258214849415,
            39.0689209854045,
            42.08539512444511,
            45.18168063197125,
            48.35777750798291,
            51.6136857524801,
            54.94940536546282,
            58.364936346931074,
            61.860278696884855,
            65.43543241532416
           ]
          }
         ]
        },
        {
         "data": [
          {
           "type": "scatter",
           "x": [
            1,
            2,
            3,
            4,
            5,
            6,
            7,
            8,
            9,
            10,
            11,
            12,
            13,
            14,
            15,
            16,
            17,
            18,
            19,
            20,
            21,
            22,
            23,
            24,
            25,
            26
           ],
           "y": [
            1.6596808747866256,
            3.39917311805878,
            5.218476729816462,
            7.117591710059673,
            9.096518058788412,
            11.155255776002681,
            13.293804861702476,
            15.5121653158878,
            17.810337138558655,
            20.188320329715033,
            22.646114889356944,
            25.183720817484385,
            27.801138114097352,
            30.49836677919584,
            33.27540681277986,
            36.132258214849415,
            39.0689209854045,
            42.08539512444511,
            45.18168063197125,
            48.35777750798291,
            51.6136857524801,
            54.94940536546282,
            58.364936346931074,
            61.860278696884855,
            65.43543241532416,
            69.090397502249
           ]
          }
         ]
        },
        {
         "data": [
          {
           "type": "scatter",
           "x": [
            1,
            2,
            3,
            4,
            5,
            6,
            7,
            8,
            9,
            10,
            11,
            12,
            13,
            14,
            15,
            16,
            17,
            18,
            19,
            20,
            21,
            22,
            23,
            24,
            25,
            26,
            27
           ],
           "y": [
            1.6596808747866256,
            3.39917311805878,
            5.218476729816462,
            7.117591710059673,
            9.096518058788412,
            11.155255776002681,
            13.293804861702476,
            15.5121653158878,
            17.810337138558655,
            20.188320329715033,
            22.646114889356944,
            25.183720817484385,
            27.801138114097352,
            30.49836677919584,
            33.27540681277986,
            36.132258214849415,
            39.0689209854045,
            42.08539512444511,
            45.18168063197125,
            48.35777750798291,
            51.6136857524801,
            54.94940536546282,
            58.364936346931074,
            61.860278696884855,
            65.43543241532416,
            69.090397502249,
            72.82517395765936
           ]
          }
         ]
        },
        {
         "data": [
          {
           "type": "scatter",
           "x": [
            1,
            2,
            3,
            4,
            5,
            6,
            7,
            8,
            9,
            10,
            11,
            12,
            13,
            14,
            15,
            16,
            17,
            18,
            19,
            20,
            21,
            22,
            23,
            24,
            25,
            26,
            27,
            28
           ],
           "y": [
            1.6596808747866256,
            3.39917311805878,
            5.218476729816462,
            7.117591710059673,
            9.096518058788412,
            11.155255776002681,
            13.293804861702476,
            15.5121653158878,
            17.810337138558655,
            20.188320329715033,
            22.646114889356944,
            25.183720817484385,
            27.801138114097352,
            30.49836677919584,
            33.27540681277986,
            36.132258214849415,
            39.0689209854045,
            42.08539512444511,
            45.18168063197125,
            48.35777750798291,
            51.6136857524801,
            54.94940536546282,
            58.364936346931074,
            61.860278696884855,
            65.43543241532416,
            69.090397502249,
            72.82517395765936,
            76.63976178155525
           ]
          }
         ]
        },
        {
         "data": [
          {
           "type": "scatter",
           "x": [
            1,
            2,
            3,
            4,
            5,
            6,
            7,
            8,
            9,
            10,
            11,
            12,
            13,
            14,
            15,
            16,
            17,
            18,
            19,
            20,
            21,
            22,
            23,
            24,
            25,
            26,
            27,
            28,
            29
           ],
           "y": [
            1.6596808747866256,
            3.39917311805878,
            5.218476729816462,
            7.117591710059673,
            9.096518058788412,
            11.155255776002681,
            13.293804861702476,
            15.5121653158878,
            17.810337138558655,
            20.188320329715033,
            22.646114889356944,
            25.183720817484385,
            27.801138114097352,
            30.49836677919584,
            33.27540681277986,
            36.132258214849415,
            39.0689209854045,
            42.08539512444511,
            45.18168063197125,
            48.35777750798291,
            51.6136857524801,
            54.94940536546282,
            58.364936346931074,
            61.860278696884855,
            65.43543241532416,
            69.090397502249,
            72.82517395765936,
            76.63976178155525,
            80.53416097393668
           ]
          }
         ]
        },
        {
         "data": [
          {
           "type": "scatter",
           "x": [
            1,
            2,
            3,
            4,
            5,
            6,
            7,
            8,
            9,
            10,
            11,
            12,
            13,
            14,
            15,
            16,
            17,
            18,
            19,
            20,
            21,
            22,
            23,
            24,
            25,
            26,
            27,
            28,
            29,
            30
           ],
           "y": [
            1.6596808747866256,
            3.39917311805878,
            5.218476729816462,
            7.117591710059673,
            9.096518058788412,
            11.155255776002681,
            13.293804861702476,
            15.5121653158878,
            17.810337138558655,
            20.188320329715033,
            22.646114889356944,
            25.183720817484385,
            27.801138114097352,
            30.49836677919584,
            33.27540681277986,
            36.132258214849415,
            39.0689209854045,
            42.08539512444511,
            45.18168063197125,
            48.35777750798291,
            51.6136857524801,
            54.94940536546282,
            58.364936346931074,
            61.860278696884855,
            65.43543241532416,
            69.090397502249,
            72.82517395765936,
            76.63976178155525,
            80.53416097393668,
            84.50837153480362
           ]
          }
         ]
        },
        {
         "data": [
          {
           "type": "scatter",
           "x": [
            1,
            2,
            3,
            4,
            5,
            6,
            7,
            8,
            9,
            10,
            11,
            12,
            13,
            14,
            15,
            16,
            17,
            18,
            19,
            20,
            21,
            22,
            23,
            24,
            25,
            26,
            27,
            28,
            29,
            30,
            31
           ],
           "y": [
            1.6596808747866256,
            3.39917311805878,
            5.218476729816462,
            7.117591710059673,
            9.096518058788412,
            11.155255776002681,
            13.293804861702476,
            15.5121653158878,
            17.810337138558655,
            20.188320329715033,
            22.646114889356944,
            25.183720817484385,
            27.801138114097352,
            30.49836677919584,
            33.27540681277986,
            36.132258214849415,
            39.0689209854045,
            42.08539512444511,
            45.18168063197125,
            48.35777750798291,
            51.6136857524801,
            54.94940536546282,
            58.364936346931074,
            61.860278696884855,
            65.43543241532416,
            69.090397502249,
            72.82517395765936,
            76.63976178155525,
            80.53416097393668,
            84.50837153480362,
            88.56239346415609
           ]
          }
         ]
        },
        {
         "data": [
          {
           "type": "scatter",
           "x": [
            1,
            2,
            3,
            4,
            5,
            6,
            7,
            8,
            9,
            10,
            11,
            12,
            13,
            14,
            15,
            16,
            17,
            18,
            19,
            20,
            21,
            22,
            23,
            24,
            25,
            26,
            27,
            28,
            29,
            30,
            31,
            32
           ],
           "y": [
            1.6596808747866256,
            3.39917311805878,
            5.218476729816462,
            7.117591710059673,
            9.096518058788412,
            11.155255776002681,
            13.293804861702476,
            15.5121653158878,
            17.810337138558655,
            20.188320329715033,
            22.646114889356944,
            25.183720817484385,
            27.801138114097352,
            30.49836677919584,
            33.27540681277986,
            36.132258214849415,
            39.0689209854045,
            42.08539512444511,
            45.18168063197125,
            48.35777750798291,
            51.6136857524801,
            54.94940536546282,
            58.364936346931074,
            61.860278696884855,
            65.43543241532416,
            69.090397502249,
            72.82517395765936,
            76.63976178155525,
            80.53416097393668,
            84.50837153480362,
            88.56239346415609,
            92.6962267619941
           ]
          }
         ]
        },
        {
         "data": [
          {
           "type": "scatter",
           "x": [
            1,
            2,
            3,
            4,
            5,
            6,
            7,
            8,
            9,
            10,
            11,
            12,
            13,
            14,
            15,
            16,
            17,
            18,
            19,
            20,
            21,
            22,
            23,
            24,
            25,
            26,
            27,
            28,
            29,
            30,
            31,
            32,
            33
           ],
           "y": [
            1.6596808747866256,
            3.39917311805878,
            5.218476729816462,
            7.117591710059673,
            9.096518058788412,
            11.155255776002681,
            13.293804861702476,
            15.5121653158878,
            17.810337138558655,
            20.188320329715033,
            22.646114889356944,
            25.183720817484385,
            27.801138114097352,
            30.49836677919584,
            33.27540681277986,
            36.132258214849415,
            39.0689209854045,
            42.08539512444511,
            45.18168063197125,
            48.35777750798291,
            51.6136857524801,
            54.94940536546282,
            58.364936346931074,
            61.860278696884855,
            65.43543241532416,
            69.090397502249,
            72.82517395765936,
            76.63976178155525,
            80.53416097393668,
            84.50837153480362,
            88.56239346415609,
            92.6962267619941,
            96.90987142831764
           ]
          }
         ]
        },
        {
         "data": [
          {
           "type": "scatter",
           "x": [
            1,
            2,
            3,
            4,
            5,
            6,
            7,
            8,
            9,
            10,
            11,
            12,
            13,
            14,
            15,
            16,
            17,
            18,
            19,
            20,
            21,
            22,
            23,
            24,
            25,
            26,
            27,
            28,
            29,
            30,
            31,
            32,
            33,
            34
           ],
           "y": [
            1.6596808747866256,
            3.39917311805878,
            5.218476729816462,
            7.117591710059673,
            9.096518058788412,
            11.155255776002681,
            13.293804861702476,
            15.5121653158878,
            17.810337138558655,
            20.188320329715033,
            22.646114889356944,
            25.183720817484385,
            27.801138114097352,
            30.49836677919584,
            33.27540681277986,
            36.132258214849415,
            39.0689209854045,
            42.08539512444511,
            45.18168063197125,
            48.35777750798291,
            51.6136857524801,
            54.94940536546282,
            58.364936346931074,
            61.860278696884855,
            65.43543241532416,
            69.090397502249,
            72.82517395765936,
            76.63976178155525,
            80.53416097393668,
            84.50837153480362,
            88.56239346415609,
            92.6962267619941,
            96.90987142831764,
            101.2033274631267
           ]
          }
         ]
        },
        {
         "data": [
          {
           "type": "scatter",
           "x": [
            1,
            2,
            3,
            4,
            5,
            6,
            7,
            8,
            9,
            10,
            11,
            12,
            13,
            14,
            15,
            16,
            17,
            18,
            19,
            20,
            21,
            22,
            23,
            24,
            25,
            26,
            27,
            28,
            29,
            30,
            31,
            32,
            33,
            34,
            35
           ],
           "y": [
            1.6596808747866256,
            3.39917311805878,
            5.218476729816462,
            7.117591710059673,
            9.096518058788412,
            11.155255776002681,
            13.293804861702476,
            15.5121653158878,
            17.810337138558655,
            20.188320329715033,
            22.646114889356944,
            25.183720817484385,
            27.801138114097352,
            30.49836677919584,
            33.27540681277986,
            36.132258214849415,
            39.0689209854045,
            42.08539512444511,
            45.18168063197125,
            48.35777750798291,
            51.6136857524801,
            54.94940536546282,
            58.364936346931074,
            61.860278696884855,
            65.43543241532416,
            69.090397502249,
            72.82517395765936,
            76.63976178155525,
            80.53416097393668,
            84.50837153480362,
            88.56239346415609,
            92.6962267619941,
            96.90987142831764,
            101.2033274631267,
            105.57659486642129
           ]
          }
         ]
        },
        {
         "data": [
          {
           "type": "scatter",
           "x": [
            1,
            2,
            3,
            4,
            5,
            6,
            7,
            8,
            9,
            10,
            11,
            12,
            13,
            14,
            15,
            16,
            17,
            18,
            19,
            20,
            21,
            22,
            23,
            24,
            25,
            26,
            27,
            28,
            29,
            30,
            31,
            32,
            33,
            34,
            35,
            36
           ],
           "y": [
            1.6596808747866256,
            3.39917311805878,
            5.218476729816462,
            7.117591710059673,
            9.096518058788412,
            11.155255776002681,
            13.293804861702476,
            15.5121653158878,
            17.810337138558655,
            20.188320329715033,
            22.646114889356944,
            25.183720817484385,
            27.801138114097352,
            30.49836677919584,
            33.27540681277986,
            36.132258214849415,
            39.0689209854045,
            42.08539512444511,
            45.18168063197125,
            48.35777750798291,
            51.6136857524801,
            54.94940536546282,
            58.364936346931074,
            61.860278696884855,
            65.43543241532416,
            69.090397502249,
            72.82517395765936,
            76.63976178155525,
            80.53416097393668,
            84.50837153480362,
            88.56239346415609,
            92.6962267619941,
            96.90987142831764,
            101.2033274631267,
            105.57659486642129,
            110.02967363820142
           ]
          }
         ]
        },
        {
         "data": [
          {
           "type": "scatter",
           "x": [
            1,
            2,
            3,
            4,
            5,
            6,
            7,
            8,
            9,
            10,
            11,
            12,
            13,
            14,
            15,
            16,
            17,
            18,
            19,
            20,
            21,
            22,
            23,
            24,
            25,
            26,
            27,
            28,
            29,
            30,
            31,
            32,
            33,
            34,
            35,
            36,
            37
           ],
           "y": [
            1.6596808747866256,
            3.39917311805878,
            5.218476729816462,
            7.117591710059673,
            9.096518058788412,
            11.155255776002681,
            13.293804861702476,
            15.5121653158878,
            17.810337138558655,
            20.188320329715033,
            22.646114889356944,
            25.183720817484385,
            27.801138114097352,
            30.49836677919584,
            33.27540681277986,
            36.132258214849415,
            39.0689209854045,
            42.08539512444511,
            45.18168063197125,
            48.35777750798291,
            51.6136857524801,
            54.94940536546282,
            58.364936346931074,
            61.860278696884855,
            65.43543241532416,
            69.090397502249,
            72.82517395765936,
            76.63976178155525,
            80.53416097393668,
            84.50837153480362,
            88.56239346415609,
            92.6962267619941,
            96.90987142831764,
            101.2033274631267,
            105.57659486642129,
            110.02967363820142,
            114.56256377846707
           ]
          }
         ]
        },
        {
         "data": [
          {
           "type": "scatter",
           "x": [
            1,
            2,
            3,
            4,
            5,
            6,
            7,
            8,
            9,
            10,
            11,
            12,
            13,
            14,
            15,
            16,
            17,
            18,
            19,
            20,
            21,
            22,
            23,
            24,
            25,
            26,
            27,
            28,
            29,
            30,
            31,
            32,
            33,
            34,
            35,
            36,
            37,
            38
           ],
           "y": [
            1.6596808747866256,
            3.39917311805878,
            5.218476729816462,
            7.117591710059673,
            9.096518058788412,
            11.155255776002681,
            13.293804861702476,
            15.5121653158878,
            17.810337138558655,
            20.188320329715033,
            22.646114889356944,
            25.183720817484385,
            27.801138114097352,
            30.49836677919584,
            33.27540681277986,
            36.132258214849415,
            39.0689209854045,
            42.08539512444511,
            45.18168063197125,
            48.35777750798291,
            51.6136857524801,
            54.94940536546282,
            58.364936346931074,
            61.860278696884855,
            65.43543241532416,
            69.090397502249,
            72.82517395765936,
            76.63976178155525,
            80.53416097393668,
            84.50837153480362,
            88.56239346415609,
            92.6962267619941,
            96.90987142831764,
            101.2033274631267,
            105.57659486642129,
            110.02967363820142,
            114.56256377846707,
            119.17526528721824
           ]
          }
         ]
        },
        {
         "data": [
          {
           "type": "scatter",
           "x": [
            1,
            2,
            3,
            4,
            5,
            6,
            7,
            8,
            9,
            10,
            11,
            12,
            13,
            14,
            15,
            16,
            17,
            18,
            19,
            20,
            21,
            22,
            23,
            24,
            25,
            26,
            27,
            28,
            29,
            30,
            31,
            32,
            33,
            34,
            35,
            36,
            37,
            38,
            39
           ],
           "y": [
            1.6596808747866256,
            3.39917311805878,
            5.218476729816462,
            7.117591710059673,
            9.096518058788412,
            11.155255776002681,
            13.293804861702476,
            15.5121653158878,
            17.810337138558655,
            20.188320329715033,
            22.646114889356944,
            25.183720817484385,
            27.801138114097352,
            30.49836677919584,
            33.27540681277986,
            36.132258214849415,
            39.0689209854045,
            42.08539512444511,
            45.18168063197125,
            48.35777750798291,
            51.6136857524801,
            54.94940536546282,
            58.364936346931074,
            61.860278696884855,
            65.43543241532416,
            69.090397502249,
            72.82517395765936,
            76.63976178155525,
            80.53416097393668,
            84.50837153480362,
            88.56239346415609,
            92.6962267619941,
            96.90987142831764,
            101.2033274631267,
            105.57659486642129,
            110.02967363820142,
            114.56256377846707,
            119.17526528721824,
            123.86777816445493
           ]
          }
         ]
        },
        {
         "data": [
          {
           "type": "scatter",
           "x": [
            1,
            2,
            3,
            4,
            5,
            6,
            7,
            8,
            9,
            10,
            11,
            12,
            13,
            14,
            15,
            16,
            17,
            18,
            19,
            20,
            21,
            22,
            23,
            24,
            25,
            26,
            27,
            28,
            29,
            30,
            31,
            32,
            33,
            34,
            35,
            36,
            37,
            38,
            39,
            40
           ],
           "y": [
            1.6596808747866256,
            3.39917311805878,
            5.218476729816462,
            7.117591710059673,
            9.096518058788412,
            11.155255776002681,
            13.293804861702476,
            15.5121653158878,
            17.810337138558655,
            20.188320329715033,
            22.646114889356944,
            25.183720817484385,
            27.801138114097352,
            30.49836677919584,
            33.27540681277986,
            36.132258214849415,
            39.0689209854045,
            42.08539512444511,
            45.18168063197125,
            48.35777750798291,
            51.6136857524801,
            54.94940536546282,
            58.364936346931074,
            61.860278696884855,
            65.43543241532416,
            69.090397502249,
            72.82517395765936,
            76.63976178155525,
            80.53416097393668,
            84.50837153480362,
            88.56239346415609,
            92.6962267619941,
            96.90987142831764,
            101.2033274631267,
            105.57659486642129,
            110.02967363820142,
            114.56256377846707,
            119.17526528721824,
            123.86777816445493,
            128.64010241017718
           ]
          }
         ]
        },
        {
         "data": [
          {
           "type": "scatter",
           "x": [
            1,
            2,
            3,
            4,
            5,
            6,
            7,
            8,
            9,
            10,
            11,
            12,
            13,
            14,
            15,
            16,
            17,
            18,
            19,
            20,
            21,
            22,
            23,
            24,
            25,
            26,
            27,
            28,
            29,
            30,
            31,
            32,
            33,
            34,
            35,
            36,
            37,
            38,
            39,
            40,
            41
           ],
           "y": [
            1.6596808747866256,
            3.39917311805878,
            5.218476729816462,
            7.117591710059673,
            9.096518058788412,
            11.155255776002681,
            13.293804861702476,
            15.5121653158878,
            17.810337138558655,
            20.188320329715033,
            22.646114889356944,
            25.183720817484385,
            27.801138114097352,
            30.49836677919584,
            33.27540681277986,
            36.132258214849415,
            39.0689209854045,
            42.08539512444511,
            45.18168063197125,
            48.35777750798291,
            51.6136857524801,
            54.94940536546282,
            58.364936346931074,
            61.860278696884855,
            65.43543241532416,
            69.090397502249,
            72.82517395765936,
            76.63976178155525,
            80.53416097393668,
            84.50837153480362,
            88.56239346415609,
            92.6962267619941,
            96.90987142831764,
            101.2033274631267,
            105.57659486642129,
            110.02967363820142,
            114.56256377846707,
            119.17526528721824,
            123.86777816445493,
            128.64010241017718,
            133.49223802438493
           ]
          }
         ]
        },
        {
         "data": [
          {
           "type": "scatter",
           "x": [
            1,
            2,
            3,
            4,
            5,
            6,
            7,
            8,
            9,
            10,
            11,
            12,
            13,
            14,
            15,
            16,
            17,
            18,
            19,
            20,
            21,
            22,
            23,
            24,
            25,
            26,
            27,
            28,
            29,
            30,
            31,
            32,
            33,
            34,
            35,
            36,
            37,
            38,
            39,
            40,
            41,
            42
           ],
           "y": [
            1.6596808747866256,
            3.39917311805878,
            5.218476729816462,
            7.117591710059673,
            9.096518058788412,
            11.155255776002681,
            13.293804861702476,
            15.5121653158878,
            17.810337138558655,
            20.188320329715033,
            22.646114889356944,
            25.183720817484385,
            27.801138114097352,
            30.49836677919584,
            33.27540681277986,
            36.132258214849415,
            39.0689209854045,
            42.08539512444511,
            45.18168063197125,
            48.35777750798291,
            51.6136857524801,
            54.94940536546282,
            58.364936346931074,
            61.860278696884855,
            65.43543241532416,
            69.090397502249,
            72.82517395765936,
            76.63976178155525,
            80.53416097393668,
            84.50837153480362,
            88.56239346415609,
            92.6962267619941,
            96.90987142831764,
            101.2033274631267,
            105.57659486642129,
            110.02967363820142,
            114.56256377846707,
            119.17526528721824,
            123.86777816445493,
            128.64010241017718,
            133.49223802438493,
            138.42418500707822
           ]
          }
         ]
        },
        {
         "data": [
          {
           "type": "scatter",
           "x": [
            1,
            2,
            3,
            4,
            5,
            6,
            7,
            8,
            9,
            10,
            11,
            12,
            13,
            14,
            15,
            16,
            17,
            18,
            19,
            20,
            21,
            22,
            23,
            24,
            25,
            26,
            27,
            28,
            29,
            30,
            31,
            32,
            33,
            34,
            35,
            36,
            37,
            38,
            39,
            40,
            41,
            42,
            43
           ],
           "y": [
            1.6596808747866256,
            3.39917311805878,
            5.218476729816462,
            7.117591710059673,
            9.096518058788412,
            11.155255776002681,
            13.293804861702476,
            15.5121653158878,
            17.810337138558655,
            20.188320329715033,
            22.646114889356944,
            25.183720817484385,
            27.801138114097352,
            30.49836677919584,
            33.27540681277986,
            36.132258214849415,
            39.0689209854045,
            42.08539512444511,
            45.18168063197125,
            48.35777750798291,
            51.6136857524801,
            54.94940536546282,
            58.364936346931074,
            61.860278696884855,
            65.43543241532416,
            69.090397502249,
            72.82517395765936,
            76.63976178155525,
            80.53416097393668,
            84.50837153480362,
            88.56239346415609,
            92.6962267619941,
            96.90987142831764,
            101.2033274631267,
            105.57659486642129,
            110.02967363820142,
            114.56256377846707,
            119.17526528721824,
            123.86777816445493,
            128.64010241017718,
            133.49223802438493,
            138.42418500707822,
            143.43594335825705
           ]
          }
         ]
        },
        {
         "data": [
          {
           "type": "scatter",
           "x": [
            1,
            2,
            3,
            4,
            5,
            6,
            7,
            8,
            9,
            10,
            11,
            12,
            13,
            14,
            15,
            16,
            17,
            18,
            19,
            20,
            21,
            22,
            23,
            24,
            25,
            26,
            27,
            28,
            29,
            30,
            31,
            32,
            33,
            34,
            35,
            36,
            37,
            38,
            39,
            40,
            41,
            42,
            43,
            44
           ],
           "y": [
            1.6596808747866256,
            3.39917311805878,
            5.218476729816462,
            7.117591710059673,
            9.096518058788412,
            11.155255776002681,
            13.293804861702476,
            15.5121653158878,
            17.810337138558655,
            20.188320329715033,
            22.646114889356944,
            25.183720817484385,
            27.801138114097352,
            30.49836677919584,
            33.27540681277986,
            36.132258214849415,
            39.0689209854045,
            42.08539512444511,
            45.18168063197125,
            48.35777750798291,
            51.6136857524801,
            54.94940536546282,
            58.364936346931074,
            61.860278696884855,
            65.43543241532416,
            69.090397502249,
            72.82517395765936,
            76.63976178155525,
            80.53416097393668,
            84.50837153480362,
            88.56239346415609,
            92.6962267619941,
            96.90987142831764,
            101.2033274631267,
            105.57659486642129,
            110.02967363820142,
            114.56256377846707,
            119.17526528721824,
            123.86777816445493,
            128.64010241017718,
            133.49223802438493,
            138.42418500707822,
            143.43594335825705,
            148.52751307792138
           ]
          }
         ]
        },
        {
         "data": [
          {
           "type": "scatter",
           "x": [
            1,
            2,
            3,
            4,
            5,
            6,
            7,
            8,
            9,
            10,
            11,
            12,
            13,
            14,
            15,
            16,
            17,
            18,
            19,
            20,
            21,
            22,
            23,
            24,
            25,
            26,
            27,
            28,
            29,
            30,
            31,
            32,
            33,
            34,
            35,
            36,
            37,
            38,
            39,
            40,
            41,
            42,
            43,
            44,
            45
           ],
           "y": [
            1.6596808747866256,
            3.39917311805878,
            5.218476729816462,
            7.117591710059673,
            9.096518058788412,
            11.155255776002681,
            13.293804861702476,
            15.5121653158878,
            17.810337138558655,
            20.188320329715033,
            22.646114889356944,
            25.183720817484385,
            27.801138114097352,
            30.49836677919584,
            33.27540681277986,
            36.132258214849415,
            39.0689209854045,
            42.08539512444511,
            45.18168063197125,
            48.35777750798291,
            51.6136857524801,
            54.94940536546282,
            58.364936346931074,
            61.860278696884855,
            65.43543241532416,
            69.090397502249,
            72.82517395765936,
            76.63976178155525,
            80.53416097393668,
            84.50837153480362,
            88.56239346415609,
            92.6962267619941,
            96.90987142831764,
            101.2033274631267,
            105.57659486642129,
            110.02967363820142,
            114.56256377846707,
            119.17526528721824,
            123.86777816445493,
            128.64010241017718,
            133.49223802438493,
            138.42418500707822,
            143.43594335825705,
            148.52751307792138,
            153.69889416607128
           ]
          }
         ]
        },
        {
         "data": [
          {
           "type": "scatter",
           "x": [
            1,
            2,
            3,
            4,
            5,
            6,
            7,
            8,
            9,
            10,
            11,
            12,
            13,
            14,
            15,
            16,
            17,
            18,
            19,
            20,
            21,
            22,
            23,
            24,
            25,
            26,
            27,
            28,
            29,
            30,
            31,
            32,
            33,
            34,
            35,
            36,
            37,
            38,
            39,
            40,
            41,
            42,
            43,
            44,
            45,
            46
           ],
           "y": [
            1.6596808747866256,
            3.39917311805878,
            5.218476729816462,
            7.117591710059673,
            9.096518058788412,
            11.155255776002681,
            13.293804861702476,
            15.5121653158878,
            17.810337138558655,
            20.188320329715033,
            22.646114889356944,
            25.183720817484385,
            27.801138114097352,
            30.49836677919584,
            33.27540681277986,
            36.132258214849415,
            39.0689209854045,
            42.08539512444511,
            45.18168063197125,
            48.35777750798291,
            51.6136857524801,
            54.94940536546282,
            58.364936346931074,
            61.860278696884855,
            65.43543241532416,
            69.090397502249,
            72.82517395765936,
            76.63976178155525,
            80.53416097393668,
            84.50837153480362,
            88.56239346415609,
            92.6962267619941,
            96.90987142831764,
            101.2033274631267,
            105.57659486642129,
            110.02967363820142,
            114.56256377846707,
            119.17526528721824,
            123.86777816445493,
            128.64010241017718,
            133.49223802438493,
            138.42418500707822,
            143.43594335825705,
            148.52751307792138,
            153.69889416607128,
            158.9500866227067
           ]
          }
         ]
        },
        {
         "data": [
          {
           "type": "scatter",
           "x": [
            1,
            2,
            3,
            4,
            5,
            6,
            7,
            8,
            9,
            10,
            11,
            12,
            13,
            14,
            15,
            16,
            17,
            18,
            19,
            20,
            21,
            22,
            23,
            24,
            25,
            26,
            27,
            28,
            29,
            30,
            31,
            32,
            33,
            34,
            35,
            36,
            37,
            38,
            39,
            40,
            41,
            42,
            43,
            44,
            45,
            46,
            47
           ],
           "y": [
            1.6596808747866256,
            3.39917311805878,
            5.218476729816462,
            7.117591710059673,
            9.096518058788412,
            11.155255776002681,
            13.293804861702476,
            15.5121653158878,
            17.810337138558655,
            20.188320329715033,
            22.646114889356944,
            25.183720817484385,
            27.801138114097352,
            30.49836677919584,
            33.27540681277986,
            36.132258214849415,
            39.0689209854045,
            42.08539512444511,
            45.18168063197125,
            48.35777750798291,
            51.6136857524801,
            54.94940536546282,
            58.364936346931074,
            61.860278696884855,
            65.43543241532416,
            69.090397502249,
            72.82517395765936,
            76.63976178155525,
            80.53416097393668,
            84.50837153480362,
            88.56239346415609,
            92.6962267619941,
            96.90987142831764,
            101.2033274631267,
            105.57659486642129,
            110.02967363820142,
            114.56256377846707,
            119.17526528721824,
            123.86777816445493,
            128.64010241017718,
            133.49223802438493,
            138.42418500707822,
            143.43594335825705,
            148.52751307792138,
            153.69889416607128,
            158.9500866227067,
            164.2810904478276
           ]
          }
         ]
        },
        {
         "data": [
          {
           "type": "scatter",
           "x": [
            1,
            2,
            3,
            4,
            5,
            6,
            7,
            8,
            9,
            10,
            11,
            12,
            13,
            14,
            15,
            16,
            17,
            18,
            19,
            20,
            21,
            22,
            23,
            24,
            25,
            26,
            27,
            28,
            29,
            30,
            31,
            32,
            33,
            34,
            35,
            36,
            37,
            38,
            39,
            40,
            41,
            42,
            43,
            44,
            45,
            46,
            47,
            48
           ],
           "y": [
            1.6596808747866256,
            3.39917311805878,
            5.218476729816462,
            7.117591710059673,
            9.096518058788412,
            11.155255776002681,
            13.293804861702476,
            15.5121653158878,
            17.810337138558655,
            20.188320329715033,
            22.646114889356944,
            25.183720817484385,
            27.801138114097352,
            30.49836677919584,
            33.27540681277986,
            36.132258214849415,
            39.0689209854045,
            42.08539512444511,
            45.18168063197125,
            48.35777750798291,
            51.6136857524801,
            54.94940536546282,
            58.364936346931074,
            61.860278696884855,
            65.43543241532416,
            69.090397502249,
            72.82517395765936,
            76.63976178155525,
            80.53416097393668,
            84.50837153480362,
            88.56239346415609,
            92.6962267619941,
            96.90987142831764,
            101.2033274631267,
            105.57659486642129,
            110.02967363820142,
            114.56256377846707,
            119.17526528721824,
            123.86777816445493,
            128.64010241017718,
            133.49223802438493,
            138.42418500707822,
            143.43594335825705,
            148.52751307792138,
            153.69889416607128,
            158.9500866227067,
            164.2810904478276,
            169.69190564143406
           ]
          }
         ]
        },
        {
         "data": [
          {
           "type": "scatter",
           "x": [
            1,
            2,
            3,
            4,
            5,
            6,
            7,
            8,
            9,
            10,
            11,
            12,
            13,
            14,
            15,
            16,
            17,
            18,
            19,
            20,
            21,
            22,
            23,
            24,
            25,
            26,
            27,
            28,
            29,
            30,
            31,
            32,
            33,
            34,
            35,
            36,
            37,
            38,
            39,
            40,
            41,
            42,
            43,
            44,
            45,
            46,
            47,
            48,
            49
           ],
           "y": [
            1.6596808747866256,
            3.39917311805878,
            5.218476729816462,
            7.117591710059673,
            9.096518058788412,
            11.155255776002681,
            13.293804861702476,
            15.5121653158878,
            17.810337138558655,
            20.188320329715033,
            22.646114889356944,
            25.183720817484385,
            27.801138114097352,
            30.49836677919584,
            33.27540681277986,
            36.132258214849415,
            39.0689209854045,
            42.08539512444511,
            45.18168063197125,
            48.35777750798291,
            51.6136857524801,
            54.94940536546282,
            58.364936346931074,
            61.860278696884855,
            65.43543241532416,
            69.090397502249,
            72.82517395765936,
            76.63976178155525,
            80.53416097393668,
            84.50837153480362,
            88.56239346415609,
            92.6962267619941,
            96.90987142831764,
            101.2033274631267,
            105.57659486642129,
            110.02967363820142,
            114.56256377846707,
            119.17526528721824,
            123.86777816445493,
            128.64010241017718,
            133.49223802438493,
            138.42418500707822,
            143.43594335825705,
            148.52751307792138,
            153.69889416607128,
            158.9500866227067,
            164.2810904478276,
            169.69190564143406,
            175.18253220352605
           ]
          }
         ]
        },
        {
         "data": [
          {
           "type": "scatter",
           "x": [
            1,
            2,
            3,
            4,
            5,
            6,
            7,
            8,
            9,
            10,
            11,
            12,
            13,
            14,
            15,
            16,
            17,
            18,
            19,
            20,
            21,
            22,
            23,
            24,
            25,
            26,
            27,
            28,
            29,
            30,
            31,
            32,
            33,
            34,
            35,
            36,
            37,
            38,
            39,
            40,
            41,
            42,
            43,
            44,
            45,
            46,
            47,
            48,
            49,
            50
           ],
           "y": [
            1.6596808747866256,
            3.39917311805878,
            5.218476729816462,
            7.117591710059673,
            9.096518058788412,
            11.155255776002681,
            13.293804861702476,
            15.5121653158878,
            17.810337138558655,
            20.188320329715033,
            22.646114889356944,
            25.183720817484385,
            27.801138114097352,
            30.49836677919584,
            33.27540681277986,
            36.132258214849415,
            39.0689209854045,
            42.08539512444511,
            45.18168063197125,
            48.35777750798291,
            51.6136857524801,
            54.94940536546282,
            58.364936346931074,
            61.860278696884855,
            65.43543241532416,
            69.090397502249,
            72.82517395765936,
            76.63976178155525,
            80.53416097393668,
            84.50837153480362,
            88.56239346415609,
            92.6962267619941,
            96.90987142831764,
            101.2033274631267,
            105.57659486642129,
            110.02967363820142,
            114.56256377846707,
            119.17526528721824,
            123.86777816445493,
            128.64010241017718,
            133.49223802438493,
            138.42418500707822,
            143.43594335825705,
            148.52751307792138,
            153.69889416607128,
            158.9500866227067,
            164.2810904478276,
            169.69190564143406,
            175.18253220352605,
            180.75297013410358
           ]
          }
         ]
        },
        {
         "data": [
          {
           "type": "scatter",
           "x": [
            1,
            2,
            3,
            4,
            5,
            6,
            7,
            8,
            9,
            10,
            11,
            12,
            13,
            14,
            15,
            16,
            17,
            18,
            19,
            20,
            21,
            22,
            23,
            24,
            25,
            26,
            27,
            28,
            29,
            30,
            31,
            32,
            33,
            34,
            35,
            36,
            37,
            38,
            39,
            40,
            41,
            42,
            43,
            44,
            45,
            46,
            47,
            48,
            49,
            50,
            51
           ],
           "y": [
            1.6596808747866256,
            3.39917311805878,
            5.218476729816462,
            7.117591710059673,
            9.096518058788412,
            11.155255776002681,
            13.293804861702476,
            15.5121653158878,
            17.810337138558655,
            20.188320329715033,
            22.646114889356944,
            25.183720817484385,
            27.801138114097352,
            30.49836677919584,
            33.27540681277986,
            36.132258214849415,
            39.0689209854045,
            42.08539512444511,
            45.18168063197125,
            48.35777750798291,
            51.6136857524801,
            54.94940536546282,
            58.364936346931074,
            61.860278696884855,
            65.43543241532416,
            69.090397502249,
            72.82517395765936,
            76.63976178155525,
            80.53416097393668,
            84.50837153480362,
            88.56239346415609,
            92.6962267619941,
            96.90987142831764,
            101.2033274631267,
            105.57659486642129,
            110.02967363820142,
            114.56256377846707,
            119.17526528721824,
            123.86777816445493,
            128.64010241017718,
            133.49223802438493,
            138.42418500707822,
            143.43594335825705,
            148.52751307792138,
            153.69889416607128,
            158.9500866227067,
            164.2810904478276,
            169.69190564143406,
            175.18253220352605,
            180.75297013410358,
            186.4032194331666
           ]
          }
         ]
        },
        {
         "data": [
          {
           "type": "scatter",
           "x": [
            1,
            2,
            3,
            4,
            5,
            6,
            7,
            8,
            9,
            10,
            11,
            12,
            13,
            14,
            15,
            16,
            17,
            18,
            19,
            20,
            21,
            22,
            23,
            24,
            25,
            26,
            27,
            28,
            29,
            30,
            31,
            32,
            33,
            34,
            35,
            36,
            37,
            38,
            39,
            40,
            41,
            42,
            43,
            44,
            45,
            46,
            47,
            48,
            49,
            50,
            51,
            52
           ],
           "y": [
            1.6596808747866256,
            3.39917311805878,
            5.218476729816462,
            7.117591710059673,
            9.096518058788412,
            11.155255776002681,
            13.293804861702476,
            15.5121653158878,
            17.810337138558655,
            20.188320329715033,
            22.646114889356944,
            25.183720817484385,
            27.801138114097352,
            30.49836677919584,
            33.27540681277986,
            36.132258214849415,
            39.0689209854045,
            42.08539512444511,
            45.18168063197125,
            48.35777750798291,
            51.6136857524801,
            54.94940536546282,
            58.364936346931074,
            61.860278696884855,
            65.43543241532416,
            69.090397502249,
            72.82517395765936,
            76.63976178155525,
            80.53416097393668,
            84.50837153480362,
            88.56239346415609,
            92.6962267619941,
            96.90987142831764,
            101.2033274631267,
            105.57659486642129,
            110.02967363820142,
            114.56256377846707,
            119.17526528721824,
            123.86777816445493,
            128.64010241017718,
            133.49223802438493,
            138.42418500707822,
            143.43594335825705,
            148.52751307792138,
            153.69889416607128,
            158.9500866227067,
            164.2810904478276,
            169.69190564143406,
            175.18253220352605,
            180.75297013410358,
            186.4032194331666,
            192.13328010071518
           ]
          }
         ]
        },
        {
         "data": [
          {
           "type": "scatter",
           "x": [
            1,
            2,
            3,
            4,
            5,
            6,
            7,
            8,
            9,
            10,
            11,
            12,
            13,
            14,
            15,
            16,
            17,
            18,
            19,
            20,
            21,
            22,
            23,
            24,
            25,
            26,
            27,
            28,
            29,
            30,
            31,
            32,
            33,
            34,
            35,
            36,
            37,
            38,
            39,
            40,
            41,
            42,
            43,
            44,
            45,
            46,
            47,
            48,
            49,
            50,
            51,
            52,
            53
           ],
           "y": [
            1.6596808747866256,
            3.39917311805878,
            5.218476729816462,
            7.117591710059673,
            9.096518058788412,
            11.155255776002681,
            13.293804861702476,
            15.5121653158878,
            17.810337138558655,
            20.188320329715033,
            22.646114889356944,
            25.183720817484385,
            27.801138114097352,
            30.49836677919584,
            33.27540681277986,
            36.132258214849415,
            39.0689209854045,
            42.08539512444511,
            45.18168063197125,
            48.35777750798291,
            51.6136857524801,
            54.94940536546282,
            58.364936346931074,
            61.860278696884855,
            65.43543241532416,
            69.090397502249,
            72.82517395765936,
            76.63976178155525,
            80.53416097393668,
            84.50837153480362,
            88.56239346415609,
            92.6962267619941,
            96.90987142831764,
            101.2033274631267,
            105.57659486642129,
            110.02967363820142,
            114.56256377846707,
            119.17526528721824,
            123.86777816445493,
            128.64010241017718,
            133.49223802438493,
            138.42418500707822,
            143.43594335825705,
            148.52751307792138,
            153.69889416607128,
            158.9500866227067,
            164.2810904478276,
            169.69190564143406,
            175.18253220352605,
            180.75297013410358,
            186.4032194331666,
            192.13328010071518,
            197.9431521367493
           ]
          }
         ]
        },
        {
         "data": [
          {
           "type": "scatter",
           "x": [
            1,
            2,
            3,
            4,
            5,
            6,
            7,
            8,
            9,
            10,
            11,
            12,
            13,
            14,
            15,
            16,
            17,
            18,
            19,
            20,
            21,
            22,
            23,
            24,
            25,
            26,
            27,
            28,
            29,
            30,
            31,
            32,
            33,
            34,
            35,
            36,
            37,
            38,
            39,
            40,
            41,
            42,
            43,
            44,
            45,
            46,
            47,
            48,
            49,
            50,
            51,
            52,
            53,
            54
           ],
           "y": [
            1.6596808747866256,
            3.39917311805878,
            5.218476729816462,
            7.117591710059673,
            9.096518058788412,
            11.155255776002681,
            13.293804861702476,
            15.5121653158878,
            17.810337138558655,
            20.188320329715033,
            22.646114889356944,
            25.183720817484385,
            27.801138114097352,
            30.49836677919584,
            33.27540681277986,
            36.132258214849415,
            39.0689209854045,
            42.08539512444511,
            45.18168063197125,
            48.35777750798291,
            51.6136857524801,
            54.94940536546282,
            58.364936346931074,
            61.860278696884855,
            65.43543241532416,
            69.090397502249,
            72.82517395765936,
            76.63976178155525,
            80.53416097393668,
            84.50837153480362,
            88.56239346415609,
            92.6962267619941,
            96.90987142831764,
            101.2033274631267,
            105.57659486642129,
            110.02967363820142,
            114.56256377846707,
            119.17526528721824,
            123.86777816445493,
            128.64010241017718,
            133.49223802438493,
            138.42418500707822,
            143.43594335825705,
            148.52751307792138,
            153.69889416607128,
            158.9500866227067,
            164.2810904478276,
            169.69190564143406,
            175.18253220352605,
            180.75297013410358,
            186.4032194331666,
            192.13328010071518,
            197.9431521367493,
            203.83283554126893
           ]
          }
         ]
        },
        {
         "data": [
          {
           "type": "scatter",
           "x": [
            1,
            2,
            3,
            4,
            5,
            6,
            7,
            8,
            9,
            10,
            11,
            12,
            13,
            14,
            15,
            16,
            17,
            18,
            19,
            20,
            21,
            22,
            23,
            24,
            25,
            26,
            27,
            28,
            29,
            30,
            31,
            32,
            33,
            34,
            35,
            36,
            37,
            38,
            39,
            40,
            41,
            42,
            43,
            44,
            45,
            46,
            47,
            48,
            49,
            50,
            51,
            52,
            53,
            54,
            55
           ],
           "y": [
            1.6596808747866256,
            3.39917311805878,
            5.218476729816462,
            7.117591710059673,
            9.096518058788412,
            11.155255776002681,
            13.293804861702476,
            15.5121653158878,
            17.810337138558655,
            20.188320329715033,
            22.646114889356944,
            25.183720817484385,
            27.801138114097352,
            30.49836677919584,
            33.27540681277986,
            36.132258214849415,
            39.0689209854045,
            42.08539512444511,
            45.18168063197125,
            48.35777750798291,
            51.6136857524801,
            54.94940536546282,
            58.364936346931074,
            61.860278696884855,
            65.43543241532416,
            69.090397502249,
            72.82517395765936,
            76.63976178155525,
            80.53416097393668,
            84.50837153480362,
            88.56239346415609,
            92.6962267619941,
            96.90987142831764,
            101.2033274631267,
            105.57659486642129,
            110.02967363820142,
            114.56256377846707,
            119.17526528721824,
            123.86777816445493,
            128.64010241017718,
            133.49223802438493,
            138.42418500707822,
            143.43594335825705,
            148.52751307792138,
            153.69889416607128,
            158.9500866227067,
            164.2810904478276,
            169.69190564143406,
            175.18253220352605,
            180.75297013410358,
            186.4032194331666,
            192.13328010071518,
            197.9431521367493,
            203.83283554126893,
            209.80233031427406
           ]
          }
         ]
        },
        {
         "data": [
          {
           "type": "scatter",
           "x": [
            1,
            2,
            3,
            4,
            5,
            6,
            7,
            8,
            9,
            10,
            11,
            12,
            13,
            14,
            15,
            16,
            17,
            18,
            19,
            20,
            21,
            22,
            23,
            24,
            25,
            26,
            27,
            28,
            29,
            30,
            31,
            32,
            33,
            34,
            35,
            36,
            37,
            38,
            39,
            40,
            41,
            42,
            43,
            44,
            45,
            46,
            47,
            48,
            49,
            50,
            51,
            52,
            53,
            54,
            55,
            56
           ],
           "y": [
            1.6596808747866256,
            3.39917311805878,
            5.218476729816462,
            7.117591710059673,
            9.096518058788412,
            11.155255776002681,
            13.293804861702476,
            15.5121653158878,
            17.810337138558655,
            20.188320329715033,
            22.646114889356944,
            25.183720817484385,
            27.801138114097352,
            30.49836677919584,
            33.27540681277986,
            36.132258214849415,
            39.0689209854045,
            42.08539512444511,
            45.18168063197125,
            48.35777750798291,
            51.6136857524801,
            54.94940536546282,
            58.364936346931074,
            61.860278696884855,
            65.43543241532416,
            69.090397502249,
            72.82517395765936,
            76.63976178155525,
            80.53416097393668,
            84.50837153480362,
            88.56239346415609,
            92.6962267619941,
            96.90987142831764,
            101.2033274631267,
            105.57659486642129,
            110.02967363820142,
            114.56256377846707,
            119.17526528721824,
            123.86777816445493,
            128.64010241017718,
            133.49223802438493,
            138.42418500707822,
            143.43594335825705,
            148.52751307792138,
            153.69889416607128,
            158.9500866227067,
            164.2810904478276,
            169.69190564143406,
            175.18253220352605,
            180.75297013410358,
            186.4032194331666,
            192.13328010071518,
            197.9431521367493,
            203.83283554126893,
            209.80233031427406,
            215.85163645576475
           ]
          }
         ]
        },
        {
         "data": [
          {
           "type": "scatter",
           "x": [
            1,
            2,
            3,
            4,
            5,
            6,
            7,
            8,
            9,
            10,
            11,
            12,
            13,
            14,
            15,
            16,
            17,
            18,
            19,
            20,
            21,
            22,
            23,
            24,
            25,
            26,
            27,
            28,
            29,
            30,
            31,
            32,
            33,
            34,
            35,
            36,
            37,
            38,
            39,
            40,
            41,
            42,
            43,
            44,
            45,
            46,
            47,
            48,
            49,
            50,
            51,
            52,
            53,
            54,
            55,
            56,
            57
           ],
           "y": [
            1.6596808747866256,
            3.39917311805878,
            5.218476729816462,
            7.117591710059673,
            9.096518058788412,
            11.155255776002681,
            13.293804861702476,
            15.5121653158878,
            17.810337138558655,
            20.188320329715033,
            22.646114889356944,
            25.183720817484385,
            27.801138114097352,
            30.49836677919584,
            33.27540681277986,
            36.132258214849415,
            39.0689209854045,
            42.08539512444511,
            45.18168063197125,
            48.35777750798291,
            51.6136857524801,
            54.94940536546282,
            58.364936346931074,
            61.860278696884855,
            65.43543241532416,
            69.090397502249,
            72.82517395765936,
            76.63976178155525,
            80.53416097393668,
            84.50837153480362,
            88.56239346415609,
            92.6962267619941,
            96.90987142831764,
            101.2033274631267,
            105.57659486642129,
            110.02967363820142,
            114.56256377846707,
            119.17526528721824,
            123.86777816445493,
            128.64010241017718,
            133.49223802438493,
            138.42418500707822,
            143.43594335825705,
            148.52751307792138,
            153.69889416607128,
            158.9500866227067,
            164.2810904478276,
            169.69190564143406,
            175.18253220352605,
            180.75297013410358,
            186.4032194331666,
            192.13328010071518,
            197.9431521367493,
            203.83283554126893,
            209.80233031427406,
            215.85163645576475,
            221.98075396574097
           ]
          }
         ]
        },
        {
         "data": [
          {
           "type": "scatter",
           "x": [
            1,
            2,
            3,
            4,
            5,
            6,
            7,
            8,
            9,
            10,
            11,
            12,
            13,
            14,
            15,
            16,
            17,
            18,
            19,
            20,
            21,
            22,
            23,
            24,
            25,
            26,
            27,
            28,
            29,
            30,
            31,
            32,
            33,
            34,
            35,
            36,
            37,
            38,
            39,
            40,
            41,
            42,
            43,
            44,
            45,
            46,
            47,
            48,
            49,
            50,
            51,
            52,
            53,
            54,
            55,
            56,
            57,
            58
           ],
           "y": [
            1.6596808747866256,
            3.39917311805878,
            5.218476729816462,
            7.117591710059673,
            9.096518058788412,
            11.155255776002681,
            13.293804861702476,
            15.5121653158878,
            17.810337138558655,
            20.188320329715033,
            22.646114889356944,
            25.183720817484385,
            27.801138114097352,
            30.49836677919584,
            33.27540681277986,
            36.132258214849415,
            39.0689209854045,
            42.08539512444511,
            45.18168063197125,
            48.35777750798291,
            51.6136857524801,
            54.94940536546282,
            58.364936346931074,
            61.860278696884855,
            65.43543241532416,
            69.090397502249,
            72.82517395765936,
            76.63976178155525,
            80.53416097393668,
            84.50837153480362,
            88.56239346415609,
            92.6962267619941,
            96.90987142831764,
            101.2033274631267,
            105.57659486642129,
            110.02967363820142,
            114.56256377846707,
            119.17526528721824,
            123.86777816445493,
            128.64010241017718,
            133.49223802438493,
            138.42418500707822,
            143.43594335825705,
            148.52751307792138,
            153.69889416607128,
            158.9500866227067,
            164.2810904478276,
            169.69190564143406,
            175.18253220352605,
            180.75297013410358,
            186.4032194331666,
            192.13328010071518,
            197.9431521367493,
            203.83283554126893,
            209.80233031427406,
            215.85163645576475,
            221.98075396574097,
            228.1896828442027
           ]
          }
         ]
        },
        {
         "data": [
          {
           "type": "scatter",
           "x": [
            1,
            2,
            3,
            4,
            5,
            6,
            7,
            8,
            9,
            10,
            11,
            12,
            13,
            14,
            15,
            16,
            17,
            18,
            19,
            20,
            21,
            22,
            23,
            24,
            25,
            26,
            27,
            28,
            29,
            30,
            31,
            32,
            33,
            34,
            35,
            36,
            37,
            38,
            39,
            40,
            41,
            42,
            43,
            44,
            45,
            46,
            47,
            48,
            49,
            50,
            51,
            52,
            53,
            54,
            55,
            56,
            57,
            58,
            59
           ],
           "y": [
            1.6596808747866256,
            3.39917311805878,
            5.218476729816462,
            7.117591710059673,
            9.096518058788412,
            11.155255776002681,
            13.293804861702476,
            15.5121653158878,
            17.810337138558655,
            20.188320329715033,
            22.646114889356944,
            25.183720817484385,
            27.801138114097352,
            30.49836677919584,
            33.27540681277986,
            36.132258214849415,
            39.0689209854045,
            42.08539512444511,
            45.18168063197125,
            48.35777750798291,
            51.6136857524801,
            54.94940536546282,
            58.364936346931074,
            61.860278696884855,
            65.43543241532416,
            69.090397502249,
            72.82517395765936,
            76.63976178155525,
            80.53416097393668,
            84.50837153480362,
            88.56239346415609,
            92.6962267619941,
            96.90987142831764,
            101.2033274631267,
            105.57659486642129,
            110.02967363820142,
            114.56256377846707,
            119.17526528721824,
            123.86777816445493,
            128.64010241017718,
            133.49223802438493,
            138.42418500707822,
            143.43594335825705,
            148.52751307792138,
            153.69889416607128,
            158.9500866227067,
            164.2810904478276,
            169.69190564143406,
            175.18253220352605,
            180.75297013410358,
            186.4032194331666,
            192.13328010071518,
            197.9431521367493,
            203.83283554126893,
            209.80233031427406,
            215.85163645576475,
            221.98075396574097,
            228.1896828442027,
            234.47842309114998
           ]
          }
         ]
        },
        {
         "data": [
          {
           "type": "scatter",
           "x": [
            1,
            2,
            3,
            4,
            5,
            6,
            7,
            8,
            9,
            10,
            11,
            12,
            13,
            14,
            15,
            16,
            17,
            18,
            19,
            20,
            21,
            22,
            23,
            24,
            25,
            26,
            27,
            28,
            29,
            30,
            31,
            32,
            33,
            34,
            35,
            36,
            37,
            38,
            39,
            40,
            41,
            42,
            43,
            44,
            45,
            46,
            47,
            48,
            49,
            50,
            51,
            52,
            53,
            54,
            55,
            56,
            57,
            58,
            59,
            60
           ],
           "y": [
            1.6596808747866256,
            3.39917311805878,
            5.218476729816462,
            7.117591710059673,
            9.096518058788412,
            11.155255776002681,
            13.293804861702476,
            15.5121653158878,
            17.810337138558655,
            20.188320329715033,
            22.646114889356944,
            25.183720817484385,
            27.801138114097352,
            30.49836677919584,
            33.27540681277986,
            36.132258214849415,
            39.0689209854045,
            42.08539512444511,
            45.18168063197125,
            48.35777750798291,
            51.6136857524801,
            54.94940536546282,
            58.364936346931074,
            61.860278696884855,
            65.43543241532416,
            69.090397502249,
            72.82517395765936,
            76.63976178155525,
            80.53416097393668,
            84.50837153480362,
            88.56239346415609,
            92.6962267619941,
            96.90987142831764,
            101.2033274631267,
            105.57659486642129,
            110.02967363820142,
            114.56256377846707,
            119.17526528721824,
            123.86777816445493,
            128.64010241017718,
            133.49223802438493,
            138.42418500707822,
            143.43594335825705,
            148.52751307792138,
            153.69889416607128,
            158.9500866227067,
            164.2810904478276,
            169.69190564143406,
            175.18253220352605,
            180.75297013410358,
            186.4032194331666,
            192.13328010071518,
            197.9431521367493,
            203.83283554126893,
            209.80233031427406,
            215.85163645576475,
            221.98075396574097,
            228.1896828442027,
            234.47842309114998,
            240.84697470658278
           ]
          }
         ]
        },
        {
         "data": [
          {
           "type": "scatter",
           "x": [
            1,
            2,
            3,
            4,
            5,
            6,
            7,
            8,
            9,
            10,
            11,
            12,
            13,
            14,
            15,
            16,
            17,
            18,
            19,
            20,
            21,
            22,
            23,
            24,
            25,
            26,
            27,
            28,
            29,
            30,
            31,
            32,
            33,
            34,
            35,
            36,
            37,
            38,
            39,
            40,
            41,
            42,
            43,
            44,
            45,
            46,
            47,
            48,
            49,
            50,
            51,
            52,
            53,
            54,
            55,
            56,
            57,
            58,
            59,
            60,
            61
           ],
           "y": [
            1.6596808747866256,
            3.39917311805878,
            5.218476729816462,
            7.117591710059673,
            9.096518058788412,
            11.155255776002681,
            13.293804861702476,
            15.5121653158878,
            17.810337138558655,
            20.188320329715033,
            22.646114889356944,
            25.183720817484385,
            27.801138114097352,
            30.49836677919584,
            33.27540681277986,
            36.132258214849415,
            39.0689209854045,
            42.08539512444511,
            45.18168063197125,
            48.35777750798291,
            51.6136857524801,
            54.94940536546282,
            58.364936346931074,
            61.860278696884855,
            65.43543241532416,
            69.090397502249,
            72.82517395765936,
            76.63976178155525,
            80.53416097393668,
            84.50837153480362,
            88.56239346415609,
            92.6962267619941,
            96.90987142831764,
            101.2033274631267,
            105.57659486642129,
            110.02967363820142,
            114.56256377846707,
            119.17526528721824,
            123.86777816445493,
            128.64010241017718,
            133.49223802438493,
            138.42418500707822,
            143.43594335825705,
            148.52751307792138,
            153.69889416607128,
            158.9500866227067,
            164.2810904478276,
            169.69190564143406,
            175.18253220352605,
            180.75297013410358,
            186.4032194331666,
            192.13328010071518,
            197.9431521367493,
            203.83283554126893,
            209.80233031427406,
            215.85163645576475,
            221.98075396574097,
            228.1896828442027,
            234.47842309114998,
            240.84697470658278,
            247.29533769050113
           ]
          }
         ]
        },
        {
         "data": [
          {
           "type": "scatter",
           "x": [
            1,
            2,
            3,
            4,
            5,
            6,
            7,
            8,
            9,
            10,
            11,
            12,
            13,
            14,
            15,
            16,
            17,
            18,
            19,
            20,
            21,
            22,
            23,
            24,
            25,
            26,
            27,
            28,
            29,
            30,
            31,
            32,
            33,
            34,
            35,
            36,
            37,
            38,
            39,
            40,
            41,
            42,
            43,
            44,
            45,
            46,
            47,
            48,
            49,
            50,
            51,
            52,
            53,
            54,
            55,
            56,
            57,
            58,
            59,
            60,
            61,
            62
           ],
           "y": [
            1.6596808747866256,
            3.39917311805878,
            5.218476729816462,
            7.117591710059673,
            9.096518058788412,
            11.155255776002681,
            13.293804861702476,
            15.5121653158878,
            17.810337138558655,
            20.188320329715033,
            22.646114889356944,
            25.183720817484385,
            27.801138114097352,
            30.49836677919584,
            33.27540681277986,
            36.132258214849415,
            39.0689209854045,
            42.08539512444511,
            45.18168063197125,
            48.35777750798291,
            51.6136857524801,
            54.94940536546282,
            58.364936346931074,
            61.860278696884855,
            65.43543241532416,
            69.090397502249,
            72.82517395765936,
            76.63976178155525,
            80.53416097393668,
            84.50837153480362,
            88.56239346415609,
            92.6962267619941,
            96.90987142831764,
            101.2033274631267,
            105.57659486642129,
            110.02967363820142,
            114.56256377846707,
            119.17526528721824,
            123.86777816445493,
            128.64010241017718,
            133.49223802438493,
            138.42418500707822,
            143.43594335825705,
            148.52751307792138,
            153.69889416607128,
            158.9500866227067,
            164.2810904478276,
            169.69190564143406,
            175.18253220352605,
            180.75297013410358,
            186.4032194331666,
            192.13328010071518,
            197.9431521367493,
            203.83283554126893,
            209.80233031427406,
            215.85163645576475,
            221.98075396574097,
            228.1896828442027,
            234.47842309114998,
            240.84697470658278,
            247.29533769050113,
            253.82351204290495
           ]
          }
         ]
        },
        {
         "data": [
          {
           "type": "scatter",
           "x": [
            1,
            2,
            3,
            4,
            5,
            6,
            7,
            8,
            9,
            10,
            11,
            12,
            13,
            14,
            15,
            16,
            17,
            18,
            19,
            20,
            21,
            22,
            23,
            24,
            25,
            26,
            27,
            28,
            29,
            30,
            31,
            32,
            33,
            34,
            35,
            36,
            37,
            38,
            39,
            40,
            41,
            42,
            43,
            44,
            45,
            46,
            47,
            48,
            49,
            50,
            51,
            52,
            53,
            54,
            55,
            56,
            57,
            58,
            59,
            60,
            61,
            62,
            63
           ],
           "y": [
            1.6596808747866256,
            3.39917311805878,
            5.218476729816462,
            7.117591710059673,
            9.096518058788412,
            11.155255776002681,
            13.293804861702476,
            15.5121653158878,
            17.810337138558655,
            20.188320329715033,
            22.646114889356944,
            25.183720817484385,
            27.801138114097352,
            30.49836677919584,
            33.27540681277986,
            36.132258214849415,
            39.0689209854045,
            42.08539512444511,
            45.18168063197125,
            48.35777750798291,
            51.6136857524801,
            54.94940536546282,
            58.364936346931074,
            61.860278696884855,
            65.43543241532416,
            69.090397502249,
            72.82517395765936,
            76.63976178155525,
            80.53416097393668,
            84.50837153480362,
            88.56239346415609,
            92.6962267619941,
            96.90987142831764,
            101.2033274631267,
            105.57659486642129,
            110.02967363820142,
            114.56256377846707,
            119.17526528721824,
            123.86777816445493,
            128.64010241017718,
            133.49223802438493,
            138.42418500707822,
            143.43594335825705,
            148.52751307792138,
            153.69889416607128,
            158.9500866227067,
            164.2810904478276,
            169.69190564143406,
            175.18253220352605,
            180.75297013410358,
            186.4032194331666,
            192.13328010071518,
            197.9431521367493,
            203.83283554126893,
            209.80233031427406,
            215.85163645576475,
            221.98075396574097,
            228.1896828442027,
            234.47842309114998,
            240.84697470658278,
            247.29533769050113,
            253.82351204290495,
            260.43149776379437
           ]
          }
         ]
        },
        {
         "data": [
          {
           "type": "scatter",
           "x": [
            1,
            2,
            3,
            4,
            5,
            6,
            7,
            8,
            9,
            10,
            11,
            12,
            13,
            14,
            15,
            16,
            17,
            18,
            19,
            20,
            21,
            22,
            23,
            24,
            25,
            26,
            27,
            28,
            29,
            30,
            31,
            32,
            33,
            34,
            35,
            36,
            37,
            38,
            39,
            40,
            41,
            42,
            43,
            44,
            45,
            46,
            47,
            48,
            49,
            50,
            51,
            52,
            53,
            54,
            55,
            56,
            57,
            58,
            59,
            60,
            61,
            62,
            63,
            64
           ],
           "y": [
            1.6596808747866256,
            3.39917311805878,
            5.218476729816462,
            7.117591710059673,
            9.096518058788412,
            11.155255776002681,
            13.293804861702476,
            15.5121653158878,
            17.810337138558655,
            20.188320329715033,
            22.646114889356944,
            25.183720817484385,
            27.801138114097352,
            30.49836677919584,
            33.27540681277986,
            36.132258214849415,
            39.0689209854045,
            42.08539512444511,
            45.18168063197125,
            48.35777750798291,
            51.6136857524801,
            54.94940536546282,
            58.364936346931074,
            61.860278696884855,
            65.43543241532416,
            69.090397502249,
            72.82517395765936,
            76.63976178155525,
            80.53416097393668,
            84.50837153480362,
            88.56239346415609,
            92.6962267619941,
            96.90987142831764,
            101.2033274631267,
            105.57659486642129,
            110.02967363820142,
            114.56256377846707,
            119.17526528721824,
            123.86777816445493,
            128.64010241017718,
            133.49223802438493,
            138.42418500707822,
            143.43594335825705,
            148.52751307792138,
            153.69889416607128,
            158.9500866227067,
            164.2810904478276,
            169.69190564143406,
            175.18253220352605,
            180.75297013410358,
            186.4032194331666,
            192.13328010071518,
            197.9431521367493,
            203.83283554126893,
            209.80233031427406,
            215.85163645576475,
            221.98075396574097,
            228.1896828442027,
            234.47842309114998,
            240.84697470658278,
            247.29533769050113,
            253.82351204290495,
            260.43149776379437,
            267.11929485316927
           ]
          }
         ]
        },
        {
         "data": [
          {
           "type": "scatter",
           "x": [
            1,
            2,
            3,
            4,
            5,
            6,
            7,
            8,
            9,
            10,
            11,
            12,
            13,
            14,
            15,
            16,
            17,
            18,
            19,
            20,
            21,
            22,
            23,
            24,
            25,
            26,
            27,
            28,
            29,
            30,
            31,
            32,
            33,
            34,
            35,
            36,
            37,
            38,
            39,
            40,
            41,
            42,
            43,
            44,
            45,
            46,
            47,
            48,
            49,
            50,
            51,
            52,
            53,
            54,
            55,
            56,
            57,
            58,
            59,
            60,
            61,
            62,
            63,
            64,
            65
           ],
           "y": [
            1.6596808747866256,
            3.39917311805878,
            5.218476729816462,
            7.117591710059673,
            9.096518058788412,
            11.155255776002681,
            13.293804861702476,
            15.5121653158878,
            17.810337138558655,
            20.188320329715033,
            22.646114889356944,
            25.183720817484385,
            27.801138114097352,
            30.49836677919584,
            33.27540681277986,
            36.132258214849415,
            39.0689209854045,
            42.08539512444511,
            45.18168063197125,
            48.35777750798291,
            51.6136857524801,
            54.94940536546282,
            58.364936346931074,
            61.860278696884855,
            65.43543241532416,
            69.090397502249,
            72.82517395765936,
            76.63976178155525,
            80.53416097393668,
            84.50837153480362,
            88.56239346415609,
            92.6962267619941,
            96.90987142831764,
            101.2033274631267,
            105.57659486642129,
            110.02967363820142,
            114.56256377846707,
            119.17526528721824,
            123.86777816445493,
            128.64010241017718,
            133.49223802438493,
            138.42418500707822,
            143.43594335825705,
            148.52751307792138,
            153.69889416607128,
            158.9500866227067,
            164.2810904478276,
            169.69190564143406,
            175.18253220352605,
            180.75297013410358,
            186.4032194331666,
            192.13328010071518,
            197.9431521367493,
            203.83283554126893,
            209.80233031427406,
            215.85163645576475,
            221.98075396574097,
            228.1896828442027,
            234.47842309114998,
            240.84697470658278,
            247.29533769050113,
            253.82351204290495,
            260.43149776379437,
            267.11929485316927,
            273.8869033110297
           ]
          }
         ]
        },
        {
         "data": [
          {
           "type": "scatter",
           "x": [
            1,
            2,
            3,
            4,
            5,
            6,
            7,
            8,
            9,
            10,
            11,
            12,
            13,
            14,
            15,
            16,
            17,
            18,
            19,
            20,
            21,
            22,
            23,
            24,
            25,
            26,
            27,
            28,
            29,
            30,
            31,
            32,
            33,
            34,
            35,
            36,
            37,
            38,
            39,
            40,
            41,
            42,
            43,
            44,
            45,
            46,
            47,
            48,
            49,
            50,
            51,
            52,
            53,
            54,
            55,
            56,
            57,
            58,
            59,
            60,
            61,
            62,
            63,
            64,
            65,
            66
           ],
           "y": [
            1.6596808747866256,
            3.39917311805878,
            5.218476729816462,
            7.117591710059673,
            9.096518058788412,
            11.155255776002681,
            13.293804861702476,
            15.5121653158878,
            17.810337138558655,
            20.188320329715033,
            22.646114889356944,
            25.183720817484385,
            27.801138114097352,
            30.49836677919584,
            33.27540681277986,
            36.132258214849415,
            39.0689209854045,
            42.08539512444511,
            45.18168063197125,
            48.35777750798291,
            51.6136857524801,
            54.94940536546282,
            58.364936346931074,
            61.860278696884855,
            65.43543241532416,
            69.090397502249,
            72.82517395765936,
            76.63976178155525,
            80.53416097393668,
            84.50837153480362,
            88.56239346415609,
            92.6962267619941,
            96.90987142831764,
            101.2033274631267,
            105.57659486642129,
            110.02967363820142,
            114.56256377846707,
            119.17526528721824,
            123.86777816445493,
            128.64010241017718,
            133.49223802438493,
            138.42418500707822,
            143.43594335825705,
            148.52751307792138,
            153.69889416607128,
            158.9500866227067,
            164.2810904478276,
            169.69190564143406,
            175.18253220352605,
            180.75297013410358,
            186.4032194331666,
            192.13328010071518,
            197.9431521367493,
            203.83283554126893,
            209.80233031427406,
            215.85163645576475,
            221.98075396574097,
            228.1896828442027,
            234.47842309114998,
            240.84697470658278,
            247.29533769050113,
            253.82351204290495,
            260.43149776379437,
            267.11929485316927,
            273.8869033110297,
            280.73432313737567
           ]
          }
         ]
        },
        {
         "data": [
          {
           "type": "scatter",
           "x": [
            1,
            2,
            3,
            4,
            5,
            6,
            7,
            8,
            9,
            10,
            11,
            12,
            13,
            14,
            15,
            16,
            17,
            18,
            19,
            20,
            21,
            22,
            23,
            24,
            25,
            26,
            27,
            28,
            29,
            30,
            31,
            32,
            33,
            34,
            35,
            36,
            37,
            38,
            39,
            40,
            41,
            42,
            43,
            44,
            45,
            46,
            47,
            48,
            49,
            50,
            51,
            52,
            53,
            54,
            55,
            56,
            57,
            58,
            59,
            60,
            61,
            62,
            63,
            64,
            65,
            66,
            67
           ],
           "y": [
            1.6596808747866256,
            3.39917311805878,
            5.218476729816462,
            7.117591710059673,
            9.096518058788412,
            11.155255776002681,
            13.293804861702476,
            15.5121653158878,
            17.810337138558655,
            20.188320329715033,
            22.646114889356944,
            25.183720817484385,
            27.801138114097352,
            30.49836677919584,
            33.27540681277986,
            36.132258214849415,
            39.0689209854045,
            42.08539512444511,
            45.18168063197125,
            48.35777750798291,
            51.6136857524801,
            54.94940536546282,
            58.364936346931074,
            61.860278696884855,
            65.43543241532416,
            69.090397502249,
            72.82517395765936,
            76.63976178155525,
            80.53416097393668,
            84.50837153480362,
            88.56239346415609,
            92.6962267619941,
            96.90987142831764,
            101.2033274631267,
            105.57659486642129,
            110.02967363820142,
            114.56256377846707,
            119.17526528721824,
            123.86777816445493,
            128.64010241017718,
            133.49223802438493,
            138.42418500707822,
            143.43594335825705,
            148.52751307792138,
            153.69889416607128,
            158.9500866227067,
            164.2810904478276,
            169.69190564143406,
            175.18253220352605,
            180.75297013410358,
            186.4032194331666,
            192.13328010071518,
            197.9431521367493,
            203.83283554126893,
            209.80233031427406,
            215.85163645576475,
            221.98075396574097,
            228.1896828442027,
            234.47842309114998,
            240.84697470658278,
            247.29533769050113,
            253.82351204290495,
            260.43149776379437,
            267.11929485316927,
            273.8869033110297,
            280.73432313737567,
            287.66155433220723
           ]
          }
         ]
        },
        {
         "data": [
          {
           "type": "scatter",
           "x": [
            1,
            2,
            3,
            4,
            5,
            6,
            7,
            8,
            9,
            10,
            11,
            12,
            13,
            14,
            15,
            16,
            17,
            18,
            19,
            20,
            21,
            22,
            23,
            24,
            25,
            26,
            27,
            28,
            29,
            30,
            31,
            32,
            33,
            34,
            35,
            36,
            37,
            38,
            39,
            40,
            41,
            42,
            43,
            44,
            45,
            46,
            47,
            48,
            49,
            50,
            51,
            52,
            53,
            54,
            55,
            56,
            57,
            58,
            59,
            60,
            61,
            62,
            63,
            64,
            65,
            66,
            67,
            68
           ],
           "y": [
            1.6596808747866256,
            3.39917311805878,
            5.218476729816462,
            7.117591710059673,
            9.096518058788412,
            11.155255776002681,
            13.293804861702476,
            15.5121653158878,
            17.810337138558655,
            20.188320329715033,
            22.646114889356944,
            25.183720817484385,
            27.801138114097352,
            30.49836677919584,
            33.27540681277986,
            36.132258214849415,
            39.0689209854045,
            42.08539512444511,
            45.18168063197125,
            48.35777750798291,
            51.6136857524801,
            54.94940536546282,
            58.364936346931074,
            61.860278696884855,
            65.43543241532416,
            69.090397502249,
            72.82517395765936,
            76.63976178155525,
            80.53416097393668,
            84.50837153480362,
            88.56239346415609,
            92.6962267619941,
            96.90987142831764,
            101.2033274631267,
            105.57659486642129,
            110.02967363820142,
            114.56256377846707,
            119.17526528721824,
            123.86777816445493,
            128.64010241017718,
            133.49223802438493,
            138.42418500707822,
            143.43594335825705,
            148.52751307792138,
            153.69889416607128,
            158.9500866227067,
            164.2810904478276,
            169.69190564143406,
            175.18253220352605,
            180.75297013410358,
            186.4032194331666,
            192.13328010071518,
            197.9431521367493,
            203.83283554126893,
            209.80233031427406,
            215.85163645576475,
            221.98075396574097,
            228.1896828442027,
            234.47842309114998,
            240.84697470658278,
            247.29533769050113,
            253.82351204290495,
            260.43149776379437,
            267.11929485316927,
            273.8869033110297,
            280.73432313737567,
            287.66155433220723,
            294.6685968955242
           ]
          }
         ]
        },
        {
         "data": [
          {
           "type": "scatter",
           "x": [
            1,
            2,
            3,
            4,
            5,
            6,
            7,
            8,
            9,
            10,
            11,
            12,
            13,
            14,
            15,
            16,
            17,
            18,
            19,
            20,
            21,
            22,
            23,
            24,
            25,
            26,
            27,
            28,
            29,
            30,
            31,
            32,
            33,
            34,
            35,
            36,
            37,
            38,
            39,
            40,
            41,
            42,
            43,
            44,
            45,
            46,
            47,
            48,
            49,
            50,
            51,
            52,
            53,
            54,
            55,
            56,
            57,
            58,
            59,
            60,
            61,
            62,
            63,
            64,
            65,
            66,
            67,
            68,
            69
           ],
           "y": [
            1.6596808747866256,
            3.39917311805878,
            5.218476729816462,
            7.117591710059673,
            9.096518058788412,
            11.155255776002681,
            13.293804861702476,
            15.5121653158878,
            17.810337138558655,
            20.188320329715033,
            22.646114889356944,
            25.183720817484385,
            27.801138114097352,
            30.49836677919584,
            33.27540681277986,
            36.132258214849415,
            39.0689209854045,
            42.08539512444511,
            45.18168063197125,
            48.35777750798291,
            51.6136857524801,
            54.94940536546282,
            58.364936346931074,
            61.860278696884855,
            65.43543241532416,
            69.090397502249,
            72.82517395765936,
            76.63976178155525,
            80.53416097393668,
            84.50837153480362,
            88.56239346415609,
            92.6962267619941,
            96.90987142831764,
            101.2033274631267,
            105.57659486642129,
            110.02967363820142,
            114.56256377846707,
            119.17526528721824,
            123.86777816445493,
            128.64010241017718,
            133.49223802438493,
            138.42418500707822,
            143.43594335825705,
            148.52751307792138,
            153.69889416607128,
            158.9500866227067,
            164.2810904478276,
            169.69190564143406,
            175.18253220352605,
            180.75297013410358,
            186.4032194331666,
            192.13328010071518,
            197.9431521367493,
            203.83283554126893,
            209.80233031427406,
            215.85163645576475,
            221.98075396574097,
            228.1896828442027,
            234.47842309114998,
            240.84697470658278,
            247.29533769050113,
            253.82351204290495,
            260.43149776379437,
            267.11929485316927,
            273.8869033110297,
            280.73432313737567,
            287.66155433220723,
            294.6685968955242,
            301.7554508273268
           ]
          }
         ]
        },
        {
         "data": [
          {
           "type": "scatter",
           "x": [
            1,
            2,
            3,
            4,
            5,
            6,
            7,
            8,
            9,
            10,
            11,
            12,
            13,
            14,
            15,
            16,
            17,
            18,
            19,
            20,
            21,
            22,
            23,
            24,
            25,
            26,
            27,
            28,
            29,
            30,
            31,
            32,
            33,
            34,
            35,
            36,
            37,
            38,
            39,
            40,
            41,
            42,
            43,
            44,
            45,
            46,
            47,
            48,
            49,
            50,
            51,
            52,
            53,
            54,
            55,
            56,
            57,
            58,
            59,
            60,
            61,
            62,
            63,
            64,
            65,
            66,
            67,
            68,
            69,
            70
           ],
           "y": [
            1.6596808747866256,
            3.39917311805878,
            5.218476729816462,
            7.117591710059673,
            9.096518058788412,
            11.155255776002681,
            13.293804861702476,
            15.5121653158878,
            17.810337138558655,
            20.188320329715033,
            22.646114889356944,
            25.183720817484385,
            27.801138114097352,
            30.49836677919584,
            33.27540681277986,
            36.132258214849415,
            39.0689209854045,
            42.08539512444511,
            45.18168063197125,
            48.35777750798291,
            51.6136857524801,
            54.94940536546282,
            58.364936346931074,
            61.860278696884855,
            65.43543241532416,
            69.090397502249,
            72.82517395765936,
            76.63976178155525,
            80.53416097393668,
            84.50837153480362,
            88.56239346415609,
            92.6962267619941,
            96.90987142831764,
            101.2033274631267,
            105.57659486642129,
            110.02967363820142,
            114.56256377846707,
            119.17526528721824,
            123.86777816445493,
            128.64010241017718,
            133.49223802438493,
            138.42418500707822,
            143.43594335825705,
            148.52751307792138,
            153.69889416607128,
            158.9500866227067,
            164.2810904478276,
            169.69190564143406,
            175.18253220352605,
            180.75297013410358,
            186.4032194331666,
            192.13328010071518,
            197.9431521367493,
            203.83283554126893,
            209.80233031427406,
            215.85163645576475,
            221.98075396574097,
            228.1896828442027,
            234.47842309114998,
            240.84697470658278,
            247.29533769050113,
            253.82351204290495,
            260.43149776379437,
            267.11929485316927,
            273.8869033110297,
            280.73432313737567,
            287.66155433220723,
            294.6685968955242,
            301.7554508273268,
            308.92211612761486
           ]
          }
         ]
        },
        {
         "data": [
          {
           "type": "scatter",
           "x": [
            1,
            2,
            3,
            4,
            5,
            6,
            7,
            8,
            9,
            10,
            11,
            12,
            13,
            14,
            15,
            16,
            17,
            18,
            19,
            20,
            21,
            22,
            23,
            24,
            25,
            26,
            27,
            28,
            29,
            30,
            31,
            32,
            33,
            34,
            35,
            36,
            37,
            38,
            39,
            40,
            41,
            42,
            43,
            44,
            45,
            46,
            47,
            48,
            49,
            50,
            51,
            52,
            53,
            54,
            55,
            56,
            57,
            58,
            59,
            60,
            61,
            62,
            63,
            64,
            65,
            66,
            67,
            68,
            69,
            70,
            71
           ],
           "y": [
            1.6596808747866256,
            3.39917311805878,
            5.218476729816462,
            7.117591710059673,
            9.096518058788412,
            11.155255776002681,
            13.293804861702476,
            15.5121653158878,
            17.810337138558655,
            20.188320329715033,
            22.646114889356944,
            25.183720817484385,
            27.801138114097352,
            30.49836677919584,
            33.27540681277986,
            36.132258214849415,
            39.0689209854045,
            42.08539512444511,
            45.18168063197125,
            48.35777750798291,
            51.6136857524801,
            54.94940536546282,
            58.364936346931074,
            61.860278696884855,
            65.43543241532416,
            69.090397502249,
            72.82517395765936,
            76.63976178155525,
            80.53416097393668,
            84.50837153480362,
            88.56239346415609,
            92.6962267619941,
            96.90987142831764,
            101.2033274631267,
            105.57659486642129,
            110.02967363820142,
            114.56256377846707,
            119.17526528721824,
            123.86777816445493,
            128.64010241017718,
            133.49223802438493,
            138.42418500707822,
            143.43594335825705,
            148.52751307792138,
            153.69889416607128,
            158.9500866227067,
            164.2810904478276,
            169.69190564143406,
            175.18253220352605,
            180.75297013410358,
            186.4032194331666,
            192.13328010071518,
            197.9431521367493,
            203.83283554126893,
            209.80233031427406,
            215.85163645576475,
            221.98075396574097,
            228.1896828442027,
            234.47842309114998,
            240.84697470658278,
            247.29533769050113,
            253.82351204290495,
            260.43149776379437,
            267.11929485316927,
            273.8869033110297,
            280.73432313737567,
            287.66155433220723,
            294.6685968955242,
            301.7554508273268,
            308.92211612761486,
            316.16859279638845
           ]
          }
         ]
        },
        {
         "data": [
          {
           "type": "scatter",
           "x": [
            1,
            2,
            3,
            4,
            5,
            6,
            7,
            8,
            9,
            10,
            11,
            12,
            13,
            14,
            15,
            16,
            17,
            18,
            19,
            20,
            21,
            22,
            23,
            24,
            25,
            26,
            27,
            28,
            29,
            30,
            31,
            32,
            33,
            34,
            35,
            36,
            37,
            38,
            39,
            40,
            41,
            42,
            43,
            44,
            45,
            46,
            47,
            48,
            49,
            50,
            51,
            52,
            53,
            54,
            55,
            56,
            57,
            58,
            59,
            60,
            61,
            62,
            63,
            64,
            65,
            66,
            67,
            68,
            69,
            70,
            71,
            72
           ],
           "y": [
            1.6596808747866256,
            3.39917311805878,
            5.218476729816462,
            7.117591710059673,
            9.096518058788412,
            11.155255776002681,
            13.293804861702476,
            15.5121653158878,
            17.810337138558655,
            20.188320329715033,
            22.646114889356944,
            25.183720817484385,
            27.801138114097352,
            30.49836677919584,
            33.27540681277986,
            36.132258214849415,
            39.0689209854045,
            42.08539512444511,
            45.18168063197125,
            48.35777750798291,
            51.6136857524801,
            54.94940536546282,
            58.364936346931074,
            61.860278696884855,
            65.43543241532416,
            69.090397502249,
            72.82517395765936,
            76.63976178155525,
            80.53416097393668,
            84.50837153480362,
            88.56239346415609,
            92.6962267619941,
            96.90987142831764,
            101.2033274631267,
            105.57659486642129,
            110.02967363820142,
            114.56256377846707,
            119.17526528721824,
            123.86777816445493,
            128.64010241017718,
            133.49223802438493,
            138.42418500707822,
            143.43594335825705,
            148.52751307792138,
            153.69889416607128,
            158.9500866227067,
            164.2810904478276,
            169.69190564143406,
            175.18253220352605,
            180.75297013410358,
            186.4032194331666,
            192.13328010071518,
            197.9431521367493,
            203.83283554126893,
            209.80233031427406,
            215.85163645576475,
            221.98075396574097,
            228.1896828442027,
            234.47842309114998,
            240.84697470658278,
            247.29533769050113,
            253.82351204290495,
            260.43149776379437,
            267.11929485316927,
            273.8869033110297,
            280.73432313737567,
            287.66155433220723,
            294.6685968955242,
            301.7554508273268,
            308.92211612761486,
            316.16859279638845,
            323.49488083364764
           ]
          }
         ]
        },
        {
         "data": [
          {
           "type": "scatter",
           "x": [
            1,
            2,
            3,
            4,
            5,
            6,
            7,
            8,
            9,
            10,
            11,
            12,
            13,
            14,
            15,
            16,
            17,
            18,
            19,
            20,
            21,
            22,
            23,
            24,
            25,
            26,
            27,
            28,
            29,
            30,
            31,
            32,
            33,
            34,
            35,
            36,
            37,
            38,
            39,
            40,
            41,
            42,
            43,
            44,
            45,
            46,
            47,
            48,
            49,
            50,
            51,
            52,
            53,
            54,
            55,
            56,
            57,
            58,
            59,
            60,
            61,
            62,
            63,
            64,
            65,
            66,
            67,
            68,
            69,
            70,
            71,
            72,
            73
           ],
           "y": [
            1.6596808747866256,
            3.39917311805878,
            5.218476729816462,
            7.117591710059673,
            9.096518058788412,
            11.155255776002681,
            13.293804861702476,
            15.5121653158878,
            17.810337138558655,
            20.188320329715033,
            22.646114889356944,
            25.183720817484385,
            27.801138114097352,
            30.49836677919584,
            33.27540681277986,
            36.132258214849415,
            39.0689209854045,
            42.08539512444511,
            45.18168063197125,
            48.35777750798291,
            51.6136857524801,
            54.94940536546282,
            58.364936346931074,
            61.860278696884855,
            65.43543241532416,
            69.090397502249,
            72.82517395765936,
            76.63976178155525,
            80.53416097393668,
            84.50837153480362,
            88.56239346415609,
            92.6962267619941,
            96.90987142831764,
            101.2033274631267,
            105.57659486642129,
            110.02967363820142,
            114.56256377846707,
            119.17526528721824,
            123.86777816445493,
            128.64010241017718,
            133.49223802438493,
            138.42418500707822,
            143.43594335825705,
            148.52751307792138,
            153.69889416607128,
            158.9500866227067,
            164.2810904478276,
            169.69190564143406,
            175.18253220352605,
            180.75297013410358,
            186.4032194331666,
            192.13328010071518,
            197.9431521367493,
            203.83283554126893,
            209.80233031427406,
            215.85163645576475,
            221.98075396574097,
            228.1896828442027,
            234.47842309114998,
            240.84697470658278,
            247.29533769050113,
            253.82351204290495,
            260.43149776379437,
            267.11929485316927,
            273.8869033110297,
            280.73432313737567,
            287.66155433220723,
            294.6685968955242,
            301.7554508273268,
            308.92211612761486,
            316.16859279638845,
            323.49488083364764,
            330.9009802393923
           ]
          }
         ]
        },
        {
         "data": [
          {
           "type": "scatter",
           "x": [
            1,
            2,
            3,
            4,
            5,
            6,
            7,
            8,
            9,
            10,
            11,
            12,
            13,
            14,
            15,
            16,
            17,
            18,
            19,
            20,
            21,
            22,
            23,
            24,
            25,
            26,
            27,
            28,
            29,
            30,
            31,
            32,
            33,
            34,
            35,
            36,
            37,
            38,
            39,
            40,
            41,
            42,
            43,
            44,
            45,
            46,
            47,
            48,
            49,
            50,
            51,
            52,
            53,
            54,
            55,
            56,
            57,
            58,
            59,
            60,
            61,
            62,
            63,
            64,
            65,
            66,
            67,
            68,
            69,
            70,
            71,
            72,
            73,
            74
           ],
           "y": [
            1.6596808747866256,
            3.39917311805878,
            5.218476729816462,
            7.117591710059673,
            9.096518058788412,
            11.155255776002681,
            13.293804861702476,
            15.5121653158878,
            17.810337138558655,
            20.188320329715033,
            22.646114889356944,
            25.183720817484385,
            27.801138114097352,
            30.49836677919584,
            33.27540681277986,
            36.132258214849415,
            39.0689209854045,
            42.08539512444511,
            45.18168063197125,
            48.35777750798291,
            51.6136857524801,
            54.94940536546282,
            58.364936346931074,
            61.860278696884855,
            65.43543241532416,
            69.090397502249,
            72.82517395765936,
            76.63976178155525,
            80.53416097393668,
            84.50837153480362,
            88.56239346415609,
            92.6962267619941,
            96.90987142831764,
            101.2033274631267,
            105.57659486642129,
            110.02967363820142,
            114.56256377846707,
            119.17526528721824,
            123.86777816445493,
            128.64010241017718,
            133.49223802438493,
            138.42418500707822,
            143.43594335825705,
            148.52751307792138,
            153.69889416607128,
            158.9500866227067,
            164.2810904478276,
            169.69190564143406,
            175.18253220352605,
            180.75297013410358,
            186.4032194331666,
            192.13328010071518,
            197.9431521367493,
            203.83283554126893,
            209.80233031427406,
            215.85163645576475,
            221.98075396574097,
            228.1896828442027,
            234.47842309114998,
            240.84697470658278,
            247.29533769050113,
            253.82351204290495,
            260.43149776379437,
            267.11929485316927,
            273.8869033110297,
            280.73432313737567,
            287.66155433220723,
            294.6685968955242,
            301.7554508273268,
            308.92211612761486,
            316.16859279638845,
            323.49488083364764,
            330.9009802393923,
            338.3868910136225
           ]
          }
         ]
        },
        {
         "data": [
          {
           "type": "scatter",
           "x": [
            1,
            2,
            3,
            4,
            5,
            6,
            7,
            8,
            9,
            10,
            11,
            12,
            13,
            14,
            15,
            16,
            17,
            18,
            19,
            20,
            21,
            22,
            23,
            24,
            25,
            26,
            27,
            28,
            29,
            30,
            31,
            32,
            33,
            34,
            35,
            36,
            37,
            38,
            39,
            40,
            41,
            42,
            43,
            44,
            45,
            46,
            47,
            48,
            49,
            50,
            51,
            52,
            53,
            54,
            55,
            56,
            57,
            58,
            59,
            60,
            61,
            62,
            63,
            64,
            65,
            66,
            67,
            68,
            69,
            70,
            71,
            72,
            73,
            74,
            75
           ],
           "y": [
            1.6596808747866256,
            3.39917311805878,
            5.218476729816462,
            7.117591710059673,
            9.096518058788412,
            11.155255776002681,
            13.293804861702476,
            15.5121653158878,
            17.810337138558655,
            20.188320329715033,
            22.646114889356944,
            25.183720817484385,
            27.801138114097352,
            30.49836677919584,
            33.27540681277986,
            36.132258214849415,
            39.0689209854045,
            42.08539512444511,
            45.18168063197125,
            48.35777750798291,
            51.6136857524801,
            54.94940536546282,
            58.364936346931074,
            61.860278696884855,
            65.43543241532416,
            69.090397502249,
            72.82517395765936,
            76.63976178155525,
            80.53416097393668,
            84.50837153480362,
            88.56239346415609,
            92.6962267619941,
            96.90987142831764,
            101.2033274631267,
            105.57659486642129,
            110.02967363820142,
            114.56256377846707,
            119.17526528721824,
            123.86777816445493,
            128.64010241017718,
            133.49223802438493,
            138.42418500707822,
            143.43594335825705,
            148.52751307792138,
            153.69889416607128,
            158.9500866227067,
            164.2810904478276,
            169.69190564143406,
            175.18253220352605,
            180.75297013410358,
            186.4032194331666,
            192.13328010071518,
            197.9431521367493,
            203.83283554126893,
            209.80233031427406,
            215.85163645576475,
            221.98075396574097,
            228.1896828442027,
            234.47842309114998,
            240.84697470658278,
            247.29533769050113,
            253.82351204290495,
            260.43149776379437,
            267.11929485316927,
            273.8869033110297,
            280.73432313737567,
            287.66155433220723,
            294.6685968955242,
            301.7554508273268,
            308.92211612761486,
            316.16859279638845,
            323.49488083364764,
            330.9009802393923,
            338.3868910136225,
            345.9526131563382
           ]
          }
         ]
        },
        {
         "data": [
          {
           "type": "scatter",
           "x": [
            1,
            2,
            3,
            4,
            5,
            6,
            7,
            8,
            9,
            10,
            11,
            12,
            13,
            14,
            15,
            16,
            17,
            18,
            19,
            20,
            21,
            22,
            23,
            24,
            25,
            26,
            27,
            28,
            29,
            30,
            31,
            32,
            33,
            34,
            35,
            36,
            37,
            38,
            39,
            40,
            41,
            42,
            43,
            44,
            45,
            46,
            47,
            48,
            49,
            50,
            51,
            52,
            53,
            54,
            55,
            56,
            57,
            58,
            59,
            60,
            61,
            62,
            63,
            64,
            65,
            66,
            67,
            68,
            69,
            70,
            71,
            72,
            73,
            74,
            75,
            76
           ],
           "y": [
            1.6596808747866256,
            3.39917311805878,
            5.218476729816462,
            7.117591710059673,
            9.096518058788412,
            11.155255776002681,
            13.293804861702476,
            15.5121653158878,
            17.810337138558655,
            20.188320329715033,
            22.646114889356944,
            25.183720817484385,
            27.801138114097352,
            30.49836677919584,
            33.27540681277986,
            36.132258214849415,
            39.0689209854045,
            42.08539512444511,
            45.18168063197125,
            48.35777750798291,
            51.6136857524801,
            54.94940536546282,
            58.364936346931074,
            61.860278696884855,
            65.43543241532416,
            69.090397502249,
            72.82517395765936,
            76.63976178155525,
            80.53416097393668,
            84.50837153480362,
            88.56239346415609,
            92.6962267619941,
            96.90987142831764,
            101.2033274631267,
            105.57659486642129,
            110.02967363820142,
            114.56256377846707,
            119.17526528721824,
            123.86777816445493,
            128.64010241017718,
            133.49223802438493,
            138.42418500707822,
            143.43594335825705,
            148.52751307792138,
            153.69889416607128,
            158.9500866227067,
            164.2810904478276,
            169.69190564143406,
            175.18253220352605,
            180.75297013410358,
            186.4032194331666,
            192.13328010071518,
            197.9431521367493,
            203.83283554126893,
            209.80233031427406,
            215.85163645576475,
            221.98075396574097,
            228.1896828442027,
            234.47842309114998,
            240.84697470658278,
            247.29533769050113,
            253.82351204290495,
            260.43149776379437,
            267.11929485316927,
            273.8869033110297,
            280.73432313737567,
            287.66155433220723,
            294.6685968955242,
            301.7554508273268,
            308.92211612761486,
            316.16859279638845,
            323.49488083364764,
            330.9009802393923,
            338.3868910136225,
            345.9526131563382,
            353.5981466675395
           ]
          }
         ]
        },
        {
         "data": [
          {
           "type": "scatter",
           "x": [
            1,
            2,
            3,
            4,
            5,
            6,
            7,
            8,
            9,
            10,
            11,
            12,
            13,
            14,
            15,
            16,
            17,
            18,
            19,
            20,
            21,
            22,
            23,
            24,
            25,
            26,
            27,
            28,
            29,
            30,
            31,
            32,
            33,
            34,
            35,
            36,
            37,
            38,
            39,
            40,
            41,
            42,
            43,
            44,
            45,
            46,
            47,
            48,
            49,
            50,
            51,
            52,
            53,
            54,
            55,
            56,
            57,
            58,
            59,
            60,
            61,
            62,
            63,
            64,
            65,
            66,
            67,
            68,
            69,
            70,
            71,
            72,
            73,
            74,
            75,
            76,
            77
           ],
           "y": [
            1.6596808747866256,
            3.39917311805878,
            5.218476729816462,
            7.117591710059673,
            9.096518058788412,
            11.155255776002681,
            13.293804861702476,
            15.5121653158878,
            17.810337138558655,
            20.188320329715033,
            22.646114889356944,
            25.183720817484385,
            27.801138114097352,
            30.49836677919584,
            33.27540681277986,
            36.132258214849415,
            39.0689209854045,
            42.08539512444511,
            45.18168063197125,
            48.35777750798291,
            51.6136857524801,
            54.94940536546282,
            58.364936346931074,
            61.860278696884855,
            65.43543241532416,
            69.090397502249,
            72.82517395765936,
            76.63976178155525,
            80.53416097393668,
            84.50837153480362,
            88.56239346415609,
            92.6962267619941,
            96.90987142831764,
            101.2033274631267,
            105.57659486642129,
            110.02967363820142,
            114.56256377846707,
            119.17526528721824,
            123.86777816445493,
            128.64010241017718,
            133.49223802438493,
            138.42418500707822,
            143.43594335825705,
            148.52751307792138,
            153.69889416607128,
            158.9500866227067,
            164.2810904478276,
            169.69190564143406,
            175.18253220352605,
            180.75297013410358,
            186.4032194331666,
            192.13328010071518,
            197.9431521367493,
            203.83283554126893,
            209.80233031427406,
            215.85163645576475,
            221.98075396574097,
            228.1896828442027,
            234.47842309114998,
            240.84697470658278,
            247.29533769050113,
            253.82351204290495,
            260.43149776379437,
            267.11929485316927,
            273.8869033110297,
            280.73432313737567,
            287.66155433220723,
            294.6685968955242,
            301.7554508273268,
            308.92211612761486,
            316.16859279638845,
            323.49488083364764,
            330.9009802393923,
            338.3868910136225,
            345.9526131563382,
            353.5981466675395,
            361.32349154722624
           ]
          }
         ]
        },
        {
         "data": [
          {
           "type": "scatter",
           "x": [
            1,
            2,
            3,
            4,
            5,
            6,
            7,
            8,
            9,
            10,
            11,
            12,
            13,
            14,
            15,
            16,
            17,
            18,
            19,
            20,
            21,
            22,
            23,
            24,
            25,
            26,
            27,
            28,
            29,
            30,
            31,
            32,
            33,
            34,
            35,
            36,
            37,
            38,
            39,
            40,
            41,
            42,
            43,
            44,
            45,
            46,
            47,
            48,
            49,
            50,
            51,
            52,
            53,
            54,
            55,
            56,
            57,
            58,
            59,
            60,
            61,
            62,
            63,
            64,
            65,
            66,
            67,
            68,
            69,
            70,
            71,
            72,
            73,
            74,
            75,
            76,
            77,
            78
           ],
           "y": [
            1.6596808747866256,
            3.39917311805878,
            5.218476729816462,
            7.117591710059673,
            9.096518058788412,
            11.155255776002681,
            13.293804861702476,
            15.5121653158878,
            17.810337138558655,
            20.188320329715033,
            22.646114889356944,
            25.183720817484385,
            27.801138114097352,
            30.49836677919584,
            33.27540681277986,
            36.132258214849415,
            39.0689209854045,
            42.08539512444511,
            45.18168063197125,
            48.35777750798291,
            51.6136857524801,
            54.94940536546282,
            58.364936346931074,
            61.860278696884855,
            65.43543241532416,
            69.090397502249,
            72.82517395765936,
            76.63976178155525,
            80.53416097393668,
            84.50837153480362,
            88.56239346415609,
            92.6962267619941,
            96.90987142831764,
            101.2033274631267,
            105.57659486642129,
            110.02967363820142,
            114.56256377846707,
            119.17526528721824,
            123.86777816445493,
            128.64010241017718,
            133.49223802438493,
            138.42418500707822,
            143.43594335825705,
            148.52751307792138,
            153.69889416607128,
            158.9500866227067,
            164.2810904478276,
            169.69190564143406,
            175.18253220352605,
            180.75297013410358,
            186.4032194331666,
            192.13328010071518,
            197.9431521367493,
            203.83283554126893,
            209.80233031427406,
            215.85163645576475,
            221.98075396574097,
            228.1896828442027,
            234.47842309114998,
            240.84697470658278,
            247.29533769050113,
            253.82351204290495,
            260.43149776379437,
            267.11929485316927,
            273.8869033110297,
            280.73432313737567,
            287.66155433220723,
            294.6685968955242,
            301.7554508273268,
            308.92211612761486,
            316.16859279638845,
            323.49488083364764,
            330.9009802393923,
            338.3868910136225,
            345.9526131563382,
            353.5981466675395,
            361.32349154722624,
            369.1286477953986
           ]
          }
         ]
        },
        {
         "data": [
          {
           "type": "scatter",
           "x": [
            1,
            2,
            3,
            4,
            5,
            6,
            7,
            8,
            9,
            10,
            11,
            12,
            13,
            14,
            15,
            16,
            17,
            18,
            19,
            20,
            21,
            22,
            23,
            24,
            25,
            26,
            27,
            28,
            29,
            30,
            31,
            32,
            33,
            34,
            35,
            36,
            37,
            38,
            39,
            40,
            41,
            42,
            43,
            44,
            45,
            46,
            47,
            48,
            49,
            50,
            51,
            52,
            53,
            54,
            55,
            56,
            57,
            58,
            59,
            60,
            61,
            62,
            63,
            64,
            65,
            66,
            67,
            68,
            69,
            70,
            71,
            72,
            73,
            74,
            75,
            76,
            77,
            78,
            79
           ],
           "y": [
            1.6596808747866256,
            3.39917311805878,
            5.218476729816462,
            7.117591710059673,
            9.096518058788412,
            11.155255776002681,
            13.293804861702476,
            15.5121653158878,
            17.810337138558655,
            20.188320329715033,
            22.646114889356944,
            25.183720817484385,
            27.801138114097352,
            30.49836677919584,
            33.27540681277986,
            36.132258214849415,
            39.0689209854045,
            42.08539512444511,
            45.18168063197125,
            48.35777750798291,
            51.6136857524801,
            54.94940536546282,
            58.364936346931074,
            61.860278696884855,
            65.43543241532416,
            69.090397502249,
            72.82517395765936,
            76.63976178155525,
            80.53416097393668,
            84.50837153480362,
            88.56239346415609,
            92.6962267619941,
            96.90987142831764,
            101.2033274631267,
            105.57659486642129,
            110.02967363820142,
            114.56256377846707,
            119.17526528721824,
            123.86777816445493,
            128.64010241017718,
            133.49223802438493,
            138.42418500707822,
            143.43594335825705,
            148.52751307792138,
            153.69889416607128,
            158.9500866227067,
            164.2810904478276,
            169.69190564143406,
            175.18253220352605,
            180.75297013410358,
            186.4032194331666,
            192.13328010071518,
            197.9431521367493,
            203.83283554126893,
            209.80233031427406,
            215.85163645576475,
            221.98075396574097,
            228.1896828442027,
            234.47842309114998,
            240.84697470658278,
            247.29533769050113,
            253.82351204290495,
            260.43149776379437,
            267.11929485316927,
            273.8869033110297,
            280.73432313737567,
            287.66155433220723,
            294.6685968955242,
            301.7554508273268,
            308.92211612761486,
            316.16859279638845,
            323.49488083364764,
            330.9009802393923,
            338.3868910136225,
            345.9526131563382,
            353.5981466675395,
            361.32349154722624,
            369.1286477953986,
            377.0136154120564
           ]
          }
         ]
        },
        {
         "data": [
          {
           "type": "scatter",
           "x": [
            1,
            2,
            3,
            4,
            5,
            6,
            7,
            8,
            9,
            10,
            11,
            12,
            13,
            14,
            15,
            16,
            17,
            18,
            19,
            20,
            21,
            22,
            23,
            24,
            25,
            26,
            27,
            28,
            29,
            30,
            31,
            32,
            33,
            34,
            35,
            36,
            37,
            38,
            39,
            40,
            41,
            42,
            43,
            44,
            45,
            46,
            47,
            48,
            49,
            50,
            51,
            52,
            53,
            54,
            55,
            56,
            57,
            58,
            59,
            60,
            61,
            62,
            63,
            64,
            65,
            66,
            67,
            68,
            69,
            70,
            71,
            72,
            73,
            74,
            75,
            76,
            77,
            78,
            79,
            80
           ],
           "y": [
            1.6596808747866256,
            3.39917311805878,
            5.218476729816462,
            7.117591710059673,
            9.096518058788412,
            11.155255776002681,
            13.293804861702476,
            15.5121653158878,
            17.810337138558655,
            20.188320329715033,
            22.646114889356944,
            25.183720817484385,
            27.801138114097352,
            30.49836677919584,
            33.27540681277986,
            36.132258214849415,
            39.0689209854045,
            42.08539512444511,
            45.18168063197125,
            48.35777750798291,
            51.6136857524801,
            54.94940536546282,
            58.364936346931074,
            61.860278696884855,
            65.43543241532416,
            69.090397502249,
            72.82517395765936,
            76.63976178155525,
            80.53416097393668,
            84.50837153480362,
            88.56239346415609,
            92.6962267619941,
            96.90987142831764,
            101.2033274631267,
            105.57659486642129,
            110.02967363820142,
            114.56256377846707,
            119.17526528721824,
            123.86777816445493,
            128.64010241017718,
            133.49223802438493,
            138.42418500707822,
            143.43594335825705,
            148.52751307792138,
            153.69889416607128,
            158.9500866227067,
            164.2810904478276,
            169.69190564143406,
            175.18253220352605,
            180.75297013410358,
            186.4032194331666,
            192.13328010071518,
            197.9431521367493,
            203.83283554126893,
            209.80233031427406,
            215.85163645576475,
            221.98075396574097,
            228.1896828442027,
            234.47842309114998,
            240.84697470658278,
            247.29533769050113,
            253.82351204290495,
            260.43149776379437,
            267.11929485316927,
            273.8869033110297,
            280.73432313737567,
            287.66155433220723,
            294.6685968955242,
            301.7554508273268,
            308.92211612761486,
            316.16859279638845,
            323.49488083364764,
            330.9009802393923,
            338.3868910136225,
            345.9526131563382,
            353.5981466675395,
            361.32349154722624,
            369.1286477953986,
            377.0136154120564,
            384.97839439719974
           ]
          }
         ]
        },
        {
         "data": [
          {
           "type": "scatter",
           "x": [
            1,
            2,
            3,
            4,
            5,
            6,
            7,
            8,
            9,
            10,
            11,
            12,
            13,
            14,
            15,
            16,
            17,
            18,
            19,
            20,
            21,
            22,
            23,
            24,
            25,
            26,
            27,
            28,
            29,
            30,
            31,
            32,
            33,
            34,
            35,
            36,
            37,
            38,
            39,
            40,
            41,
            42,
            43,
            44,
            45,
            46,
            47,
            48,
            49,
            50,
            51,
            52,
            53,
            54,
            55,
            56,
            57,
            58,
            59,
            60,
            61,
            62,
            63,
            64,
            65,
            66,
            67,
            68,
            69,
            70,
            71,
            72,
            73,
            74,
            75,
            76,
            77,
            78,
            79,
            80,
            81
           ],
           "y": [
            1.6596808747866256,
            3.39917311805878,
            5.218476729816462,
            7.117591710059673,
            9.096518058788412,
            11.155255776002681,
            13.293804861702476,
            15.5121653158878,
            17.810337138558655,
            20.188320329715033,
            22.646114889356944,
            25.183720817484385,
            27.801138114097352,
            30.49836677919584,
            33.27540681277986,
            36.132258214849415,
            39.0689209854045,
            42.08539512444511,
            45.18168063197125,
            48.35777750798291,
            51.6136857524801,
            54.94940536546282,
            58.364936346931074,
            61.860278696884855,
            65.43543241532416,
            69.090397502249,
            72.82517395765936,
            76.63976178155525,
            80.53416097393668,
            84.50837153480362,
            88.56239346415609,
            92.6962267619941,
            96.90987142831764,
            101.2033274631267,
            105.57659486642129,
            110.02967363820142,
            114.56256377846707,
            119.17526528721824,
            123.86777816445493,
            128.64010241017718,
            133.49223802438493,
            138.42418500707822,
            143.43594335825705,
            148.52751307792138,
            153.69889416607128,
            158.9500866227067,
            164.2810904478276,
            169.69190564143406,
            175.18253220352605,
            180.75297013410358,
            186.4032194331666,
            192.13328010071518,
            197.9431521367493,
            203.83283554126893,
            209.80233031427406,
            215.85163645576475,
            221.98075396574097,
            228.1896828442027,
            234.47842309114998,
            240.84697470658278,
            247.29533769050113,
            253.82351204290495,
            260.43149776379437,
            267.11929485316927,
            273.8869033110297,
            280.73432313737567,
            287.66155433220723,
            294.6685968955242,
            301.7554508273268,
            308.92211612761486,
            316.16859279638845,
            323.49488083364764,
            330.9009802393923,
            338.3868910136225,
            345.9526131563382,
            353.5981466675395,
            361.32349154722624,
            369.1286477953986,
            377.0136154120564,
            384.97839439719974,
            393.0229847508287
           ]
          }
         ]
        },
        {
         "data": [
          {
           "type": "scatter",
           "x": [
            1,
            2,
            3,
            4,
            5,
            6,
            7,
            8,
            9,
            10,
            11,
            12,
            13,
            14,
            15,
            16,
            17,
            18,
            19,
            20,
            21,
            22,
            23,
            24,
            25,
            26,
            27,
            28,
            29,
            30,
            31,
            32,
            33,
            34,
            35,
            36,
            37,
            38,
            39,
            40,
            41,
            42,
            43,
            44,
            45,
            46,
            47,
            48,
            49,
            50,
            51,
            52,
            53,
            54,
            55,
            56,
            57,
            58,
            59,
            60,
            61,
            62,
            63,
            64,
            65,
            66,
            67,
            68,
            69,
            70,
            71,
            72,
            73,
            74,
            75,
            76,
            77,
            78,
            79,
            80,
            81,
            82
           ],
           "y": [
            1.6596808747866256,
            3.39917311805878,
            5.218476729816462,
            7.117591710059673,
            9.096518058788412,
            11.155255776002681,
            13.293804861702476,
            15.5121653158878,
            17.810337138558655,
            20.188320329715033,
            22.646114889356944,
            25.183720817484385,
            27.801138114097352,
            30.49836677919584,
            33.27540681277986,
            36.132258214849415,
            39.0689209854045,
            42.08539512444511,
            45.18168063197125,
            48.35777750798291,
            51.6136857524801,
            54.94940536546282,
            58.364936346931074,
            61.860278696884855,
            65.43543241532416,
            69.090397502249,
            72.82517395765936,
            76.63976178155525,
            80.53416097393668,
            84.50837153480362,
            88.56239346415609,
            92.6962267619941,
            96.90987142831764,
            101.2033274631267,
            105.57659486642129,
            110.02967363820142,
            114.56256377846707,
            119.17526528721824,
            123.86777816445493,
            128.64010241017718,
            133.49223802438493,
            138.42418500707822,
            143.43594335825705,
            148.52751307792138,
            153.69889416607128,
            158.9500866227067,
            164.2810904478276,
            169.69190564143406,
            175.18253220352605,
            180.75297013410358,
            186.4032194331666,
            192.13328010071518,
            197.9431521367493,
            203.83283554126893,
            209.80233031427406,
            215.85163645576475,
            221.98075396574097,
            228.1896828442027,
            234.47842309114998,
            240.84697470658278,
            247.29533769050113,
            253.82351204290495,
            260.43149776379437,
            267.11929485316927,
            273.8869033110297,
            280.73432313737567,
            287.66155433220723,
            294.6685968955242,
            301.7554508273268,
            308.92211612761486,
            316.16859279638845,
            323.49488083364764,
            330.9009802393923,
            338.3868910136225,
            345.9526131563382,
            353.5981466675395,
            361.32349154722624,
            369.1286477953986,
            377.0136154120564,
            384.97839439719974,
            393.0229847508287,
            401.1473864729431
           ]
          }
         ]
        },
        {
         "data": [
          {
           "type": "scatter",
           "x": [
            1,
            2,
            3,
            4,
            5,
            6,
            7,
            8,
            9,
            10,
            11,
            12,
            13,
            14,
            15,
            16,
            17,
            18,
            19,
            20,
            21,
            22,
            23,
            24,
            25,
            26,
            27,
            28,
            29,
            30,
            31,
            32,
            33,
            34,
            35,
            36,
            37,
            38,
            39,
            40,
            41,
            42,
            43,
            44,
            45,
            46,
            47,
            48,
            49,
            50,
            51,
            52,
            53,
            54,
            55,
            56,
            57,
            58,
            59,
            60,
            61,
            62,
            63,
            64,
            65,
            66,
            67,
            68,
            69,
            70,
            71,
            72,
            73,
            74,
            75,
            76,
            77,
            78,
            79,
            80,
            81,
            82,
            83
           ],
           "y": [
            1.6596808747866256,
            3.39917311805878,
            5.218476729816462,
            7.117591710059673,
            9.096518058788412,
            11.155255776002681,
            13.293804861702476,
            15.5121653158878,
            17.810337138558655,
            20.188320329715033,
            22.646114889356944,
            25.183720817484385,
            27.801138114097352,
            30.49836677919584,
            33.27540681277986,
            36.132258214849415,
            39.0689209854045,
            42.08539512444511,
            45.18168063197125,
            48.35777750798291,
            51.6136857524801,
            54.94940536546282,
            58.364936346931074,
            61.860278696884855,
            65.43543241532416,
            69.090397502249,
            72.82517395765936,
            76.63976178155525,
            80.53416097393668,
            84.50837153480362,
            88.56239346415609,
            92.6962267619941,
            96.90987142831764,
            101.2033274631267,
            105.57659486642129,
            110.02967363820142,
            114.56256377846707,
            119.17526528721824,
            123.86777816445493,
            128.64010241017718,
            133.49223802438493,
            138.42418500707822,
            143.43594335825705,
            148.52751307792138,
            153.69889416607128,
            158.9500866227067,
            164.2810904478276,
            169.69190564143406,
            175.18253220352605,
            180.75297013410358,
            186.4032194331666,
            192.13328010071518,
            197.9431521367493,
            203.83283554126893,
            209.80233031427406,
            215.85163645576475,
            221.98075396574097,
            228.1896828442027,
            234.47842309114998,
            240.84697470658278,
            247.29533769050113,
            253.82351204290495,
            260.43149776379437,
            267.11929485316927,
            273.8869033110297,
            280.73432313737567,
            287.66155433220723,
            294.6685968955242,
            301.7554508273268,
            308.92211612761486,
            316.16859279638845,
            323.49488083364764,
            330.9009802393923,
            338.3868910136225,
            345.9526131563382,
            353.5981466675395,
            361.32349154722624,
            369.1286477953986,
            377.0136154120564,
            384.97839439719974,
            393.0229847508287,
            401.1473864729431,
            409.35159956354306
           ]
          }
         ]
        },
        {
         "data": [
          {
           "type": "scatter",
           "x": [
            1,
            2,
            3,
            4,
            5,
            6,
            7,
            8,
            9,
            10,
            11,
            12,
            13,
            14,
            15,
            16,
            17,
            18,
            19,
            20,
            21,
            22,
            23,
            24,
            25,
            26,
            27,
            28,
            29,
            30,
            31,
            32,
            33,
            34,
            35,
            36,
            37,
            38,
            39,
            40,
            41,
            42,
            43,
            44,
            45,
            46,
            47,
            48,
            49,
            50,
            51,
            52,
            53,
            54,
            55,
            56,
            57,
            58,
            59,
            60,
            61,
            62,
            63,
            64,
            65,
            66,
            67,
            68,
            69,
            70,
            71,
            72,
            73,
            74,
            75,
            76,
            77,
            78,
            79,
            80,
            81,
            82,
            83,
            84
           ],
           "y": [
            1.6596808747866256,
            3.39917311805878,
            5.218476729816462,
            7.117591710059673,
            9.096518058788412,
            11.155255776002681,
            13.293804861702476,
            15.5121653158878,
            17.810337138558655,
            20.188320329715033,
            22.646114889356944,
            25.183720817484385,
            27.801138114097352,
            30.49836677919584,
            33.27540681277986,
            36.132258214849415,
            39.0689209854045,
            42.08539512444511,
            45.18168063197125,
            48.35777750798291,
            51.6136857524801,
            54.94940536546282,
            58.364936346931074,
            61.860278696884855,
            65.43543241532416,
            69.090397502249,
            72.82517395765936,
            76.63976178155525,
            80.53416097393668,
            84.50837153480362,
            88.56239346415609,
            92.6962267619941,
            96.90987142831764,
            101.2033274631267,
            105.57659486642129,
            110.02967363820142,
            114.56256377846707,
            119.17526528721824,
            123.86777816445493,
            128.64010241017718,
            133.49223802438493,
            138.42418500707822,
            143.43594335825705,
            148.52751307792138,
            153.69889416607128,
            158.9500866227067,
            164.2810904478276,
            169.69190564143406,
            175.18253220352605,
            180.75297013410358,
            186.4032194331666,
            192.13328010071518,
            197.9431521367493,
            203.83283554126893,
            209.80233031427406,
            215.85163645576475,
            221.98075396574097,
            228.1896828442027,
            234.47842309114998,
            240.84697470658278,
            247.29533769050113,
            253.82351204290495,
            260.43149776379437,
            267.11929485316927,
            273.8869033110297,
            280.73432313737567,
            287.66155433220723,
            294.6685968955242,
            301.7554508273268,
            308.92211612761486,
            316.16859279638845,
            323.49488083364764,
            330.9009802393923,
            338.3868910136225,
            345.9526131563382,
            353.5981466675395,
            361.32349154722624,
            369.1286477953986,
            377.0136154120564,
            384.97839439719974,
            393.0229847508287,
            401.1473864729431,
            409.35159956354306,
            417.6356240226285
           ]
          }
         ]
        },
        {
         "data": [
          {
           "type": "scatter",
           "x": [
            1,
            2,
            3,
            4,
            5,
            6,
            7,
            8,
            9,
            10,
            11,
            12,
            13,
            14,
            15,
            16,
            17,
            18,
            19,
            20,
            21,
            22,
            23,
            24,
            25,
            26,
            27,
            28,
            29,
            30,
            31,
            32,
            33,
            34,
            35,
            36,
            37,
            38,
            39,
            40,
            41,
            42,
            43,
            44,
            45,
            46,
            47,
            48,
            49,
            50,
            51,
            52,
            53,
            54,
            55,
            56,
            57,
            58,
            59,
            60,
            61,
            62,
            63,
            64,
            65,
            66,
            67,
            68,
            69,
            70,
            71,
            72,
            73,
            74,
            75,
            76,
            77,
            78,
            79,
            80,
            81,
            82,
            83,
            84,
            85
           ],
           "y": [
            1.6596808747866256,
            3.39917311805878,
            5.218476729816462,
            7.117591710059673,
            9.096518058788412,
            11.155255776002681,
            13.293804861702476,
            15.5121653158878,
            17.810337138558655,
            20.188320329715033,
            22.646114889356944,
            25.183720817484385,
            27.801138114097352,
            30.49836677919584,
            33.27540681277986,
            36.132258214849415,
            39.0689209854045,
            42.08539512444511,
            45.18168063197125,
            48.35777750798291,
            51.6136857524801,
            54.94940536546282,
            58.364936346931074,
            61.860278696884855,
            65.43543241532416,
            69.090397502249,
            72.82517395765936,
            76.63976178155525,
            80.53416097393668,
            84.50837153480362,
            88.56239346415609,
            92.6962267619941,
            96.90987142831764,
            101.2033274631267,
            105.57659486642129,
            110.02967363820142,
            114.56256377846707,
            119.17526528721824,
            123.86777816445493,
            128.64010241017718,
            133.49223802438493,
            138.42418500707822,
            143.43594335825705,
            148.52751307792138,
            153.69889416607128,
            158.9500866227067,
            164.2810904478276,
            169.69190564143406,
            175.18253220352605,
            180.75297013410358,
            186.4032194331666,
            192.13328010071518,
            197.9431521367493,
            203.83283554126893,
            209.80233031427406,
            215.85163645576475,
            221.98075396574097,
            228.1896828442027,
            234.47842309114998,
            240.84697470658278,
            247.29533769050113,
            253.82351204290495,
            260.43149776379437,
            267.11929485316927,
            273.8869033110297,
            280.73432313737567,
            287.66155433220723,
            294.6685968955242,
            301.7554508273268,
            308.92211612761486,
            316.16859279638845,
            323.49488083364764,
            330.9009802393923,
            338.3868910136225,
            345.9526131563382,
            353.5981466675395,
            361.32349154722624,
            369.1286477953986,
            377.0136154120564,
            384.97839439719974,
            393.0229847508287,
            401.1473864729431,
            409.35159956354306,
            417.6356240226285,
            425.9994598501995
           ]
          }
         ]
        },
        {
         "data": [
          {
           "type": "scatter",
           "x": [
            1,
            2,
            3,
            4,
            5,
            6,
            7,
            8,
            9,
            10,
            11,
            12,
            13,
            14,
            15,
            16,
            17,
            18,
            19,
            20,
            21,
            22,
            23,
            24,
            25,
            26,
            27,
            28,
            29,
            30,
            31,
            32,
            33,
            34,
            35,
            36,
            37,
            38,
            39,
            40,
            41,
            42,
            43,
            44,
            45,
            46,
            47,
            48,
            49,
            50,
            51,
            52,
            53,
            54,
            55,
            56,
            57,
            58,
            59,
            60,
            61,
            62,
            63,
            64,
            65,
            66,
            67,
            68,
            69,
            70,
            71,
            72,
            73,
            74,
            75,
            76,
            77,
            78,
            79,
            80,
            81,
            82,
            83,
            84,
            85,
            86
           ],
           "y": [
            1.6596808747866256,
            3.39917311805878,
            5.218476729816462,
            7.117591710059673,
            9.096518058788412,
            11.155255776002681,
            13.293804861702476,
            15.5121653158878,
            17.810337138558655,
            20.188320329715033,
            22.646114889356944,
            25.183720817484385,
            27.801138114097352,
            30.49836677919584,
            33.27540681277986,
            36.132258214849415,
            39.0689209854045,
            42.08539512444511,
            45.18168063197125,
            48.35777750798291,
            51.6136857524801,
            54.94940536546282,
            58.364936346931074,
            61.860278696884855,
            65.43543241532416,
            69.090397502249,
            72.82517395765936,
            76.63976178155525,
            80.53416097393668,
            84.50837153480362,
            88.56239346415609,
            92.6962267619941,
            96.90987142831764,
            101.2033274631267,
            105.57659486642129,
            110.02967363820142,
            114.56256377846707,
            119.17526528721824,
            123.86777816445493,
            128.64010241017718,
            133.49223802438493,
            138.42418500707822,
            143.43594335825705,
            148.52751307792138,
            153.69889416607128,
            158.9500866227067,
            164.2810904478276,
            169.69190564143406,
            175.18253220352605,
            180.75297013410358,
            186.4032194331666,
            192.13328010071518,
            197.9431521367493,
            203.83283554126893,
            209.80233031427406,
            215.85163645576475,
            221.98075396574097,
            228.1896828442027,
            234.47842309114998,
            240.84697470658278,
            247.29533769050113,
            253.82351204290495,
            260.43149776379437,
            267.11929485316927,
            273.8869033110297,
            280.73432313737567,
            287.66155433220723,
            294.6685968955242,
            301.7554508273268,
            308.92211612761486,
            316.16859279638845,
            323.49488083364764,
            330.9009802393923,
            338.3868910136225,
            345.9526131563382,
            353.5981466675395,
            361.32349154722624,
            369.1286477953986,
            377.0136154120564,
            384.97839439719974,
            393.0229847508287,
            401.1473864729431,
            409.35159956354306,
            417.6356240226285,
            425.9994598501995,
            434.4431070462561
           ]
          }
         ]
        },
        {
         "data": [
          {
           "type": "scatter",
           "x": [
            1,
            2,
            3,
            4,
            5,
            6,
            7,
            8,
            9,
            10,
            11,
            12,
            13,
            14,
            15,
            16,
            17,
            18,
            19,
            20,
            21,
            22,
            23,
            24,
            25,
            26,
            27,
            28,
            29,
            30,
            31,
            32,
            33,
            34,
            35,
            36,
            37,
            38,
            39,
            40,
            41,
            42,
            43,
            44,
            45,
            46,
            47,
            48,
            49,
            50,
            51,
            52,
            53,
            54,
            55,
            56,
            57,
            58,
            59,
            60,
            61,
            62,
            63,
            64,
            65,
            66,
            67,
            68,
            69,
            70,
            71,
            72,
            73,
            74,
            75,
            76,
            77,
            78,
            79,
            80,
            81,
            82,
            83,
            84,
            85,
            86,
            87
           ],
           "y": [
            1.6596808747866256,
            3.39917311805878,
            5.218476729816462,
            7.117591710059673,
            9.096518058788412,
            11.155255776002681,
            13.293804861702476,
            15.5121653158878,
            17.810337138558655,
            20.188320329715033,
            22.646114889356944,
            25.183720817484385,
            27.801138114097352,
            30.49836677919584,
            33.27540681277986,
            36.132258214849415,
            39.0689209854045,
            42.08539512444511,
            45.18168063197125,
            48.35777750798291,
            51.6136857524801,
            54.94940536546282,
            58.364936346931074,
            61.860278696884855,
            65.43543241532416,
            69.090397502249,
            72.82517395765936,
            76.63976178155525,
            80.53416097393668,
            84.50837153480362,
            88.56239346415609,
            92.6962267619941,
            96.90987142831764,
            101.2033274631267,
            105.57659486642129,
            110.02967363820142,
            114.56256377846707,
            119.17526528721824,
            123.86777816445493,
            128.64010241017718,
            133.49223802438493,
            138.42418500707822,
            143.43594335825705,
            148.52751307792138,
            153.69889416607128,
            158.9500866227067,
            164.2810904478276,
            169.69190564143406,
            175.18253220352605,
            180.75297013410358,
            186.4032194331666,
            192.13328010071518,
            197.9431521367493,
            203.83283554126893,
            209.80233031427406,
            215.85163645576475,
            221.98075396574097,
            228.1896828442027,
            234.47842309114998,
            240.84697470658278,
            247.29533769050113,
            253.82351204290495,
            260.43149776379437,
            267.11929485316927,
            273.8869033110297,
            280.73432313737567,
            287.66155433220723,
            294.6685968955242,
            301.7554508273268,
            308.92211612761486,
            316.16859279638845,
            323.49488083364764,
            330.9009802393923,
            338.3868910136225,
            345.9526131563382,
            353.5981466675395,
            361.32349154722624,
            369.1286477953986,
            377.0136154120564,
            384.97839439719974,
            393.0229847508287,
            401.1473864729431,
            409.35159956354306,
            417.6356240226285,
            425.9994598501995,
            434.4431070462561,
            442.9665656107981
           ]
          }
         ]
        },
        {
         "data": [
          {
           "type": "scatter",
           "x": [
            1,
            2,
            3,
            4,
            5,
            6,
            7,
            8,
            9,
            10,
            11,
            12,
            13,
            14,
            15,
            16,
            17,
            18,
            19,
            20,
            21,
            22,
            23,
            24,
            25,
            26,
            27,
            28,
            29,
            30,
            31,
            32,
            33,
            34,
            35,
            36,
            37,
            38,
            39,
            40,
            41,
            42,
            43,
            44,
            45,
            46,
            47,
            48,
            49,
            50,
            51,
            52,
            53,
            54,
            55,
            56,
            57,
            58,
            59,
            60,
            61,
            62,
            63,
            64,
            65,
            66,
            67,
            68,
            69,
            70,
            71,
            72,
            73,
            74,
            75,
            76,
            77,
            78,
            79,
            80,
            81,
            82,
            83,
            84,
            85,
            86,
            87,
            88
           ],
           "y": [
            1.6596808747866256,
            3.39917311805878,
            5.218476729816462,
            7.117591710059673,
            9.096518058788412,
            11.155255776002681,
            13.293804861702476,
            15.5121653158878,
            17.810337138558655,
            20.188320329715033,
            22.646114889356944,
            25.183720817484385,
            27.801138114097352,
            30.49836677919584,
            33.27540681277986,
            36.132258214849415,
            39.0689209854045,
            42.08539512444511,
            45.18168063197125,
            48.35777750798291,
            51.6136857524801,
            54.94940536546282,
            58.364936346931074,
            61.860278696884855,
            65.43543241532416,
            69.090397502249,
            72.82517395765936,
            76.63976178155525,
            80.53416097393668,
            84.50837153480362,
            88.56239346415609,
            92.6962267619941,
            96.90987142831764,
            101.2033274631267,
            105.57659486642129,
            110.02967363820142,
            114.56256377846707,
            119.17526528721824,
            123.86777816445493,
            128.64010241017718,
            133.49223802438493,
            138.42418500707822,
            143.43594335825705,
            148.52751307792138,
            153.69889416607128,
            158.9500866227067,
            164.2810904478276,
            169.69190564143406,
            175.18253220352605,
            180.75297013410358,
            186.4032194331666,
            192.13328010071518,
            197.9431521367493,
            203.83283554126893,
            209.80233031427406,
            215.85163645576475,
            221.98075396574097,
            228.1896828442027,
            234.47842309114998,
            240.84697470658278,
            247.29533769050113,
            253.82351204290495,
            260.43149776379437,
            267.11929485316927,
            273.8869033110297,
            280.73432313737567,
            287.66155433220723,
            294.6685968955242,
            301.7554508273268,
            308.92211612761486,
            316.16859279638845,
            323.49488083364764,
            330.9009802393923,
            338.3868910136225,
            345.9526131563382,
            353.5981466675395,
            361.32349154722624,
            369.1286477953986,
            377.0136154120564,
            384.97839439719974,
            393.0229847508287,
            401.1473864729431,
            409.35159956354306,
            417.6356240226285,
            425.9994598501995,
            434.4431070462561,
            442.9665656107981,
            451.5698355438257
           ]
          }
         ]
        },
        {
         "data": [
          {
           "type": "scatter",
           "x": [
            1,
            2,
            3,
            4,
            5,
            6,
            7,
            8,
            9,
            10,
            11,
            12,
            13,
            14,
            15,
            16,
            17,
            18,
            19,
            20,
            21,
            22,
            23,
            24,
            25,
            26,
            27,
            28,
            29,
            30,
            31,
            32,
            33,
            34,
            35,
            36,
            37,
            38,
            39,
            40,
            41,
            42,
            43,
            44,
            45,
            46,
            47,
            48,
            49,
            50,
            51,
            52,
            53,
            54,
            55,
            56,
            57,
            58,
            59,
            60,
            61,
            62,
            63,
            64,
            65,
            66,
            67,
            68,
            69,
            70,
            71,
            72,
            73,
            74,
            75,
            76,
            77,
            78,
            79,
            80,
            81,
            82,
            83,
            84,
            85,
            86,
            87,
            88,
            89
           ],
           "y": [
            1.6596808747866256,
            3.39917311805878,
            5.218476729816462,
            7.117591710059673,
            9.096518058788412,
            11.155255776002681,
            13.293804861702476,
            15.5121653158878,
            17.810337138558655,
            20.188320329715033,
            22.646114889356944,
            25.183720817484385,
            27.801138114097352,
            30.49836677919584,
            33.27540681277986,
            36.132258214849415,
            39.0689209854045,
            42.08539512444511,
            45.18168063197125,
            48.35777750798291,
            51.6136857524801,
            54.94940536546282,
            58.364936346931074,
            61.860278696884855,
            65.43543241532416,
            69.090397502249,
            72.82517395765936,
            76.63976178155525,
            80.53416097393668,
            84.50837153480362,
            88.56239346415609,
            92.6962267619941,
            96.90987142831764,
            101.2033274631267,
            105.57659486642129,
            110.02967363820142,
            114.56256377846707,
            119.17526528721824,
            123.86777816445493,
            128.64010241017718,
            133.49223802438493,
            138.42418500707822,
            143.43594335825705,
            148.52751307792138,
            153.69889416607128,
            158.9500866227067,
            164.2810904478276,
            169.69190564143406,
            175.18253220352605,
            180.75297013410358,
            186.4032194331666,
            192.13328010071518,
            197.9431521367493,
            203.83283554126893,
            209.80233031427406,
            215.85163645576475,
            221.98075396574097,
            228.1896828442027,
            234.47842309114998,
            240.84697470658278,
            247.29533769050113,
            253.82351204290495,
            260.43149776379437,
            267.11929485316927,
            273.8869033110297,
            280.73432313737567,
            287.66155433220723,
            294.6685968955242,
            301.7554508273268,
            308.92211612761486,
            316.16859279638845,
            323.49488083364764,
            330.9009802393923,
            338.3868910136225,
            345.9526131563382,
            353.5981466675395,
            361.32349154722624,
            369.1286477953986,
            377.0136154120564,
            384.97839439719974,
            393.0229847508287,
            401.1473864729431,
            409.35159956354306,
            417.6356240226285,
            425.9994598501995,
            434.4431070462561,
            442.9665656107981,
            451.5698355438257,
            460.2529168453389
           ]
          }
         ]
        },
        {
         "data": [
          {
           "type": "scatter",
           "x": [
            1,
            2,
            3,
            4,
            5,
            6,
            7,
            8,
            9,
            10,
            11,
            12,
            13,
            14,
            15,
            16,
            17,
            18,
            19,
            20,
            21,
            22,
            23,
            24,
            25,
            26,
            27,
            28,
            29,
            30,
            31,
            32,
            33,
            34,
            35,
            36,
            37,
            38,
            39,
            40,
            41,
            42,
            43,
            44,
            45,
            46,
            47,
            48,
            49,
            50,
            51,
            52,
            53,
            54,
            55,
            56,
            57,
            58,
            59,
            60,
            61,
            62,
            63,
            64,
            65,
            66,
            67,
            68,
            69,
            70,
            71,
            72,
            73,
            74,
            75,
            76,
            77,
            78,
            79,
            80,
            81,
            82,
            83,
            84,
            85,
            86,
            87,
            88,
            89,
            90
           ],
           "y": [
            1.6596808747866256,
            3.39917311805878,
            5.218476729816462,
            7.117591710059673,
            9.096518058788412,
            11.155255776002681,
            13.293804861702476,
            15.5121653158878,
            17.810337138558655,
            20.188320329715033,
            22.646114889356944,
            25.183720817484385,
            27.801138114097352,
            30.49836677919584,
            33.27540681277986,
            36.132258214849415,
            39.0689209854045,
            42.08539512444511,
            45.18168063197125,
            48.35777750798291,
            51.6136857524801,
            54.94940536546282,
            58.364936346931074,
            61.860278696884855,
            65.43543241532416,
            69.090397502249,
            72.82517395765936,
            76.63976178155525,
            80.53416097393668,
            84.50837153480362,
            88.56239346415609,
            92.6962267619941,
            96.90987142831764,
            101.2033274631267,
            105.57659486642129,
            110.02967363820142,
            114.56256377846707,
            119.17526528721824,
            123.86777816445493,
            128.64010241017718,
            133.49223802438493,
            138.42418500707822,
            143.43594335825705,
            148.52751307792138,
            153.69889416607128,
            158.9500866227067,
            164.2810904478276,
            169.69190564143406,
            175.18253220352605,
            180.75297013410358,
            186.4032194331666,
            192.13328010071518,
            197.9431521367493,
            203.83283554126893,
            209.80233031427406,
            215.85163645576475,
            221.98075396574097,
            228.1896828442027,
            234.47842309114998,
            240.84697470658278,
            247.29533769050113,
            253.82351204290495,
            260.43149776379437,
            267.11929485316927,
            273.8869033110297,
            280.73432313737567,
            287.66155433220723,
            294.6685968955242,
            301.7554508273268,
            308.92211612761486,
            316.16859279638845,
            323.49488083364764,
            330.9009802393923,
            338.3868910136225,
            345.9526131563382,
            353.5981466675395,
            361.32349154722624,
            369.1286477953986,
            377.0136154120564,
            384.97839439719974,
            393.0229847508287,
            401.1473864729431,
            409.35159956354306,
            417.6356240226285,
            425.9994598501995,
            434.4431070462561,
            442.9665656107981,
            451.5698355438257,
            460.2529168453389,
            469.01580951533754
           ]
          }
         ]
        },
        {
         "data": [
          {
           "type": "scatter",
           "x": [
            1,
            2,
            3,
            4,
            5,
            6,
            7,
            8,
            9,
            10,
            11,
            12,
            13,
            14,
            15,
            16,
            17,
            18,
            19,
            20,
            21,
            22,
            23,
            24,
            25,
            26,
            27,
            28,
            29,
            30,
            31,
            32,
            33,
            34,
            35,
            36,
            37,
            38,
            39,
            40,
            41,
            42,
            43,
            44,
            45,
            46,
            47,
            48,
            49,
            50,
            51,
            52,
            53,
            54,
            55,
            56,
            57,
            58,
            59,
            60,
            61,
            62,
            63,
            64,
            65,
            66,
            67,
            68,
            69,
            70,
            71,
            72,
            73,
            74,
            75,
            76,
            77,
            78,
            79,
            80,
            81,
            82,
            83,
            84,
            85,
            86,
            87,
            88,
            89,
            90,
            91
           ],
           "y": [
            1.6596808747866256,
            3.39917311805878,
            5.218476729816462,
            7.117591710059673,
            9.096518058788412,
            11.155255776002681,
            13.293804861702476,
            15.5121653158878,
            17.810337138558655,
            20.188320329715033,
            22.646114889356944,
            25.183720817484385,
            27.801138114097352,
            30.49836677919584,
            33.27540681277986,
            36.132258214849415,
            39.0689209854045,
            42.08539512444511,
            45.18168063197125,
            48.35777750798291,
            51.6136857524801,
            54.94940536546282,
            58.364936346931074,
            61.860278696884855,
            65.43543241532416,
            69.090397502249,
            72.82517395765936,
            76.63976178155525,
            80.53416097393668,
            84.50837153480362,
            88.56239346415609,
            92.6962267619941,
            96.90987142831764,
            101.2033274631267,
            105.57659486642129,
            110.02967363820142,
            114.56256377846707,
            119.17526528721824,
            123.86777816445493,
            128.64010241017718,
            133.49223802438493,
            138.42418500707822,
            143.43594335825705,
            148.52751307792138,
            153.69889416607128,
            158.9500866227067,
            164.2810904478276,
            169.69190564143406,
            175.18253220352605,
            180.75297013410358,
            186.4032194331666,
            192.13328010071518,
            197.9431521367493,
            203.83283554126893,
            209.80233031427406,
            215.85163645576475,
            221.98075396574097,
            228.1896828442027,
            234.47842309114998,
            240.84697470658278,
            247.29533769050113,
            253.82351204290495,
            260.43149776379437,
            267.11929485316927,
            273.8869033110297,
            280.73432313737567,
            287.66155433220723,
            294.6685968955242,
            301.7554508273268,
            308.92211612761486,
            316.16859279638845,
            323.49488083364764,
            330.9009802393923,
            338.3868910136225,
            345.9526131563382,
            353.5981466675395,
            361.32349154722624,
            369.1286477953986,
            377.0136154120564,
            384.97839439719974,
            393.0229847508287,
            401.1473864729431,
            409.35159956354306,
            417.6356240226285,
            425.9994598501995,
            434.4431070462561,
            442.9665656107981,
            451.5698355438257,
            460.2529168453389,
            469.01580951533754,
            477.8585135538217
           ]
          }
         ]
        },
        {
         "data": [
          {
           "type": "scatter",
           "x": [
            1,
            2,
            3,
            4,
            5,
            6,
            7,
            8,
            9,
            10,
            11,
            12,
            13,
            14,
            15,
            16,
            17,
            18,
            19,
            20,
            21,
            22,
            23,
            24,
            25,
            26,
            27,
            28,
            29,
            30,
            31,
            32,
            33,
            34,
            35,
            36,
            37,
            38,
            39,
            40,
            41,
            42,
            43,
            44,
            45,
            46,
            47,
            48,
            49,
            50,
            51,
            52,
            53,
            54,
            55,
            56,
            57,
            58,
            59,
            60,
            61,
            62,
            63,
            64,
            65,
            66,
            67,
            68,
            69,
            70,
            71,
            72,
            73,
            74,
            75,
            76,
            77,
            78,
            79,
            80,
            81,
            82,
            83,
            84,
            85,
            86,
            87,
            88,
            89,
            90,
            91,
            92
           ],
           "y": [
            1.6596808747866256,
            3.39917311805878,
            5.218476729816462,
            7.117591710059673,
            9.096518058788412,
            11.155255776002681,
            13.293804861702476,
            15.5121653158878,
            17.810337138558655,
            20.188320329715033,
            22.646114889356944,
            25.183720817484385,
            27.801138114097352,
            30.49836677919584,
            33.27540681277986,
            36.132258214849415,
            39.0689209854045,
            42.08539512444511,
            45.18168063197125,
            48.35777750798291,
            51.6136857524801,
            54.94940536546282,
            58.364936346931074,
            61.860278696884855,
            65.43543241532416,
            69.090397502249,
            72.82517395765936,
            76.63976178155525,
            80.53416097393668,
            84.50837153480362,
            88.56239346415609,
            92.6962267619941,
            96.90987142831764,
            101.2033274631267,
            105.57659486642129,
            110.02967363820142,
            114.56256377846707,
            119.17526528721824,
            123.86777816445493,
            128.64010241017718,
            133.49223802438493,
            138.42418500707822,
            143.43594335825705,
            148.52751307792138,
            153.69889416607128,
            158.9500866227067,
            164.2810904478276,
            169.69190564143406,
            175.18253220352605,
            180.75297013410358,
            186.4032194331666,
            192.13328010071518,
            197.9431521367493,
            203.83283554126893,
            209.80233031427406,
            215.85163645576475,
            221.98075396574097,
            228.1896828442027,
            234.47842309114998,
            240.84697470658278,
            247.29533769050113,
            253.82351204290495,
            260.43149776379437,
            267.11929485316927,
            273.8869033110297,
            280.73432313737567,
            287.66155433220723,
            294.6685968955242,
            301.7554508273268,
            308.92211612761486,
            316.16859279638845,
            323.49488083364764,
            330.9009802393923,
            338.3868910136225,
            345.9526131563382,
            353.5981466675395,
            361.32349154722624,
            369.1286477953986,
            377.0136154120564,
            384.97839439719974,
            393.0229847508287,
            401.1473864729431,
            409.35159956354306,
            417.6356240226285,
            425.9994598501995,
            434.4431070462561,
            442.9665656107981,
            451.5698355438257,
            460.2529168453389,
            469.01580951533754,
            477.8585135538217,
            486.78102896079145
           ]
          }
         ]
        },
        {
         "data": [
          {
           "type": "scatter",
           "x": [
            1,
            2,
            3,
            4,
            5,
            6,
            7,
            8,
            9,
            10,
            11,
            12,
            13,
            14,
            15,
            16,
            17,
            18,
            19,
            20,
            21,
            22,
            23,
            24,
            25,
            26,
            27,
            28,
            29,
            30,
            31,
            32,
            33,
            34,
            35,
            36,
            37,
            38,
            39,
            40,
            41,
            42,
            43,
            44,
            45,
            46,
            47,
            48,
            49,
            50,
            51,
            52,
            53,
            54,
            55,
            56,
            57,
            58,
            59,
            60,
            61,
            62,
            63,
            64,
            65,
            66,
            67,
            68,
            69,
            70,
            71,
            72,
            73,
            74,
            75,
            76,
            77,
            78,
            79,
            80,
            81,
            82,
            83,
            84,
            85,
            86,
            87,
            88,
            89,
            90,
            91,
            92,
            93
           ],
           "y": [
            1.6596808747866256,
            3.39917311805878,
            5.218476729816462,
            7.117591710059673,
            9.096518058788412,
            11.155255776002681,
            13.293804861702476,
            15.5121653158878,
            17.810337138558655,
            20.188320329715033,
            22.646114889356944,
            25.183720817484385,
            27.801138114097352,
            30.49836677919584,
            33.27540681277986,
            36.132258214849415,
            39.0689209854045,
            42.08539512444511,
            45.18168063197125,
            48.35777750798291,
            51.6136857524801,
            54.94940536546282,
            58.364936346931074,
            61.860278696884855,
            65.43543241532416,
            69.090397502249,
            72.82517395765936,
            76.63976178155525,
            80.53416097393668,
            84.50837153480362,
            88.56239346415609,
            92.6962267619941,
            96.90987142831764,
            101.2033274631267,
            105.57659486642129,
            110.02967363820142,
            114.56256377846707,
            119.17526528721824,
            123.86777816445493,
            128.64010241017718,
            133.49223802438493,
            138.42418500707822,
            143.43594335825705,
            148.52751307792138,
            153.69889416607128,
            158.9500866227067,
            164.2810904478276,
            169.69190564143406,
            175.18253220352605,
            180.75297013410358,
            186.4032194331666,
            192.13328010071518,
            197.9431521367493,
            203.83283554126893,
            209.80233031427406,
            215.85163645576475,
            221.98075396574097,
            228.1896828442027,
            234.47842309114998,
            240.84697470658278,
            247.29533769050113,
            253.82351204290495,
            260.43149776379437,
            267.11929485316927,
            273.8869033110297,
            280.73432313737567,
            287.66155433220723,
            294.6685968955242,
            301.7554508273268,
            308.92211612761486,
            316.16859279638845,
            323.49488083364764,
            330.9009802393923,
            338.3868910136225,
            345.9526131563382,
            353.5981466675395,
            361.32349154722624,
            369.1286477953986,
            377.0136154120564,
            384.97839439719974,
            393.0229847508287,
            401.1473864729431,
            409.35159956354306,
            417.6356240226285,
            425.9994598501995,
            434.4431070462561,
            442.9665656107981,
            451.5698355438257,
            460.2529168453389,
            469.01580951533754,
            477.8585135538217,
            486.78102896079145,
            495.7833557362467
           ]
          }
         ]
        },
        {
         "data": [
          {
           "type": "scatter",
           "x": [
            1,
            2,
            3,
            4,
            5,
            6,
            7,
            8,
            9,
            10,
            11,
            12,
            13,
            14,
            15,
            16,
            17,
            18,
            19,
            20,
            21,
            22,
            23,
            24,
            25,
            26,
            27,
            28,
            29,
            30,
            31,
            32,
            33,
            34,
            35,
            36,
            37,
            38,
            39,
            40,
            41,
            42,
            43,
            44,
            45,
            46,
            47,
            48,
            49,
            50,
            51,
            52,
            53,
            54,
            55,
            56,
            57,
            58,
            59,
            60,
            61,
            62,
            63,
            64,
            65,
            66,
            67,
            68,
            69,
            70,
            71,
            72,
            73,
            74,
            75,
            76,
            77,
            78,
            79,
            80,
            81,
            82,
            83,
            84,
            85,
            86,
            87,
            88,
            89,
            90,
            91,
            92,
            93,
            94
           ],
           "y": [
            1.6596808747866256,
            3.39917311805878,
            5.218476729816462,
            7.117591710059673,
            9.096518058788412,
            11.155255776002681,
            13.293804861702476,
            15.5121653158878,
            17.810337138558655,
            20.188320329715033,
            22.646114889356944,
            25.183720817484385,
            27.801138114097352,
            30.49836677919584,
            33.27540681277986,
            36.132258214849415,
            39.0689209854045,
            42.08539512444511,
            45.18168063197125,
            48.35777750798291,
            51.6136857524801,
            54.94940536546282,
            58.364936346931074,
            61.860278696884855,
            65.43543241532416,
            69.090397502249,
            72.82517395765936,
            76.63976178155525,
            80.53416097393668,
            84.50837153480362,
            88.56239346415609,
            92.6962267619941,
            96.90987142831764,
            101.2033274631267,
            105.57659486642129,
            110.02967363820142,
            114.56256377846707,
            119.17526528721824,
            123.86777816445493,
            128.64010241017718,
            133.49223802438493,
            138.42418500707822,
            143.43594335825705,
            148.52751307792138,
            153.69889416607128,
            158.9500866227067,
            164.2810904478276,
            169.69190564143406,
            175.18253220352605,
            180.75297013410358,
            186.4032194331666,
            192.13328010071518,
            197.9431521367493,
            203.83283554126893,
            209.80233031427406,
            215.85163645576475,
            221.98075396574097,
            228.1896828442027,
            234.47842309114998,
            240.84697470658278,
            247.29533769050113,
            253.82351204290495,
            260.43149776379437,
            267.11929485316927,
            273.8869033110297,
            280.73432313737567,
            287.66155433220723,
            294.6685968955242,
            301.7554508273268,
            308.92211612761486,
            316.16859279638845,
            323.49488083364764,
            330.9009802393923,
            338.3868910136225,
            345.9526131563382,
            353.5981466675395,
            361.32349154722624,
            369.1286477953986,
            377.0136154120564,
            384.97839439719974,
            393.0229847508287,
            401.1473864729431,
            409.35159956354306,
            417.6356240226285,
            425.9994598501995,
            434.4431070462561,
            442.9665656107981,
            451.5698355438257,
            460.2529168453389,
            469.01580951533754,
            477.8585135538217,
            486.78102896079145,
            495.7833557362467,
            504.86549388018744
           ]
          }
         ]
        },
        {
         "data": [
          {
           "type": "scatter",
           "x": [
            1,
            2,
            3,
            4,
            5,
            6,
            7,
            8,
            9,
            10,
            11,
            12,
            13,
            14,
            15,
            16,
            17,
            18,
            19,
            20,
            21,
            22,
            23,
            24,
            25,
            26,
            27,
            28,
            29,
            30,
            31,
            32,
            33,
            34,
            35,
            36,
            37,
            38,
            39,
            40,
            41,
            42,
            43,
            44,
            45,
            46,
            47,
            48,
            49,
            50,
            51,
            52,
            53,
            54,
            55,
            56,
            57,
            58,
            59,
            60,
            61,
            62,
            63,
            64,
            65,
            66,
            67,
            68,
            69,
            70,
            71,
            72,
            73,
            74,
            75,
            76,
            77,
            78,
            79,
            80,
            81,
            82,
            83,
            84,
            85,
            86,
            87,
            88,
            89,
            90,
            91,
            92,
            93,
            94,
            95
           ],
           "y": [
            1.6596808747866256,
            3.39917311805878,
            5.218476729816462,
            7.117591710059673,
            9.096518058788412,
            11.155255776002681,
            13.293804861702476,
            15.5121653158878,
            17.810337138558655,
            20.188320329715033,
            22.646114889356944,
            25.183720817484385,
            27.801138114097352,
            30.49836677919584,
            33.27540681277986,
            36.132258214849415,
            39.0689209854045,
            42.08539512444511,
            45.18168063197125,
            48.35777750798291,
            51.6136857524801,
            54.94940536546282,
            58.364936346931074,
            61.860278696884855,
            65.43543241532416,
            69.090397502249,
            72.82517395765936,
            76.63976178155525,
            80.53416097393668,
            84.50837153480362,
            88.56239346415609,
            92.6962267619941,
            96.90987142831764,
            101.2033274631267,
            105.57659486642129,
            110.02967363820142,
            114.56256377846707,
            119.17526528721824,
            123.86777816445493,
            128.64010241017718,
            133.49223802438493,
            138.42418500707822,
            143.43594335825705,
            148.52751307792138,
            153.69889416607128,
            158.9500866227067,
            164.2810904478276,
            169.69190564143406,
            175.18253220352605,
            180.75297013410358,
            186.4032194331666,
            192.13328010071518,
            197.9431521367493,
            203.83283554126893,
            209.80233031427406,
            215.85163645576475,
            221.98075396574097,
            228.1896828442027,
            234.47842309114998,
            240.84697470658278,
            247.29533769050113,
            253.82351204290495,
            260.43149776379437,
            267.11929485316927,
            273.8869033110297,
            280.73432313737567,
            287.66155433220723,
            294.6685968955242,
            301.7554508273268,
            308.92211612761486,
            316.16859279638845,
            323.49488083364764,
            330.9009802393923,
            338.3868910136225,
            345.9526131563382,
            353.5981466675395,
            361.32349154722624,
            369.1286477953986,
            377.0136154120564,
            384.97839439719974,
            393.0229847508287,
            401.1473864729431,
            409.35159956354306,
            417.6356240226285,
            425.9994598501995,
            434.4431070462561,
            442.9665656107981,
            451.5698355438257,
            460.2529168453389,
            469.01580951533754,
            477.8585135538217,
            486.78102896079145,
            495.7833557362467,
            504.86549388018744,
            514.0274433926137
           ]
          }
         ]
        },
        {
         "data": [
          {
           "type": "scatter",
           "x": [
            1,
            2,
            3,
            4,
            5,
            6,
            7,
            8,
            9,
            10,
            11,
            12,
            13,
            14,
            15,
            16,
            17,
            18,
            19,
            20,
            21,
            22,
            23,
            24,
            25,
            26,
            27,
            28,
            29,
            30,
            31,
            32,
            33,
            34,
            35,
            36,
            37,
            38,
            39,
            40,
            41,
            42,
            43,
            44,
            45,
            46,
            47,
            48,
            49,
            50,
            51,
            52,
            53,
            54,
            55,
            56,
            57,
            58,
            59,
            60,
            61,
            62,
            63,
            64,
            65,
            66,
            67,
            68,
            69,
            70,
            71,
            72,
            73,
            74,
            75,
            76,
            77,
            78,
            79,
            80,
            81,
            82,
            83,
            84,
            85,
            86,
            87,
            88,
            89,
            90,
            91,
            92,
            93,
            94,
            95,
            96
           ],
           "y": [
            1.6596808747866256,
            3.39917311805878,
            5.218476729816462,
            7.117591710059673,
            9.096518058788412,
            11.155255776002681,
            13.293804861702476,
            15.5121653158878,
            17.810337138558655,
            20.188320329715033,
            22.646114889356944,
            25.183720817484385,
            27.801138114097352,
            30.49836677919584,
            33.27540681277986,
            36.132258214849415,
            39.0689209854045,
            42.08539512444511,
            45.18168063197125,
            48.35777750798291,
            51.6136857524801,
            54.94940536546282,
            58.364936346931074,
            61.860278696884855,
            65.43543241532416,
            69.090397502249,
            72.82517395765936,
            76.63976178155525,
            80.53416097393668,
            84.50837153480362,
            88.56239346415609,
            92.6962267619941,
            96.90987142831764,
            101.2033274631267,
            105.57659486642129,
            110.02967363820142,
            114.56256377846707,
            119.17526528721824,
            123.86777816445493,
            128.64010241017718,
            133.49223802438493,
            138.42418500707822,
            143.43594335825705,
            148.52751307792138,
            153.69889416607128,
            158.9500866227067,
            164.2810904478276,
            169.69190564143406,
            175.18253220352605,
            180.75297013410358,
            186.4032194331666,
            192.13328010071518,
            197.9431521367493,
            203.83283554126893,
            209.80233031427406,
            215.85163645576475,
            221.98075396574097,
            228.1896828442027,
            234.47842309114998,
            240.84697470658278,
            247.29533769050113,
            253.82351204290495,
            260.43149776379437,
            267.11929485316927,
            273.8869033110297,
            280.73432313737567,
            287.66155433220723,
            294.6685968955242,
            301.7554508273268,
            308.92211612761486,
            316.16859279638845,
            323.49488083364764,
            330.9009802393923,
            338.3868910136225,
            345.9526131563382,
            353.5981466675395,
            361.32349154722624,
            369.1286477953986,
            377.0136154120564,
            384.97839439719974,
            393.0229847508287,
            401.1473864729431,
            409.35159956354306,
            417.6356240226285,
            425.9994598501995,
            434.4431070462561,
            442.9665656107981,
            451.5698355438257,
            460.2529168453389,
            469.01580951533754,
            477.8585135538217,
            486.78102896079145,
            495.7833557362467,
            504.86549388018744,
            514.0274433926137,
            523.2692042735255
           ]
          }
         ]
        },
        {
         "data": [
          {
           "type": "scatter",
           "x": [
            1,
            2,
            3,
            4,
            5,
            6,
            7,
            8,
            9,
            10,
            11,
            12,
            13,
            14,
            15,
            16,
            17,
            18,
            19,
            20,
            21,
            22,
            23,
            24,
            25,
            26,
            27,
            28,
            29,
            30,
            31,
            32,
            33,
            34,
            35,
            36,
            37,
            38,
            39,
            40,
            41,
            42,
            43,
            44,
            45,
            46,
            47,
            48,
            49,
            50,
            51,
            52,
            53,
            54,
            55,
            56,
            57,
            58,
            59,
            60,
            61,
            62,
            63,
            64,
            65,
            66,
            67,
            68,
            69,
            70,
            71,
            72,
            73,
            74,
            75,
            76,
            77,
            78,
            79,
            80,
            81,
            82,
            83,
            84,
            85,
            86,
            87,
            88,
            89,
            90,
            91,
            92,
            93,
            94,
            95,
            96,
            97
           ],
           "y": [
            1.6596808747866256,
            3.39917311805878,
            5.218476729816462,
            7.117591710059673,
            9.096518058788412,
            11.155255776002681,
            13.293804861702476,
            15.5121653158878,
            17.810337138558655,
            20.188320329715033,
            22.646114889356944,
            25.183720817484385,
            27.801138114097352,
            30.49836677919584,
            33.27540681277986,
            36.132258214849415,
            39.0689209854045,
            42.08539512444511,
            45.18168063197125,
            48.35777750798291,
            51.6136857524801,
            54.94940536546282,
            58.364936346931074,
            61.860278696884855,
            65.43543241532416,
            69.090397502249,
            72.82517395765936,
            76.63976178155525,
            80.53416097393668,
            84.50837153480362,
            88.56239346415609,
            92.6962267619941,
            96.90987142831764,
            101.2033274631267,
            105.57659486642129,
            110.02967363820142,
            114.56256377846707,
            119.17526528721824,
            123.86777816445493,
            128.64010241017718,
            133.49223802438493,
            138.42418500707822,
            143.43594335825705,
            148.52751307792138,
            153.69889416607128,
            158.9500866227067,
            164.2810904478276,
            169.69190564143406,
            175.18253220352605,
            180.75297013410358,
            186.4032194331666,
            192.13328010071518,
            197.9431521367493,
            203.83283554126893,
            209.80233031427406,
            215.85163645576475,
            221.98075396574097,
            228.1896828442027,
            234.47842309114998,
            240.84697470658278,
            247.29533769050113,
            253.82351204290495,
            260.43149776379437,
            267.11929485316927,
            273.8869033110297,
            280.73432313737567,
            287.66155433220723,
            294.6685968955242,
            301.7554508273268,
            308.92211612761486,
            316.16859279638845,
            323.49488083364764,
            330.9009802393923,
            338.3868910136225,
            345.9526131563382,
            353.5981466675395,
            361.32349154722624,
            369.1286477953986,
            377.0136154120564,
            384.97839439719974,
            393.0229847508287,
            401.1473864729431,
            409.35159956354306,
            417.6356240226285,
            425.9994598501995,
            434.4431070462561,
            442.9665656107981,
            451.5698355438257,
            460.2529168453389,
            469.01580951533754,
            477.8585135538217,
            486.78102896079145,
            495.7833557362467,
            504.86549388018744,
            514.0274433926137,
            523.2692042735255,
            532.5907765229229
           ]
          }
         ]
        },
        {
         "data": [
          {
           "type": "scatter",
           "x": [
            1,
            2,
            3,
            4,
            5,
            6,
            7,
            8,
            9,
            10,
            11,
            12,
            13,
            14,
            15,
            16,
            17,
            18,
            19,
            20,
            21,
            22,
            23,
            24,
            25,
            26,
            27,
            28,
            29,
            30,
            31,
            32,
            33,
            34,
            35,
            36,
            37,
            38,
            39,
            40,
            41,
            42,
            43,
            44,
            45,
            46,
            47,
            48,
            49,
            50,
            51,
            52,
            53,
            54,
            55,
            56,
            57,
            58,
            59,
            60,
            61,
            62,
            63,
            64,
            65,
            66,
            67,
            68,
            69,
            70,
            71,
            72,
            73,
            74,
            75,
            76,
            77,
            78,
            79,
            80,
            81,
            82,
            83,
            84,
            85,
            86,
            87,
            88,
            89,
            90,
            91,
            92,
            93,
            94,
            95,
            96,
            97,
            98
           ],
           "y": [
            1.6596808747866256,
            3.39917311805878,
            5.218476729816462,
            7.117591710059673,
            9.096518058788412,
            11.155255776002681,
            13.293804861702476,
            15.5121653158878,
            17.810337138558655,
            20.188320329715033,
            22.646114889356944,
            25.183720817484385,
            27.801138114097352,
            30.49836677919584,
            33.27540681277986,
            36.132258214849415,
            39.0689209854045,
            42.08539512444511,
            45.18168063197125,
            48.35777750798291,
            51.6136857524801,
            54.94940536546282,
            58.364936346931074,
            61.860278696884855,
            65.43543241532416,
            69.090397502249,
            72.82517395765936,
            76.63976178155525,
            80.53416097393668,
            84.50837153480362,
            88.56239346415609,
            92.6962267619941,
            96.90987142831764,
            101.2033274631267,
            105.57659486642129,
            110.02967363820142,
            114.56256377846707,
            119.17526528721824,
            123.86777816445493,
            128.64010241017718,
            133.49223802438493,
            138.42418500707822,
            143.43594335825705,
            148.52751307792138,
            153.69889416607128,
            158.9500866227067,
            164.2810904478276,
            169.69190564143406,
            175.18253220352605,
            180.75297013410358,
            186.4032194331666,
            192.13328010071518,
            197.9431521367493,
            203.83283554126893,
            209.80233031427406,
            215.85163645576475,
            221.98075396574097,
            228.1896828442027,
            234.47842309114998,
            240.84697470658278,
            247.29533769050113,
            253.82351204290495,
            260.43149776379437,
            267.11929485316927,
            273.8869033110297,
            280.73432313737567,
            287.66155433220723,
            294.6685968955242,
            301.7554508273268,
            308.92211612761486,
            316.16859279638845,
            323.49488083364764,
            330.9009802393923,
            338.3868910136225,
            345.9526131563382,
            353.5981466675395,
            361.32349154722624,
            369.1286477953986,
            377.0136154120564,
            384.97839439719974,
            393.0229847508287,
            401.1473864729431,
            409.35159956354306,
            417.6356240226285,
            425.9994598501995,
            434.4431070462561,
            442.9665656107981,
            451.5698355438257,
            460.2529168453389,
            469.01580951533754,
            477.8585135538217,
            486.78102896079145,
            495.7833557362467,
            504.86549388018744,
            514.0274433926137,
            523.2692042735255,
            532.5907765229229,
            541.9921601408057
           ]
          }
         ]
        },
        {
         "data": [
          {
           "type": "scatter",
           "x": [
            1,
            2,
            3,
            4,
            5,
            6,
            7,
            8,
            9,
            10,
            11,
            12,
            13,
            14,
            15,
            16,
            17,
            18,
            19,
            20,
            21,
            22,
            23,
            24,
            25,
            26,
            27,
            28,
            29,
            30,
            31,
            32,
            33,
            34,
            35,
            36,
            37,
            38,
            39,
            40,
            41,
            42,
            43,
            44,
            45,
            46,
            47,
            48,
            49,
            50,
            51,
            52,
            53,
            54,
            55,
            56,
            57,
            58,
            59,
            60,
            61,
            62,
            63,
            64,
            65,
            66,
            67,
            68,
            69,
            70,
            71,
            72,
            73,
            74,
            75,
            76,
            77,
            78,
            79,
            80,
            81,
            82,
            83,
            84,
            85,
            86,
            87,
            88,
            89,
            90,
            91,
            92,
            93,
            94,
            95,
            96,
            97,
            98,
            99
           ],
           "y": [
            1.6596808747866256,
            3.39917311805878,
            5.218476729816462,
            7.117591710059673,
            9.096518058788412,
            11.155255776002681,
            13.293804861702476,
            15.5121653158878,
            17.810337138558655,
            20.188320329715033,
            22.646114889356944,
            25.183720817484385,
            27.801138114097352,
            30.49836677919584,
            33.27540681277986,
            36.132258214849415,
            39.0689209854045,
            42.08539512444511,
            45.18168063197125,
            48.35777750798291,
            51.6136857524801,
            54.94940536546282,
            58.364936346931074,
            61.860278696884855,
            65.43543241532416,
            69.090397502249,
            72.82517395765936,
            76.63976178155525,
            80.53416097393668,
            84.50837153480362,
            88.56239346415609,
            92.6962267619941,
            96.90987142831764,
            101.2033274631267,
            105.57659486642129,
            110.02967363820142,
            114.56256377846707,
            119.17526528721824,
            123.86777816445493,
            128.64010241017718,
            133.49223802438493,
            138.42418500707822,
            143.43594335825705,
            148.52751307792138,
            153.69889416607128,
            158.9500866227067,
            164.2810904478276,
            169.69190564143406,
            175.18253220352605,
            180.75297013410358,
            186.4032194331666,
            192.13328010071518,
            197.9431521367493,
            203.83283554126893,
            209.80233031427406,
            215.85163645576475,
            221.98075396574097,
            228.1896828442027,
            234.47842309114998,
            240.84697470658278,
            247.29533769050113,
            253.82351204290495,
            260.43149776379437,
            267.11929485316927,
            273.8869033110297,
            280.73432313737567,
            287.66155433220723,
            294.6685968955242,
            301.7554508273268,
            308.92211612761486,
            316.16859279638845,
            323.49488083364764,
            330.9009802393923,
            338.3868910136225,
            345.9526131563382,
            353.5981466675395,
            361.32349154722624,
            369.1286477953986,
            377.0136154120564,
            384.97839439719974,
            393.0229847508287,
            401.1473864729431,
            409.35159956354306,
            417.6356240226285,
            425.9994598501995,
            434.4431070462561,
            442.9665656107981,
            451.5698355438257,
            460.2529168453389,
            469.01580951533754,
            477.8585135538217,
            486.78102896079145,
            495.7833557362467,
            504.86549388018744,
            514.0274433926137,
            523.2692042735255,
            532.5907765229229,
            541.9921601408057,
            551.4733551271742
           ]
          }
         ]
        }
       ],
       "layout": {
        "template": {
         "data": {
          "bar": [
           {
            "error_x": {
             "color": "#2a3f5f"
            },
            "error_y": {
             "color": "#2a3f5f"
            },
            "marker": {
             "line": {
              "color": "#E5ECF6",
              "width": 0.5
             },
             "pattern": {
              "fillmode": "overlay",
              "size": 10,
              "solidity": 0.2
             }
            },
            "type": "bar"
           }
          ],
          "barpolar": [
           {
            "marker": {
             "line": {
              "color": "#E5ECF6",
              "width": 0.5
             },
             "pattern": {
              "fillmode": "overlay",
              "size": 10,
              "solidity": 0.2
             }
            },
            "type": "barpolar"
           }
          ],
          "carpet": [
           {
            "aaxis": {
             "endlinecolor": "#2a3f5f",
             "gridcolor": "white",
             "linecolor": "white",
             "minorgridcolor": "white",
             "startlinecolor": "#2a3f5f"
            },
            "baxis": {
             "endlinecolor": "#2a3f5f",
             "gridcolor": "white",
             "linecolor": "white",
             "minorgridcolor": "white",
             "startlinecolor": "#2a3f5f"
            },
            "type": "carpet"
           }
          ],
          "choropleth": [
           {
            "colorbar": {
             "outlinewidth": 0,
             "ticks": ""
            },
            "type": "choropleth"
           }
          ],
          "contour": [
           {
            "colorbar": {
             "outlinewidth": 0,
             "ticks": ""
            },
            "colorscale": [
             [
              0,
              "#0d0887"
             ],
             [
              0.1111111111111111,
              "#46039f"
             ],
             [
              0.2222222222222222,
              "#7201a8"
             ],
             [
              0.3333333333333333,
              "#9c179e"
             ],
             [
              0.4444444444444444,
              "#bd3786"
             ],
             [
              0.5555555555555556,
              "#d8576b"
             ],
             [
              0.6666666666666666,
              "#ed7953"
             ],
             [
              0.7777777777777778,
              "#fb9f3a"
             ],
             [
              0.8888888888888888,
              "#fdca26"
             ],
             [
              1,
              "#f0f921"
             ]
            ],
            "type": "contour"
           }
          ],
          "contourcarpet": [
           {
            "colorbar": {
             "outlinewidth": 0,
             "ticks": ""
            },
            "type": "contourcarpet"
           }
          ],
          "heatmap": [
           {
            "colorbar": {
             "outlinewidth": 0,
             "ticks": ""
            },
            "colorscale": [
             [
              0,
              "#0d0887"
             ],
             [
              0.1111111111111111,
              "#46039f"
             ],
             [
              0.2222222222222222,
              "#7201a8"
             ],
             [
              0.3333333333333333,
              "#9c179e"
             ],
             [
              0.4444444444444444,
              "#bd3786"
             ],
             [
              0.5555555555555556,
              "#d8576b"
             ],
             [
              0.6666666666666666,
              "#ed7953"
             ],
             [
              0.7777777777777778,
              "#fb9f3a"
             ],
             [
              0.8888888888888888,
              "#fdca26"
             ],
             [
              1,
              "#f0f921"
             ]
            ],
            "type": "heatmap"
           }
          ],
          "heatmapgl": [
           {
            "colorbar": {
             "outlinewidth": 0,
             "ticks": ""
            },
            "colorscale": [
             [
              0,
              "#0d0887"
             ],
             [
              0.1111111111111111,
              "#46039f"
             ],
             [
              0.2222222222222222,
              "#7201a8"
             ],
             [
              0.3333333333333333,
              "#9c179e"
             ],
             [
              0.4444444444444444,
              "#bd3786"
             ],
             [
              0.5555555555555556,
              "#d8576b"
             ],
             [
              0.6666666666666666,
              "#ed7953"
             ],
             [
              0.7777777777777778,
              "#fb9f3a"
             ],
             [
              0.8888888888888888,
              "#fdca26"
             ],
             [
              1,
              "#f0f921"
             ]
            ],
            "type": "heatmapgl"
           }
          ],
          "histogram": [
           {
            "marker": {
             "pattern": {
              "fillmode": "overlay",
              "size": 10,
              "solidity": 0.2
             }
            },
            "type": "histogram"
           }
          ],
          "histogram2d": [
           {
            "colorbar": {
             "outlinewidth": 0,
             "ticks": ""
            },
            "colorscale": [
             [
              0,
              "#0d0887"
             ],
             [
              0.1111111111111111,
              "#46039f"
             ],
             [
              0.2222222222222222,
              "#7201a8"
             ],
             [
              0.3333333333333333,
              "#9c179e"
             ],
             [
              0.4444444444444444,
              "#bd3786"
             ],
             [
              0.5555555555555556,
              "#d8576b"
             ],
             [
              0.6666666666666666,
              "#ed7953"
             ],
             [
              0.7777777777777778,
              "#fb9f3a"
             ],
             [
              0.8888888888888888,
              "#fdca26"
             ],
             [
              1,
              "#f0f921"
             ]
            ],
            "type": "histogram2d"
           }
          ],
          "histogram2dcontour": [
           {
            "colorbar": {
             "outlinewidth": 0,
             "ticks": ""
            },
            "colorscale": [
             [
              0,
              "#0d0887"
             ],
             [
              0.1111111111111111,
              "#46039f"
             ],
             [
              0.2222222222222222,
              "#7201a8"
             ],
             [
              0.3333333333333333,
              "#9c179e"
             ],
             [
              0.4444444444444444,
              "#bd3786"
             ],
             [
              0.5555555555555556,
              "#d8576b"
             ],
             [
              0.6666666666666666,
              "#ed7953"
             ],
             [
              0.7777777777777778,
              "#fb9f3a"
             ],
             [
              0.8888888888888888,
              "#fdca26"
             ],
             [
              1,
              "#f0f921"
             ]
            ],
            "type": "histogram2dcontour"
           }
          ],
          "mesh3d": [
           {
            "colorbar": {
             "outlinewidth": 0,
             "ticks": ""
            },
            "type": "mesh3d"
           }
          ],
          "parcoords": [
           {
            "line": {
             "colorbar": {
              "outlinewidth": 0,
              "ticks": ""
             }
            },
            "type": "parcoords"
           }
          ],
          "pie": [
           {
            "automargin": true,
            "type": "pie"
           }
          ],
          "scatter": [
           {
            "fillpattern": {
             "fillmode": "overlay",
             "size": 10,
             "solidity": 0.2
            },
            "type": "scatter"
           }
          ],
          "scatter3d": [
           {
            "line": {
             "colorbar": {
              "outlinewidth": 0,
              "ticks": ""
             }
            },
            "marker": {
             "colorbar": {
              "outlinewidth": 0,
              "ticks": ""
             }
            },
            "type": "scatter3d"
           }
          ],
          "scattercarpet": [
           {
            "marker": {
             "colorbar": {
              "outlinewidth": 0,
              "ticks": ""
             }
            },
            "type": "scattercarpet"
           }
          ],
          "scattergeo": [
           {
            "marker": {
             "colorbar": {
              "outlinewidth": 0,
              "ticks": ""
             }
            },
            "type": "scattergeo"
           }
          ],
          "scattergl": [
           {
            "marker": {
             "colorbar": {
              "outlinewidth": 0,
              "ticks": ""
             }
            },
            "type": "scattergl"
           }
          ],
          "scattermapbox": [
           {
            "marker": {
             "colorbar": {
              "outlinewidth": 0,
              "ticks": ""
             }
            },
            "type": "scattermapbox"
           }
          ],
          "scatterpolar": [
           {
            "marker": {
             "colorbar": {
              "outlinewidth": 0,
              "ticks": ""
             }
            },
            "type": "scatterpolar"
           }
          ],
          "scatterpolargl": [
           {
            "marker": {
             "colorbar": {
              "outlinewidth": 0,
              "ticks": ""
             }
            },
            "type": "scatterpolargl"
           }
          ],
          "scatterternary": [
           {
            "marker": {
             "colorbar": {
              "outlinewidth": 0,
              "ticks": ""
             }
            },
            "type": "scatterternary"
           }
          ],
          "surface": [
           {
            "colorbar": {
             "outlinewidth": 0,
             "ticks": ""
            },
            "colorscale": [
             [
              0,
              "#0d0887"
             ],
             [
              0.1111111111111111,
              "#46039f"
             ],
             [
              0.2222222222222222,
              "#7201a8"
             ],
             [
              0.3333333333333333,
              "#9c179e"
             ],
             [
              0.4444444444444444,
              "#bd3786"
             ],
             [
              0.5555555555555556,
              "#d8576b"
             ],
             [
              0.6666666666666666,
              "#ed7953"
             ],
             [
              0.7777777777777778,
              "#fb9f3a"
             ],
             [
              0.8888888888888888,
              "#fdca26"
             ],
             [
              1,
              "#f0f921"
             ]
            ],
            "type": "surface"
           }
          ],
          "table": [
           {
            "cells": {
             "fill": {
              "color": "#EBF0F8"
             },
             "line": {
              "color": "white"
             }
            },
            "header": {
             "fill": {
              "color": "#C8D4E3"
             },
             "line": {
              "color": "white"
             }
            },
            "type": "table"
           }
          ]
         },
         "layout": {
          "annotationdefaults": {
           "arrowcolor": "#2a3f5f",
           "arrowhead": 0,
           "arrowwidth": 1
          },
          "autotypenumbers": "strict",
          "coloraxis": {
           "colorbar": {
            "outlinewidth": 0,
            "ticks": ""
           }
          },
          "colorscale": {
           "diverging": [
            [
             0,
             "#8e0152"
            ],
            [
             0.1,
             "#c51b7d"
            ],
            [
             0.2,
             "#de77ae"
            ],
            [
             0.3,
             "#f1b6da"
            ],
            [
             0.4,
             "#fde0ef"
            ],
            [
             0.5,
             "#f7f7f7"
            ],
            [
             0.6,
             "#e6f5d0"
            ],
            [
             0.7,
             "#b8e186"
            ],
            [
             0.8,
             "#7fbc41"
            ],
            [
             0.9,
             "#4d9221"
            ],
            [
             1,
             "#276419"
            ]
           ],
           "sequential": [
            [
             0,
             "#0d0887"
            ],
            [
             0.1111111111111111,
             "#46039f"
            ],
            [
             0.2222222222222222,
             "#7201a8"
            ],
            [
             0.3333333333333333,
             "#9c179e"
            ],
            [
             0.4444444444444444,
             "#bd3786"
            ],
            [
             0.5555555555555556,
             "#d8576b"
            ],
            [
             0.6666666666666666,
             "#ed7953"
            ],
            [
             0.7777777777777778,
             "#fb9f3a"
            ],
            [
             0.8888888888888888,
             "#fdca26"
            ],
            [
             1,
             "#f0f921"
            ]
           ],
           "sequentialminus": [
            [
             0,
             "#0d0887"
            ],
            [
             0.1111111111111111,
             "#46039f"
            ],
            [
             0.2222222222222222,
             "#7201a8"
            ],
            [
             0.3333333333333333,
             "#9c179e"
            ],
            [
             0.4444444444444444,
             "#bd3786"
            ],
            [
             0.5555555555555556,
             "#d8576b"
            ],
            [
             0.6666666666666666,
             "#ed7953"
            ],
            [
             0.7777777777777778,
             "#fb9f3a"
            ],
            [
             0.8888888888888888,
             "#fdca26"
            ],
            [
             1,
             "#f0f921"
            ]
           ]
          },
          "colorway": [
           "#636efa",
           "#EF553B",
           "#00cc96",
           "#ab63fa",
           "#FFA15A",
           "#19d3f3",
           "#FF6692",
           "#B6E880",
           "#FF97FF",
           "#FECB52"
          ],
          "font": {
           "color": "#2a3f5f"
          },
          "geo": {
           "bgcolor": "white",
           "lakecolor": "white",
           "landcolor": "#E5ECF6",
           "showlakes": true,
           "showland": true,
           "subunitcolor": "white"
          },
          "hoverlabel": {
           "align": "left"
          },
          "hovermode": "closest",
          "mapbox": {
           "style": "light"
          },
          "paper_bgcolor": "white",
          "plot_bgcolor": "#E5ECF6",
          "polar": {
           "angularaxis": {
            "gridcolor": "white",
            "linecolor": "white",
            "ticks": ""
           },
           "bgcolor": "#E5ECF6",
           "radialaxis": {
            "gridcolor": "white",
            "linecolor": "white",
            "ticks": ""
           }
          },
          "scene": {
           "xaxis": {
            "backgroundcolor": "#E5ECF6",
            "gridcolor": "white",
            "gridwidth": 2,
            "linecolor": "white",
            "showbackground": true,
            "ticks": "",
            "zerolinecolor": "white"
           },
           "yaxis": {
            "backgroundcolor": "#E5ECF6",
            "gridcolor": "white",
            "gridwidth": 2,
            "linecolor": "white",
            "showbackground": true,
            "ticks": "",
            "zerolinecolor": "white"
           },
           "zaxis": {
            "backgroundcolor": "#E5ECF6",
            "gridcolor": "white",
            "gridwidth": 2,
            "linecolor": "white",
            "showbackground": true,
            "ticks": "",
            "zerolinecolor": "white"
           }
          },
          "shapedefaults": {
           "line": {
            "color": "#2a3f5f"
           }
          },
          "ternary": {
           "aaxis": {
            "gridcolor": "white",
            "linecolor": "white",
            "ticks": ""
           },
           "baxis": {
            "gridcolor": "white",
            "linecolor": "white",
            "ticks": ""
           },
           "bgcolor": "#E5ECF6",
           "caxis": {
            "gridcolor": "white",
            "linecolor": "white",
            "ticks": ""
           }
          },
          "title": {
           "x": 0.05
          },
          "xaxis": {
           "automargin": true,
           "gridcolor": "white",
           "linecolor": "white",
           "ticks": "",
           "title": {
            "standoff": 15
           },
           "zerolinecolor": "white",
           "zerolinewidth": 2
          },
          "yaxis": {
           "automargin": true,
           "gridcolor": "white",
           "linecolor": "white",
           "ticks": "",
           "title": {
            "standoff": 15
           },
           "zerolinecolor": "white",
           "zerolinewidth": 2
          }
         }
        },
        "title": {
         "text": "Start Title"
        },
        "updatemenus": [
         {
          "buttons": [
           {
            "args": [
             null,
             {
              "frame": {
               "duration": 100,
               "redraw": true
              },
              "mode": "immediate"
             }
            ],
            "label": "Play",
            "method": "animate"
           }
          ],
          "type": "buttons"
         }
        ],
        "xaxis": {
         "autorange": false,
         "range": [
          0.5,
          99.5
         ]
        },
        "yaxis": {
         "autorange": false,
         "range": [
          1.1596808747866256,
          551.9733551271742
         ]
        }
       }
      }
     },
     "metadata": {},
     "output_type": "display_data"
    }
   ],
   "source": [
    "import plotly.graph_objects as go\n",
    "\n",
    "fig = go.Figure(\n",
    "    data=[go.Scatter(x=[x_start], y=[y_start])],\n",
    "    layout=go.Layout(\n",
    "        xaxis=dict(range=x_range, autorange=False),\n",
    "        yaxis=dict(range=y_range, autorange=False),\n",
    "        title=dict(text=\"Start Title\"),\n",
    "        updatemenus=[dict(\n",
    "            type=\"buttons\",\n",
    "            buttons=[dict(label=\"Play\",\n",
    "                          method=\"animate\",\n",
    "                           args=[None,{'frame':{'duration':100,'redraw':True},'mode':'immediate'}])\n",
    "                          ])]\n",
    "    ),\n",
    "    frames=temp_frames\n",
    ")\n",
    "\n",
    "fig.show()"
   ]
  },
  {
   "cell_type": "code",
   "execution_count": null,
   "metadata": {},
   "outputs": [],
   "source": []
  },
  {
   "cell_type": "code",
   "execution_count": null,
   "metadata": {},
   "outputs": [],
   "source": []
  }
 ],
 "metadata": {
  "kernelspec": {
   "display_name": "Python 3",
   "language": "python",
   "name": "python3"
  },
  "language_info": {
   "codemirror_mode": {
    "name": "ipython",
    "version": 3
   },
   "file_extension": ".py",
   "mimetype": "text/x-python",
   "name": "python",
   "nbconvert_exporter": "python",
   "pygments_lexer": "ipython3",
   "version": "3.10.12"
  }
 },
 "nbformat": 4,
 "nbformat_minor": 2
}
