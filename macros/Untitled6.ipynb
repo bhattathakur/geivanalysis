{
 "cells": [
  {
   "cell_type": "code",
   "execution_count": 62,
   "id": "46c498a6-8080-4cb4-8827-f049fcf7377b",
   "metadata": {},
   "outputs": [],
   "source": [
    "from pathlib import Path\n",
    "from datetime import datetime"
   ]
  },
  {
   "cell_type": "code",
   "execution_count": 3,
   "id": "d5375935-b657-4435-a495-b0625ed5471b",
   "metadata": {},
   "outputs": [
    {
     "data": {
      "text/plain": [
       "PosixPath('.')"
      ]
     },
     "execution_count": 3,
     "metadata": {},
     "output_type": "execute_result"
    }
   ],
   "source": [
    "p=Path('.')\n",
    "p"
   ]
  },
  {
   "cell_type": "code",
   "execution_count": 13,
   "id": "9f2cd619-dd6c-4263-b7b3-083503bd463e",
   "metadata": {},
   "outputs": [
    {
     "data": {
      "text/plain": [
       "[PosixPath('Pb-210com.pdf'),\n",
       " PosixPath('dist.pdf'),\n",
       " PosixPath('ra226.pdf'),\n",
       " PosixPath('cs137.pdf'),\n",
       " PosixPath('co60.pdf'),\n",
       " PosixPath('pb210simatdoor.pdf'),\n",
       " PosixPath('sidechi.pdf'),\n",
       " PosixPath('topmean.pdf'),\n",
       " PosixPath('pbsim.pdf'),\n",
       " PosixPath('na22.pdf'),\n",
       " PosixPath('Am-241.pdf'),\n",
       " PosixPath('Am-241com.pdf'),\n",
       " PosixPath('topchi.pdf'),\n",
       " PosixPath('sidemean.pdf'),\n",
       " PosixPath('test1.pdf'),\n",
       " PosixPath('Pb-210.pdf'),\n",
       " PosixPath('am241.pdf'),\n",
       " PosixPath('eu152.pdf'),\n",
       " PosixPath('pb210.pdf'),\n",
       " PosixPath('ba133.pdf'),\n",
       " PosixPath('defaultdead.pdf'),\n",
       " PosixPath('am241simatdoor.pdf')]"
      ]
     },
     "execution_count": 13,
     "metadata": {},
     "output_type": "execute_result"
    }
   ],
   "source": [
    "[x for x in p.iterdir() if x.is_file() and x.suffix=='.pdf']"
   ]
  },
  {
   "cell_type": "code",
   "execution_count": 21,
   "id": "1938f6ae-041e-4c19-b663-c30c477e3877",
   "metadata": {},
   "outputs": [
    {
     "data": {
      "text/plain": [
       "[PosixPath('skip.dat'),\n",
       " PosixPath('final_corner_data.dat'),\n",
       " PosixPath('csdata.dat'),\n",
       " PosixPath('final_door_data.dat'),\n",
       " PosixPath('fcGausLimits.dat')]"
      ]
     },
     "execution_count": 21,
     "metadata": {},
     "output_type": "execute_result"
    }
   ],
   "source": [
    "data_files=[x for x in p.iterdir() if x.suffix in ['.dat']]\n",
    "data_files"
   ]
  },
  {
   "cell_type": "code",
   "execution_count": 38,
   "id": "71fa82cc-3263-4d57-a8cc-37297eb04803",
   "metadata": {},
   "outputs": [
    {
     "name": "stdout",
     "output_type": "stream",
     "text": [
      "1|5: working with /home/thakur/geivanalysis/macros/skip.dat\n",
      "\n",
      "co60   347.14\n",
      "\n",
      "2|5: working with /home/thakur/geivanalysis/macros/final_corner_data.dat\n",
      "\n",
      "am241  am241  59.5409 9.050514e-04 8.313592e-06 8.313592e-06 3.868363e+04 5.802544e+02 5.821862e+02 5.780433e+02 3.590000e-01 4.000000e-03 1.256883e+01 1.154544e-01\n",
      "\n",
      "3|5: working with /home/thakur/geivanalysis/macros/csdata.dat\n",
      "\n",
      "working with cs137\n",
      "\n",
      "4|5: working with /home/thakur/geivanalysis/macros/final_door_data.dat\n",
      "\n",
      "am241  am241  26.3446 1.886351e-03 1.174274e-04 1.174274e-04 3.868364e+04 5.802546e+02 5.819401e+02 5.801321e+02 2.270000e-02 1.200000e-03 1.656440e+00 1.031152e-01\n",
      "\n",
      "5|5: working with /home/thakur/geivanalysis/macros/fcGausLimits.dat\n",
      "\n",
      "-3.0                                             0.1 0.00 1.10 0.00 1.74 0.00 2.06 0.00 2.68\n",
      "\n"
     ]
    }
   ],
   "source": [
    "for c,data_file in enumerate(data_files,start=1):\n",
    "    print(f'{c}|{len(data_files)}: working with {data_file.resolve():}\\n')\n",
    "    if data_file.exists():\n",
    "        with data_file.open() as f:\n",
    "            print(f.readline())"
   ]
  },
  {
   "cell_type": "code",
   "execution_count": 44,
   "id": "058b0e5e-983c-4cdd-aa75-a5b08484f33a",
   "metadata": {},
   "outputs": [
    {
     "data": {
      "text/plain": [
       "PosixPath('.')"
      ]
     },
     "execution_count": 44,
     "metadata": {},
     "output_type": "execute_result"
    }
   ],
   "source": [
    "data_files[0].parents[0]"
   ]
  },
  {
   "cell_type": "code",
   "execution_count": 52,
   "id": "f3b89bcc-1e22-447d-a6fe-f9b8735ba3b6",
   "metadata": {},
   "outputs": [
    {
     "data": {
      "text/plain": [
       "PosixPath('/home/thakur')"
      ]
     },
     "execution_count": 52,
     "metadata": {},
     "output_type": "execute_result"
    }
   ],
   "source": [
    "Path.cwd().parent.parent"
   ]
  },
  {
   "cell_type": "code",
   "execution_count": 69,
   "id": "ae1f7947-327d-4afe-95ae-30770f439ea7",
   "metadata": {},
   "outputs": [
    {
     "data": {
      "text/plain": [
       "'2023-04-10 00:04:28'"
      ]
     },
     "execution_count": 69,
     "metadata": {},
     "output_type": "execute_result"
    }
   ],
   "source": [
    "datetime.fromtimestamp(data_files[0].stat().st_mtime).strftime('%Y-%m-%d %H:%M:%S')"
   ]
  },
  {
   "cell_type": "code",
   "execution_count": null,
   "id": "7ab0de6c-cab6-4e95-898b-048127b04ff6",
   "metadata": {},
   "outputs": [],
   "source": []
  }
 ],
 "metadata": {
  "kernelspec": {
   "display_name": "Python 3 (ipykernel)",
   "language": "python",
   "name": "python3"
  },
  "language_info": {
   "codemirror_mode": {
    "name": "ipython",
    "version": 3
   },
   "file_extension": ".py",
   "mimetype": "text/x-python",
   "name": "python",
   "nbconvert_exporter": "python",
   "pygments_lexer": "ipython3",
   "version": "3.10.12"
  }
 },
 "nbformat": 4,
 "nbformat_minor": 5
}
