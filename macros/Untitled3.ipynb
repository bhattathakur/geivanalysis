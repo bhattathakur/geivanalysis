{
 "cells": [
  {
   "cell_type": "code",
   "execution_count": null,
   "id": "5c33fb68-4a09-4129-881e-9c1a45599878",
   "metadata": {},
   "outputs": [],
   "source": [
    "\n",
    "\n",
    "price=70\n",
    "\n",
    "if price==50:\n",
    "    print(\"Price is 50\")\n",
    "elif price==60:\n",
    "    print(\"Price is 60\")\n",
    "else:\n",
    "    print(\"Price is neither 50 nor 60\")\n",
    "    "
   ]
  },
  {
   "cell_type": "code",
   "execution_count": null,
   "id": "e1afaf88-d23e-4b26-954e-ae35f6e212fb",
   "metadata": {},
   "outputs": [],
   "source": [
    "l=[1,2,3,4]\n",
    "l"
   ]
  },
  {
   "cell_type": "code",
   "execution_count": null,
   "id": "ef35c89f-8040-4889-b027-f3a9afb287a1",
   "metadata": {},
   "outputs": [],
   "source": [
    "l.append(5)"
   ]
  },
  {
   "cell_type": "code",
   "execution_count": null,
   "id": "1b89e0f3-dd6a-48fa-bf4c-f15931c055ca",
   "metadata": {},
   "outputs": [],
   "source": [
    "l"
   ]
  },
  {
   "cell_type": "code",
   "execution_count": null,
   "id": "6ce370b7-0247-40dd-b11b-3383da1ba4c6",
   "metadata": {},
   "outputs": [],
   "source": [
    "A={1,3,3,4,7}\n",
    "A"
   ]
  },
  {
   "cell_type": "code",
   "execution_count": null,
   "id": "e9f49ac9-c619-4472-ae6f-bc05c9afc8fd",
   "metadata": {},
   "outputs": [],
   "source": [
    "dic={\"name\":\"Rajani\",\"surname\":\"Bhatta\"}"
   ]
  },
  {
   "cell_type": "code",
   "execution_count": null,
   "id": "eacf75f0-cf2c-48f4-addc-3662c7b93aa4",
   "metadata": {},
   "outputs": [],
   "source": [
    "dic"
   ]
  },
  {
   "cell_type": "code",
   "execution_count": null,
   "id": "99373e85-d135-42c5-9c0b-5b725297660e",
   "metadata": {},
   "outputs": [],
   "source": [
    "import math\n",
    "def degree_to_radians(x):\n",
    "    rad=x*math.pi/180\n",
    "    return rad\n",
    "    "
   ]
  },
  {
   "cell_type": "code",
   "execution_count": null,
   "id": "d926e977-9d53-40bb-922b-74421c539b84",
   "metadata": {},
   "outputs": [],
   "source": [
    "degree_to_radians(30)"
   ]
  },
  {
   "cell_type": "code",
   "execution_count": null,
   "id": "17fe1ac5-0e6b-43a2-85ca-76add3db296f",
   "metadata": {},
   "outputs": [],
   "source": [
    "degree_to_radians(50)"
   ]
  },
  {
   "cell_type": "code",
   "execution_count": null,
   "id": "6bfa640b-b72c-4684-9f1b-d78a81608417",
   "metadata": {},
   "outputs": [],
   "source": [
    "for i in range(5,180,10):\n",
    "    print(i,\" \",degree_to_radians(i))"
   ]
  },
  {
   "cell_type": "code",
   "execution_count": null,
   "id": "f1b90545-33db-446c-b6ac-104859debab3",
   "metadata": {},
   "outputs": [],
   "source": []
  }
 ],
 "metadata": {
  "kernelspec": {
   "display_name": "Python 3 (ipykernel)",
   "language": "python",
   "name": "python3"
  },
  "language_info": {
   "codemirror_mode": {
    "name": "ipython",
    "version": 3
   },
   "file_extension": ".py",
   "mimetype": "text/x-python",
   "name": "python",
   "nbconvert_exporter": "python",
   "pygments_lexer": "ipython3",
   "version": "3.10.6"
  }
 },
 "nbformat": 4,
 "nbformat_minor": 5
}
